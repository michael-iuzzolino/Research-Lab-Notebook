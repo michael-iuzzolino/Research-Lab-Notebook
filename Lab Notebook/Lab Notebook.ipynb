{
 "cells": [
  {
   "cell_type": "code",
   "execution_count": 387,
   "metadata": {},
   "outputs": [],
   "source": [
    "import os\n",
    "import sys\n",
    "import glob\n",
    "import numpy as np\n",
    "import matplotlib.pyplot as plt\n",
    "from IPython.display import IFrame, YouTubeVideo"
   ]
  },
  {
   "cell_type": "code",
   "execution_count": 2,
   "metadata": {},
   "outputs": [],
   "source": [
    "PDF_H, PDF_W = 400, 900"
   ]
  },
  {
   "cell_type": "markdown",
   "metadata": {},
   "source": [
    "**Custom CSS**"
   ]
  },
  {
   "cell_type": "code",
   "execution_count": 3,
   "metadata": {},
   "outputs": [],
   "source": [
    "#!cat /Users/mliuzzolino/.jupyter/custom/custom.css"
   ]
  },
  {
   "cell_type": "markdown",
   "metadata": {},
   "source": [
    "---"
   ]
  },
  {
   "cell_type": "markdown",
   "metadata": {},
   "source": [
    "# Papers"
   ]
  },
  {
   "cell_type": "markdown",
   "metadata": {},
   "source": [
    "## Lyapunov Functions"
   ]
  },
  {
   "cell_type": "code",
   "execution_count": 4,
   "metadata": {},
   "outputs": [
    {
     "data": {
      "text/html": [
       "\n",
       "        <iframe\n",
       "            width=\"900\"\n",
       "            height=\"400\"\n",
       "            src=\"https://vanscoy.github.io/docs/papers/taylor2018lyapunov.pdf#view=FitH\"\n",
       "            frameborder=\"0\"\n",
       "            allowfullscreen\n",
       "        ></iframe>\n",
       "        "
      ],
      "text/plain": [
       "<IPython.lib.display.IFrame at 0x11b74cf28>"
      ]
     },
     "execution_count": 4,
     "metadata": {},
     "output_type": "execute_result"
    }
   ],
   "source": [
    "IFrame(\"https://vanscoy.github.io/docs/papers/taylor2018lyapunov.pdf#view=FitH\", width=PDF_W, height=PDF_H)"
   ]
  },
  {
   "cell_type": "markdown",
   "metadata": {},
   "source": [
    "### Formulation\n",
    "#### Minimization Problem, $\\mathcal{P}$\n",
    "Consider a minimization problem:\n",
    "\n",
    "\\begin{equation} \\tag{$\\mathcal{P}$}\n",
    "   \\text{minimize}_{x \\in \\mathbb{R}^d} \\quad f(x),       \n",
    "\\end{equation}\n",
    "where $f : \\mathbb{R}^d \\rightarrow \\mathbb{R}$.\n",
    "\n",
    "#### Iterative Methods, $\\mathcal{M}$\n",
    "To solve $\\mathcal{P}$, consider methods that iteratively update their estimate of the optimizer using only gradient evaluations. One method for proving convergence of such methods is by finding a *Lyapunov function*.\n",
    "\n",
    "For example, to solve the optimization problem ($\\mathcal{P}$), consider a *first-order iterative fixed-step method* of the form:\n",
    "\n",
    "\\begin{align*} \\tag{$\\mathcal{M}$}\n",
    "y_k &= \\sum_{j=0}^N \\gamma_j x_{k-j} \\\\\n",
    "x_{k+1} &= \\sum_{j=0}^N \\beta_j x_{k-j} - \\alpha \\nabla f(y_k)\n",
    "\\end{align*}\n",
    "\n",
    "for $k \\ge 0$ where $\\alpha, \\beta_j, \\gamma_j$ are the (Fixed) step-sizes and $x_j \\in \\mathbb{R}^d$ for $j = -N, \\ldots, 0$ are the initial conditions. We call the constant $N \\ge 0$ the *degree* of the method.\n",
    "\n",
    "### Lyapunov Functions\n",
    "*Lyapunov functions* are one of the fundamental tools in control theory that can be used to *verify stability of a dynamical system*. \n",
    "\n",
    "A Lyapunov function can be interpreted as defining an \"energy\" that decreases *geometrically* with each iteration of the method, with an energy of zero corresponding to reaching the optimal solution of $\\mathcal{P}$. The existence of such an energy function provides a straightforward certificate of linear convergence for the iterative method.\n",
    "\n",
    "Consider applying method ($\\mathcal{M}$) to solve problem ($\\mathcal{P}$). Our goal is to find the smallest possible $0 \\le \\rho < 1$ such that $\\{x_k \\}$ converges linearly to the optimizer $x_*$ with rate $\\rho$. A *Lyapunov function* $\\mathcal{V}$ is a continuous function $\\mathcal{V}: \\mathbb{R}^n \\rightarrow \\mathbb{R}$ that satisfies the following properties:\n",
    "\n",
    "1. (nonnegative) $\\mathcal{V}(\\xi) \\ge 0$ for all $\\xi$,\n",
    "2. (zero at fixed-point) $\\mathcal{V}(\\xi) = 0$ iff $\\xi = \\xi_*$,\n",
    "3. (radially unbounded) $\\mathcal{V}(\\xi) \\rightarrow \\infty$ as $||\\xi|| \\rightarrow \\infty$,\n",
    "4. (decreasing) $\\mathcal{V}(\\xi_{k+1}) \\le \\rho^2 \\mathcal{V}(\\xi_{k})$ for $k \\le N$,\n",
    "\n",
    "where $\\xi_k := (\\mathbf{x}_k, \\mathbf{g}_k, \\mathbf{f}_k)$ for the *state* of the system at iteration $k$. \n",
    "\n",
    "If we can find such a $\\mathcal{V}$, then it can be used to show that the state converges linearly to the fixed-point from any initial condition, where the rate of convergence depends on both $\\rho$ and the structure of $\\mathcal{V}$."
   ]
  },
  {
   "cell_type": "markdown",
   "metadata": {},
   "source": [
    "---"
   ]
  },
  {
   "cell_type": "markdown",
   "metadata": {},
   "source": [
    "---"
   ]
  },
  {
   "cell_type": "markdown",
   "metadata": {},
   "source": [
    "---"
   ]
  },
  {
   "cell_type": "markdown",
   "metadata": {},
   "source": [
    "## Attractor Networks"
   ]
  },
  {
   "cell_type": "markdown",
   "metadata": {},
   "source": [
    "### Attractor Networks (Mozer, 2009)\n",
    "- Mozer, Michael C. (2009) \n",
    "- http://www.cs.colorado.edu/~mozer/Research/Selected%20Publications/reprints/Mozer2008.pdf"
   ]
  },
  {
   "cell_type": "code",
   "execution_count": 5,
   "metadata": {},
   "outputs": [
    {
     "data": {
      "text/html": [
       "\n",
       "        <iframe\n",
       "            width=\"900\"\n",
       "            height=\"400\"\n",
       "            src=\"http://www.cs.colorado.edu/~mozer/Research/Selected%20Publications/reprints/Mozer2008.pdf#view=FitH\"\n",
       "            frameborder=\"0\"\n",
       "            allowfullscreen\n",
       "        ></iframe>\n",
       "        "
      ],
      "text/plain": [
       "<IPython.lib.display.IFrame at 0x11b7de198>"
      ]
     },
     "execution_count": 5,
     "metadata": {},
     "output_type": "execute_result"
    }
   ],
   "source": [
    "IFrame(\"http://www.cs.colorado.edu/~mozer/Research/Selected%20Publications/reprints/Mozer2008.pdf#view=FitH\", width=PDF_W, height=PDF_H)"
   ]
  },
  {
   "cell_type": "markdown",
   "metadata": {},
   "source": [
    "#### Key Points\n",
    "- An attractor network is a recurrent ANN whose dynamics cause the network state to converge to a fixed point.\n",
    " - I.e., given an input, the dynamics of the network will cause the state to evolve over time to a stable value, away from which the state will not wander.\n",
    " - The states to which the net might evolve are called _attractors_\n",
    "- Attractor dynamics are achieved by many neural network architectures\n",
    " - Hopfield networks \n",
    "   - http://140.116.215.51/course/2012/hopfield.pdf\n",
    "   - http://www.rctn.org/bruno/public/papers/hopfield84.pdf\n",
    " - Harmony networks\n",
    " - Boltzmann Machines\n",
    "   - https://www.cs.toronto.edu/~hinton/absps/cogscibm.pdf\n",
    " - Adaptive resonance networks\n",
    " - Recurrent back prop networks\n",
    "   - A learning rule for asynchronous perceptrons with feedback in a combinatorial environment. Almeida, L.B. (1987)\n",
    "   - Generalization of backpropagation to recurrent and higher order neural networks. Pineda, F.J. (1987)\n",
    "   - https://papers.nips.cc/paper/67-generalization-of-back-propagation-to-recurrent-and-higher-order-neural-networks.pdf\n",
    "\n",
    " \n",
    "- To ensure attractor dynamics, the architecutre **requires** symmetry of connectivity\n",
    " - Symmetry: the conncetion weight from processing unit _A_ to unit _B_ must be the same as the weight from _B_ to _A_.\n",
    " - Given this restriction, the dynamics of the network can be characterized as performing local optimization--minimizing *energy*, or equivalently, maximizing *harmony*.\n",
    " \n",
    "- The **input** to an attractor net can either specify the initial state of the net, or it can provide *biases*--fixed input--to each unit.\n",
    " - **Biases** reshape the landscape such that the best-matching attractor has maximum harmony, and is likely to be found for a wide range of initial network states.\n",
    " \n",
    "- Knowledge of attractor states is distributed over the connectivity pattern of the entire network - as a result, spurious (undesired) and ill-conditioned (e.g., very narrow) attractor basins may exist.\n",
    " - Solution: Localist Attractor Networks (see Zemel & Mozer, 2001)\n",
    " - LANs consist of a set of *state units* and a set of *attractor units* (one per unit). Each attractor unit draws the state toward its attractor, with the attractors closer to the state having a greater influence. "
   ]
  },
  {
   "cell_type": "markdown",
   "metadata": {},
   "source": [
    "---"
   ]
  },
  {
   "cell_type": "markdown",
   "metadata": {},
   "source": [
    "### Localist Attractor Networks (Zemel, Mozer, 2001) \n",
    "- Zemel, Richard S., Mozer, Michael C. (2001)\n",
    "- http://www.cs.utoronto.ca/pub/zemel/Papers/lanNC.pdf"
   ]
  },
  {
   "cell_type": "code",
   "execution_count": 6,
   "metadata": {},
   "outputs": [
    {
     "data": {
      "text/html": [
       "\n",
       "        <iframe\n",
       "            width=\"900\"\n",
       "            height=\"400\"\n",
       "            src=\"http://www.cs.utoronto.ca/pub/zemel/Papers/lanNC.pdf#view=FitH\"\n",
       "            frameborder=\"0\"\n",
       "            allowfullscreen\n",
       "        ></iframe>\n",
       "        "
      ],
      "text/plain": [
       "<IPython.lib.display.IFrame at 0x11b7de470>"
      ]
     },
     "execution_count": 6,
     "metadata": {},
     "output_type": "execute_result"
    }
   ],
   "source": [
    "IFrame(\"http://www.cs.utoronto.ca/pub/zemel/Papers/lanNC.pdf#view=FitH\", width=PDF_W, height=PDF_H)"
   ]
  },
  {
   "cell_type": "markdown",
   "metadata": {},
   "source": [
    "#### Key Points\n",
    "- Attractor networks map an input space (usually continuous) to a sparse output space.\n",
    "- Initial state of the attractor net is determined by the input pattern\n",
    " - Over time the state is drawn to one of a predefined set of states (the attractors)\n",
    "- Often used for **pattern completion**\n",
    "- Pattern completion can be accomplished with other methods -- e.g., nearest-neighbor classification\n",
    " - Attractor networks have benefits over other approaches:\n",
    "   1. Attractors can be characterized by compositional structure - this structure can be encoded implicitly in the attractor network.\n",
    "   2. Attractor networks have some degree of biological plausibility\n",
    "   3. In most formulations, the dynamics can be characterized by gradient descent in an energy landscale, allowing one to partition the output space into attractor basins. In many domains, the energy landscape and the corresponding structure of the attractor basins are key to obtaining desirable behavior. E.g., basins can be sculpted based on the recent history of the network (**priming**) and the arrangement of attractors in the space (**gang effects**).\n",
    "- **Priming** - a network is faster to land at an attractor if it has recently visited the same attractor. Achieved by broadening and deepening attractor basins *as they are visited*. This mechanism allows modelers to account for a ubiquitous property of human behavior: people are faster to perceive a stimulus if they have recently experienced the same or a closely related stimulus.\n",
    "- **Gang Effects** - the strength or pull of an attractor is influenced by other attractors in its neighborhood. \n",
    "\n",
    "- Training attractor networks is notoriously tricky. Why?\n",
    " - Training procedures are **CPU intensive**\n",
    " - **Spurious attractors** form\n",
    " - **Ill-conditioned attractor basins**\n",
    "\n",
    "- No known training procdure exists that can robustly translate an arbitrary specification of an attractor landscape into a set of weights.\n",
    " - Due to the fact that each connection participates in the specification of multiple attractors; **thus, knowledge in the net is distributed over connections**. \n",
    " \n",
    "#### Localized Attractor Network\n",
    "**Benefits**\n",
    "1. Trivial procedure for devising architecture given an attractor landscape\n",
    "2. Spurious attractors are eliminated\n",
    "3. An attractor can be primed by adjusted a single parameter of the model\n",
    "4. Achieved gang effects\n",
    "5. Model parameters have a clear mathematical interpretation, which clarifies how the parameters control the qualitative behavior of the model (e.g., the magnitude of gang effects)\n",
    "6. Proofs of convergence and stability\n",
    "\n",
    "**Structure**\n",
    "- Consists of a set of _n_ state units and _m_ attractor units.\n",
    "- Parameters associated with an attractor unit _i_ encode the center in state-space of its attractor basin, denoted $w_i$, and its strength, denoted $\\pi _i$.\n",
    "- The activity of an attractor at time $t$, $q_i(t)$, reflects the normalized distance from its center to the current state, $y(t)$, weighted by its strength:\n",
    "\n",
    "$$ q_i(t) = \\frac{\\pi_i g(y(t), w_i, \\sigma(t))}{\\sum_j \\pi_j g(y(t), w_j, \\sigma(t))}$$\n",
    "\n",
    "$$ g(y, w, \\sigma) = exp(-|y - w|^2 / 2\\sigma^2) $$\n",
    "\n",
    ". . . \n",
    "\n"
   ]
  },
  {
   "cell_type": "markdown",
   "metadata": {},
   "source": [
    "---"
   ]
  },
  {
   "cell_type": "markdown",
   "metadata": {},
   "source": [
    "### Dynamics of Discrete Time, Continuous State Hopfield Networks (Koiran, 1994)\n",
    "- Koiran, Pascal (1994)\n",
    "- https://sci-hub.tw/10.1162/neco.1994.6.3.459"
   ]
  },
  {
   "cell_type": "code",
   "execution_count": 7,
   "metadata": {},
   "outputs": [
    {
     "data": {
      "text/html": [
       "\n",
       "        <iframe\n",
       "            width=\"900\"\n",
       "            height=\"400\"\n",
       "            src=\"https://dabamirror.sci-hub.tw/4428/cffc2674381d0fdb7b2fbecdd57498f5/koiran1994.pdf#view=FitH\"\n",
       "            frameborder=\"0\"\n",
       "            allowfullscreen\n",
       "        ></iframe>\n",
       "        "
      ],
      "text/plain": [
       "<IPython.lib.display.IFrame at 0x11b7de898>"
      ]
     },
     "execution_count": 7,
     "metadata": {},
     "output_type": "execute_result"
    }
   ],
   "source": [
    "IFrame(\"https://dabamirror.sci-hub.tw/4428/cffc2674381d0fdb7b2fbecdd57498f5/koiran1994.pdf#view=FitH\", width=PDF_W, height=PDF_H)"
   ]
  },
  {
   "cell_type": "markdown",
   "metadata": {},
   "source": [
    "#### Key Points\n",
    "**1**. Any trajectory converges to a fixed point for the *sequential iteration mode*\n",
    "\n",
    "**2**. Any trajectory converges to a cycle of length 2 or a fixed point for the *parallel* iteration mode.\n",
    "\n",
    "More specifically,\n",
    "- Discrete time, discrete state Hopfield network dynamics are driven by an energy function. This allows the length of a limit cycle to be bounded: the parallel iteration has cycles of length 1 or 2 only, and the sequential iteration has only fixed points. These results describe completely the asymptotic behavior of the network, since any trajectory enters a limit cycle after a transient period.\n",
    "\n",
    "- Discrete time, continuous state Hopfield networks are also driven by an energy function. However, a trajectory will generally **not** enter a cycle, so that the discrete-case case argument does not apply and the question of the convergence to a cycle arises.\n",
    "\n",
    "The key contribution of this paper is that is provides mathematical proofs for the statements above."
   ]
  },
  {
   "cell_type": "markdown",
   "metadata": {},
   "source": [
    "#### Section 2 Math: Preliminaries\n",
    "\n",
    "**State Update**\n",
    "Consider a network of $n$ interconnected neurons, whose states $x_1, \\ldots, x_n$ belong to $[-1, 1]$. The transition function of neuron $i$ is $x_i \\mapsto f(A_i)$, where $A_i$ is the activation of neuron $i$, defined by:\n",
    "\n",
    "$$ A_i (x) = \\sum_{j=1}^n w_{ij}x_j - b_i$$\n",
    "\n",
    "where $b_i$ is the threshold of neuron $i$, and $w_{ij}$ is the weight of the connection between neurons $i and j$. Note, $b = (b_i)_{i \\le i \\le n}$ is the vector of thresholds. \n",
    "\n",
    "**N.B.** The matrix of weights $W = (w_{ij})$ is assumed to be **symmetric**, with a *nonnegative diagonal*. \n",
    "\n",
    "**Activation Function**, $f$\n",
    "$f$ is continuous, strictly increasing on an interval $[\\alpha, \\beta] \\quad (\\alpha < \\beta \\text{ and, possibly, } \\alpha = -\\infty \\text{ or } \\beta = +\\infty)$, and constant outside\n",
    "\\begin{align*}\n",
    "\\forall x \\le \\alpha, f(x) &= -1 \\\\\n",
    "\\forall x \\ge \\beta, f(x) &= +1 \\\\\n",
    "\\end{align*}\n",
    "If $a = -\\infty$ or $\\beta = +\\infty$, we ask that $\\lim_{x\\rightarrow \\pm \\infty} f(x) = \\pm 1$.\n",
    "\n",
    "$f$ may be piecewise $C^1$. In short, \n",
    "> A continuously differentiably function $f(x)$ is a function whose derivative function $f^\\prime(x)$ is also continuous at the point in question.\n",
    "\n",
    "- See [C^k notation](http://mathworld.wolfram.com/C-kFunction.html) or [smoothness](https://en.wikipedia.org/wiki/Smoothness) for more detailed discussion.\n",
    "\n",
    "**Parallel and Sequential Iteration**\n",
    "In *parallel iteration*, all neurons change state simultaneously: for $t \\in N$ and $1 \\le i \\le n$:\n",
    "\n",
    "$$ x_i(t+1) = f(A_i(t))$$\n",
    "\n",
    "In *sequential iteration*, neurons are updated in increasing order:\n",
    "$$ x_i(t+1/n) = f\\left(A_i \\left( \\frac{t+(i-1)}{n} \\right) \\right)$$\n",
    "\n",
    "Let $F$ be the function associated to a given iteration mode: \n",
    "- $F = P$ (parallel mode)\n",
    "- $F = S$ (sequential mode)\n",
    "\n",
    "**N.B.** Assuming a specific update order for sequential iterations is in fact not necessary. It is sufficient to update each neuron an infinite number of times. Note that these iteration modes have the same fixed points. \n",
    "\n",
    "**Cycle Definition**\n",
    "A cycle of length $T$ is a sequence $(y^0, \\ldots, y^{T-1})$ of distinct states such that $F(y^i) = y^{(i+1) \\text{ mod } T}$.\n",
    "\n",
    "We say that a sequence $(x(t))$ of iterates converges to this cycle if for any $i$ such that $0 \\le i \\le T - 1, \\lim_{t \\rightarrow +\\infty} x(Tt+i) = y^i$."
   ]
  },
  {
   "cell_type": "markdown",
   "metadata": {},
   "source": [
    "#### Section 3 Math: Sequential Mode\n",
    "\n",
    "The existence of a [Lyapunov function](#Lyapunov_functions) for the sequential iteration and its consequence on the length of cycles are stated in Theorem 1 and Corollary 1.\n",
    "\n",
    "**N.B.** Theorem 2 and 4 are key results from this paper.\n",
    "\n",
    "---\n",
    "\n",
    "**Theorem 1**\n",
    ">Let $E$ be defined by <br>\n",
    "$$ E(x) = -x^TWx/2 + b^Tx + \\sum_{i=1}^n \\int_0^{x_i} f^{-1}(\\xi) d\\xi$$ <br>\n",
    "E is a *Lyapunov function* of the sequential iteration. I.e., <br>\n",
    "if $x(t+1/n) \\neq x(t), E(x(t+1/n)) < E(x(t))$.\n",
    "\n",
    "**Corollary 1**\n",
    ">Any cycle of the sequential iteration is a fixed point. <br>\n",
    "\n",
    "This is a standard consequence of the existence of a Lyapunov function. \n",
    "\n",
    "---\n",
    "\n",
    "**Theorem 2**\n",
    ">Assume the hypothesis (H) is true: the network has a finite number of fixed points. Then under this hypothesis, the sequential iteration converges to a fixed point from any starting point $x^0 \\in [-1, 1]^n$.\n",
    "\n",
    "- This theorem is a general result on dynamic systems driven by a Lyapunov function: the specific form of the iterated function or of the energy function is not important. \n",
    "\n",
    "---\n",
    "\n",
    "**Theorem 4**\n",
    ">When $f$ is piecewise $C^1$, the network has a finite number of fixed points for $(W, b)$ in an open dense set.\n",
    "\n",
    "Definitions:\n",
    "- **Closed Set** ([Springer](https://link.springer.com/chapter/10.1007/978-1-84628-627-8_4)) : a subset of a metric space that includes all of its boundary\n",
    "- **Open Set** ([Springer](https://link.springer.com/chapter/10.1007/978-1-84628-627-8_4)): a subset that contains no point of its boundary\n",
    "\n",
    "  - E.g., (-1, 1) is open; [-1, 1] is closed. \n",
    "\n",
    "- **Dense Set** ([wiki](https://en.wikipedia.org/wiki/Dense_set)):\n",
    "> a subset $A$ of a topological space $X$ is called dense (in $X$) if every point $x$ in $X$ either belongs to $A$ or is a limit point of $A$; that is, the closure of $A$ is constituting the whole set $X$.\n",
    "\n",
    "- **Compact Space** ([wiki](https://en.wikipedia.org/wiki/Compact_space))\n",
    ">In mathematics, and more specifically in general topology, compactness is a property that generalizes the notion of a subset of Euclidean space being closed (that is, containing all its limit points) and bounded (that is, having all its points lie within some fixed distance of each other). Examples include a closed interval, a rectangle, or a finite set of points. This notion is defined for more general topological spaces than Euclidean space in various ways.<br><br>\n",
    "One such generalization is that a topological space is sequentially compact if every infinite sequence of points sampled from the space has an infinite subsequence that converges to some point of the space."
   ]
  },
  {
   "cell_type": "markdown",
   "metadata": {},
   "source": [
    "---"
   ]
  },
  {
   "cell_type": "markdown",
   "metadata": {},
   "source": [
    "#### Section 3 Math: Parallel Mode\n",
    "**Corollary 2**\n",
    ">Any cycle of the parallel iteration is of length 1 or 2"
   ]
  },
  {
   "cell_type": "markdown",
   "metadata": {},
   "source": [
    "---"
   ]
  },
  {
   "cell_type": "markdown",
   "metadata": {},
   "source": [
    "### State-Denoised Recurrent Neural Networks (Mozer, 2018)\n",
    "\n",
    "- Mozer, Michael C., et al (2018)\n",
    "- https://arxiv.org/abs/1805.08394"
   ]
  },
  {
   "cell_type": "code",
   "execution_count": 8,
   "metadata": {},
   "outputs": [
    {
     "data": {
      "text/html": [
       "\n",
       "        <iframe\n",
       "            width=\"900\"\n",
       "            height=\"400\"\n",
       "            src=\"https://arxiv.org/pdf/1805.08394.pdf#view=FitH\"\n",
       "            frameborder=\"0\"\n",
       "            allowfullscreen\n",
       "        ></iframe>\n",
       "        "
      ],
      "text/plain": [
       "<IPython.lib.display.IFrame at 0x11b7ded68>"
      ]
     },
     "execution_count": 8,
     "metadata": {},
     "output_type": "execute_result"
    }
   ],
   "source": [
    "IFrame(\"https://arxiv.org/pdf/1805.08394.pdf#view=FitH\", width=PDF_W, height=PDF_H)"
   ]
  },
  {
   "cell_type": "markdown",
   "metadata": {},
   "source": [
    "---"
   ]
  },
  {
   "cell_type": "markdown",
   "metadata": {},
   "source": [
    "---"
   ]
  },
  {
   "cell_type": "markdown",
   "metadata": {},
   "source": [
    "---"
   ]
  },
  {
   "cell_type": "markdown",
   "metadata": {},
   "source": [
    "## Restricted Boltzman Machines (RBMs)"
   ]
  },
  {
   "cell_type": "markdown",
   "metadata": {},
   "source": [
    "### Convolutional Deep Belief Networks for Scalable Unsupervised Learning of Hierarchical Representations\n",
    "- Lee, et al. (2009)\n",
    "- https://ai.stanford.edu/~ang/papers/icml09-ConvolutionalDeepBeliefNetworks.pdf"
   ]
  },
  {
   "cell_type": "code",
   "execution_count": 9,
   "metadata": {},
   "outputs": [
    {
     "data": {
      "text/html": [
       "\n",
       "        <iframe\n",
       "            width=\"900\"\n",
       "            height=\"400\"\n",
       "            src=\"https://ai.stanford.edu/~ang/papers/icml09-ConvolutionalDeepBeliefNetworks.pdf#view=FitH\"\n",
       "            frameborder=\"0\"\n",
       "            allowfullscreen\n",
       "        ></iframe>\n",
       "        "
      ],
      "text/plain": [
       "<IPython.lib.display.IFrame at 0x10cd89080>"
      ]
     },
     "execution_count": 9,
     "metadata": {},
     "output_type": "execute_result"
    }
   ],
   "source": [
    "IFrame(\"https://ai.stanford.edu/~ang/papers/icml09-ConvolutionalDeepBeliefNetworks.pdf#view=FitH\", width=PDF_W, height=PDF_H)"
   ]
  },
  {
   "cell_type": "markdown",
   "metadata": {},
   "source": [
    "---"
   ]
  },
  {
   "cell_type": "markdown",
   "metadata": {},
   "source": [
    "---"
   ]
  },
  {
   "cell_type": "markdown",
   "metadata": {},
   "source": [
    "---"
   ]
  },
  {
   "cell_type": "markdown",
   "metadata": {},
   "source": [
    "## Recurrent Back Propagation (RBP)"
   ]
  },
  {
   "cell_type": "markdown",
   "metadata": {},
   "source": [
    "### Generalization of Backpropagation to Recurrent and Higher Order Neural Networks (Pineda, 1988)\n",
    "- FJ Pineda (1988)\n",
    "- https://papers.nips.cc/paper/67-generalization-of-back-propagation-to-recurrent-and-higher-order-neural-networks.pdf"
   ]
  },
  {
   "cell_type": "code",
   "execution_count": 10,
   "metadata": {
    "scrolled": true
   },
   "outputs": [
    {
     "data": {
      "text/html": [
       "\n",
       "        <iframe\n",
       "            width=\"900\"\n",
       "            height=\"400\"\n",
       "            src=\"https://papers.nips.cc/paper/67-generalization-of-back-propagation-to-recurrent-and-higher-order-neural-networks.pdf#view=FitH\"\n",
       "            frameborder=\"0\"\n",
       "            allowfullscreen\n",
       "        ></iframe>\n",
       "        "
      ],
      "text/plain": [
       "<IPython.lib.display.IFrame at 0x10cd4af60>"
      ]
     },
     "execution_count": 10,
     "metadata": {},
     "output_type": "execute_result"
    }
   ],
   "source": [
    "IFrame(\"https://papers.nips.cc/paper/67-generalization-of-back-propagation-to-recurrent-and-higher-order-neural-networks.pdf#view=FitH\", width=PDF_W, height=PDF_H)"
   ]
  },
  {
   "cell_type": "markdown",
   "metadata": {},
   "source": [
    "---"
   ]
  },
  {
   "cell_type": "markdown",
   "metadata": {},
   "source": [
    "### Reviving and Improving Recurrent Back-Propagation (Liao, 2018)\n",
    "- Liao, et al. (2018)\n",
    "- http://xaqlab.com/wp-content/uploads/2018/07/RecurrentBackprop_IMCL.pdf"
   ]
  },
  {
   "cell_type": "code",
   "execution_count": 11,
   "metadata": {
    "scrolled": true
   },
   "outputs": [
    {
     "data": {
      "text/html": [
       "\n",
       "        <iframe\n",
       "            width=\"900\"\n",
       "            height=\"400\"\n",
       "            src=\"http://xaqlab.com/wp-content/uploads/2018/07/RecurrentBackprop_IMCL.pdf#view=FitH\"\n",
       "            frameborder=\"0\"\n",
       "            allowfullscreen\n",
       "        ></iframe>\n",
       "        "
      ],
      "text/plain": [
       "<IPython.lib.display.IFrame at 0x11b7dec18>"
      ]
     },
     "execution_count": 11,
     "metadata": {},
     "output_type": "execute_result"
    }
   ],
   "source": [
    "IFrame(\"http://xaqlab.com/wp-content/uploads/2018/07/RecurrentBackprop_IMCL.pdf#view=FitH\", width=PDF_W, height=PDF_H)"
   ]
  },
  {
   "cell_type": "markdown",
   "metadata": {},
   "source": [
    "---"
   ]
  },
  {
   "cell_type": "markdown",
   "metadata": {},
   "source": [
    "## Neuroscience Papers "
   ]
  },
  {
   "cell_type": "markdown",
   "metadata": {},
   "source": [
    "### Task-Driven Convolutional Recurrent Models of the Visual System (Nayebi, et al. 2018)\n",
    "\n",
    "- Nayebi, et al. (2018)\n",
    "- https://ganguli-gang.stanford.edu/pdf/18.ConvRNN.pdf"
   ]
  },
  {
   "cell_type": "code",
   "execution_count": 12,
   "metadata": {
    "scrolled": true
   },
   "outputs": [
    {
     "data": {
      "text/html": [
       "\n",
       "        <iframe\n",
       "            width=\"900\"\n",
       "            height=\"400\"\n",
       "            src=\"https://ganguli-gang.stanford.edu/pdf/18.ConvRNN.pdf#view=FitH\"\n",
       "            frameborder=\"0\"\n",
       "            allowfullscreen\n",
       "        ></iframe>\n",
       "        "
      ],
      "text/plain": [
       "<IPython.lib.display.IFrame at 0x11b7ec1d0>"
      ]
     },
     "execution_count": 12,
     "metadata": {},
     "output_type": "execute_result"
    }
   ],
   "source": [
    "IFrame(\"https://ganguli-gang.stanford.edu/pdf/18.ConvRNN.pdf#view=FitH\", width=PDF_W, height=PDF_H)"
   ]
  },
  {
   "cell_type": "markdown",
   "metadata": {},
   "source": [
    "**Abstract Summary**\n",
    "\n",
    "Biological visual systems have two ubiquitous architectural features not shared with typical CNNs:\n",
    "1. local recurrence within cortical areas\n",
    "2. long-range feedback from downstream areas to upstream areas ([Gilbert and Wu (2013)](http://or.nsfc.gov.cn/bitstream/00001903-5/228323/1/1000006969823.pdf))\n",
    "\n",
    "This paper explores the role of recurrence in improving classification performance.\n",
    "\n",
    "Standard recurrence models (RNNs, LSTMs) do not perform well within deep CNNs (on the ImageNet task).\n",
    "This group found that novel cells that incorporated two structural features: \n",
    "1. bypassing\n",
    "2. gating\n",
    "were able to boost task accuracy substantially.\n",
    "\n",
    "This paper identified novel local recurrent cells and long-range feedback connections useful for object recognition by an automated search over thousands of architectures that varied in their locally recurrent and long-range feedback connections. \n",
    "\n",
    "They accomplished two primary things:\n",
    "1. They propose a model, discovered through the above search, that matches the performance of a much deeper feedforward architecture (ResNet-32) while using only ~75% as many parameters.\n",
    "2. They show that these *task-optimized ConvRNNs* matched the dynamics of neural activity in the primate visual system better than feedforward networks at a 10 millisecond resolutoin across intermediate and higher visual cortex."
   ]
  },
  {
   "cell_type": "markdown",
   "metadata": {},
   "source": [
    "**Key Notes**\n",
    "\n",
    "Behavioral roles of recurrence and dynamics in the visual system are *not well understood*. Several *conjectures* are that recurrence  \n",
    "- \"fills in\" missing data, such as object parts occluded by other objects (*in-painting*)\n",
    "- \"sharpens\" representations by top-down attention feature refinement (*super-resolution*), allowing for easier decoding of certain stimulus properties or performance of certain tasks\n",
    "- allows the brain to \"predict\" future stimuli, such as the frames of a movie (*generative modeling?*)\n",
    "- \"extends\" a feedforward computation, reflecting the fact that an unrolled recurrent network is equivalent to a deeper feedforward network that conserves on neurons (and learnable parameters) by repeating transformations several times."
   ]
  },
  {
   "cell_type": "markdown",
   "metadata": {},
   "source": []
  },
  {
   "cell_type": "markdown",
   "metadata": {},
   "source": [
    "### Dendritic Error Backpropagation in Deep Cortical Microcircuits (Sacramento, 2017)\n",
    "- Sacramento, et al. (2017)\n",
    "- https://arxiv.org/pdf/1801.00062.pdf\n",
    "\n",
    " "
   ]
  },
  {
   "cell_type": "code",
   "execution_count": 13,
   "metadata": {
    "scrolled": true
   },
   "outputs": [
    {
     "data": {
      "text/html": [
       "\n",
       "        <iframe\n",
       "            width=\"900\"\n",
       "            height=\"400\"\n",
       "            src=\"https://arxiv.org/pdf/1801.00062.pdf#view=FitH\"\n",
       "            frameborder=\"0\"\n",
       "            allowfullscreen\n",
       "        ></iframe>\n",
       "        "
      ],
      "text/plain": [
       "<IPython.lib.display.IFrame at 0x11b7de588>"
      ]
     },
     "execution_count": 13,
     "metadata": {},
     "output_type": "execute_result"
    }
   ],
   "source": [
    "IFrame(\"https://arxiv.org/pdf/1801.00062.pdf#view=FitH\", width=PDF_W, height=PDF_H)"
   ]
  },
  {
   "cell_type": "markdown",
   "metadata": {},
   "source": [
    "---"
   ]
  },
  {
   "cell_type": "markdown",
   "metadata": {},
   "source": [
    "## Flow Models"
   ]
  },
  {
   "cell_type": "markdown",
   "metadata": {},
   "source": [
    "### Glow: Generative Flow with Invertible 1x1 Convolutions (Kingma and Dhariwal. 2018)\n",
    "\n",
    "- Nayebi, et al. (2018)\n",
    "- https://ganguli-gang.stanford.edu/pdf/18.ConvRNN.pdf"
   ]
  },
  {
   "cell_type": "code",
   "execution_count": 140,
   "metadata": {
    "scrolled": true
   },
   "outputs": [
    {
     "data": {
      "text/html": [
       "\n",
       "        <iframe\n",
       "            width=\"900\"\n",
       "            height=\"400\"\n",
       "            src=\"https://arxiv.org/pdf/1807.03039.pdf#view=FitH\"\n",
       "            frameborder=\"0\"\n",
       "            allowfullscreen\n",
       "        ></iframe>\n",
       "        "
      ],
      "text/plain": [
       "<IPython.lib.display.IFrame at 0x1219b6da0>"
      ]
     },
     "execution_count": 140,
     "metadata": {},
     "output_type": "execute_result"
    }
   ],
   "source": [
    "IFrame(\"https://arxiv.org/pdf/1807.03039.pdf#view=FitH\", width=PDF_W, height=PDF_H)"
   ]
  },
  {
   "cell_type": "markdown",
   "metadata": {},
   "source": [
    "---"
   ]
  },
  {
   "cell_type": "markdown",
   "metadata": {},
   "source": [
    "---"
   ]
  },
  {
   "cell_type": "markdown",
   "metadata": {},
   "source": [
    "---"
   ]
  },
  {
   "cell_type": "markdown",
   "metadata": {},
   "source": [
    "---"
   ]
  },
  {
   "cell_type": "markdown",
   "metadata": {},
   "source": [
    "# Concepts<a class=\"anchor\" id=\"concepts\"></a> "
   ]
  },
  {
   "cell_type": "markdown",
   "metadata": {},
   "source": [
    "## Log Likelihood <a id='log_likelihood'></a>\n",
    "[To ToC](#concepts_toc)"
   ]
  },
  {
   "cell_type": "markdown",
   "metadata": {},
   "source": [
    "**TL;DR** The log likelihood is used because a probability distributions logarithmic form is easier to differentiate and we are guaranteed that the \n",
    "\n",
    "Consider the Gaussian probability distribution,\n",
    "\n",
    "$$ P(x; \\mu, \\sigma) = \\frac{1}{\\sigma \\sqrt{2\\pi}} \\exp \\left(- \\frac{(x-\\mu)^2}{2\\sigma^2} \\right) $$\n",
    "From [Probability concepts explained: Maximum likelihood estimation](https://towardsdatascience.com/probability-concepts-explained-maximum-likelihood-estimation-c7b4342fdbb1):\n",
    "> The above expression for the total probability is actually quite a pain to differentiate, so **it is almost always simplified by taking the natural logarithm of the expression**. This is absolutely fine because **the natural logarithm is a monotonically increasing function**. This means that if the value on the x-axis increases, the value on the y-axis also increases (see figure below). This is important because it ensures that **the maximum value of the log of the probability occurs at the same point as the original probability function**. Therefore we can work with the simpler log-likelihood instead of the original likelihood."
   ]
  },
  {
   "cell_type": "code",
   "execution_count": 14,
   "metadata": {},
   "outputs": [
    {
     "data": {
      "text/plain": [
       "Text(0, 0.5, 'log(x)')"
      ]
     },
     "execution_count": 14,
     "metadata": {},
     "output_type": "execute_result"
    },
    {
     "data": {
      "image/png": "[encoded data removed]",
      "text/plain": [
       "<Figure size 432x288 with 1 Axes>"
      ]
     },
     "metadata": {
      "needs_background": "light"
     },
     "output_type": "display_data"
    }
   ],
   "source": [
    "x = np.arange(0.01, 1+0.01, 0.01)\n",
    "y = np.log(x)\n",
    "plt.plot(x, y)\n",
    "plt.title(\"Log Likelihood Curve\")\n",
    "plt.xlabel('x')\n",
    "plt.ylabel('log(x)')"
   ]
  },
  {
   "cell_type": "markdown",
   "metadata": {},
   "source": [
    "Also, see this [Math StackExchange Discussion](https://math.stackexchange.com/questions/892832/why-we-consider-log-likelihood-instead-of-likelihood-in-gaussian-distribution). To summarize:\n",
    "1. It is extremely useful for example when you want to calculate the joint likelihood for a set of independent and identically distributed points.\n",
    "2. Also in the case of Gaussian, it allows you to avoid computation of the exponential.\n",
    "\n",
    "3. $\\ln x$ is a monotonically increasing function, thus log-likelihoods have the same relations of order as the likelihoods:\n",
    "\n",
    "$$ p(x | \\Theta_1) > p(x | \\Theta_2) \\Leftrightarrow \\ln p(x | \\Theta_1) > \\ln p(x | \\Theta_2)$$\n",
    "4. From a standpoint of computational complexity, you can imagine that first of all summing is less expensive than multiplication (although nowadays these are almost equal). But what is even more important, likelihoods would become very small and you will run out of your floating point precision very quickly, yielding an underflow. That's why it is way more convenient to use the logarithm of the likelihood. Simply try to calculate the likelihood by hand, using pocket calculator - almost impossible.\n",
    "\n",
    "5. Additionally in the classification framework you can simplify calculations even further. The relations of order will remain valid if you drop the division by $2$ and the $2\\ln(2\\pi)$ term. You can do that because these are class independent. Also, as one might notice if variance of both classes is the same $\\left(\\sum_1=\\sum_2\\right)$, then you can also remove the $\\ln\\left(\\det\\sum\\right)$ term."
   ]
  },
  {
   "cell_type": "markdown",
   "metadata": {},
   "source": [
    "---"
   ]
  },
  {
   "cell_type": "markdown",
   "metadata": {},
   "source": [
    "## Negative Log-Likelihood (NLL) <a id='NLL'></a>\n",
    "[To ToC](#concepts_toc)"
   ]
  },
  {
   "cell_type": "markdown",
   "metadata": {},
   "source": [
    "The negative of the [log-likelihood](#log_likelihood) is used in machine learning simply because optimizers are setup to **minimize** the return value of a function. Taking the negative of the log-likelihood results in $-\\infty$ and 0 for input values of $0$ and $1$, respectively. Optimizing the negative log-likelihood finds the maximum likelihood estimates (MLEs)."
   ]
  },
  {
   "cell_type": "code",
   "execution_count": 15,
   "metadata": {},
   "outputs": [
    {
     "data": {
      "text/plain": [
       "Text(0, 0.5, '-log(x)')"
      ]
     },
     "execution_count": 15,
     "metadata": {},
     "output_type": "execute_result"
    },
    {
     "data": {
      "image/png": "[encoded data removed]",
      "text/plain": [
       "<Figure size 432x288 with 1 Axes>"
      ]
     },
     "metadata": {
      "needs_background": "light"
     },
     "output_type": "display_data"
    }
   ],
   "source": [
    "plt.plot(x, -y)\n",
    "plt.title(\"Negative Log Likelihood Curve\")\n",
    "plt.xlabel('x')\n",
    "plt.ylabel('-log(x)')"
   ]
  },
  {
   "cell_type": "markdown",
   "metadata": {},
   "source": [
    "See this [discussion](https://stats.stackexchange.com/questions/141087/i-am-wondering-why-we-use-negative-log-likelihood-sometimes) and this [blog post](https://ljvmiranda921.github.io/notebook/2017/08/13/softmax-and-the-negative-log-likelihood/) for more information."
   ]
  },
  {
   "cell_type": "markdown",
   "metadata": {},
   "source": [
    "---"
   ]
  },
  {
   "cell_type": "markdown",
   "metadata": {},
   "source": [
    "## Restricted Boltzmann Machines (RBMs) <a class=\"anchor\" id=\"rbm_concepts\"></a> \n",
    "[To ToC](#concepts_toc)\n",
    "- http://deeplearning.net/tutorial/rbm.html"
   ]
  },
  {
   "cell_type": "markdown",
   "metadata": {},
   "source": [
    "#### Energy-Based Models (EBM)\n",
    "> EBMs associate a scalar energy to each configuration of the variables of interest. Learning corresponds to modifying that energy function so that its shape has desirable properties. For example, we would like plausible or desirable configurations to have low energy. \n",
    "\n",
    "Energy-based probabilistic models define a probability distribution through an energy function:\n",
    "\n",
    "\\begin{equation} \\tag{1}\n",
    "p(x) = \\frac{e^{-E(x)}}{Z}\n",
    "\\end{equation}\n",
    "\n",
    "where $x$ is the *state*, $E(x)$ is the *energy function*, and $Z$ is the *[partition function](#partition_function)* defined as:\n",
    "\n",
    "$$ Z = \\sum_x e^{-E(x)}$$\n",
    "\n",
    "##### Learning\n",
    "The EBM can be learned via stochastic gradient descent on the empirical *[negative log-likelihood](#NLL)*.\n",
    "\n",
    "Let the loss be defined as:\n",
    "\n",
    "$$ \\ell(\\theta, \\mathcal{D}) = -\\frac{1}{N} \\sum_{x^{(i)} \\in \\mathcal{D}} \\log p\\left(x^{(i)}\\right)$$\n",
    "\n",
    "then the gradient is $-\\frac{\\partial \\log p(x^{(i)})}{\\partial \\theta}$, where $\\theta$ are the parameters of the model.\n",
    "\n",
    "#### Hidden Units\n",
    "When the state $x$ is not fully observed or we wish to increase the expressive power of the model, so $x$ is delineated into **visible**, still denoted $x$, and **hidden**, $h$ states. Then we can rewrite $P(x)$ as \n",
    "\n",
    "\\begin{equation} \\tag{2}\n",
    "P(x) = \\sum_h P(x, h) = \\sum_h \\frac{e^{-E(x,h)}}{Z}\n",
    "\\end{equation}\n",
    "\n",
    "In order to formualate Equation 2 similar to Equation 1, we introduce **free energy**, $\\mathcal{F}$, defined as\n",
    "\n",
    "\\begin{equation} \\tag{3}\n",
    "\\mathcal{F}(x) = -\\log \\sum_h e^{-E(x,h)}\n",
    "\\end{equation}\n",
    "\n",
    "Solving Equation (3) for $\\sum_h e^{-E(x,h)}$,\n",
    "\\begin{align*} \n",
    "\\mathcal{F}(x) &= -\\log \\sum_h e^{-E(x,h)}\\\\\n",
    "\\log \\sum_h e^{-E(x,h)} &= -\\mathcal{F}(x)\\\\\n",
    "\\sum_h e^{-E(x,h)} &= e^{-\\mathcal{F}(x)} \\tag{$\\dagger$}\n",
    "\\end{align*}\n",
    "\n",
    "Beginning with Equation (2),\n",
    "\\begin{align*} \n",
    "P(x) &= \\sum_h \\frac{e^{-E(x,h)}}{Z}\\\\\n",
    "&= \\frac{1}{Z} \\sum_h e^{-E(x,h)}, \\qquad \\text{ substitute in result } \\dagger  \\\\\n",
    "P(x) &= \\frac{e^{-\\mathcal{F}(x)}}{Z} \\qquad \\text{ where } Z = \\sum_x e^{-\\mathcal{F}(x)} \\tag{4} \\\\\n",
    "\\end{align*}\n",
    "\n",
    "##### Gradient\n",
    "The resulting gradient for the negative log-likelihood has the form:\n",
    "\n",
    "$$ -\\frac{\\partial \\log p(x)}{\\partial \\theta} = \\frac{\\partial \\mathcal{F}(x)}{\\partial \\theta} - \\sum_{\\tilde{x}} \\frac{\\partial \\mathcal{F}(\\tilde{x})}{\\partial \\theta}$$\n",
    "\n",
    "**Positive Phase**, $\\frac{\\partial \\mathcal{F}(x)}{\\partial \\theta}$ <br>\n",
    "The first term on the right-hand-side, $\\frac{\\partial \\mathcal{F}(x)}{\\partial \\theta}$, is referred to as the *positive phase*. This term is called 'positive' because it has a positive effect on the probability density defined by the model - that is, this term increases the probability of training data by reducing the corresponding free energy.\n",
    "\n",
    "**Negative Phase**, $\\sum_{\\tilde{x}} \\frac{\\partial \\mathcal{F}(\\tilde{x})}{\\partial \\theta}$ <br>\n",
    "The second term on the right-hand-side, $\\sum_{\\tilde{x}} \\frac{\\partial \\mathcal{F}(\\tilde{x})}{\\partial \\theta}$, is referred to as the *negative phase*. Similar to above, the negative phase term has a negative effect on the probability density defined by the model - that is, it decreases the probability of samples generated by the model.\n",
    "\n",
    "##### Training\n",
    "It is difficult to determine this gradient analyitically because it involves the computation of $E_P \\left[\\frac{\\partial \\mathcal{F}(x)}{\\partial \\theta} \\right]$ -- the expectation over all possible configurations of the input $x$ under the distribution $P$ formed by the model.\n",
    "\n",
    "To address this issue, the first step is to estimate this expectation using a fixed number of model samples. Samples used to estimate the *negative phase* gradient are referred to as **negative particles**, which are denoted as $\\mathcal{N}$. We can reformulate the gradient as:\n",
    "\n",
    "\\begin{equation} \\tag{5}\n",
    "-\\frac{\\partial \\log p(x)}{\\partial \\theta} \\approx \\frac{\\partial \\mathcal{F}(x)}{\\partial \\theta} - \\frac{1}{|\\mathcal{N}|} \\sum_{\\tilde{x} \\in \\mathcal{N}} \\frac{\\partial \\mathcal{F}(\\tilde{x})}{\\partial \\theta}\n",
    "\\label{eq:free_enery_gradient}\n",
    "\\end{equation}\n",
    "\n",
    "where, ideally, the elements $\\tilde{x}$ of $\\mathcal{N}$ would be sampled according to $P$ (i.e., we are doing [Monte-Carlo](#monte_carlo)). \n",
    "\n",
    "With Equation \\ref{eq:free_enery_gradient}, we nearly have a practical, stochastic algorithm for learning an EBM. The only missing piece is how to extract the negative particles, $\\mathcal{N}$. I.e., we need a sampling method. In particular, we will use [Markov Chain Monte Carlo](#mcmc) methods."
   ]
  },
  {
   "cell_type": "markdown",
   "metadata": {},
   "source": [
    "##### RBMs\n",
    "Boltzmann Machines (BMs) are a particular form of log-linear [Markov Random Field](#markov_random_field) (MRF) -- the energy function is linear in its free parameters. By adding hidden variables, the modeling capacity of the Boltzmann Machine is increased; i.e., the model is changed from a limited parameteric setting to a non-parametric one. RBMs further restrict the BM by disallowing self-connections within a layer: no visible-to-visible nor hidden-to-hidden connections. This results in a bipartite graph.\n",
    "\n",
    "##### Energy Function\n",
    "The energy function $E(v, h)$ of an RBM is defined as:\n",
    "\n",
    "\\begin{equation} \\tag{6}\n",
    "E(v,h) = -b^\\prime v - c^\\prime h - h^\\prime W v\n",
    "\\end{equation}\n",
    "\n",
    "where $W$ represents the weights connection hidden and visible units, and $b, c$ are the offsets of the visible and hidden layers, respectively.\n",
    "\n",
    "The **free energy formula** is now:\n",
    "\n",
    "$$ \\mathcal{F}(v) = -b^\\prime v - \\sum_i \\log \\sum_{h_i}e^{h_i (c_i W_iv}$$\n",
    "\n",
    "##### Conditional Independence Between Layers\n",
    "\n",
    "Due to the bipartite graph structure of an RBM, the visible and hidden units are **conditionally independent** given one-another. Consequently:\n",
    "\n",
    "\\begin{align}\n",
    "p(h|v) &= \\prod_i p(h_i | v) \\\\\n",
    "p(v|h) &= \\prod_j p(v_j | h)\n",
    "\\end{align}\n",
    "\n",
    "Typically, RBMs have binary units: $v_j, h_i \\in \\{0, 1\\}$. Consequently, we obtain:\n",
    "\n",
    "\\begin{align}\n",
    "P(h_i = 1 | v) &= \\text{sigm} (c_i | W_iv) \\tag{7} \\\\\n",
    "P(v_j = 1 | h) &= \\text{sigm} (b_j | W^\\prime_jh) \\tag{8}\n",
    "\\end{align}\n",
    "\n",
    "and the *free energy* of a binary RBM simplifies to:\n",
    "\n",
    "\\begin{equation} \\tag{9}\n",
    "\\mathcal{F}(v) = -b^\\prime v - \\sum_i \\log (1 + e^{c_i + W_iv})\n",
    "\\end{equation}"
   ]
  },
  {
   "cell_type": "code",
   "execution_count": 16,
   "metadata": {},
   "outputs": [
    {
     "data": {
      "text/html": [
       "\n",
       "        <iframe\n",
       "            width=\"900\"\n",
       "            height=\"400\"\n",
       "            src=\"http://deeplearning.net/tutorial/rbm.html#view=FitH\"\n",
       "            frameborder=\"0\"\n",
       "            allowfullscreen\n",
       "        ></iframe>\n",
       "        "
      ],
      "text/plain": [
       "<IPython.lib.display.IFrame at 0x11bb97f28>"
      ]
     },
     "execution_count": 16,
     "metadata": {},
     "output_type": "execute_result"
    }
   ],
   "source": [
    "IFrame(\"http://deeplearning.net/tutorial/rbm.html#view=FitH\", width=PDF_W, height=PDF_H)"
   ]
  },
  {
   "cell_type": "markdown",
   "metadata": {},
   "source": [
    "---"
   ]
  },
  {
   "cell_type": "markdown",
   "metadata": {},
   "source": [
    "## Markov Chains <a class=\"anchor\" id=\"markov_chains\"></a> \n",
    "[To ToC](#concepts_toc)\n",
    "\n",
    "**Resources**:\n",
    "- [Markov Chain Wiki](https://en.wikipedia.org/wiki/Markov_chain)\n",
    "- [Markov Chains an Monte Carlor Methods - An Introduction](https://github.com/christianb93/MachineLearning/blob/master/doc/MarkovChains/MarkovChainsIntroduction.pdf)"
   ]
  },
  {
   "cell_type": "code",
   "execution_count": 17,
   "metadata": {
    "scrolled": true
   },
   "outputs": [
    {
     "data": {
      "text/html": [
       "\n",
       "        <iframe\n",
       "            width=\"900\"\n",
       "            height=\"400\"\n",
       "            src=\"https://en.wikipedia.org/wiki/Markov_chain\"\n",
       "            frameborder=\"0\"\n",
       "            allowfullscreen\n",
       "        ></iframe>\n",
       "        "
      ],
      "text/plain": [
       "<IPython.lib.display.IFrame at 0x11bb127b8>"
      ]
     },
     "execution_count": 17,
     "metadata": {},
     "output_type": "execute_result"
    }
   ],
   "source": [
    "IFrame(\"https://en.wikipedia.org/wiki/Markov_chain\", width=PDF_W, height=PDF_H)"
   ]
  },
  {
   "cell_type": "markdown",
   "metadata": {},
   "source": [
    "**Definition**\n",
    "> A discrete-time Markov chain is a sequence of random variables $X_1, X_2, X_3, \\ldots$ with the [Markov property](https://en.wikipedia.org/wiki/Markov_property); namely, that the probability of moving to the next state depends only on the present state and not on the previous states. <br><br>\n",
    "**Markov Property Def**:\n",
    "$$ P(X_{n+1} = x | X_1 = x_1, X_2 = x_2, \\ldots, X_n = x_n) \\quad = \\quad P(X_{n+1} = x | X_n = x_n) $$ <br>\n",
    "if both conditional probabilities are well defined. <br><br>\n",
    "This states, simply, that the conditional probability of the next state, $X_{n+1}$, is only dependent upon the current state, $X_n$. I.e., all information needed to make predictions about the future state is contained within the current state. <br><br>\n",
    "The possible values of $X_i$ form a countable set $S$ called the **state space** of the chain.<br><br>\n",
    "Markov chains are often described by a sequence of directed graphs, where the edges of graph $n$ are labeled by the probabilities of going from one state at time $n$ to the other states at time $n + 1$, $P(X_{n+1}=x \\mid X_{n}=x_{n})$. <br>\n",
    "E.g.,\n",
    "<img src=\"https://upload.wikimedia.org/wikipedia/commons/thumb/9/95/Finance_Markov_chain_example_state_space.svg/800px-Finance_Markov_chain_example_state_space.svg.png\" width=\"500\">"
   ]
  },
  {
   "cell_type": "markdown",
   "metadata": {},
   "source": [
    "---"
   ]
  },
  {
   "cell_type": "markdown",
   "metadata": {},
   "source": [
    "## Monte Carlo <a class=\"anchor\" id=\"monte_carlo\"></a> \n",
    "[To ToC](#concepts_toc)\n",
    "- [Monte Carlo Method Wiki](https://en.wikipedia.org/wiki/Monte_Carlo_method)"
   ]
  },
  {
   "cell_type": "code",
   "execution_count": 18,
   "metadata": {
    "scrolled": true
   },
   "outputs": [
    {
     "data": {
      "text/html": [
       "\n",
       "        <iframe\n",
       "            width=\"900\"\n",
       "            height=\"400\"\n",
       "            src=\"https://en.wikipedia.org/wiki/Monte_Carlo_method\"\n",
       "            frameborder=\"0\"\n",
       "            allowfullscreen\n",
       "        ></iframe>\n",
       "        "
      ],
      "text/plain": [
       "<IPython.lib.display.IFrame at 0x11bbafa20>"
      ]
     },
     "execution_count": 18,
     "metadata": {},
     "output_type": "execute_result"
    }
   ],
   "source": [
    "IFrame(\"https://en.wikipedia.org/wiki/Monte_Carlo_method\", width=PDF_W, height=PDF_H)"
   ]
  },
  {
   "cell_type": "markdown",
   "metadata": {},
   "source": [
    "Monte Carlo typically refers to an algorithm that uses sampling to either simulate outcomes of a random experiment or to approximate integrals. Suppose we are given a finite measure $\\pi$ on some state space, say $\\mathbb{R}^n$, and we want to compute \n",
    "\n",
    "$$\\int f d\\pi$$\n",
    "\n",
    "After normalization, we can assume that $\\pi$ is a probability measure. Then the integral is the expectation value of the random variable $f$. If we had a method to create an independent and identically distributed series $X_n$ of samples from $\\pi$, then the law of large numbers would tell us that for large $n$, \n",
    "\n",
    "$$\\frac{1}{n} \\sum_{k=1}^n f(X_n) \\approx \\int f d\\pi$$\n",
    "\n",
    "so that we obtain a good approximation to the integral by generating a sample, calculating the values $f(X_n)$ at the sampled points, and taking their average value. \n",
    "\n",
    "For example, recall that the expectation is an integral.\n",
    "$$E[X] = \\sum_{i=1}^\\infty x_i p_i$$ where x_i is the value of a random variable and $p_i$ is the probability of corresponding to that value, $x_i$.\n",
    "\n",
    "Monte Carlo provides a means for approximating this discrete integral, and therefore, MC is extremely useful in probability contexts - in particular, for approximating the [partition function](#partition_function)."
   ]
  },
  {
   "cell_type": "markdown",
   "metadata": {},
   "source": [
    "#### Example: Approximate $\\pi$\n",
    "\n",
    "We can approximate $\\pi$ via Monte Carlo. We construct the problem as follows:\n",
    "\n",
    "Inscribe a circle within a square with side, $s = 1$. Then, necessarily the circle radius, r = $0.5$ and the center of the circle, $c_k = (0.5, 0.5)$.\n",
    " \n",
    "The area of a circle is $A_{\\text{circle}} = \\pi r^2 = \\frac{\\pi}{4}$. The area of the square is $A_{\\text{square}} = 1$.\n",
    "\n",
    "Taking the ratio of the two areas,\n",
    "\n",
    "\\begin{equation} \\tag{$\\dagger$}\n",
    "\\frac{A_{\\text{circle}}}{A_{\\text{square}}} = \\frac{\\pi / 4}{1} = \\frac{\\pi}{4}\n",
    "\\end{equation}\n",
    "\n",
    "Next, we uniformly sample a set of points $A = \\{(x, y) : x, y \\sim \\mathrm{U}(0,1)\\}$, where $|A| = N$, the number of sample points. \n",
    "\n",
    "We can calculate the number of points that are contained within the circle, $x_\\text{circle}$. \n",
    "\n",
    "E.g., let $d_{x_i}$ denote the distance of the point $x_i$ from the center of the circle, $c_k$.  \n",
    "\n",
    "$$d_{x_i} = \\sqrt{(x-c_k)^2 + (y-c_k)^2} $$ \n",
    "\n",
    "Then, $x_\\text{circle} = \\{x_i : d_{x_i} < r \\}$\n",
    "\n",
    "We can now approximate the ratio from Equation $\\dagger$ as:\n",
    "\n",
    "$$\\frac{x_\\text{circle}}{N} \\approx \\frac{A_{\\text{circle}}}{A_{\\text{square}}} = \\frac{\\pi}{4}$$\n",
    "\n",
    "Solve for $\\pi$:\n",
    "\n",
    "$$ \\pi \\approx \\frac{4x_\\text{circle}}{N}$$\n",
    "\n",
    "Finally, denote the approximation of $\\pi$ as $\\hat{\\pi}$:\n",
    "\n",
    "$$ \\hat{\\pi} = \\frac{4x_\\text{circle}}{N}$$\n",
    "\n",
    "By the [law of large numbers](https://en.wikipedia.org/wiki/Law_of_large_numbers), as $N \\rightarrow \\infty$, then $E\\left[\\hat{\\pi}\\right] \\rightarrow \\pi$, where $E[\\cdot]$ is the expectation."
   ]
  },
  {
   "cell_type": "code",
   "execution_count": 397,
   "metadata": {},
   "outputs": [],
   "source": [
    "from IPython.display import HTML"
   ]
  },
  {
   "cell_type": "code",
   "execution_count": null,
   "metadata": {},
   "outputs": [],
   "source": [
    "HTML()"
   ]
  },
  {
   "cell_type": "code",
   "execution_count": 394,
   "metadata": {},
   "outputs": [],
   "source": [
    "import matplotlib.animation\n",
    "from IPython.display import HTML\n",
    "from mpl_toolkits.axes_grid1 import make_axes_locatable\n",
    "\n",
    "# Resources\n",
    "# ---------\n",
    "# https://stackoverflow.com/questions/9401658/how-to-animate-a-scatter-plot\n",
    "# https://stackoverflow.com/questions/43445103/inline-animations-in-jupyter\n",
    "# https://stackoverflow.com/questions/32847600/animation-in-matplotlib-with-scatter-and-using-set-offsets-how-to-update-color\n",
    "# https://stackoverflow.com/questions/18195758/set-matplotlib-colorbar-size-to-match-graph\n",
    "\n",
    "class MonteCarloApproximator(object):\n",
    "    def __init__(self, N_start=10, N_stop=10000, N_step=5):\n",
    "        self.points = np.arange(N_start, N_stop+N_step, N_step)\n",
    "        self.num_points = len(self.points)\n",
    "        self.radius = 0.5\n",
    "        self.ck = 0.5\n",
    "        \n",
    "        self.display_interval = 1\n",
    "        \n",
    "        # Generate data\n",
    "        self.__generate_data()\n",
    "        \n",
    "        # Initialize figure\n",
    "        self.__init_figure()\n",
    "            \n",
    "    def __calc_distance(self, pt):\n",
    "        d = np.sqrt((pt[0] - self.ck)**2 + (pt[1] - self.ck)**2)\n",
    "        return d\n",
    "    \n",
    "    def __generate_data(self):\n",
    "        self.data = []\n",
    "        print(\"Generating data...\")\n",
    "        for i, n in enumerate(self.points):\n",
    "            sys.stdout.write(f\"\\r\\tData point {i+1}/{self.num_points} generated...\")\n",
    "            sys.stdout.flush()\n",
    "            \n",
    "            # Uniformly sample random points (x, y) in [-radius, radius]\n",
    "            random_points = np.array([(np.random.uniform(0, 1), \n",
    "                                       np.random.uniform(0, 1)) for _ in range(n)])\n",
    "\n",
    "            # Check if points in circle\n",
    "            in_circle = np.array([self.__calc_distance(pt) < self.radius for pt in random_points]).astype(np.int)\n",
    "            \n",
    "            # Approximate pi\n",
    "            pi_approx = 4 * (in_circle.sum() / float(n))\n",
    "            \n",
    "            data_i = [random_points, in_circle, pi_approx]\n",
    "            self.data.append(data_i)\n",
    "        print(\"\\nComplete.\")\n",
    "    \n",
    "    def __init_figure(self):\n",
    "        # Setup the figure and axes...\n",
    "        self.fig, self.ax = plt.subplots(figsize=(5,5))\n",
    "        self.ax.axis([0, 1, 0, 1])\n",
    "        self.ax.set_xticks([], [])\n",
    "        self.ax.set_yticks([], [])\n",
    "        self.scatter = self.ax.scatter([], [])\n",
    "        \n",
    "        # set_array necessary before calling colorbar\n",
    "        self.scatter.set_array(np.array([0., 1.]))\n",
    "        \n",
    "        # Fixes aspect ratio issue when colorbar introduced\n",
    "        divider = make_axes_locatable(self.ax)\n",
    "        cax = divider.append_axes(\"right\", size=\"5%\", pad=0.05)\n",
    "        cbar = self.fig.colorbar(self.scatter, cax=cax)\n",
    "        cbar.remove()\n",
    "        \n",
    "        # Setup pi approx text\n",
    "        font = {'family': 'serif',\n",
    "            'color':  'black',\n",
    "            'weight': 'normal',\n",
    "            'size': 28,\n",
    "            \"ha\" : \"center\",\n",
    "            \"va\" : \"center\"\n",
    "        }\n",
    "        self.pi_approx_text = self.ax.text(0.5, 0.5, '', transform=self.ax.transAxes, fontdict=font)\n",
    "        \n",
    "        # Prevents empty plot from showing\n",
    "        plt.close()\n",
    "        \n",
    "    def update_plot(self, i):\n",
    "        \"\"\"Update the scatter plot.\"\"\"\n",
    "        values, coloring, pi = self.display_data[i]\n",
    "        \n",
    "        # Set x and y data...\n",
    "        self.scatter.set_offsets(values[:,:2])\n",
    "        \n",
    "        # Set colors..\n",
    "        self.scatter.set_array(coloring)\n",
    "        \n",
    "        # Pi average\n",
    "        pi_average = np.mean(np.array(self.data)[:i+1,2])\n",
    "        \n",
    "        # Set text\n",
    "        self.pi_approx_text.set_text(r\"$\\pi \\approx$ {:0.6f}\".format(pi_average))\n",
    "        \n",
    "        # Set title\n",
    "        self.ax.set_title(f\"N samples: {self.points[i]}\")\n",
    "        \n",
    "        return self.scatter, self.pi_approx_text\n",
    "\n",
    "    def __init_animation(self, anim_interval, num_display_points):\n",
    "        # Then setup FuncAnimation.\n",
    "        self.ani = matplotlib.animation.FuncAnimation(self.fig, self.update_plot, \n",
    "                                                      interval=anim_interval,\n",
    "                                                      frames=num_display_points,\n",
    "                                                      blit=True)\n",
    "        \n",
    "    def show(self, anim_interval=200, interval=None):\n",
    "        print(\"Creating animation object...\")\n",
    "        if interval is not None:\n",
    "            self.display_interval = interval\n",
    "        \n",
    "        # Subset the display data\n",
    "        self.display_data = self.data[::self.display_interval]\n",
    "        num_display_points = len(self.display_data)\n",
    "        \n",
    "        # Create animation\n",
    "        self.__init_animation(anim_interval, num_display_points)\n",
    "        \n",
    "        # display inline   \n",
    "        display(HTML(MC_pi_approx.ani.to_jshtml()))\n",
    "        \n",
    "        # Cleanup odd .png file being created\n",
    "        png_files = glob.glob(\"None*.png\")\n",
    "        if png_files != []:\n",
    "            for png_file in png_files:\n",
    "                os.remove(png_file)"
   ]
  },
  {
   "cell_type": "code",
   "execution_count": 395,
   "metadata": {},
   "outputs": [
    {
     "name": "stdout",
     "output_type": "stream",
     "text": [
      "Generating data...\n",
      "\tData point 10/10 generated...\n",
      "Complete.\n"
     ]
    }
   ],
   "source": [
    "MC_pi_approx = MonteCarloApproximator(N_stop=100, N_step=10)"
   ]
  },
  {
   "cell_type": "code",
   "execution_count": 396,
   "metadata": {},
   "outputs": [
    {
     "name": "stdout",
     "output_type": "stream",
     "text": [
      "Creating animation object...\n"
     ]
    },
    {
     "data": {
      "text/html": [
       "\n",
       "<link rel=\"stylesheet\"\n",
       "href=\"https://maxcdn.bootstrapcdn.com/font-awesome/4.4.0/\n",
       "css/font-awesome.min.css\">\n",
       "<script language=\"javascript\">\n",
       "  /* Define the Animation class */\n",
       "  function Animation(frames, img_id, slider_id, interval, loop_select_id){\n",
       "    this.img_id = img_id;\n",
       "    this.slider_id = slider_id;\n",
       "    this.loop_select_id = loop_select_id;\n",
       "    this.interval = interval;\n",
       "    this.current_frame = 0;\n",
       "    this.direction = 0;\n",
       "    this.timer = null;\n",
       "    this.frames = new Array(frames.length);\n",
       "\n",
       "    for (var i=0; i<frames.length; i++)\n",
       "    {\n",
       "     this.frames[i] = new Image();\n",
       "     this.frames[i].src = frames[i];\n",
       "    }\n",
       "    document.getElementById(this.slider_id).max = this.frames.length - 1;\n",
       "    this.set_frame(this.current_frame);\n",
       "  }\n",
       "\n",
       "  Animation.prototype.get_loop_state = function(){\n",
       "    var button_group = document[this.loop_select_id].state;\n",
       "    for (var i = 0; i < button_group.length; i++) {\n",
       "        var button = button_group[i];\n",
       "        if (button.checked) {\n",
       "            return button.value;\n",
       "        }\n",
       "    }\n",
       "    return undefined;\n",
       "  }\n",
       "\n",
       "  Animation.prototype.set_frame = function(frame){\n",
       "    this.current_frame = frame;\n",
       "    document.getElementById(this.img_id).src =\n",
       "            this.frames[this.current_frame].src;\n",
       "    document.getElementById(this.slider_id).value = this.current_frame;\n",
       "  }\n",
       "\n",
       "  Animation.prototype.next_frame = function()\n",
       "  {\n",
       "    this.set_frame(Math.min(this.frames.length - 1, this.current_frame + 1));\n",
       "  }\n",
       "\n",
       "  Animation.prototype.previous_frame = function()\n",
       "  {\n",
       "    this.set_frame(Math.max(0, this.current_frame - 1));\n",
       "  }\n",
       "\n",
       "  Animation.prototype.first_frame = function()\n",
       "  {\n",
       "    this.set_frame(0);\n",
       "  }\n",
       "\n",
       "  Animation.prototype.last_frame = function()\n",
       "  {\n",
       "    this.set_frame(this.frames.length - 1);\n",
       "  }\n",
       "\n",
       "  Animation.prototype.slower = function()\n",
       "  {\n",
       "    this.interval /= 0.7;\n",
       "    if(this.direction > 0){this.play_animation();}\n",
       "    else if(this.direction < 0){this.reverse_animation();}\n",
       "  }\n",
       "\n",
       "  Animation.prototype.faster = function()\n",
       "  {\n",
       "    this.interval *= 0.7;\n",
       "    if(this.direction > 0){this.play_animation();}\n",
       "    else if(this.direction < 0){this.reverse_animation();}\n",
       "  }\n",
       "\n",
       "  Animation.prototype.anim_step_forward = function()\n",
       "  {\n",
       "    this.current_frame += 1;\n",
       "    if(this.current_frame < this.frames.length){\n",
       "      this.set_frame(this.current_frame);\n",
       "    }else{\n",
       "      var loop_state = this.get_loop_state();\n",
       "      if(loop_state == \"loop\"){\n",
       "        this.first_frame();\n",
       "      }else if(loop_state == \"reflect\"){\n",
       "        this.last_frame();\n",
       "        this.reverse_animation();\n",
       "      }else{\n",
       "        this.pause_animation();\n",
       "        this.last_frame();\n",
       "      }\n",
       "    }\n",
       "  }\n",
       "\n",
       "  Animation.prototype.anim_step_reverse = function()\n",
       "  {\n",
       "    this.current_frame -= 1;\n",
       "    if(this.current_frame >= 0){\n",
       "      this.set_frame(this.current_frame);\n",
       "    }else{\n",
       "      var loop_state = this.get_loop_state();\n",
       "      if(loop_state == \"loop\"){\n",
       "        this.last_frame();\n",
       "      }else if(loop_state == \"reflect\"){\n",
       "        this.first_frame();\n",
       "        this.play_animation();\n",
       "      }else{\n",
       "        this.pause_animation();\n",
       "        this.first_frame();\n",
       "      }\n",
       "    }\n",
       "  }\n",
       "\n",
       "  Animation.prototype.pause_animation = function()\n",
       "  {\n",
       "    this.direction = 0;\n",
       "    if (this.timer){\n",
       "      clearInterval(this.timer);\n",
       "      this.timer = null;\n",
       "    }\n",
       "  }\n",
       "\n",
       "  Animation.prototype.play_animation = function()\n",
       "  {\n",
       "    this.pause_animation();\n",
       "    this.direction = 1;\n",
       "    var t = this;\n",
       "    if (!this.timer) this.timer = setInterval(function() {\n",
       "        t.anim_step_forward();\n",
       "    }, this.interval);\n",
       "  }\n",
       "\n",
       "  Animation.prototype.reverse_animation = function()\n",
       "  {\n",
       "    this.pause_animation();\n",
       "    this.direction = -1;\n",
       "    var t = this;\n",
       "    if (!this.timer) this.timer = setInterval(function() {\n",
       "        t.anim_step_reverse();\n",
       "    }, this.interval);\n",
       "  }\n",
       "</script>\n",
       "\n",
       "<div class=\"animation\" align=\"center\">\n",
       "    <img id=\"_anim_img28ea754d9e9e43aca3003659ea5174b2\">\n",
       "    <br>\n",
       "    <input id=\"_anim_slider28ea754d9e9e43aca3003659ea5174b2\" type=\"range\" style=\"width:350px\"\n",
       "           name=\"points\" min=\"0\" max=\"1\" step=\"1\" value=\"0\"\n",
       "           onchange=\"anim28ea754d9e9e43aca3003659ea5174b2.set_frame(parseInt(this.value));\"></input>\n",
       "    <br>\n",
       "    <button onclick=\"anim28ea754d9e9e43aca3003659ea5174b2.slower()\"><i class=\"fa fa-minus\"></i></button>\n",
       "    <button onclick=\"anim28ea754d9e9e43aca3003659ea5174b2.first_frame()\"><i class=\"fa fa-fast-backward\">\n",
       "        </i></button>\n",
       "    <button onclick=\"anim28ea754d9e9e43aca3003659ea5174b2.previous_frame()\">\n",
       "        <i class=\"fa fa-step-backward\"></i></button>\n",
       "    <button onclick=\"anim28ea754d9e9e43aca3003659ea5174b2.reverse_animation()\">\n",
       "        <i class=\"fa fa-play fa-flip-horizontal\"></i></button>\n",
       "    <button onclick=\"anim28ea754d9e9e43aca3003659ea5174b2.pause_animation()\"><i class=\"fa fa-pause\">\n",
       "        </i></button>\n",
       "    <button onclick=\"anim28ea754d9e9e43aca3003659ea5174b2.play_animation()\"><i class=\"fa fa-play\"></i>\n",
       "        </button>\n",
       "    <button onclick=\"anim28ea754d9e9e43aca3003659ea5174b2.next_frame()\"><i class=\"fa fa-step-forward\">\n",
       "        </i></button>\n",
       "    <button onclick=\"anim28ea754d9e9e43aca3003659ea5174b2.last_frame()\"><i class=\"fa fa-fast-forward\">\n",
       "        </i></button>\n",
       "    <button onclick=\"anim28ea754d9e9e43aca3003659ea5174b2.faster()\"><i class=\"fa fa-plus\"></i></button>\n",
       "  <form action=\"#n\" name=\"_anim_loop_select28ea754d9e9e43aca3003659ea5174b2\" class=\"anim_control\">\n",
       "    <input type=\"radio\" name=\"state\"\n",
       "           value=\"once\" > Once </input>\n",
       "    <input type=\"radio\" name=\"state\"\n",
       "           value=\"loop\" checked> Loop </input>\n",
       "    <input type=\"radio\" name=\"state\"\n",
       "           value=\"reflect\" > Reflect </input>\n",
       "  </form>\n",
       "</div>\n",
       "\n",
       "\n",
       "<script language=\"javascript\">\n",
       "  /* Instantiate the Animation class. */\n",
       "  /* The IDs given should match those used in the template above. */\n",
       "  (function() {\n",
       "    var img_id = \"_anim_img28ea754d9e9e43aca3003659ea5174b2\";\n",
       "    var slider_id = \"_anim_slider28ea754d9e9e43aca3003659ea5174b2\";\n",
       "    var loop_select_id = \"_anim_loop_select28ea754d9e9e43aca3003659ea5174b2\";\n",
       "    var frames = new Array(1);\n",
       "    \n",
       "  frames[0] = \"data:image/png;base64,iVBORw0KGgoAAAANSUhEUgAAAWgAAAFoCAYAAAB65WHVAAAABHNCSVQICAgIfAhkiAAAAAlwSFlz\\\n",
       "AAALEgAACxIB0t1+/AAAADl0RVh0U29mdHdhcmUAbWF0cGxvdGxpYiB2ZXJzaW9uIDMuMC4yLCBo\\\n",
       "dHRwOi8vbWF0cGxvdGxpYi5vcmcvOIA7rQAAHb1JREFUeJzt3Xt4VOXdr/HvmkOSgRyIhFA5JYob\\\n",
       "E6NQSKKIVkQRLysicgr10I28iu5qt8UqVrGKYhWRWoXaF7HFE/VUpeJGQhWPFBVBRRGligqCSCRE\\\n",
       "CDlMkpl59h+ReQlJIIQh6zFzf66Lq8OsNc/6DcU7K2tmgmOMMQIAWMfj9gAAgKYRaACwFIEGAEsR\\\n",
       "aACwFIEGAEsRaACwFIEGAEsRaACwFIEGAEsRaACwFIEGAEsRaACwFIEGAEsRaACwFIEGAEsRaACw\\\n",
       "FIEGAEsRaACwFIEGAEsRaACwFIEGAEsRaACwFIEGAEsRaACwFIEGAEsRaACwFIFGu5Kdna1ly5a5\\\n",
       "PQYQEwQaTcrOzlZmZqYqKyuj9/31r3/V6aef7t5Qlvjzn/+sgoICJSYmasKECY22v/LKK8rJyVGH\\\n",
       "Dh00ZMgQbdq0qe2HRLtAoNGscDis+++/3+0xrNOtWzfdfPPNmjhxYqNtpaWlGjVqlKZPn66ysjIV\\\n",
       "FBSoqKjIhSnRHhBoNOv666/XrFmztHPnzgPuGwwGdfHFF6tz587q1KmTCgsLVVJSIkl6+OGHlZub\\\n",
       "q5SUFB199NF68MEHo497/fXX1aNHD82cOVOZmZk68sgj9fzzz2vJkiXq06ePjjjiCN15553R/adN\\\n",
       "m6YxY8aoqKhIKSkpGjBggD788MMmZ4pEIpoxY4Z69+6tzp07a9y4cSorKzvgvAcyatQojRw5Up07\\\n",
       "d260beHChcrLy9PYsWOVlJSkadOm6cMPP9T69etbtDawNwKNZhUUFOj000/XrFmzDrjvo48+ql27\\\n",
       "dmnz5s3asWOH5s6dq0AgIEnKzMzU4sWLVV5erocffliTJ0/W+++/H33stm3bFAwG9c033+j222/X\\\n",
       "5ZdfrgULFui9997T8uXLNX36dH311VfR/RctWqSxY8eqrKxMF154oUaOHKm6urpGM82ZM0fPP/+8\\\n",
       "3njjDW3dulXp6em66qqrDjjvjBkzNHz48Fb9ma1bt079+vWL/r5jx47q3bu31q1b16r1EN8INPbr\\\n",
       "9ttv15w5c7R9+/b97uf3+7Vjxw5t2LBBXq9X+fn5Sk1NlSSde+656t27txzH0eDBgzVs2DAtX768\\\n",
       "wWOnTp0qv9+v8ePHq7S0VNdcc41SUlKUl5en4447rsFZcn5+vsaMGSO/369rr71WwWBQ77zzTqOZ\\\n",
       "5s6dqz/84Q/q0aOHEhMTNW3aND377LMKhUL7nfd3v/udFi9e3Ko/r4qKCqWlpTW4Ly0tTbt3727V\\\n",
       "eohvBBr7dfzxx2v48OGaMWPGfve75JJLdPbZZ2v8+PHq1q2bpkyZEj2rLS4u1sCBA3XEEUeoU6dO\\\n",
       "WrJkiUpLS6OP7dy5s7xeryRFz2K7du0a3R4IBFRRURH9fc+ePaO3PR6PevTooa1btzaaadOmTbrg\\\n",
       "ggvUqVMnderUSbm5ufJ6vSopKdnvvIciOTlZ5eXlDe4rLy9XSkrKIa+N+EOgcUC33XabHnroIX3z\\\n",
       "zTfN7uP3+3Xrrbfqk08+0VtvvaXFixfrscceU01NjUaPHq3rrrtOJSUl2rlzp37+85/LGNPqeTZv\\\n",
       "3hy9HYlEtGXLFnXr1q3Rfj179lRxcbF27twZ/RUMBtW9e/dm5z1UeXl5Dc72Kysr9cUXXygvL++Q\\\n",
       "10b8IdA4oGOOOUZFRUWaPXt2s/u89tprWrt2rcLhsFJTU+X3++XxeFRbW6uamhp16dJFPp9PxcXF\\\n",
       "eumllw5pnvfee08LFy5UKBTSfffdp8TERA0cOLDRfldeeaWmTp0afZvb9u3btWjRov3O2xKhUEjB\\\n",
       "YFDhcFjhcFjBYFChUEiSdMEFF+jjjz/Wc889p2AwqNtvv119+/ZVTk7OIT1nxCcCjRa55ZZbGrwn\\\n",
       "el/btm3TmDFjlJqaqtzcXA0ePFiXXHKJUlJSNHv2bI0bN07p6el64oknNGLEiEOa5fzzz9fTTz+t\\\n",
       "9PR0Pf7441q4cKH8fn+j/a655hqNGDFCw4YNU0pKigYOHKiVK1fud15JuvPOO3XOOec0e/w77rhD\\\n",
       "gUBAM2bM0IIFCxQIBHTHHXdIkrp06aLnnntOU6dOVXp6ulauXKmnnnrqkJ4v4pdjDuV7TaCNTZs2\\\n",
       "TRs2bNCCBQvcHgU47DiDBgBLEWgAsBSXOADAUpxBA4ClCDQAWMrn9gCtkZGRoezsbLfHAGCRjRs3\\\n",
       "NviEanvwowx0dna2Vq9e7fYYACxSUFDg9ggxxyUOALAUgQYAS/0oL3EAbcGES6Waf0kmKCUOluM7\\\n",
       "xu2REGcINNCESPVL0q7fSnIkhaXd98t0uFie1Cluj4Y4QqCBfZjIbmnXdZJq9rq3Tqr6u0zSmXIS\\\n",
       "8t0azVXr3/1c//7nu/In+DTkF6eqV053t0dq9wg0sK+a5ZLjlRp9xjYoU70oLgP95//7Ny2d/5pq\\\n",
       "q2vl8Xr0zKwXdPndF2nk1T93e7R2jRcJgUYi+9kWfz8Z4ZN3PtPS+a+ppqpGxhiFQ2HVVtdq3pQF\\\n",
       "2vHt926P164RaGBfiadJJtTEhiQ5gfPafBy3vfns26qtrm10v9fr0coX32/iEYgVAg3sw/GkSml3\\\n",
       "SkqUlKD6/0ySpMBoyV/o7nAu8Pl9cjxOk9u8PhJyOHENGmiCJ3CeTEKBFFwiE6mWkzREjj8+/13B\\\n",
       "My88Vc/PXqKafc6iIxGjk0e0v0/v2YQvf0AzHO+Rcjr+lzwpV8dtnCXpqBOydMm0cfIn+ZUYSFBS\\\n",
       "x0QlJCXohkevVuoR/GvlhxNn0AAOqOj68zWkaJBWvvi+fAk+DTq/UGkZqW6P1e4RaAAtktmri877\\\n",
       "P2e7PUZc4RIHAFiKQAOApQg0AFiKQAOApQg0AFiKQAOApQg0AFiKQAOApQg0AFiKQAOApQg0AFiK\\\n",
       "QAOApQg0AFiKQAOApQg0AFiKQAOApQg0AFiKQAOApQg0AFiKQAOApQg0AFiKQAOApQg0AFiKQAOA\\\n",
       "pQg0AFiKQAOApQg0AFiKQAOApQg0AFiKQAOApQg0AFiKQAOApQg0AFiKQAOApQg0AFiKQAOApQg0\\\n",
       "rGFCX8jUrpKJVLo9CmAFn9sDACZcIvP9FVLoS8nxSSYkk/JbeTr+b7dHA1zFGTRcZ76/Ugr9R1JQ\\\n",
       "MhX1/7v7Xpmat9weDXAVgYarTOhLKfSFpPA+W6plKh9xYSLAHgQa7orsrL+s0eS2HW07C2AZAg13\\\n",
       "+XMls+/ZsyQlSImnt/U0gFUINFzlOAEpZYqkwF73JkqeDDkdf+nWWIAVeBcHXOfpeJGM/3/VX3MO\\\n",
       "b5eShsjpcJEcT5rbowGuItCwgpNwopyEE90eA7AKlzgAwFIEGgAsRaABwFIEGgAsRaABwFIEGgAs\\\n",
       "RaABwFIEGgAsRaABwFIEGgAsRaABwFIEGtiLCX2tyPe/VqSkQJHvhihS+aiMibg9FuIUPywJ+IEJ\\\n",
       "l8jsGPXDP7sVkUy5tPuPMqEv5KTd7vZ4iEOcQQM/MFWPSaZa0t5nzEGpeqFMeLtbYyGOEWhgj9rV\\\n",
       "kuoa3+8kSqHP23wcgEADe/h6S/I2vt/USd4ebT4OQKCBHzgdJ0pK2OfeBCkhX46vlxsjIc4RaOAH\\\n",
       "ju8YOekPSt5ekvySEqSks+V0+rPboyFO8S4OYC9O4kAp42XJ7JKcgBwn0e2REMcINLAPx3Ekp5Pb\\\n",
       "YwBc4gAAWxFoALAUgQYASxFoALAUgQYASxFoALAUgQYASxFoALAUgQYASxFoALAUgQYASxFoALAU\\\n",
       "gQYASxFoALAUgQYASxFoALAUgQYASxFoALAUgQYASxFoALAUgQYASxFotCum9gNFdhQpsq2vItvP\\\n",
       "UKTqHzLGuD0W0Co+twcAYsXUfSxTNkFSdf0d4S1S+R0yke/lJE9yczSgVTiDRrthdt+naJyjqqXK\\\n",
       "/5YxtW6MBBwSAo32I/RpMxsiUrikTUcBYoFAo/3wZjd9vzGSN6NNRwFigUCj3XCSfy0paZ97A1KH\\\n",
       "X8hxAm6MBBwSAo12w0kcKKX9UfIcKckrOR2kjhPkpExxezSgVXgXB9oVT+AsmaShkoKSEuU4nIPg\\\n",
       "x4tAo91xHEcSlzTw48fpBQBYikADgKUINABYikADgKUINABYikADgKUINABYikADgKUINABYikAD\\\n",
       "gKUINABYikADgKUINABYikCj1Xbt2qUnnnhCl112mQYMGKD09HT5fD6lpaWpf//+mjx5sj777LOY\\\n",
       "HnPDhg2aOnWq+vfvr4yMDCUlJSkrK0unnnqqrr/+ei1ZsuSAa5SVlWnatGnq27evUlJSlJ6ersLC\\\n",
       "Qs2aNUtVVVUtnqU9rhOrWRAj5kcoPz/f7RHi3ooVK0xiYqKRZCSZ4cOHm7vuuss8+OCD5oYbbjA9\\\n",
       "evQwkozf7zcPPPBATI551113mcTERNO9e3czefJkM3fuXHP//febiy66yPh8PiPJeL3e/a6xatUq\\\n",
       "0717dyPJDBkyxMyZM8f88Y9/NP379zeSTG5urvniiy8OOEt7XCdWs7ilPXaBQKNViouLjSTj8XjM\\\n",
       "okWLGm2vqKgwQ4YMiQb8tddeO6Tj3XTTTUaSKSoqMhUVFY22L1u2zHi93v0GevPmzaZr165Gkrny\\\n",
       "yisbbKurqzPDhw+PhmjXrl1xtU6sZnFTe+wCgUar7An0L3/5y2b3WbduXTTQo0aNavWxXnrpJSPJ\\\n",
       "5OXlmdra2mb3GzlypOnatWuz28ePH28kmSOPPNJUVlY22r5161aTlJRkJJmbbroprtaJ1Sxuao9d\\\n",
       "INBolbfeesvk5+ebxYsXN7tPJBIxHTt2NJJMTk5Oq44TiURMbm6ukWQef/zx1o5rPv/8c+M4jpFk\\\n",
       "rr/++mb3GzNmjJFkOnToYHbv3h0X68RqFre1xy7wImGM/Pa3v5XjOK369fXXX7s9/kE7+eSTtXr1\\\n",
       "ap177rnN7uM4jjp06CBJCgRa909Q/fvf/9ann34qj8ej8847r1VrSNKzzz4rY4wk6ayzzmp2v6FD\\\n",
       "h0qSqqqq9OKLL8bFOrGaBbFHoGNkxYoVrXpcjx491KtXrxhP01htbe1hP8a+Nm3apO3bt0uShgwZ\\\n",
       "0qo1/vGPf0iSsrKylJaWFr3fGKPy8vJoWA7k1Vdfjd7u379/s/sNGDAgevuVV16Ji3ViNQtij0DH\\\n",
       "yCOPPKK33347+vtJkyZp7dq1jX4dddRRkqSTTjpJa9eu1ZtvvtniYxQXF+uyyy7TySefrIKCAo0Z\\\n",
       "M0Z/+ctf9O233zb7GGOM7rvvPs2aNav1T64VIpGIrrvuOklSt27dNGXKlFats2rVKklSr169FIlE\\\n",
       "9Le//U2DBg1SQkKC0tLSlJCQoMLCQt1///2qqalpdp21a9dKqj+Tz8jIaHa/nj17Rm+vW7cuLtaJ\\\n",
       "1Sw4DNy7utJ6tl5rWrFiRfRFsb///e+NtldXV0ffDvbrX/+6xeuuWrXKDBgwILr2vr88Ho8ZOnSo\\\n",
       "mTt3rlm/fr2prq42W7duNQsWLIi+RerWW2+N4TNtrKamxpSUlJj169ebxx9/3AwcONBIMkOHDjVb\\\n",
       "t25t9bp7rmH/7Gc/M2eeeabxeDxm4sSJ5plnnjGLFi0yN954Y3Sf/v37N3msYDAY/bPKzs7e7/HC\\\n",
       "4XD0emy3bt3a/TqxmsUGtnbhUPja5stAfPjoo4+it/v27dto+9q1axUKhSRJ/fr1a9GatbW1Gjhw\\\n",
       "oMLhsDIzM3X++ecrJydHFRUV+uSTT/Svf/1LO3fu1LJly7Rs2bIm18jNzdWIESNa8Yxa7oUXXtDY\\\n",
       "sWOjv+/SpYseeOABXXHFFfJ6va1as7q6WpWVlZKk5cuXS5KeeeaZBscZMWKExo0bp1NPPVUffPCB\\\n",
       "Ro0apeXLl8vn+5+/2rt3747eTkpK2u8xPR6PEhISVFNT0+Bx7XWdWM2Cw4NLHDG0J9AJCQnKyclp\\\n",
       "tH3NmjXR200FvCmRSER+v1933323vv76a82bN0/XXnutbrnlFj311FPavn27iouLNXHiRHXt2jX6\\\n",
       "OI/Ho8LCQs2bN09r1qxpcP3wcDjttNP08ssva9GiRbr33nt19NFH66qrrlJWVpaefPLJVq1ZXl7e\\\n",
       "4PfnnHNOgzjv8dOf/lS/+c1vJEnvvPNOo+NVV1dHbyckJBzwuHv22feTc+1xnVjNgsPE7VP41rD1\\\n",
       "W5lTTjnFSDL9+vVrcvuvfvWr6KfdqqqqWrRmXV2dWbNmTYtnKCsrM19++WWTH+Zoa9OnT49++zxz\\\n",
       "5syDfvyWLVsaXMqZP39+s/vu/Z7rs846q8G27du3R7e15O1+ez4hmZKS0u7XidUsNrC1C4eCM+gY\\\n",
       "2vNiS3Nnx3vOoI855pgWv+3M5/M1uByyceNG/fOf/9QzzzyjNWvWNHoXQ3p6uo466ih17Ngxet/3\\\n",
       "33+v4uLig3ousXDzzTfr9NNPlyTdeOONWr9+/UE9Pjk5ucHvTzjhhGb3zcnJiX6L/u677zbYlpKS\\\n",
       "Er0dDAb3e8xIJBJ9x8vej2uv68RqFhweBDpGNm7cGP2WvKlAG2Oil0Baenljbx9++KGGDh2qo446\\\n",
       "SqNGjVJRUZH69++vo48+WtOnT9eOHTuafNxHH32kU045RStXrjzoY8bCJZdcIkkKh8N67LHHDuqx\\\n",
       "KSkpDb7t7tSpU7P7ejwepaenS6r/IU57v6MjMTFRP/nJTyRJJSUl+z3md999F/2il52d3WBbe1wn\\\n",
       "VrPg8CDQMXKgFwg3bNigiooKSS1/gXCPBx54QIWFhU2+93Tjxo265ZZb1LNnT1166aV6/vnn9dFH\\\n",
       "H2np0qWaNGmSCgsL9emnnx7ks4mdY489Nnr7448/PqjHejwe5ebmRn+/5wXW5uz93YTH0/Cv9vHH\\\n",
       "Hy+p/ppraWlps2ts2bIlejsvL6/R9va4TqxmQewR6Bg5UKBb8wKhVP9t59VXX626ujoNGjRIf/rT\\\n",
       "n/Tiiy/q6aef1q233qr8/HxJ9f9xPfLII7rgggvUr18/nXPOOXrooYdUW1urYcOGacKECa1/ck0o\\\n",
       "Li7WG2+8ccD99n43xYEC25STTjopenvbtm3N7hcOh1VWViap/h0kfr+/wfYzzjgjevuDDz5odp33\\\n",
       "33+/yce053ViNQsOA/cuf7eejS8GjB071kgyXbp0aXL71KlToy/GbNq0qcXrVldXm549e5qlS5c2\\\n",
       "u89XX31lZs6caQYPHmwyMzNNQkKC6dWrl7nwwgvNq6++etDPpSWysrLMcccdd8D9HnvssejzvuKK\\\n",
       "Kw76OC+//HL08ffcc0+z+61Zsya63+jRoxtt/+yzz6Lv4Z0yZUqz6+z5/zEQCJjy8vK4WCdWs7jN\\\n",
       "xi4cKgIdI8cee6yRZM4888wmt48ePTr6g2YORjgcNjt27IjFiDGVlZVlHMcxX3755X73O+OMM6Lh\\\n",
       "3PcHK4XDYVNUVGRSUlLMdddd1+Tjw+Fw9MM2ffv2NZFIpMn9rr322uhxXnnllSb3GTduXPRDFk29\\\n",
       "i+bbb781gUDASDI33HBDs8+pPa4Tq1ncZGMXDhWBjoGqqirj9XqNJDN58uQm9znttNOMJJOcnGzq\\\n",
       "6uraeMLYy8rKMpLMoEGDmvz0XiQSif4M5+a+cC1durTB2+j+85//NHmsd955J/r2rmnTpjXa/vrr\\\n",
       "r0e37+/Hn27atMlkZmYaSeaqq65qsK2urs6MGDHCSDJ9+vQxO3fujKt1YjWLm2zrQiwQ6BhYtWpV\\\n",
       "NDIPP/xwk/vs+Qu+50zw8ssvb9shY2zv5xMIBMyll15q7r77bjN//nxz2223mRNOOCG6fcSIEU1+\\\n",
       "S7xkyZIGgV6/fn2zx1u0aJFJS0szkswZZ5xhZs+ebebNm2cmTpwY/fj8hAkTTDAY3O/cK1euNN26\\\n",
       "dYuuM2fOHHPvvfdGP0p/7LHHms8///yAz789rhOrWdxiWxdigUDHwPz586ORee+995rcZ8WKFaZP\\\n",
       "nz7G5/OZjIyM/V7r+7H4+OOPzfTp082wYcNMr169TCAQMD6fz6Snp5t+/fqZSZMmmTfeeKPZx4dC\\\n",
       "ITNmzBiTnJzc7CWOvX3zzTdmypQpJi8vzyQnJ5ukpCSTnZ1tLr74YvPmm2+2eO7S0lLz+9//3hx/\\\n",
       "/PEmOTnZpKammvz8fDNz5swmf1h9PK0Tq1ncYFsXYsExpoU/r9EiBQUFWr16tdtjALBIe+wCb7MD\\\n",
       "AEsRaACwFIEGAEsRaACwFIEGAEsRaACwFIEGAEsRaACwFIEGAEsRaACwFIEGAEsRaACwFIEGAEsR\\\n",
       "aACwFIEGAEsRaACwFIEGAEsRaACwFIFGixgTlgl/IxPZ7fYoQNzwuT0A7BepLpbKb5NMlaSITOIQ\\\n",
       "OWkz5Hg6uj0a0K5xBo39MrXvS7tukEyZpKCkWqnmNZmdk90eDWj3CLSlTKRKkfI7FSk5UZGSAYrs\\\n",
       "nCIT3t72c1Q+JKlmn3trpdq3ZcLb2nweIJ4QaAsZY2S+v1SqelIyOyVTIQUXy+wYLWOq23aY8GZJ\\\n",
       "pvH9jl8Kl7TtLECcIdCtYExIkcrHFSkdrsj2sxXZPVsmUhm7A9S9L4XWq+GZa0iK7JKqX4zdcVrC\\\n",
       "f6KafKnChCRf77adBYgzBLoVzM5rpN33SKHPpPBXUuVDMmXjZUxdbA4Q+o9kmjhrVbVM3drYHKOF\\\n",
       "nOTLJaeDGvxVcQJS8iQ5nuQ2nQWINwT6IJm6T6Wa5ap/wWyPGim0WQq+FJuDeLMkx9vEhkCbn7U6\\\n",
       "3iPldP6nlHSe5MmUfDlyUv8gp+NVbToHEI94m93BqlvTzIYqmdp35QTOPfRjJJxcH8PwZkmhH+50\\\n",
       "JCdBTmDkoa9/kBxfTzmd7mnz4wLxjjPog+XJbObsNlHydo/JIRzHI+eIJ6TEwar/GuqV/P3ldH5K\\\n",
       "jic1JscAYD/OoA9W4mn112RNtaTI/9zveOUERsXsMI63s5z0/5YxtZKMHCcxZmsD+HHgDPogOY6/\\\n",
       "/uzW10dSoqQkydNNTvp8Od6Mw3C8BOIMxCnOoFvB8WXJyXhBJvytZGolby85juP2WADaGQJ9CBzv\\\n",
       "kW6PAKAd4xIHAFiKQAOApQg0AFiKQAOApQg0AFiKQAOApQg0AFiKQAOApQg0AFiKQAOApQg0AFiK\\\n",
       "QAOApQg0AFiKQAOApQg0AFiKQAOApQg0AFiKQAOApQg0AFiKQAOApQg0AFiKQAOApQg0AFiKQAOA\\\n",
       "pQg0AFiKQAOApQg0AFiKQAOApQg0AFiKQAOApQg0AFiKQAOApQg0AFiKQAOApQg0AFiKQAOApQg0\\\n",
       "AFiKQAOApQg0AFiKQAOApQg0AFiKQAOApQg0AFiKQAOApQg0AFiKQAOApQg0AFiKQAOApQg0AFiK\\\n",
       "QAOApQg0AFiKQAOApQg0AFiKQAOApQg0AFiKQAOApQg0AFiKQAOApQg0AFiKQAOApQg0AFiKQAOA\\\n",
       "pQg0AFiKQAOApQg0AFiKQAOApQg0AFiKQAOApQg0AFiKQAOApQg0AFiKQAOApQg0AFiKQAOApQg0\\\n",
       "AFiKQAOApQg0GjGRChkTdHsMIO4RaESZuk8VKT1f5rsTZUryFSm7QiZS5vZYccVEKmUiFW6PAUsQ\\\n",
       "aEiSTHiHTNlFUuhTSSFJdVLtcpkdF8sY4/Z47Z4Jfa3Ijl/IfFco892J9bdDX7s9FlxGoCFJMtX/\\\n",
       "kEzdPveGpMi3Ut1qV2aKF8YEZcrGS3UfqP6LY0iq+0CmrIhLTXGOQKNe6AtJNU1sMFJoc1tPE1+C\\\n",
       "L0mmWlJkrzsjkgnWb0PcItCo5+8vKdD4fhOR/DltPk5cCW+RTFXj+01V/TbELQINSZITOF/ypEry\\\n",
       "7nVvopRQIMd/nFtjxQdfruQ08cXRCdRvQ9wi0JAkOZ6OcjovlAIjJCdN8nSROv6XnPS5bo/W/iWe\\\n",
       "Jnl7SkrY606/5O1Rvw1xy+f2ALCH4+0iJ+1uKc3tSeKL43ilI56UqZgtBf+fZIwUOE9O8jX12xC3\\\n",
       "CDRgAceTLCf1Jin1JrdHgUW4xAEAliLQAGApAg0AliLQAGApAg0AliLQAGApAg0AliLQAGApAg0A\\\n",
       "lnLMj/CnsWdkZCg7O9vtMQBYZOPGjSotLXV7jJj6UQYaAOIBlzgAwFIEGgAsRaABwFIEGgAsRaAB\\\n",
       "wFIEGgAsRaABwFIEGgAsRaABwFIEGgAsRaABwFIEGgAsRaABwFIEGgAsRaABwFIEGgAsRaABwFIE\\\n",
       "GgAsRaABwFIEGgAsRaABwFIEGgAsRaABwFIEGgAsRaABwFIEGgAsRaABwFIEGgAsRaABwFIEGgAs\\\n",
       "RaABwFIEGgAsRaABwFIEGgAsRaABwFIEGgAsRaABwFIEGgAsRaABwFIEGgAsRaABwFIEGgAsRaAB\\\n",
       "wFL/HyBMKVKK4trjAAAAAElFTkSuQmCC\\\n",
       "\"\n",
       "\n",
       "\n",
       "    /* set a timeout to make sure all the above elements are created before\n",
       "       the object is initialized. */\n",
       "    setTimeout(function() {\n",
       "        anim28ea754d9e9e43aca3003659ea5174b2 = new Animation(frames, img_id, slider_id, 100.0,\n",
       "                                 loop_select_id);\n",
       "    }, 0);\n",
       "  })()\n",
       "</script>\n"
      ],
      "text/plain": [
       "<IPython.core.display.HTML object>"
      ]
     },
     "metadata": {},
     "output_type": "display_data"
    }
   ],
   "source": [
    "MC_pi_approx.show(anim_interval=100, interval=10)"
   ]
  },
  {
   "cell_type": "markdown",
   "metadata": {},
   "source": [
    "---"
   ]
  },
  {
   "cell_type": "markdown",
   "metadata": {},
   "source": [
    "## Markov Chain Monte Carlo (MCMC) <a class=\"anchor\" id=\"mcmc\"></a> \n",
    "[To ToC](#concepts_toc)\n",
    "- [Markov Chain Monte Carlo Method Wiki](https://en.wikipedia.org/wiki/Markov_chain_Monte_Carlo)\n",
    "- [Markov Chains an Monte Carlo Methods - An Introduction](https://github.com/christianb93/MachineLearning/blob/master/doc/MarkovChains/MarkovChainsIntroduction.pdf)\n",
    "- [Blog: Metropolis and Gibbs Sampling](http://people.duke.edu/~ccc14/sta-663-2016/16A_MCMC.html)"
   ]
  },
  {
   "cell_type": "code",
   "execution_count": 22,
   "metadata": {
    "scrolled": true
   },
   "outputs": [
    {
     "data": {
      "text/html": [
       "\n",
       "        <iframe\n",
       "            width=\"900\"\n",
       "            height=\"400\"\n",
       "            src=\"https://en.wikipedia.org/wiki/Markov_chain_Monte_Carlo\"\n",
       "            frameborder=\"0\"\n",
       "            allowfullscreen\n",
       "        ></iframe>\n",
       "        "
      ],
      "text/plain": [
       "<IPython.lib.display.IFrame at 0x11dc2f278>"
      ]
     },
     "execution_count": 22,
     "metadata": {},
     "output_type": "execute_result"
    }
   ],
   "source": [
    "IFrame(\"https://en.wikipedia.org/wiki/Markov_chain_Monte_Carlo\", width=PDF_W, height=PDF_H)"
   ]
  },
  {
   "cell_type": "code",
   "execution_count": 23,
   "metadata": {},
   "outputs": [
    {
     "data": {
      "text/html": [
       "\n",
       "        <iframe\n",
       "            width=\"900\"\n",
       "            height=\"400\"\n",
       "            src=\"http://people.duke.edu/~ccc14/sta-663-2016/16A_MCMC.html\"\n",
       "            frameborder=\"0\"\n",
       "            allowfullscreen\n",
       "        ></iframe>\n",
       "        "
      ],
      "text/plain": [
       "<IPython.lib.display.IFrame at 0x11dc2f3c8>"
      ]
     },
     "execution_count": 23,
     "metadata": {},
     "output_type": "execute_result"
    }
   ],
   "source": [
    "IFrame(\"http://people.duke.edu/~ccc14/sta-663-2016/16A_MCMC.html\", width=PDF_W, height=PDF_H)"
   ]
  },
  {
   "cell_type": "markdown",
   "metadata": {},
   "source": [
    "### Metropolis-Hastings <a class=\"anchor\" id=\"metropolis_hastings\"></a> \n",
    "- [Blog: Metropolis-Hastings](https://wiseodd.github.io/techblog/2015/10/17/metropolis-hastings/)\n",
    "- [Wiki](https://en.wikipedia.org/wiki/Metropolis%E2%80%93Hastings_algorithm)"
   ]
  },
  {
   "cell_type": "code",
   "execution_count": 136,
   "metadata": {},
   "outputs": [
    {
     "data": {
      "image/jpeg": "[encoded data removed]",
      "text/html": [
       "\n",
       "        <iframe\n",
       "            width=\"900\"\n",
       "            height=\"400\"\n",
       "            src=\"https://www.youtube.com/embed/h1NOS_wxgGg\"\n",
       "            frameborder=\"0\"\n",
       "            allowfullscreen\n",
       "        ></iframe>\n",
       "        "
      ],
      "text/plain": [
       "<IPython.lib.display.YouTubeVideo at 0x121d318d0>"
      ]
     },
     "metadata": {},
     "output_type": "display_data"
    }
   ],
   "source": [
    "mcmc_vid = YouTubeVideo(\"h1NOS_wxgGg\", width=PDF_W, height=PDF_H)\n",
    "display(mcmc_vid)"
   ]
  },
  {
   "cell_type": "code",
   "execution_count": 135,
   "metadata": {},
   "outputs": [
    {
     "data": {
      "image/jpeg": "[encoded data removed]",
      "text/html": [
       "\n",
       "        <iframe\n",
       "            width=\"900\"\n",
       "            height=\"400\"\n",
       "            src=\"https://www.youtube.com/embed/VGRVRjr0vyw\"\n",
       "            frameborder=\"0\"\n",
       "            allowfullscreen\n",
       "        ></iframe>\n",
       "        "
      ],
      "text/plain": [
       "<IPython.lib.display.YouTubeVideo at 0x121b2c2e8>"
      ]
     },
     "metadata": {},
     "output_type": "display_data"
    }
   ],
   "source": [
    "metropolis_hastings_vid = YouTubeVideo(\"VGRVRjr0vyw\", width=PDF_W, height=PDF_H)\n",
    "display(metropolis_hastings_vid)"
   ]
  },
  {
   "cell_type": "code",
   "execution_count": 26,
   "metadata": {},
   "outputs": [
    {
     "data": {
      "text/html": [
       "\n",
       "        <iframe\n",
       "            width=\"900\"\n",
       "            height=\"400\"\n",
       "            src=\"https://wiseodd.github.io/techblog/2015/10/17/metropolis-hastings/\"\n",
       "            frameborder=\"0\"\n",
       "            allowfullscreen\n",
       "        ></iframe>\n",
       "        "
      ],
      "text/plain": [
       "<IPython.lib.display.IFrame at 0x11bd6aa90>"
      ]
     },
     "execution_count": 26,
     "metadata": {},
     "output_type": "execute_result"
    }
   ],
   "source": [
    "IFrame(\"https://wiseodd.github.io/techblog/2015/10/17/metropolis-hastings/\", width=PDF_W, height=PDF_H)"
   ]
  },
  {
   "cell_type": "markdown",
   "metadata": {},
   "source": [
    "**Metropolis-Hastings** is an *MCMC sampling algorithm* used for sampling from high-dimensional, diffuclt (due to intractable integrals) to sample from distributions or functions.\n",
    "\n",
    "- *Markov Chain* is satisfied because you only need to consider the current sample to obtain the next sample.\n",
    "- *Monte Carlo* is satisifed because it generates random samples that can be used to compute integrals or numerical results; for example, in the probability distribution setting, the integrals we may want to compute are the expected value, mode, median, etc.\n",
    "\n",
    "**Algorithm Components**\n",
    "\\begin{align}\n",
    "x \\qquad &: \\quad \\text{current state/sample} \\\\\n",
    "x^\\prime \\qquad &: \\quad \\text{next state/sample} \\\\\n",
    "P(x) \\qquad &: \\quad \\text{target distribution; namely, the distribution we want to sample from} \\\\\n",
    "Q(x | x^\\prime) \\qquad &: \\quad \\text{Transition distribution; suggests the next candidate of the Markov Chain} \\\\\n",
    "\\alpha \\qquad &: \\quad \\text{acceptance probability} \\\\\n",
    "\\end{align}\n",
    "\n",
    "The *acceptance probability* is defined as:\n",
    "\n",
    "\\begin{equation} \\tag{$\\dagger$}\n",
    "\\alpha = \\min \\left(1, \\quad \\frac{P(x^\\prime)}{P(x)} \\cdot \\frac{Q(x^\\prime | x)}{Q(x | x^\\prime)}\\right)\n",
    "\\end{equation}\n",
    "\n",
    "**Special Case: Metropolis Algorithm**\n",
    "\n",
    "When $Q$ is symmetric\n",
    "$$ Q(x | x^\\prime) \\equiv Q(x^\\prime | x)$$\n",
    "\n",
    "then the ratio $\\frac{Q(x^\\prime | x)}{Q(x | x^\\prime)} = 1$, and Equation $\\dagger$ becomes\n",
    "\n",
    "\\begin{equation} \\tag{$\\ddagger$}\n",
    "\\alpha = \\min \\left(1, \\quad \\frac{P(x^\\prime)}{P(x)}\\right)\n",
    "\\end{equation}\n",
    "\n",
    "This is a special case of the Metropolis-Hastings algorithm, refered to as the Metropolos algorithm.\n",
    "\n",
    "**Algorithm**\n",
    ">1. Initialize $x^{(0)}$.\n",
    "2. For $i=0$ to $N - 1$\n",
    " + Sample $u \\sim \\mathit{U}[0, 1]$\n",
    " + Sample $x^* \\sim q(x^* | x^{(i)}$\n",
    " + If $u < \\mathrm{A}(x^{(i)}, x^*) = \\min \\left\\{ 1, \\quad \\frac{p(x^*)}{p(x^{(i)})} \\cdot \\frac{q(x^{(i)}|q^*)}{q(x^* | q(x^{(i)})} \\right\\}$\n",
    "    - $x^{(i + 1)} = x^*$\n",
    " + else\n",
    "    - $x^{(i + 1)} = x^{(i)}$\n",
    " \n",
    "\n",
    "Import notes from [blog](http://people.duke.edu/~ccc14/sta-663-2016/16A_MCMC.html):\n",
    "> After some number of iterations $k$, the samples $\\theta_{k+1}, \\theta_{k+2}, \\ldots $ will be samples from the posterior distributions. Here are initial concepts to help your intuition about why this is so:\n",
    "- We accept a proposed move to $\\theta_{k+1}$ whenever the density of the (unnormalized) target distribution at θk+1 is larger than the value of $\\theta_k$ - so $\\theta$ will more often be found in places where the target distribution is denser\n",
    "- If this was all we accepted, $\\theta$ would get stuck at a local mode of the target distribution, so we also accept occasional moves to lower density regions - it turns out that the correct probability of doing so is given by the ratio $\\rho$\n",
    "- **The acceptance criteria only looks at ratios of the target distribution, so the denominator cancels out and does not matter - that is why we only need samples from a distribution proportional to the posterior distribution**\n",
    "- So, $\\theta$ will be expected to bounce around in such a way that its spends its time in places proportional to the density of the posterior distribution - that is, $\\theta$ is a draw from the posterior distribution."
   ]
  },
  {
   "cell_type": "markdown",
   "metadata": {},
   "source": [
    "#### Code Example"
   ]
  },
  {
   "cell_type": "code",
   "execution_count": 27,
   "metadata": {},
   "outputs": [],
   "source": [
    "import numpy as np\n",
    "import scipy.stats as stats\n",
    "import seaborn as sns"
   ]
  },
  {
   "cell_type": "markdown",
   "metadata": {},
   "source": [
    "##### Distributions"
   ]
  },
  {
   "cell_type": "code",
   "execution_count": 28,
   "metadata": {},
   "outputs": [],
   "source": [
    "def circle_distribution(x):\n",
    "    return (x[0]-1)**2 + (x[1]-2)**2 - 3**2\n",
    "\n",
    "def gauss_distribution(x):\n",
    "    return stats.norm.pdf(x)\n",
    "\n",
    "def multi_gauss_distribution(x):\n",
    "    mu_values = np.array([5, 5])\n",
    "    cov_matrix = np.array([\n",
    "        [1, .9], \n",
    "        [.9, 1]]\n",
    "    )\n",
    "    \n",
    "    return stats.multivariate_normal.pdf([x], mean=mu_values, cov=cov_matrix)\n",
    "\n",
    "def proposal_distribution(x):\n",
    "    return x + np.random.normal(loc=0.0, scale=0.5, size=x.shape[0])"
   ]
  },
  {
   "cell_type": "code",
   "execution_count": 29,
   "metadata": {},
   "outputs": [],
   "source": [
    "def metropolis_hastings(p, x_init, n_iterations=1000, n_burn=5):\n",
    "    x = x_init\n",
    "    samples = np.zeros((n_iterations, x.shape[0]))\n",
    "\n",
    "    for i in range(n_iterations):\n",
    "        x_star = proposal_distribution(x)\n",
    "        alpha = np.min([1, p(x_star) / p(x)])\n",
    "        if np.random.rand() < alpha:\n",
    "            x = x_star\n",
    "        samples[i] = x\n",
    "    \n",
    "    samples = np.array(samples[n_burn:])\n",
    "        \n",
    "    return samples"
   ]
  },
  {
   "cell_type": "markdown",
   "metadata": {},
   "source": [
    "#### 1D"
   ]
  },
  {
   "cell_type": "code",
   "execution_count": 30,
   "metadata": {},
   "outputs": [],
   "source": [
    "x_init = np.array([0.5])\n",
    "N_samples = 5000\n",
    "samples_1d = metropolis_hastings(gauss_distribution, x_init, n_iterations=N_samples)"
   ]
  },
  {
   "cell_type": "code",
   "execution_count": 31,
   "metadata": {},
   "outputs": [],
   "source": [
    "x_gauss = np.arange(samples_1d.min(), samples_1d.max(), 0.01)\n",
    "y_gauss = stats.norm.pdf(x_gauss)"
   ]
  },
  {
   "cell_type": "code",
   "execution_count": 356,
   "metadata": {},
   "outputs": [
    {
     "data": {
      "text/plain": [
       "<matplotlib.legend.Legend at 0x1205d6b00>"
      ]
     },
     "execution_count": 356,
     "metadata": {},
     "output_type": "execute_result"
    },
    {
     "data": {
      "image/png": "[encoded data removed]",
      "text/plain": [
       "<Figure size 432x288 with 1 Axes>"
      ]
     },
     "metadata": {
      "needs_background": "light"
     },
     "output_type": "display_data"
    }
   ],
   "source": [
    "sns.distplot(samples_1d, label='Estimate')\n",
    "plt.plot(x_gauss, y_gauss, label='Ground Truth')\n",
    "plt.title(f\"N samples: {N_samples}\")\n",
    "plt.legend()"
   ]
  },
  {
   "cell_type": "markdown",
   "metadata": {},
   "source": [
    "##### 2D"
   ]
  },
  {
   "cell_type": "code",
   "execution_count": 357,
   "metadata": {},
   "outputs": [],
   "source": [
    "x_init = np.array([0., 0.])\n",
    "sample_points = [100, 10000]"
   ]
  },
  {
   "cell_type": "code",
   "execution_count": 358,
   "metadata": {},
   "outputs": [
    {
     "data": {
      "image/png": "[encoded data removed]",
      "text/plain": [
       "<Figure size 432x432 with 3 Axes>"
      ]
     },
     "metadata": {
      "needs_background": "light"
     },
     "output_type": "display_data"
    },
    {
     "data": {
      "image/png": "[encoded data removed]",
      "text/plain": [
       "<Figure size 432x432 with 3 Axes>"
      ]
     },
     "metadata": {
      "needs_background": "light"
     },
     "output_type": "display_data"
    }
   ],
   "source": [
    "for i in sample_points:\n",
    "    samples = metropolis_hastings(circle_distribution, x_init, n_iterations=i)\n",
    "    sns.jointplot(samples[:, 0], samples[:, 1], kind=\"kde\")\n",
    "    plt.title(f\"{i} samples\")"
   ]
  },
  {
   "cell_type": "code",
   "execution_count": 359,
   "metadata": {},
   "outputs": [
    {
     "data": {
      "image/png": "[encoded data removed]",
      "text/plain": [
       "<Figure size 432x432 with 3 Axes>"
      ]
     },
     "metadata": {
      "needs_background": "light"
     },
     "output_type": "display_data"
    },
    {
     "data": {
      "image/png": "[encoded data removed]",
      "text/plain": [
       "<Figure size 432x432 with 3 Axes>"
      ]
     },
     "metadata": {
      "needs_background": "light"
     },
     "output_type": "display_data"
    }
   ],
   "source": [
    "for i in sample_points:\n",
    "    samples = metropolis_hastings(multi_gauss_distribution, x_init, n_iterations=i)\n",
    "    sns.jointplot(samples[:, 0], samples[:, 1], kind=\"kde\")\n",
    "    plt.title(f\"{i} samples\")"
   ]
  },
  {
   "cell_type": "markdown",
   "metadata": {},
   "source": [
    "### Gibbs Sampling <a class=\"anchor\" id=\"gibbs_sampling\"></a> \n",
    "- [Gibbs Sampling Wiki](https://en.wikipedia.org/wiki/Gibbs_sampling)\n",
    "- [Blog: Metropolis and Gibbs Sampling](http://people.duke.edu/~ccc14/sta-663-2016/16A_MCMC.html)"
   ]
  },
  {
   "cell_type": "code",
   "execution_count": null,
   "metadata": {
    "scrolled": true
   },
   "outputs": [],
   "source": [
    "IFrame(\"https://en.wikipedia.org/wiki/Gibbs_sampling\", width=PDF_W, height=PDF_H)"
   ]
  },
  {
   "cell_type": "markdown",
   "metadata": {},
   "source": [
    "---"
   ]
  },
  {
   "cell_type": "markdown",
   "metadata": {},
   "source": [
    "## Markov Random Fields (MRF) <a class=\"anchor\" id=\"markov_random_field\"></a> \n",
    "[To ToC](#concepts_toc)\n",
    "- [Markov Random Field Wiki](https://en.wikipedia.org/wiki/Markov_random_field)"
   ]
  },
  {
   "cell_type": "code",
   "execution_count": null,
   "metadata": {
    "scrolled": true
   },
   "outputs": [],
   "source": [
    "IFrame(\"https://en.wikipedia.org/wiki/Markov_random_field\", width=PDF_W, height=PDF_H)"
   ]
  },
  {
   "cell_type": "markdown",
   "metadata": {},
   "source": [
    "---"
   ]
  },
  {
   "cell_type": "markdown",
   "metadata": {},
   "source": [
    "## Contrastive Divergence <a class=\"anchor\" id=\"contrastive_divergence\"></a> \n",
    "[To ToC](#concepts_toc)\n",
    "- [Notes on Contrastive Divergence](http://www.robots.ox.ac.uk/~ojw/files/NotesOnCD.pdf)\n",
    "- [Blog: Understanding Contrastive Divergence](https://datascience.stackexchange.com/questions/30186/understanding-contrastive-divergence)"
   ]
  },
  {
   "cell_type": "code",
   "execution_count": null,
   "metadata": {
    "scrolled": true
   },
   "outputs": [],
   "source": [
    "IFrame(\"http://www.robots.ox.ac.uk/~ojw/files/NotesOnCD.pdf#view=FitH\", width=PDF_W, height=PDF_H)"
   ]
  },
  {
   "cell_type": "markdown",
   "metadata": {},
   "source": [
    ">Gibbs sampling is an example for the more general **Markov chain Monte Carlo** methods to sample from distribution in a high-dimensional space.\n",
    "\n",
    ">To explain this, I will first have to introduce the term **state space**. Recall that a Boltzmann machine is built out of binary units, i.e. every unit can be in one of two states - say 0 and 1. The overall state of the network is then specified by the state for every unit, i.e. the states of the network can be described as points in the space $\\{0,1\\}^N$, where $N$ is the number of units in the network. This point is called the **state space**.\n",
    "\n",
    ">Now, on that state space, we can define a **probability distribution**. The details are not so important, but what you essentially do is that you define energy for every state and turn that into a probability distribution using a **Boltzmann distribution**. Thus there will be states that are likely and other states that are less likely.\n",
    "\n",
    ">A Gibbs sampler is now a procedure to produce a sample, i.e. a sequence $X_n$ of states such that, roughly speaking, the distribution of these states across the state space reflects the probability distribution. Thus you want most of the $X_n$ to be in regions of the state space with high probability (and low energy), and few of them to be in regions with low probability (and high energy).\n",
    "\n",
    ">To do this, a naive Gibbs sampling approach would proceed as follows. You start with some state $X_0$. To find the state $X_1$, you would pick some unit and calculate the conditional probability for that unit to be in state 1 (\"on\") **conditional on the current value of all other units**. Call this number $p$. You would then set the unit to 1 with probability $p$ and pick the next unit to repeat this to get from $X_1$ to $X_2$ and so forth.\n",
    "\n",
    ">In the special case of a restricted Boltzmann machine, this can be greatly simplified. Instead of going through, say, first all hidden units and then all visible units and update them like this one by one, you can, in fact, update all hidden units in one step and all visible units in one step, because any two hidden units and any two visible units are independent. Thus, for a full cycle through all units of the state space, you would:\n",
    "\n",
    ">- calculate the probability for all hidden units to be 1, given the value of the visible units\n",
    "- set the hidden units to 1 with this probability\n",
    "- calculate the probability for the visible units to be 1, again conditional on the value of the hidden units, and\n",
    "- set the visible units to 1 with this probability\n",
    "\n",
    ">This constitutes one full Gibbs sampling step and is your step 1 + the first part of 3 (the second part is then needed for the further calculation and not part of the sampling). The reason why we do this in the CD algorithm is that we actually want to approximate an expectation value and use a sampler for this.\n",
    "\n",
    ">This is a complex topic and hard to summarize in a few sentences. If you want to learn more about the mathematics behind this (Markov chains) and on the application to RBMs (contrastive divergence and persistent contrastive divergence), you might find [this](https://github.com/christianb93/MachineLearning/blob/master/doc/MarkovChains/MarkovChainsIntroduction.pdf) and [this](https://github.com/christianb93/MachineLearning/blob/master/doc/BoltzmannMachine/BoltzmannMachinesAndHopfieldNetworks.pdf) document helpful - these are some notes that I put together while learning about this.\n",
    "\n",
    "- [Source](https://datascience.stackexchange.com/questions/30186/understanding-contrastive-divergence)"
   ]
  },
  {
   "cell_type": "markdown",
   "metadata": {},
   "source": [
    "---"
   ]
  },
  {
   "cell_type": "markdown",
   "metadata": {},
   "source": [
    "## Partition Function <a class=\"anchor\" id=\"partition_function\"></a> \n",
    "[To ToC](#concepts_toc)\n",
    "- [Nice Blog on Partition Function](https://calculatedcontent.com/2013/11/14/foundations-the-parition-function/)"
   ]
  },
  {
   "cell_type": "code",
   "execution_count": null,
   "metadata": {},
   "outputs": [],
   "source": [
    "IFrame(\"https://calculatedcontent.com/2013/11/14/foundations-the-parition-function/\", width=PDF_W, height=PDF_H)"
   ]
  },
  {
   "cell_type": "markdown",
   "metadata": {},
   "source": [
    "Consider the energy function for an RBM,\n",
    "\n",
    "$$ E(h, v) = v^Ta + h^Tb + v^TWh $$\n",
    "\n",
    "The *partition function* is given by\n",
    "\n",
    "$$ Z(\\beta) = \\sum_i \\exp(-\\beta E_i) $$\n",
    "\n",
    "where $\\beta$ is the *temperature* of the system. In deep learning applications, $\\beta = \\frac{1}{T} = 1, \\quad T \\neq 0$.\n",
    "\n",
    "The partition function can be thought of as the **normalization** of the Boltmann probability distribution.\n",
    "\n",
    "The partition function is also a generating function for thermodynamic variables, such as\n",
    "1. The **average internal energy** $(U)$ of the system:\n",
    " $$ U = < E > = \\frac{\\partial}{\\partial \\beta} Z(\\beta)$$\n",
    "2. The **Helmholtz Free Energy**, $A$:\n",
    " $$ A = U - TS = -\\frac{1}{\\beta}\\log Z(\\beta)$$\n",
    " \n",
    " where $S$ is the entropy.\n",
    " \n",
    "**N.B.** If we minimize the free energy, the resulting probabilities follow the Boltzmann / Gibbs distribution:\n",
    "> **Boltzmann / Gibbs distribution**: probability that a system will be in a certain state as a function of that state's energy and the temperature of the system. The distribution is expressed in the form:\n",
    "$$ p_i \\propto e^{-\\frac{\\epsilon_i}{kT}} $$ <br>\n",
    "where p_i is the probability of the sytem being in state $i$, $\\epsilon_i$ is the energy of that state, and a constant $kT$ of the distribution is the product of Boltzmann's constant $k$ and thermodynamic temperature T.\n",
    "\n",
    "Free Energy methods, operating at (T>0), effectively sample all the low lying local minima simultaneously."
   ]
  },
  {
   "cell_type": "markdown",
   "metadata": {},
   "source": [
    "---"
   ]
  },
  {
   "cell_type": "markdown",
   "metadata": {},
   "source": [
    "## Sigma-Algebra <a class=\"anchor\" id=\"sigma_algebra\"></a> \n",
    "[To ToC](#concepts_toc)\n",
    "- [Sigma-algebra Wiki](https://en.wikipedia.org/wiki/Sigma-algebra)"
   ]
  },
  {
   "cell_type": "code",
   "execution_count": null,
   "metadata": {
    "scrolled": true
   },
   "outputs": [],
   "source": [
    "IFrame(\"https://en.wikipedia.org/wiki/Sigma-algebra\", width=PDF_W, height=PDF_H)"
   ]
  },
  {
   "cell_type": "markdown",
   "metadata": {},
   "source": [
    "**Definition**\n",
    "> A **$\\sigma$-algebra** on a set $X$ is a collection $\\Sigma$ of subsets of $X$ that \n",
    "1. includes $X$ itself,\n",
    "2. is [closed](https://en.wikipedia.org/wiki/Closure_(mathematics)) under [complement](https://en.wikipedia.org/wiki/Complement_(set_theory))  $\\quad A^c = \\{x \\in U | x \\notin A \\}$, and\n",
    "3. is closed under countable [unions](https://en.wikipedia.org/wiki/Union_(set_theory)) $\\quad A \\cup B = \\{x : x \\in A \\text{ or } x \\in B \\} $ <br>\n",
    "implying that\n",
    " + $\\emptyset \\in \\Sigma$\n",
    " + closed under countable [intersections](https://en.wikipedia.org/wiki/Intersection_(set_theory)) $\\quad A \\cap B = \\{x : x \\in A \\text{ and } x \\in B \\} $\n",
    " \n",
    "E.g.,\n",
    "If $ X = \\{a, b, c, d\\}$, one possible $\\sigma$-algebra on $X$ is $\\Sigma = \\{ \\emptyset, \\{a, b\\}, \\{c, d\\}, \\{a, b, c, d\\} \\}$.\n",
    "\n",
    "**T.D.**\n",
    "In probability, σ-algebras are pivotal in the definition of [conditional expectation](https://en.wikipedia.org/wiki/Conditional_expectation):\n",
    "\n",
    "$$ E(X | H) = \\frac{\\sum_{\\omega \\in H} X(\\omega)}{|H|}$$"
   ]
  },
  {
   "cell_type": "markdown",
   "metadata": {},
   "source": [
    "---"
   ]
  },
  {
   "cell_type": "markdown",
   "metadata": {},
   "source": [
    "## Boltzmann Distribution <a class=\"anchor\" id=\"boltzmann_distribution\"></a> \n",
    "[To ToC](#concepts_toc)\n",
    "- [Boltzmann Distribution Wiki](https://en.wikipedia.org/wiki/Boltzmann_distribution)"
   ]
  },
  {
   "cell_type": "code",
   "execution_count": null,
   "metadata": {
    "scrolled": true
   },
   "outputs": [],
   "source": [
    "IFrame(\"https://en.wikipedia.org/wiki/Boltzmann_distribution\", width=PDF_W, height=PDF_H)"
   ]
  },
  {
   "cell_type": "markdown",
   "metadata": {},
   "source": [
    "---"
   ]
  },
  {
   "cell_type": "markdown",
   "metadata": {},
   "source": [
    "## Variational Inference <a class=\"anchor\" id=\"variational_inference\"></a> \n",
    "[To ToC](#concepts_toc)\n",
    "- [Variational Bayesian Methods Wiki](https://en.wikipedia.org/wiki/Variational_Bayesian_methods)\n",
    "- [Variational Inference: A Review for Statisticians](https://arxiv.org/abs/1601.00670)"
   ]
  },
  {
   "cell_type": "code",
   "execution_count": null,
   "metadata": {
    "scrolled": true
   },
   "outputs": [],
   "source": [
    "IFrame(\"https://arxiv.org/pdf/1601.00670.pdf\", width=PDF_W, height=PDF_H)"
   ]
  },
  {
   "cell_type": "markdown",
   "metadata": {},
   "source": [
    "---"
   ]
  },
  {
   "cell_type": "markdown",
   "metadata": {},
   "source": [
    "---"
   ]
  },
  {
   "cell_type": "markdown",
   "metadata": {},
   "source": [
    "---"
   ]
  },
  {
   "cell_type": "markdown",
   "metadata": {},
   "source": [
    "---"
   ]
  },
  {
   "cell_type": "markdown",
   "metadata": {},
   "source": [
    "# Sort Out"
   ]
  },
  {
   "cell_type": "markdown",
   "metadata": {},
   "source": [
    "---"
   ]
  },
  {
   "cell_type": "markdown",
   "metadata": {},
   "source": [
    "## Continuous Attractors of Discrete-Time Recurrent Neural Networks\n",
    "- Yu, Jiali, et al. (2012)\n",
    "- https://sci-hub.tw/10.1007/s00521-012-0975-5"
   ]
  },
  {
   "cell_type": "markdown",
   "metadata": {},
   "source": [
    "### Key Points\n",
    "- RNNs can possess more than one and even infinite stable equilibrium points.\n",
    " - These points may be isolated (discrete) or connected (continuous)\n",
    " - Continuous attractors have been used to describe the encoding of continuous stimuli such as eye position, head direction, moving direction, path integrator, cognitive map, and population decoding.\n",
    "- In these networks, RNNs may have a finite number of neurons or infinite number of neurons.\n",
    " - These two categories of RNN differ in their dynamics, from a mathematical point of view.\n",
    " \n",
    "- This paper focuses on continuous attractors with finite number of neurons. "
   ]
  },
  {
   "cell_type": "markdown",
   "metadata": {},
   "source": [
    "---"
   ]
  },
  {
   "cell_type": "markdown",
   "metadata": {},
   "source": [
    "## Memory Dynamics in Attractor Networks\n",
    "- Li, Quoqi, et al. (2015)\n",
    "- https://pdfs.semanticscholar.org/840c/a6d4434de3dac8cf13dff6d4bcbbc2164922.pdf"
   ]
  },
  {
   "cell_type": "markdown",
   "metadata": {},
   "source": [
    "### Key Points\n",
    "- Propose a new energy function that is nonnegative and attains zero values only at the desired memory patterns.\n",
    "- Following from the contrived energy function, an attractor network is derived. This approach avoids the existence of spurious points (local maxima, saddle points, or other local minima which are undesired memory patters)."
   ]
  },
  {
   "cell_type": "markdown",
   "metadata": {},
   "source": [
    "---"
   ]
  },
  {
   "cell_type": "markdown",
   "metadata": {},
   "source": [
    "## Bridging the Gaps Between Residual Learning, Recurrent Neural Networks and Visual Cortex (Liao, 2016)\n",
    "- Liao, Q., Poggio, T. (2016)\n",
    "- https://arxiv.org/pdf/1604.03640.pdf"
   ]
  },
  {
   "cell_type": "markdown",
   "metadata": {},
   "source": [
    "---"
   ]
  },
  {
   "cell_type": "markdown",
   "metadata": {},
   "source": [
    "---"
   ]
  },
  {
   "cell_type": "markdown",
   "metadata": {},
   "source": [
    "---"
   ]
  },
  {
   "cell_type": "markdown",
   "metadata": {},
   "source": [
    "# Useful Things"
   ]
  },
  {
   "cell_type": "markdown",
   "metadata": {},
   "source": [
    "## Jupyter Notebook\n",
    "1. [28 Jupyter Notebook tips, tricks, and shortcuts](https://www.dataquest.io/blog/jupyter-notebook-tips-tricks-shortcuts/)\n",
    "2. [Jupyter Config File](https://jupyter-notebook.readthedocs.io/en/latest/config.html)\n",
    "3. [Version Control](https://www.svds.com/jupyter-notebook-best-practices-for-data-science/)\n",
    "4. [Notebook Server](https://jupyter-notebook.readthedocs.io/en/latest/public_server.html)"
   ]
  },
  {
   "cell_type": "markdown",
   "metadata": {},
   "source": [
    "## PyTorch\n",
    "1. [Weight Initialization](https://discuss.pytorch.org/t/whats-the-default-initialization-methods-for-layers/3157/10)"
   ]
  },
  {
   "cell_type": "markdown",
   "metadata": {},
   "source": [
    "## General Deep Learning\n",
    "1. [DL Best Practices - Weight Initialization](https://medium.com/usf-msds/deep-learning-best-practices-1-weight-initialization-14e5c0295b94)"
   ]
  },
  {
   "cell_type": "markdown",
   "metadata": {},
   "source": [
    "## Python\n",
    "1. [Raymond Hettinger - Super considered super! - PyCon 2015](https://www.youtube.com/watch?v=EiOglTERPEo)"
   ]
  }
 ],
 "metadata": {
  "kernelspec": {
   "display_name": "Python 3",
   "language": "python",
   "name": "python3"
  },
  "language_info": {
   "codemirror_mode": {
    "name": "ipython",
    "version": 3
   },
   "file_extension": ".py",
   "mimetype": "text/x-python",
   "name": "python",
   "nbconvert_exporter": "python",
   "pygments_lexer": "ipython3",
   "version": "3.7.2"
  },
  "toc": {
   "base_numbering": "1.",
   "nav_menu": {},
   "number_sections": true,
   "sideBar": true,
   "skip_h1_title": false,
   "title_cell": "Table of Contents",
   "title_sidebar": "Contents",
   "toc_cell": false,
   "toc_position": {
    "height": "calc(100% - 180px)",
    "left": "10px",
    "top": "150px",
    "width": "336px"
   },
   "toc_section_display": true,
   "toc_window_display": true
  },
  "varInspector": {
   "cols": {
    "lenName": 16,
    "lenType": 16,
    "lenVar": 40
   },
   "kernels_config": {
    "python": {
     "delete_cmd_postfix": "",
     "delete_cmd_prefix": "del ",
     "library": "var_list.py",
     "varRefreshCmd": "print(var_dic_list())"
    },
    "r": {
     "delete_cmd_postfix": ") ",
     "delete_cmd_prefix": "rm(",
     "library": "var_list.r",
     "varRefreshCmd": "cat(var_dic_list()) "
    }
   },
   "types_to_exclude": [
    "module",
    "function",
    "builtin_function_or_method",
    "instance",
    "_Feature"
   ],
   "window_display": false
  }
 },
 "nbformat": 4,
 "nbformat_minor": 2
}
