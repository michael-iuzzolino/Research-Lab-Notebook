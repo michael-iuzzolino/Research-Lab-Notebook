{
 "cells": [
  {
   "cell_type": "code",
   "execution_count": 35,
   "metadata": {},
   "outputs": [],
   "source": [
    "import os\n",
    "import sys\n",
    "import glob\n",
    "import numpy as np\n",
    "import matplotlib.pyplot as plt\n",
    "from IPython.display import IFrame, YouTubeVideo\n",
    "\n",
    "# Enables print for any variable / statement on its own line\n",
    "from IPython.core.interactiveshell import InteractiveShell\n",
    "InteractiveShell.ast_node_interactivity = \"all\""
   ]
  },
  {
   "cell_type": "code",
   "execution_count": 36,
   "metadata": {},
   "outputs": [],
   "source": [
    "PDF_H, PDF_W = 400, 900"
   ]
  },
  {
   "cell_type": "markdown",
   "metadata": {},
   "source": [
    "**Custom CSS**"
   ]
  },
  {
   "cell_type": "code",
   "execution_count": 37,
   "metadata": {},
   "outputs": [],
   "source": [
    "#!cat /Users/mliuzzolino/.jupyter/custom/custom.css"
   ]
  },
  {
   "cell_type": "markdown",
   "metadata": {},
   "source": [
    "---"
   ]
  },
  {
   "cell_type": "markdown",
   "metadata": {},
   "source": [
    "# Papers"
   ]
  },
  {
   "cell_type": "markdown",
   "metadata": {},
   "source": [
    "## Lyapunov Functions"
   ]
  },
  {
   "cell_type": "code",
   "execution_count": 38,
   "metadata": {},
   "outputs": [
    {
     "data": {
      "text/html": [
       "\n",
       "        <iframe\n",
       "            width=\"900\"\n",
       "            height=\"400\"\n",
       "            src=\"https://vanscoy.github.io/docs/papers/taylor2018lyapunov.pdf#view=FitH\"\n",
       "            frameborder=\"0\"\n",
       "            allowfullscreen\n",
       "        ></iframe>\n",
       "        "
      ],
      "text/plain": [
       "<IPython.lib.display.IFrame at 0x11de397b8>"
      ]
     },
     "execution_count": 38,
     "metadata": {},
     "output_type": "execute_result"
    }
   ],
   "source": [
    "IFrame(\"https://vanscoy.github.io/docs/papers/taylor2018lyapunov.pdf#view=FitH\", width=PDF_W, height=PDF_H)"
   ]
  },
  {
   "cell_type": "markdown",
   "metadata": {},
   "source": [
    "### Formulation\n",
    "#### Minimization Problem, $\\mathcal{P}$\n",
    "Consider a minimization problem:\n",
    "\n",
    "\\begin{equation} \\tag{$\\mathcal{P}$}\n",
    "   \\text{minimize}_{x \\in \\mathbb{R}^d} \\quad f(x),       \n",
    "\\end{equation}\n",
    "where $f : \\mathbb{R}^d \\rightarrow \\mathbb{R}$.\n",
    "\n",
    "#### Iterative Methods, $\\mathcal{M}$\n",
    "To solve $\\mathcal{P}$, consider methods that iteratively update their estimate of the optimizer using only gradient evaluations. One method for proving convergence of such methods is by finding a *Lyapunov function*.\n",
    "\n",
    "For example, to solve the optimization problem ($\\mathcal{P}$), consider a *first-order iterative fixed-step method* of the form:\n",
    "\n",
    "\\begin{align*} \\tag{$\\mathcal{M}$}\n",
    "y_k &= \\sum_{j=0}^N \\gamma_j x_{k-j} \\\\\n",
    "x_{k+1} &= \\sum_{j=0}^N \\beta_j x_{k-j} - \\alpha \\nabla f(y_k)\n",
    "\\end{align*}\n",
    "\n",
    "for $k \\ge 0$ where $\\alpha, \\beta_j, \\gamma_j$ are the (Fixed) step-sizes and $x_j \\in \\mathbb{R}^d$ for $j = -N, \\ldots, 0$ are the initial conditions. We call the constant $N \\ge 0$ the *degree* of the method.\n",
    "\n",
    "### Lyapunov Functions\n",
    "*Lyapunov functions* are one of the fundamental tools in control theory that can be used to *verify stability of a dynamical system*. \n",
    "\n",
    "A Lyapunov function can be interpreted as defining an \"energy\" that decreases *geometrically* with each iteration of the method, with an energy of zero corresponding to reaching the optimal solution of $\\mathcal{P}$. The existence of such an energy function provides a straightforward certificate of linear convergence for the iterative method.\n",
    "\n",
    "Consider applying method ($\\mathcal{M}$) to solve problem ($\\mathcal{P}$). Our goal is to find the smallest possible $0 \\le \\rho < 1$ such that $\\{x_k \\}$ converges linearly to the optimizer $x_*$ with rate $\\rho$. A *Lyapunov function* $\\mathcal{V}$ is a continuous function $\\mathcal{V}: \\mathbb{R}^n \\rightarrow \\mathbb{R}$ that satisfies the following properties:\n",
    "\n",
    "1. (nonnegative) $\\mathcal{V}(\\xi) \\ge 0$ for all $\\xi$,\n",
    "2. (zero at fixed-point) $\\mathcal{V}(\\xi) = 0$ iff $\\xi = \\xi_*$,\n",
    "3. (radially unbounded) $\\mathcal{V}(\\xi) \\rightarrow \\infty$ as $||\\xi|| \\rightarrow \\infty$,\n",
    "4. (decreasing) $\\mathcal{V}(\\xi_{k+1}) \\le \\rho^2 \\mathcal{V}(\\xi_{k})$ for $k \\le N$,\n",
    "\n",
    "where $\\xi_k := (\\mathbf{x}_k, \\mathbf{g}_k, \\mathbf{f}_k)$ for the *state* of the system at iteration $k$. \n",
    "\n",
    "If we can find such a $\\mathcal{V}$, then it can be used to show that the state converges linearly to the fixed-point from any initial condition, where the rate of convergence depends on both $\\rho$ and the structure of $\\mathcal{V}$."
   ]
  },
  {
   "cell_type": "markdown",
   "metadata": {},
   "source": [
    "---"
   ]
  },
  {
   "cell_type": "markdown",
   "metadata": {},
   "source": [
    "---"
   ]
  },
  {
   "cell_type": "markdown",
   "metadata": {},
   "source": [
    "---"
   ]
  },
  {
   "cell_type": "markdown",
   "metadata": {},
   "source": [
    "## Attractor Networks"
   ]
  },
  {
   "cell_type": "markdown",
   "metadata": {},
   "source": [
    "### Attractor Networks (Mozer, 2009)\n",
    "- Mozer, Michael C. (2009) \n",
    "- http://www.cs.colorado.edu/~mozer/Research/Selected%20Publications/reprints/Mozer2008.pdf"
   ]
  },
  {
   "cell_type": "code",
   "execution_count": 39,
   "metadata": {},
   "outputs": [
    {
     "data": {
      "text/html": [
       "\n",
       "        <iframe\n",
       "            width=\"900\"\n",
       "            height=\"400\"\n",
       "            src=\"http://www.cs.colorado.edu/~mozer/Research/Selected%20Publications/reprints/Mozer2008.pdf#view=FitH\"\n",
       "            frameborder=\"0\"\n",
       "            allowfullscreen\n",
       "        ></iframe>\n",
       "        "
      ],
      "text/plain": [
       "<IPython.lib.display.IFrame at 0x11df1a518>"
      ]
     },
     "execution_count": 39,
     "metadata": {},
     "output_type": "execute_result"
    }
   ],
   "source": [
    "IFrame(\"http://www.cs.colorado.edu/~mozer/Research/Selected%20Publications/reprints/Mozer2008.pdf#view=FitH\", width=PDF_W, height=PDF_H)"
   ]
  },
  {
   "cell_type": "markdown",
   "metadata": {},
   "source": [
    "#### Key Points\n",
    "- An attractor network is a recurrent ANN whose dynamics cause the network state to converge to a fixed point.\n",
    " - I.e., given an input, the dynamics of the network will cause the state to evolve over time to a stable value, away from which the state will not wander.\n",
    " - The states to which the net might evolve are called _attractors_\n",
    "- Attractor dynamics are achieved by many neural network architectures\n",
    " - Hopfield networks \n",
    "   - http://140.116.215.51/course/2012/hopfield.pdf\n",
    "   - http://www.rctn.org/bruno/public/papers/hopfield84.pdf\n",
    " - Harmony networks\n",
    " - Boltzmann Machines\n",
    "   - https://www.cs.toronto.edu/~hinton/absps/cogscibm.pdf\n",
    " - Adaptive resonance networks\n",
    " - Recurrent back prop networks\n",
    "   - A learning rule for asynchronous perceptrons with feedback in a combinatorial environment. Almeida, L.B. (1987)\n",
    "   - Generalization of backpropagation to recurrent and higher order neural networks. Pineda, F.J. (1987)\n",
    "   - https://papers.nips.cc/paper/67-generalization-of-back-propagation-to-recurrent-and-higher-order-neural-networks.pdf\n",
    "\n",
    " \n",
    "- To ensure attractor dynamics, the architecutre **requires** symmetry of connectivity\n",
    " - Symmetry: the conncetion weight from processing unit _A_ to unit _B_ must be the same as the weight from _B_ to _A_.\n",
    " - Given this restriction, the dynamics of the network can be characterized as performing local optimization--minimizing *energy*, or equivalently, maximizing *harmony*.\n",
    " \n",
    "- The **input** to an attractor net can either specify the initial state of the net, or it can provide *biases*--fixed input--to each unit.\n",
    " - **Biases** reshape the landscape such that the best-matching attractor has maximum harmony, and is likely to be found for a wide range of initial network states.\n",
    " \n",
    "- Knowledge of attractor states is distributed over the connectivity pattern of the entire network - as a result, spurious (undesired) and ill-conditioned (e.g., very narrow) attractor basins may exist.\n",
    " - Solution: Localist Attractor Networks (see Zemel & Mozer, 2001)\n",
    " - LANs consist of a set of *state units* and a set of *attractor units* (one per unit). Each attractor unit draws the state toward its attractor, with the attractors closer to the state having a greater influence. "
   ]
  },
  {
   "cell_type": "markdown",
   "metadata": {},
   "source": [
    "---"
   ]
  },
  {
   "cell_type": "markdown",
   "metadata": {},
   "source": [
    "### Localist Attractor Networks (Zemel, Mozer, 2001) \n",
    "- Zemel, Richard S., Mozer, Michael C. (2001)\n",
    "- http://www.cs.utoronto.ca/pub/zemel/Papers/lanNC.pdf"
   ]
  },
  {
   "cell_type": "code",
   "execution_count": 40,
   "metadata": {},
   "outputs": [
    {
     "data": {
      "text/html": [
       "\n",
       "        <iframe\n",
       "            width=\"900\"\n",
       "            height=\"400\"\n",
       "            src=\"http://www.cs.utoronto.ca/pub/zemel/Papers/lanNC.pdf#view=FitH\"\n",
       "            frameborder=\"0\"\n",
       "            allowfullscreen\n",
       "        ></iframe>\n",
       "        "
      ],
      "text/plain": [
       "<IPython.lib.display.IFrame at 0x11df1a2b0>"
      ]
     },
     "execution_count": 40,
     "metadata": {},
     "output_type": "execute_result"
    }
   ],
   "source": [
    "IFrame(\"http://www.cs.utoronto.ca/pub/zemel/Papers/lanNC.pdf#view=FitH\", width=PDF_W, height=PDF_H)"
   ]
  },
  {
   "cell_type": "markdown",
   "metadata": {},
   "source": [
    "#### Key Points\n",
    "- Attractor networks map an input space (usually continuous) to a sparse output space.\n",
    "- Initial state of the attractor net is determined by the input pattern\n",
    " - Over time the state is drawn to one of a predefined set of states (the attractors)\n",
    "- Often used for **pattern completion**\n",
    "- Pattern completion can be accomplished with other methods -- e.g., nearest-neighbor classification\n",
    " - Attractor networks have benefits over other approaches:\n",
    "   1. Attractors can be characterized by compositional structure - this structure can be encoded implicitly in the attractor network.\n",
    "   2. Attractor networks have some degree of biological plausibility\n",
    "   3. In most formulations, the dynamics can be characterized by gradient descent in an energy landscale, allowing one to partition the output space into attractor basins. In many domains, the energy landscape and the corresponding structure of the attractor basins are key to obtaining desirable behavior. E.g., basins can be sculpted based on the recent history of the network (**priming**) and the arrangement of attractors in the space (**gang effects**).\n",
    "- **Priming** - a network is faster to land at an attractor if it has recently visited the same attractor. Achieved by broadening and deepening attractor basins *as they are visited*. This mechanism allows modelers to account for a ubiquitous property of human behavior: people are faster to perceive a stimulus if they have recently experienced the same or a closely related stimulus.\n",
    "- **Gang Effects** - the strength or pull of an attractor is influenced by other attractors in its neighborhood. \n",
    "\n",
    "- Training attractor networks is notoriously tricky. Why?\n",
    " - Training procedures are **CPU intensive**\n",
    " - **Spurious attractors** form\n",
    " - **Ill-conditioned attractor basins**\n",
    "\n",
    "- No known training procdure exists that can robustly translate an arbitrary specification of an attractor landscape into a set of weights.\n",
    " - Due to the fact that each connection participates in the specification of multiple attractors; **thus, knowledge in the net is distributed over connections**. \n",
    " \n",
    "#### Localized Attractor Network\n",
    "**Benefits**\n",
    "1. Trivial procedure for devising architecture given an attractor landscape\n",
    "2. Spurious attractors are eliminated\n",
    "3. An attractor can be primed by adjusted a single parameter of the model\n",
    "4. Achieved gang effects\n",
    "5. Model parameters have a clear mathematical interpretation, which clarifies how the parameters control the qualitative behavior of the model (e.g., the magnitude of gang effects)\n",
    "6. Proofs of convergence and stability\n",
    "\n",
    "**Structure**\n",
    "- Consists of a set of _n_ state units and _m_ attractor units.\n",
    "- Parameters associated with an attractor unit _i_ encode the center in state-space of its attractor basin, denoted $w_i$, and its strength, denoted $\\pi _i$.\n",
    "- The activity of an attractor at time $t$, $q_i(t)$, reflects the normalized distance from its center to the current state, $y(t)$, weighted by its strength:\n",
    "\n",
    "$$ q_i(t) = \\frac{\\pi_i g(y(t), w_i, \\sigma(t))}{\\sum_j \\pi_j g(y(t), w_j, \\sigma(t))}$$\n",
    "\n",
    "$$ g(y, w, \\sigma) = exp(-|y - w|^2 / 2\\sigma^2) $$\n",
    "\n",
    ". . . \n",
    "\n"
   ]
  },
  {
   "cell_type": "markdown",
   "metadata": {},
   "source": [
    "---"
   ]
  },
  {
   "cell_type": "markdown",
   "metadata": {},
   "source": [
    "### Dynamics of Discrete Time, Continuous State Hopfield Networks (Koiran, 1994)\n",
    "- Koiran, Pascal (1994)\n",
    "- https://sci-hub.tw/10.1162/neco.1994.6.3.459"
   ]
  },
  {
   "cell_type": "code",
   "execution_count": 41,
   "metadata": {},
   "outputs": [
    {
     "data": {
      "text/html": [
       "\n",
       "        <iframe\n",
       "            width=\"900\"\n",
       "            height=\"400\"\n",
       "            src=\"https://dabamirror.sci-hub.tw/4428/cffc2674381d0fdb7b2fbecdd57498f5/koiran1994.pdf#view=FitH\"\n",
       "            frameborder=\"0\"\n",
       "            allowfullscreen\n",
       "        ></iframe>\n",
       "        "
      ],
      "text/plain": [
       "<IPython.lib.display.IFrame at 0x11df21898>"
      ]
     },
     "execution_count": 41,
     "metadata": {},
     "output_type": "execute_result"
    }
   ],
   "source": [
    "IFrame(\"https://dabamirror.sci-hub.tw/4428/cffc2674381d0fdb7b2fbecdd57498f5/koiran1994.pdf#view=FitH\", width=PDF_W, height=PDF_H)"
   ]
  },
  {
   "cell_type": "markdown",
   "metadata": {},
   "source": [
    "#### Key Points\n",
    "**1**. Any trajectory converges to a fixed point for the *sequential iteration mode*\n",
    "\n",
    "**2**. Any trajectory converges to a cycle of length 2 or a fixed point for the *parallel* iteration mode.\n",
    "\n",
    "More specifically,\n",
    "- Discrete time, discrete state Hopfield network dynamics are driven by an energy function. This allows the length of a limit cycle to be bounded: the parallel iteration has cycles of length 1 or 2 only, and the sequential iteration has only fixed points. These results describe completely the asymptotic behavior of the network, since any trajectory enters a limit cycle after a transient period.\n",
    "\n",
    "- Discrete time, continuous state Hopfield networks are also driven by an energy function. However, a trajectory will generally **not** enter a cycle, so that the discrete-case case argument does not apply and the question of the convergence to a cycle arises.\n",
    "\n",
    "The key contribution of this paper is that is provides mathematical proofs for the statements above."
   ]
  },
  {
   "cell_type": "markdown",
   "metadata": {},
   "source": [
    "#### Section 2 Math: Preliminaries\n",
    "\n",
    "**State Update**\n",
    "Consider a network of $n$ interconnected neurons, whose states $x_1, \\ldots, x_n$ belong to $[-1, 1]$. The transition function of neuron $i$ is $x_i \\mapsto f(A_i)$, where $A_i$ is the activation of neuron $i$, defined by:\n",
    "\n",
    "$$ A_i (x) = \\sum_{j=1}^n w_{ij}x_j - b_i$$\n",
    "\n",
    "where $b_i$ is the threshold of neuron $i$, and $w_{ij}$ is the weight of the connection between neurons $i and j$. Note, $b = (b_i)_{i \\le i \\le n}$ is the vector of thresholds. \n",
    "\n",
    "**N.B.** The matrix of weights $W = (w_{ij})$ is assumed to be **symmetric**, with a *nonnegative diagonal*. \n",
    "\n",
    "**Activation Function**, $f$\n",
    "$f$ is continuous, strictly increasing on an interval $[\\alpha, \\beta] \\quad (\\alpha < \\beta \\text{ and, possibly, } \\alpha = -\\infty \\text{ or } \\beta = +\\infty)$, and constant outside\n",
    "\\begin{align*}\n",
    "\\forall x \\le \\alpha, f(x) &= -1 \\\\\n",
    "\\forall x \\ge \\beta, f(x) &= +1 \\\\\n",
    "\\end{align*}\n",
    "If $a = -\\infty$ or $\\beta = +\\infty$, we ask that $\\lim_{x\\rightarrow \\pm \\infty} f(x) = \\pm 1$.\n",
    "\n",
    "$f$ may be piecewise $C^1$. In short, \n",
    "> A continuously differentiably function $f(x)$ is a function whose derivative function $f^\\prime(x)$ is also continuous at the point in question.\n",
    "\n",
    "- See [C^k notation](http://mathworld.wolfram.com/C-kFunction.html) or [smoothness](https://en.wikipedia.org/wiki/Smoothness) for more detailed discussion.\n",
    "\n",
    "**Parallel and Sequential Iteration**\n",
    "In *parallel iteration*, all neurons change state simultaneously: for $t \\in N$ and $1 \\le i \\le n$:\n",
    "\n",
    "$$ x_i(t+1) = f(A_i(t))$$\n",
    "\n",
    "In *sequential iteration*, neurons are updated in increasing order:\n",
    "$$ x_i(t+1/n) = f\\left(A_i \\left( \\frac{t+(i-1)}{n} \\right) \\right)$$\n",
    "\n",
    "Let $F$ be the function associated to a given iteration mode: \n",
    "- $F = P$ (parallel mode)\n",
    "- $F = S$ (sequential mode)\n",
    "\n",
    "**N.B.** Assuming a specific update order for sequential iterations is in fact not necessary. It is sufficient to update each neuron an infinite number of times. Note that these iteration modes have the same fixed points. \n",
    "\n",
    "**Cycle Definition**\n",
    "A cycle of length $T$ is a sequence $(y^0, \\ldots, y^{T-1})$ of distinct states such that $F(y^i) = y^{(i+1) \\text{ mod } T}$.\n",
    "\n",
    "We say that a sequence $(x(t))$ of iterates converges to this cycle if for any $i$ such that $0 \\le i \\le T - 1, \\lim_{t \\rightarrow +\\infty} x(Tt+i) = y^i$."
   ]
  },
  {
   "cell_type": "markdown",
   "metadata": {},
   "source": [
    "#### Section 3 Math: Sequential Mode\n",
    "\n",
    "The existence of a [Lyapunov function](#Lyapunov_functions) for the sequential iteration and its consequence on the length of cycles are stated in Theorem 1 and Corollary 1.\n",
    "\n",
    "**N.B.** Theorem 2 and 4 are key results from this paper.\n",
    "\n",
    "---\n",
    "\n",
    "**Theorem 1**\n",
    ">Let $E$ be defined by <br>\n",
    "$$ E(x) = -x^TWx/2 + b^Tx + \\sum_{i=1}^n \\int_0^{x_i} f^{-1}(\\xi) d\\xi$$ <br>\n",
    "E is a *Lyapunov function* of the sequential iteration. I.e., <br>\n",
    "if $x(t+1/n) \\neq x(t), E(x(t+1/n)) < E(x(t))$.\n",
    "\n",
    "**Corollary 1**\n",
    ">Any cycle of the sequential iteration is a fixed point. <br>\n",
    "\n",
    "This is a standard consequence of the existence of a Lyapunov function. \n",
    "\n",
    "---\n",
    "\n",
    "**Theorem 2**\n",
    ">Assume the hypothesis (H) is true: the network has a finite number of fixed points. Then under this hypothesis, the sequential iteration converges to a fixed point from any starting point $x^0 \\in [-1, 1]^n$.\n",
    "\n",
    "- This theorem is a general result on dynamic systems driven by a Lyapunov function: the specific form of the iterated function or of the energy function is not important. \n",
    "\n",
    "---\n",
    "\n",
    "**Theorem 4**\n",
    ">When $f$ is piecewise $C^1$, the network has a finite number of fixed points for $(W, b)$ in an open dense set.\n",
    "\n",
    "Definitions:\n",
    "- **Closed Set** ([Springer](https://link.springer.com/chapter/10.1007/978-1-84628-627-8_4)) : a subset of a metric space that includes all of its boundary\n",
    "- **Open Set** ([Springer](https://link.springer.com/chapter/10.1007/978-1-84628-627-8_4)): a subset that contains no point of its boundary\n",
    "\n",
    "  - E.g., (-1, 1) is open; [-1, 1] is closed. \n",
    "\n",
    "- **Dense Set** ([wiki](https://en.wikipedia.org/wiki/Dense_set)):\n",
    "> a subset $A$ of a topological space $X$ is called dense (in $X$) if every point $x$ in $X$ either belongs to $A$ or is a limit point of $A$; that is, the closure of $A$ is constituting the whole set $X$.\n",
    "\n",
    "- **Compact Space** ([wiki](https://en.wikipedia.org/wiki/Compact_space))\n",
    ">In mathematics, and more specifically in general topology, compactness is a property that generalizes the notion of a subset of Euclidean space being closed (that is, containing all its limit points) and bounded (that is, having all its points lie within some fixed distance of each other). Examples include a closed interval, a rectangle, or a finite set of points. This notion is defined for more general topological spaces than Euclidean space in various ways.<br><br>\n",
    "One such generalization is that a topological space is sequentially compact if every infinite sequence of points sampled from the space has an infinite subsequence that converges to some point of the space."
   ]
  },
  {
   "cell_type": "markdown",
   "metadata": {},
   "source": [
    "---"
   ]
  },
  {
   "cell_type": "markdown",
   "metadata": {},
   "source": [
    "#### Section 3 Math: Parallel Mode\n",
    "**Corollary 2**\n",
    ">Any cycle of the parallel iteration is of length 1 or 2"
   ]
  },
  {
   "cell_type": "markdown",
   "metadata": {},
   "source": [
    "---"
   ]
  },
  {
   "cell_type": "markdown",
   "metadata": {},
   "source": [
    "### State-Denoised Recurrent Neural Networks (Mozer, 2018)\n",
    "\n",
    "- Mozer, Michael C., et al (2018)\n",
    "- https://arxiv.org/abs/1805.08394"
   ]
  },
  {
   "cell_type": "code",
   "execution_count": 42,
   "metadata": {},
   "outputs": [
    {
     "data": {
      "text/html": [
       "\n",
       "        <iframe\n",
       "            width=\"900\"\n",
       "            height=\"400\"\n",
       "            src=\"https://arxiv.org/pdf/1805.08394.pdf#view=FitH\"\n",
       "            frameborder=\"0\"\n",
       "            allowfullscreen\n",
       "        ></iframe>\n",
       "        "
      ],
      "text/plain": [
       "<IPython.lib.display.IFrame at 0x11df38438>"
      ]
     },
     "execution_count": 42,
     "metadata": {},
     "output_type": "execute_result"
    }
   ],
   "source": [
    "IFrame(\"https://arxiv.org/pdf/1805.08394.pdf#view=FitH\", width=PDF_W, height=PDF_H)"
   ]
  },
  {
   "cell_type": "markdown",
   "metadata": {},
   "source": [
    "---"
   ]
  },
  {
   "cell_type": "markdown",
   "metadata": {},
   "source": [
    "---"
   ]
  },
  {
   "cell_type": "markdown",
   "metadata": {},
   "source": [
    "---"
   ]
  },
  {
   "cell_type": "markdown",
   "metadata": {},
   "source": [
    "## Restricted Boltzman Machines (RBMs)"
   ]
  },
  {
   "cell_type": "markdown",
   "metadata": {},
   "source": [
    "### Convolutional Deep Belief Networks for Scalable Unsupervised Learning of Hierarchical Representations\n",
    "- Lee, et al. (2009)\n",
    "- https://ai.stanford.edu/~ang/papers/icml09-ConvolutionalDeepBeliefNetworks.pdf"
   ]
  },
  {
   "cell_type": "code",
   "execution_count": 43,
   "metadata": {},
   "outputs": [
    {
     "data": {
      "text/html": [
       "\n",
       "        <iframe\n",
       "            width=\"900\"\n",
       "            height=\"400\"\n",
       "            src=\"https://ai.stanford.edu/~ang/papers/icml09-ConvolutionalDeepBeliefNetworks.pdf#view=FitH\"\n",
       "            frameborder=\"0\"\n",
       "            allowfullscreen\n",
       "        ></iframe>\n",
       "        "
      ],
      "text/plain": [
       "<IPython.lib.display.IFrame at 0x11df38128>"
      ]
     },
     "execution_count": 43,
     "metadata": {},
     "output_type": "execute_result"
    }
   ],
   "source": [
    "IFrame(\"https://ai.stanford.edu/~ang/papers/icml09-ConvolutionalDeepBeliefNetworks.pdf#view=FitH\", width=PDF_W, height=PDF_H)"
   ]
  },
  {
   "cell_type": "markdown",
   "metadata": {},
   "source": [
    "---"
   ]
  },
  {
   "cell_type": "markdown",
   "metadata": {},
   "source": [
    "---"
   ]
  },
  {
   "cell_type": "markdown",
   "metadata": {},
   "source": [
    "---"
   ]
  },
  {
   "cell_type": "markdown",
   "metadata": {},
   "source": [
    "## Recurrent Back Propagation (RBP)"
   ]
  },
  {
   "cell_type": "markdown",
   "metadata": {},
   "source": [
    "### Generalization of Backpropagation to Recurrent and Higher Order Neural Networks (Pineda, 1988)\n",
    "- FJ Pineda (1988)\n",
    "- https://papers.nips.cc/paper/67-generalization-of-back-propagation-to-recurrent-and-higher-order-neural-networks.pdf"
   ]
  },
  {
   "cell_type": "code",
   "execution_count": 44,
   "metadata": {
    "scrolled": true
   },
   "outputs": [
    {
     "data": {
      "text/html": [
       "\n",
       "        <iframe\n",
       "            width=\"900\"\n",
       "            height=\"400\"\n",
       "            src=\"https://papers.nips.cc/paper/67-generalization-of-back-propagation-to-recurrent-and-higher-order-neural-networks.pdf#view=FitH\"\n",
       "            frameborder=\"0\"\n",
       "            allowfullscreen\n",
       "        ></iframe>\n",
       "        "
      ],
      "text/plain": [
       "<IPython.lib.display.IFrame at 0x11df38cc0>"
      ]
     },
     "execution_count": 44,
     "metadata": {},
     "output_type": "execute_result"
    }
   ],
   "source": [
    "IFrame(\"https://papers.nips.cc/paper/67-generalization-of-back-propagation-to-recurrent-and-higher-order-neural-networks.pdf#view=FitH\", width=PDF_W, height=PDF_H)"
   ]
  },
  {
   "cell_type": "markdown",
   "metadata": {},
   "source": [
    "---"
   ]
  },
  {
   "cell_type": "markdown",
   "metadata": {},
   "source": [
    "### Reviving and Improving Recurrent Back-Propagation (Liao, 2018)\n",
    "- Liao, et al. (2018)\n",
    "- http://xaqlab.com/wp-content/uploads/2018/07/RecurrentBackprop_IMCL.pdf"
   ]
  },
  {
   "cell_type": "code",
   "execution_count": 45,
   "metadata": {
    "scrolled": true
   },
   "outputs": [
    {
     "data": {
      "text/html": [
       "\n",
       "        <iframe\n",
       "            width=\"900\"\n",
       "            height=\"400\"\n",
       "            src=\"http://xaqlab.com/wp-content/uploads/2018/07/RecurrentBackprop_IMCL.pdf#view=FitH\"\n",
       "            frameborder=\"0\"\n",
       "            allowfullscreen\n",
       "        ></iframe>\n",
       "        "
      ],
      "text/plain": [
       "<IPython.lib.display.IFrame at 0x11df21dd8>"
      ]
     },
     "execution_count": 45,
     "metadata": {},
     "output_type": "execute_result"
    }
   ],
   "source": [
    "IFrame(\"http://xaqlab.com/wp-content/uploads/2018/07/RecurrentBackprop_IMCL.pdf#view=FitH\", width=PDF_W, height=PDF_H)"
   ]
  },
  {
   "cell_type": "markdown",
   "metadata": {},
   "source": [
    "---"
   ]
  },
  {
   "cell_type": "markdown",
   "metadata": {},
   "source": [
    "## Neuroscience Papers "
   ]
  },
  {
   "cell_type": "markdown",
   "metadata": {},
   "source": [
    "### Task-Driven Convolutional Recurrent Models of the Visual System (Nayebi, et al. 2018)\n",
    "\n",
    "- Nayebi, et al. (2018)\n",
    "- https://ganguli-gang.stanford.edu/pdf/18.ConvRNN.pdf"
   ]
  },
  {
   "cell_type": "code",
   "execution_count": 46,
   "metadata": {
    "scrolled": true
   },
   "outputs": [
    {
     "data": {
      "text/html": [
       "\n",
       "        <iframe\n",
       "            width=\"900\"\n",
       "            height=\"400\"\n",
       "            src=\"https://ganguli-gang.stanford.edu/pdf/18.ConvRNN.pdf#view=FitH\"\n",
       "            frameborder=\"0\"\n",
       "            allowfullscreen\n",
       "        ></iframe>\n",
       "        "
      ],
      "text/plain": [
       "<IPython.lib.display.IFrame at 0x11df38fd0>"
      ]
     },
     "execution_count": 46,
     "metadata": {},
     "output_type": "execute_result"
    }
   ],
   "source": [
    "IFrame(\"https://ganguli-gang.stanford.edu/pdf/18.ConvRNN.pdf#view=FitH\", width=PDF_W, height=PDF_H)"
   ]
  },
  {
   "cell_type": "markdown",
   "metadata": {},
   "source": [
    "**Abstract Summary**\n",
    "\n",
    "Biological visual systems have two ubiquitous architectural features not shared with typical CNNs:\n",
    "1. local recurrence within cortical areas\n",
    "2. long-range feedback from downstream areas to upstream areas ([Gilbert and Wu (2013)](http://or.nsfc.gov.cn/bitstream/00001903-5/228323/1/1000006969823.pdf))\n",
    "\n",
    "This paper explores the role of recurrence in improving classification performance.\n",
    "\n",
    "Standard recurrence models (RNNs, LSTMs) do not perform well within deep CNNs (on the ImageNet task).\n",
    "This group found that novel cells that incorporated two structural features: \n",
    "1. bypassing\n",
    "2. gating\n",
    "were able to boost task accuracy substantially.\n",
    "\n",
    "This paper identified novel local recurrent cells and long-range feedback connections useful for object recognition by an automated search over thousands of architectures that varied in their locally recurrent and long-range feedback connections. \n",
    "\n",
    "They accomplished two primary things:\n",
    "1. They propose a model, discovered through the above search, that matches the performance of a much deeper feedforward architecture (ResNet-32) while using only ~75% as many parameters.\n",
    "2. They show that these *task-optimized ConvRNNs* matched the dynamics of neural activity in the primate visual system better than feedforward networks at a 10 millisecond resolutoin across intermediate and higher visual cortex."
   ]
  },
  {
   "cell_type": "markdown",
   "metadata": {},
   "source": [
    "**Key Notes**\n",
    "\n",
    "Behavioral roles of recurrence and dynamics in the visual system are *not well understood*. Several *conjectures* are that recurrence  \n",
    "- \"fills in\" missing data, such as object parts occluded by other objects (*in-painting*)\n",
    "- \"sharpens\" representations by top-down attention feature refinement (*super-resolution*), allowing for easier decoding of certain stimulus properties or performance of certain tasks\n",
    "- allows the brain to \"predict\" future stimuli, such as the frames of a movie (*generative modeling?*)\n",
    "- \"extends\" a feedforward computation, reflecting the fact that an unrolled recurrent network is equivalent to a deeper feedforward network that conserves on neurons (and learnable parameters) by repeating transformations several times."
   ]
  },
  {
   "cell_type": "markdown",
   "metadata": {},
   "source": [
    "### Dendritic Error Backpropagation in Deep Cortical Microcircuits (Sacramento, 2017)\n",
    "- Sacramento, et al. (2017)\n",
    "- https://arxiv.org/pdf/1801.00062.pdf\n",
    "\n",
    " "
   ]
  },
  {
   "cell_type": "code",
   "execution_count": 47,
   "metadata": {
    "scrolled": true
   },
   "outputs": [
    {
     "data": {
      "text/html": [
       "\n",
       "        <iframe\n",
       "            width=\"900\"\n",
       "            height=\"400\"\n",
       "            src=\"https://arxiv.org/pdf/1801.00062.pdf#view=FitH\"\n",
       "            frameborder=\"0\"\n",
       "            allowfullscreen\n",
       "        ></iframe>\n",
       "        "
      ],
      "text/plain": [
       "<IPython.lib.display.IFrame at 0x11df385c0>"
      ]
     },
     "execution_count": 47,
     "metadata": {},
     "output_type": "execute_result"
    }
   ],
   "source": [
    "IFrame(\"https://arxiv.org/pdf/1801.00062.pdf#view=FitH\", width=PDF_W, height=PDF_H)"
   ]
  },
  {
   "cell_type": "markdown",
   "metadata": {},
   "source": [
    "---"
   ]
  },
  {
   "cell_type": "markdown",
   "metadata": {},
   "source": [
    "## Flow Models"
   ]
  },
  {
   "cell_type": "markdown",
   "metadata": {},
   "source": [
    "### Glow: Generative Flow with Invertible 1x1 Convolutions (Kingma and Dhariwal. 2018)\n",
    "\n",
    "- Nayebi, et al. (2018)\n",
    "- https://ganguli-gang.stanford.edu/pdf/18.ConvRNN.pdf"
   ]
  },
  {
   "cell_type": "code",
   "execution_count": 14,
   "metadata": {
    "scrolled": true
   },
   "outputs": [
    {
     "data": {
      "text/html": [
       "\n",
       "        <iframe\n",
       "            width=\"900\"\n",
       "            height=\"400\"\n",
       "            src=\"https://arxiv.org/pdf/1807.03039.pdf#view=FitH\"\n",
       "            frameborder=\"0\"\n",
       "            allowfullscreen\n",
       "        ></iframe>\n",
       "        "
      ],
      "text/plain": [
       "<IPython.lib.display.IFrame at 0x11bf2f278>"
      ]
     },
     "execution_count": 14,
     "metadata": {},
     "output_type": "execute_result"
    }
   ],
   "source": [
    "IFrame(\"https://arxiv.org/pdf/1807.03039.pdf#view=FitH\", width=PDF_W, height=PDF_H)"
   ]
  },
  {
   "cell_type": "markdown",
   "metadata": {},
   "source": [
    "---"
   ]
  },
  {
   "cell_type": "markdown",
   "metadata": {},
   "source": [
    "---"
   ]
  },
  {
   "cell_type": "markdown",
   "metadata": {},
   "source": [
    "---"
   ]
  },
  {
   "cell_type": "markdown",
   "metadata": {},
   "source": [
    "---"
   ]
  },
  {
   "cell_type": "markdown",
   "metadata": {},
   "source": [
    "# Concepts<a class=\"anchor\" id=\"concepts\"></a> "
   ]
  },
  {
   "cell_type": "markdown",
   "metadata": {},
   "source": [
    "## Log Likelihood <a id='log_likelihood'></a>\n",
    "[To ToC](#concepts_toc)"
   ]
  },
  {
   "cell_type": "markdown",
   "metadata": {},
   "source": [
    "**TL;DR** The log likelihood is used because a probability distributions logarithmic form is easier to differentiate and we are guaranteed that the \n",
    "\n",
    "Consider the Gaussian probability distribution,\n",
    "\n",
    "$$ P(x; \\mu, \\sigma) = \\frac{1}{\\sigma \\sqrt{2\\pi}} \\exp \\left(- \\frac{(x-\\mu)^2}{2\\sigma^2} \\right) $$\n",
    "From [Probability concepts explained: Maximum likelihood estimation](https://towardsdatascience.com/probability-concepts-explained-maximum-likelihood-estimation-c7b4342fdbb1):\n",
    "> The above expression for the total probability is actually quite a pain to differentiate, so **it is almost always simplified by taking the natural logarithm of the expression**. This is absolutely fine because **the natural logarithm is a monotonically increasing function**. This means that if the value on the x-axis increases, the value on the y-axis also increases (see figure below). This is important because it ensures that **the maximum value of the log of the probability occurs at the same point as the original probability function**. Therefore we can work with the simpler log-likelihood instead of the original likelihood."
   ]
  },
  {
   "cell_type": "code",
   "execution_count": 48,
   "metadata": {},
   "outputs": [
    {
     "data": {
      "text/plain": [
       "[<matplotlib.lines.Line2D at 0x11de99208>]"
      ]
     },
     "execution_count": 48,
     "metadata": {},
     "output_type": "execute_result"
    },
    {
     "data": {
      "text/plain": [
       "Text(0.5, 1.0, 'Log Likelihood Curve')"
      ]
     },
     "execution_count": 48,
     "metadata": {},
     "output_type": "execute_result"
    },
    {
     "data": {
      "text/plain": [
       "Text(0.5, 0, 'x')"
      ]
     },
     "execution_count": 48,
     "metadata": {},
     "output_type": "execute_result"
    },
    {
     "data": {
      "text/plain": [
       "Text(0, 0.5, 'log(x)')"
      ]
     },
     "execution_count": 48,
     "metadata": {},
     "output_type": "execute_result"
    },
    {
     "data": {
      "image/png": "[encoded data removed]",
      "text/plain": [
       "<Figure size 432x288 with 1 Axes>"
      ]
     },
     "metadata": {
      "needs_background": "light"
     },
     "output_type": "display_data"
    }
   ],
   "source": [
    "x = np.arange(0.01, 1+0.01, 0.01)\n",
    "y = np.log(x)\n",
    "plt.plot(x, y)\n",
    "plt.title(\"Log Likelihood Curve\")\n",
    "plt.xlabel('x')\n",
    "plt.ylabel('log(x)')"
   ]
  },
  {
   "cell_type": "markdown",
   "metadata": {},
   "source": [
    "Also, see this [Math StackExchange Discussion](https://math.stackexchange.com/questions/892832/why-we-consider-log-likelihood-instead-of-likelihood-in-gaussian-distribution). To summarize:\n",
    "1. It is extremely useful for example when you want to calculate the joint likelihood for a set of independent and identically distributed points.\n",
    "2. Also in the case of Gaussian, it allows you to avoid computation of the exponential.\n",
    "\n",
    "3. $\\ln x$ is a monotonically increasing function, thus log-likelihoods have the same relations of order as the likelihoods:\n",
    "\n",
    "$$ p(x | \\Theta_1) > p(x | \\Theta_2) \\Leftrightarrow \\ln p(x | \\Theta_1) > \\ln p(x | \\Theta_2)$$\n",
    "4. From a standpoint of computational complexity, you can imagine that first of all summing is less expensive than multiplication (although nowadays these are almost equal). But what is even more important, likelihoods would become very small and you will run out of your floating point precision very quickly, yielding an underflow. That's why it is way more convenient to use the logarithm of the likelihood. Simply try to calculate the likelihood by hand, using pocket calculator - almost impossible.\n",
    "\n",
    "5. Additionally in the classification framework you can simplify calculations even further. The relations of order will remain valid if you drop the division by $2$ and the $2\\ln(2\\pi)$ term. You can do that because these are class independent. Also, as one might notice if variance of both classes is the same $\\left(\\sum_1=\\sum_2\\right)$, then you can also remove the $\\ln\\left(\\det\\sum\\right)$ term."
   ]
  },
  {
   "cell_type": "markdown",
   "metadata": {},
   "source": [
    "---"
   ]
  },
  {
   "cell_type": "markdown",
   "metadata": {},
   "source": [
    "## Negative Log-Likelihood (NLL) <a id='NLL'></a>\n",
    "[To ToC](#concepts_toc)"
   ]
  },
  {
   "cell_type": "markdown",
   "metadata": {},
   "source": [
    "The negative of the [log-likelihood](#log_likelihood) is used in machine learning simply because optimizers are setup to **minimize** the return value of a function. Taking the negative of the log-likelihood results in $-\\infty$ and 0 for input values of $0$ and $1$, respectively. Optimizing the negative log-likelihood finds the maximum likelihood estimates (MLEs)."
   ]
  },
  {
   "cell_type": "code",
   "execution_count": 49,
   "metadata": {},
   "outputs": [
    {
     "data": {
      "text/plain": [
       "[<matplotlib.lines.Line2D at 0x11dec1748>]"
      ]
     },
     "execution_count": 49,
     "metadata": {},
     "output_type": "execute_result"
    },
    {
     "data": {
      "text/plain": [
       "Text(0.5, 1.0, 'Negative Log Likelihood Curve')"
      ]
     },
     "execution_count": 49,
     "metadata": {},
     "output_type": "execute_result"
    },
    {
     "data": {
      "text/plain": [
       "Text(0.5, 0, 'x')"
      ]
     },
     "execution_count": 49,
     "metadata": {},
     "output_type": "execute_result"
    },
    {
     "data": {
      "text/plain": [
       "Text(0, 0.5, '-log(x)')"
      ]
     },
     "execution_count": 49,
     "metadata": {},
     "output_type": "execute_result"
    },
    {
     "data": {
      "image/png": "[encoded data removed]",
      "text/plain": [
       "<Figure size 432x288 with 1 Axes>"
      ]
     },
     "metadata": {
      "needs_background": "light"
     },
     "output_type": "display_data"
    }
   ],
   "source": [
    "plt.plot(x, -y)\n",
    "plt.title(\"Negative Log Likelihood Curve\")\n",
    "plt.xlabel('x')\n",
    "plt.ylabel('-log(x)')"
   ]
  },
  {
   "cell_type": "markdown",
   "metadata": {},
   "source": [
    "See this [discussion](https://stats.stackexchange.com/questions/141087/i-am-wondering-why-we-use-negative-log-likelihood-sometimes) and this [blog post](https://ljvmiranda921.github.io/notebook/2017/08/13/softmax-and-the-negative-log-likelihood/) for more information."
   ]
  },
  {
   "cell_type": "markdown",
   "metadata": {},
   "source": [
    "---"
   ]
  },
  {
   "cell_type": "markdown",
   "metadata": {},
   "source": [
    "## Restricted Boltzmann Machines (RBMs) <a class=\"anchor\" id=\"rbm_concepts\"></a> \n",
    "[To ToC](#concepts_toc)\n",
    "- http://deeplearning.net/tutorial/rbm.html"
   ]
  },
  {
   "cell_type": "markdown",
   "metadata": {},
   "source": [
    "#### Energy-Based Models (EBM)\n",
    "> EBMs associate a scalar energy to each configuration of the variables of interest. Learning corresponds to modifying that energy function so that its shape has desirable properties. For example, we would like plausible or desirable configurations to have low energy. \n",
    "\n",
    "Energy-based probabilistic models define a probability distribution through an energy function:\n",
    "\n",
    "\\begin{equation} \\tag{1}\n",
    "p(x) = \\frac{e^{-E(x)}}{Z}\n",
    "\\end{equation}\n",
    "\n",
    "where $x$ is the *state*, $E(x)$ is the *energy function*, and $Z$ is the *[partition function](#partition_function)* defined as:\n",
    "\n",
    "$$ Z = \\sum_x e^{-E(x)}$$\n",
    "\n",
    "##### Learning\n",
    "The EBM can be learned via stochastic gradient descent on the empirical *[negative log-likelihood](#NLL)*.\n",
    "\n",
    "Let the loss be defined as:\n",
    "\n",
    "$$ \\ell(\\theta, \\mathcal{D}) = -\\frac{1}{N} \\sum_{x^{(i)} \\in \\mathcal{D}} \\log p\\left(x^{(i)}\\right)$$\n",
    "\n",
    "then the gradient is $-\\frac{\\partial \\log p(x^{(i)})}{\\partial \\theta}$, where $\\theta$ are the parameters of the model.\n",
    "\n",
    "#### Hidden Units\n",
    "When the state $x$ is not fully observed or we wish to increase the expressive power of the model, so $x$ is delineated into **visible**, still denoted $x$, and **hidden**, $h$ states. Then we can rewrite $P(x)$ as \n",
    "\n",
    "\\begin{equation} \\tag{2}\n",
    "P(x) = \\sum_h P(x, h) = \\sum_h \\frac{e^{-E(x,h)}}{Z}\n",
    "\\end{equation}\n",
    "\n",
    "In order to formualate Equation 2 similar to Equation 1, we introduce **free energy**, $\\mathcal{F}$, defined as\n",
    "\n",
    "\\begin{equation} \\tag{3}\n",
    "\\mathcal{F}(x) = -\\log \\sum_h e^{-E(x,h)}\n",
    "\\end{equation}\n",
    "\n",
    "Solving Equation (3) for $\\sum_h e^{-E(x,h)}$,\n",
    "\\begin{align*} \n",
    "\\mathcal{F}(x) &= -\\log \\sum_h e^{-E(x,h)}\\\\\n",
    "\\log \\sum_h e^{-E(x,h)} &= -\\mathcal{F}(x)\\\\\n",
    "\\sum_h e^{-E(x,h)} &= e^{-\\mathcal{F}(x)} \\tag{$\\dagger$}\n",
    "\\end{align*}\n",
    "\n",
    "Beginning with Equation (2),\n",
    "\\begin{align*} \n",
    "P(x) &= \\sum_h \\frac{e^{-E(x,h)}}{Z}\\\\\n",
    "&= \\frac{1}{Z} \\sum_h e^{-E(x,h)}, \\qquad \\text{ substitute in result } \\dagger  \\\\\n",
    "P(x) &= \\frac{e^{-\\mathcal{F}(x)}}{Z} \\qquad \\text{ where } Z = \\sum_x e^{-\\mathcal{F}(x)} \\tag{4} \\\\\n",
    "\\end{align*}\n",
    "\n",
    "##### Gradient\n",
    "The resulting gradient for the negative log-likelihood has the form:\n",
    "\n",
    "$$ -\\frac{\\partial \\log p(x)}{\\partial \\theta} = \\frac{\\partial \\mathcal{F}(x)}{\\partial \\theta} - \\sum_{\\tilde{x}} \\frac{\\partial \\mathcal{F}(\\tilde{x})}{\\partial \\theta}$$\n",
    "\n",
    "**Positive Phase**, $\\frac{\\partial \\mathcal{F}(x)}{\\partial \\theta}$ <br>\n",
    "The first term on the right-hand-side, $\\frac{\\partial \\mathcal{F}(x)}{\\partial \\theta}$, is referred to as the *positive phase*. This term is called 'positive' because it has a positive effect on the probability density defined by the model - that is, this term increases the probability of training data by reducing the corresponding free energy.\n",
    "\n",
    "**Negative Phase**, $\\sum_{\\tilde{x}} \\frac{\\partial \\mathcal{F}(\\tilde{x})}{\\partial \\theta}$ <br>\n",
    "The second term on the right-hand-side, $\\sum_{\\tilde{x}} \\frac{\\partial \\mathcal{F}(\\tilde{x})}{\\partial \\theta}$, is referred to as the *negative phase*. Similar to above, the negative phase term has a negative effect on the probability density defined by the model - that is, it decreases the probability of samples generated by the model.\n",
    "\n",
    "##### Training\n",
    "It is difficult to determine this gradient analyitically because it involves the computation of $E_P \\left[\\frac{\\partial \\mathcal{F}(x)}{\\partial \\theta} \\right]$ -- the expectation over all possible configurations of the input $x$ under the distribution $P$ formed by the model.\n",
    "\n",
    "To address this issue, the first step is to estimate this expectation using a fixed number of model samples. Samples used to estimate the *negative phase* gradient are referred to as **negative particles**, which are denoted as $\\mathcal{N}$. We can reformulate the gradient as:\n",
    "\n",
    "\\begin{equation} \\tag{5}\n",
    "-\\frac{\\partial \\log p(x)}{\\partial \\theta} \\approx \\frac{\\partial \\mathcal{F}(x)}{\\partial \\theta} - \\frac{1}{|\\mathcal{N}|} \\sum_{\\tilde{x} \\in \\mathcal{N}} \\frac{\\partial \\mathcal{F}(\\tilde{x})}{\\partial \\theta}\n",
    "\\label{eq:free_enery_gradient}\n",
    "\\end{equation}\n",
    "\n",
    "where, ideally, the elements $\\tilde{x}$ of $\\mathcal{N}$ would be sampled according to $P$ (i.e., we are doing [Monte-Carlo](#monte_carlo)). \n",
    "\n",
    "With Equation \\ref{eq:free_enery_gradient}, we nearly have a practical, stochastic algorithm for learning an EBM. The only missing piece is how to extract the negative particles, $\\mathcal{N}$. I.e., we need a sampling method. In particular, we will use [Markov Chain Monte Carlo](#mcmc) methods."
   ]
  },
  {
   "cell_type": "markdown",
   "metadata": {},
   "source": [
    "##### RBMs\n",
    "Boltzmann Machines (BMs) are a particular form of log-linear [Markov Random Field](#markov_random_field) (MRF) -- the energy function is linear in its free parameters. By adding hidden variables, the modeling capacity of the Boltzmann Machine is increased; i.e., the model is changed from a limited parameteric setting to a non-parametric one. RBMs further restrict the BM by disallowing self-connections within a layer: no visible-to-visible nor hidden-to-hidden connections. This results in a bipartite graph.\n",
    "\n",
    "##### Energy Function\n",
    "The energy function $E(v, h)$ of an RBM is defined as:\n",
    "\n",
    "\\begin{equation} \\tag{6}\n",
    "E(v,h) = -b^\\prime v - c^\\prime h - h^\\prime W v\n",
    "\\end{equation}\n",
    "\n",
    "where $W$ represents the weights connection hidden and visible units, and $b, c$ are the offsets of the visible and hidden layers, respectively.\n",
    "\n",
    "The **free energy formula** is now:\n",
    "\n",
    "$$ \\mathcal{F}(v) = -b^\\prime v - \\sum_i \\log \\sum_{h_i}e^{h_i (c_i W_iv}$$\n",
    "\n",
    "##### Conditional Independence Between Layers\n",
    "\n",
    "Due to the bipartite graph structure of an RBM, the visible and hidden units are **conditionally independent** given one-another. Consequently:\n",
    "\n",
    "\\begin{align}\n",
    "p(h|v) &= \\prod_i p(h_i | v) \\\\\n",
    "p(v|h) &= \\prod_j p(v_j | h)\n",
    "\\end{align}\n",
    "\n",
    "Typically, RBMs have binary units: $v_j, h_i \\in \\{0, 1\\}$. Consequently, we obtain:\n",
    "\n",
    "\\begin{align}\n",
    "P(h_i = 1 | v) &= \\text{sigm} (c_i | W_iv) \\tag{7} \\\\\n",
    "P(v_j = 1 | h) &= \\text{sigm} (b_j | W^\\prime_jh) \\tag{8}\n",
    "\\end{align}\n",
    "\n",
    "and the *free energy* of a binary RBM simplifies to:\n",
    "\n",
    "\\begin{equation} \\tag{9}\n",
    "\\mathcal{F}(v) = -b^\\prime v - \\sum_i \\log (1 + e^{c_i + W_iv})\n",
    "\\end{equation}"
   ]
  },
  {
   "cell_type": "code",
   "execution_count": 50,
   "metadata": {},
   "outputs": [
    {
     "data": {
      "text/html": [
       "\n",
       "        <iframe\n",
       "            width=\"900\"\n",
       "            height=\"400\"\n",
       "            src=\"http://deeplearning.net/tutorial/rbm.html#view=FitH\"\n",
       "            frameborder=\"0\"\n",
       "            allowfullscreen\n",
       "        ></iframe>\n",
       "        "
      ],
      "text/plain": [
       "<IPython.lib.display.IFrame at 0x11dd8bc50>"
      ]
     },
     "execution_count": 50,
     "metadata": {},
     "output_type": "execute_result"
    }
   ],
   "source": [
    "IFrame(\"http://deeplearning.net/tutorial/rbm.html#view=FitH\", width=PDF_W, height=PDF_H)"
   ]
  },
  {
   "cell_type": "markdown",
   "metadata": {},
   "source": [
    "---"
   ]
  },
  {
   "cell_type": "markdown",
   "metadata": {},
   "source": [
    "## Markov Chains <a class=\"anchor\" id=\"markov_chains\"></a> \n",
    "[To ToC](#concepts_toc)\n",
    "\n",
    "**Resources**:\n",
    "- [Markov Chain Wiki](https://en.wikipedia.org/wiki/Markov_chain)\n",
    "- [Markov Chains an Monte Carlor Methods - An Introduction](https://github.com/christianb93/MachineLearning/blob/master/doc/MarkovChains/MarkovChainsIntroduction.pdf)"
   ]
  },
  {
   "cell_type": "code",
   "execution_count": 51,
   "metadata": {
    "scrolled": true
   },
   "outputs": [
    {
     "data": {
      "text/html": [
       "\n",
       "        <iframe\n",
       "            width=\"900\"\n",
       "            height=\"400\"\n",
       "            src=\"https://en.wikipedia.org/wiki/Markov_chain\"\n",
       "            frameborder=\"0\"\n",
       "            allowfullscreen\n",
       "        ></iframe>\n",
       "        "
      ],
      "text/plain": [
       "<IPython.lib.display.IFrame at 0x11e185668>"
      ]
     },
     "execution_count": 51,
     "metadata": {},
     "output_type": "execute_result"
    }
   ],
   "source": [
    "IFrame(\"https://en.wikipedia.org/wiki/Markov_chain\", width=PDF_W, height=PDF_H)"
   ]
  },
  {
   "cell_type": "markdown",
   "metadata": {},
   "source": [
    "**Definition**\n",
    "> A discrete-time Markov chain is a sequence of random variables $X_1, X_2, X_3, \\ldots$ with the [Markov property](https://en.wikipedia.org/wiki/Markov_property); namely, that the probability of moving to the next state depends only on the present state and not on the previous states. <br><br>\n",
    "**Markov Property Def**:\n",
    "$$ P(X_{n+1} = x | X_1 = x_1, X_2 = x_2, \\ldots, X_n = x_n) \\quad = \\quad P(X_{n+1} = x | X_n = x_n) $$ <br>\n",
    "if both conditional probabilities are well defined. <br><br>\n",
    "This states, simply, that the conditional probability of the next state, $X_{n+1}$, is only dependent upon the current state, $X_n$. I.e., all information needed to make predictions about the future state is contained within the current state. <br><br>\n",
    "The possible values of $X_i$ form a countable set $S$ called the **state space** of the chain.<br><br>\n",
    "Markov chains are often described by a sequence of directed graphs, where the edges of graph $n$ are labeled by the probabilities of going from one state at time $n$ to the other states at time $n + 1$, $P(X_{n+1}=x \\mid X_{n}=x_{n})$. <br>\n",
    "E.g.,\n",
    "<img src=\"https://upload.wikimedia.org/wikipedia/commons/thumb/9/95/Finance_Markov_chain_example_state_space.svg/800px-Finance_Markov_chain_example_state_space.svg.png\" width=\"500\">"
   ]
  },
  {
   "cell_type": "markdown",
   "metadata": {},
   "source": [
    "---"
   ]
  },
  {
   "cell_type": "markdown",
   "metadata": {},
   "source": [
    "## Monte Carlo <a class=\"anchor\" id=\"monte_carlo\"></a> \n",
    "[To ToC](#concepts_toc)\n",
    "- [Monte Carlo Method Wiki](https://en.wikipedia.org/wiki/Monte_Carlo_method)"
   ]
  },
  {
   "cell_type": "code",
   "execution_count": 52,
   "metadata": {
    "scrolled": true
   },
   "outputs": [
    {
     "data": {
      "text/html": [
       "\n",
       "        <iframe\n",
       "            width=\"900\"\n",
       "            height=\"400\"\n",
       "            src=\"https://en.wikipedia.org/wiki/Monte_Carlo_method\"\n",
       "            frameborder=\"0\"\n",
       "            allowfullscreen\n",
       "        ></iframe>\n",
       "        "
      ],
      "text/plain": [
       "<IPython.lib.display.IFrame at 0x11e185e10>"
      ]
     },
     "execution_count": 52,
     "metadata": {},
     "output_type": "execute_result"
    }
   ],
   "source": [
    "IFrame(\"https://en.wikipedia.org/wiki/Monte_Carlo_method\", width=PDF_W, height=PDF_H)"
   ]
  },
  {
   "cell_type": "markdown",
   "metadata": {},
   "source": [
    "Monte Carlo typically refers to an algorithm that uses sampling to either simulate outcomes of a random experiment or to approximate integrals. Suppose we are given a finite measure $\\pi$ on some state space, say $\\mathbb{R}^n$, and we want to compute \n",
    "\n",
    "$$\\int f d\\pi$$\n",
    "\n",
    "After normalization, we can assume that $\\pi$ is a probability measure. Then the integral is the expectation value of the random variable $f$. If we had a method to create an independent and identically distributed series $X_n$ of samples from $\\pi$, then the law of large numbers would tell us that for large $n$, \n",
    "\n",
    "$$\\frac{1}{n} \\sum_{k=1}^n f(X_n) \\approx \\int f d\\pi$$\n",
    "\n",
    "so that we obtain a good approximation to the integral by generating a sample, calculating the values $f(X_n)$ at the sampled points, and taking their average value. \n",
    "\n",
    "For example, recall that the expectation is an integral.\n",
    "$$E[X] = \\sum_{i=1}^\\infty x_i p_i$$ where x_i is the value of a random variable and $p_i$ is the probability of corresponding to that value, $x_i$.\n",
    "\n",
    "Monte Carlo provides a means for approximating this discrete integral, and therefore, MC is extremely useful in probability contexts - in particular, for approximating the [partition function](#partition_function)."
   ]
  },
  {
   "cell_type": "markdown",
   "metadata": {},
   "source": [
    "#### Example: Approximate $\\pi$\n",
    "\n",
    "We can approximate $\\pi$ via Monte Carlo. We construct the problem as follows:\n",
    "\n",
    "Inscribe a circle within a square with side, $s = 1$. Then, necessarily the circle radius, r = $0.5$ and the center of the circle, $c_k = (0.5, 0.5)$.\n",
    " \n",
    "The area of a circle is $A_{\\text{circle}} = \\pi r^2 = \\frac{\\pi}{4}$. The area of the square is $A_{\\text{square}} = 1$.\n",
    "\n",
    "Taking the ratio of the two areas,\n",
    "\n",
    "\\begin{equation} \\tag{$\\dagger$}\n",
    "\\frac{A_{\\text{circle}}}{A_{\\text{square}}} = \\frac{\\pi / 4}{1} = \\frac{\\pi}{4}\n",
    "\\end{equation}\n",
    "\n",
    "Next, we uniformly sample a set of points $A = \\{(x, y) : x, y \\sim \\mathrm{U}(0,1)\\}$, where $|A| = N$, the number of sample points. \n",
    "\n",
    "We can calculate the number of points that are contained within the circle, $x_\\text{circle}$. \n",
    "\n",
    "E.g., let $d_{x_i}$ denote the distance of the point $x_i$ from the center of the circle, $c_k$.  \n",
    "\n",
    "$$d_{x_i} = \\sqrt{(x-c_k)^2 + (y-c_k)^2} $$ \n",
    "\n",
    "Then, $x_\\text{circle} = \\{x_i : d_{x_i} < r \\}$\n",
    "\n",
    "We can now approximate the ratio from Equation $\\dagger$ as:\n",
    "\n",
    "$$\\frac{x_\\text{circle}}{N} \\approx \\frac{A_{\\text{circle}}}{A_{\\text{square}}} = \\frac{\\pi}{4}$$\n",
    "\n",
    "Solve for $\\pi$:\n",
    "\n",
    "$$ \\pi \\approx \\frac{4x_\\text{circle}}{N}$$\n",
    "\n",
    "Finally, denote the approximation of $\\pi$ as $\\hat{\\pi}$:\n",
    "\n",
    "$$ \\hat{\\pi} = \\frac{4x_\\text{circle}}{N}$$\n",
    "\n",
    "By the [law of large numbers](https://en.wikipedia.org/wiki/Law_of_large_numbers), as $N \\rightarrow \\infty$, then $E\\left[\\hat{\\pi}\\right] \\rightarrow \\pi$, where $E[\\cdot]$ is the expectation."
   ]
  },
  {
   "cell_type": "code",
   "execution_count": 53,
   "metadata": {},
   "outputs": [
    {
     "data": {
      "text/html": [
       "\n",
       "        <iframe\n",
       "            width=\"1000\"\n",
       "            height=\"1900\"\n",
       "            src=\"modules/monte_carlo_pi_approx.ipynb#view=FitH\"\n",
       "            frameborder=\"0\"\n",
       "            allowfullscreen\n",
       "        ></iframe>\n",
       "        "
      ],
      "text/plain": [
       "<IPython.lib.display.IFrame at 0x11e1856d8>"
      ]
     },
     "execution_count": 53,
     "metadata": {},
     "output_type": "execute_result"
    }
   ],
   "source": [
    "mc_pi_approx_path = \"modules/monte_carlo_pi_approx.ipynb\"\n",
    "IFrame(f\"{mc_pi_approx_path}#view=FitH\", 1000, 1900)"
   ]
  },
  {
   "cell_type": "code",
   "execution_count": 56,
   "metadata": {},
   "outputs": [
    {
     "data": {
      "text/html": [
       "\n",
       "<link rel=\"stylesheet\"\n",
       "href=\"https://maxcdn.bootstrapcdn.com/font-awesome/4.4.0/\n",
       "css/font-awesome.min.css\">\n",
       "<script language=\"javascript\">\n",
       "  /* Define the Animation class */\n",
       "  function Animation(frames, img_id, slider_id, interval, loop_select_id){\n",
       "    this.img_id = img_id;\n",
       "    this.slider_id = slider_id;\n",
       "    this.loop_select_id = loop_select_id;\n",
       "    this.interval = interval;\n",
       "    this.current_frame = 0;\n",
       "    this.direction = 0;\n",
       "    this.timer = null;\n",
       "    this.frames = new Array(frames.length);\n",
       "\n",
       "    for (var i=0; i<frames.length; i++)\n",
       "    {\n",
       "     this.frames[i] = new Image();\n",
       "     this.frames[i].src = frames[i];\n",
       "    }\n",
       "    document.getElementById(this.slider_id).max = this.frames.length - 1;\n",
       "    this.set_frame(this.current_frame);\n",
       "  }\n",
       "\n",
       "  Animation.prototype.get_loop_state = function(){\n",
       "    var button_group = document[this.loop_select_id].state;\n",
       "    for (var i = 0; i < button_group.length; i++) {\n",
       "        var button = button_group[i];\n",
       "        if (button.checked) {\n",
       "            return button.value;\n",
       "        }\n",
       "    }\n",
       "    return undefined;\n",
       "  }\n",
       "\n",
       "  Animation.prototype.set_frame = function(frame){\n",
       "    this.current_frame = frame;\n",
       "    document.getElementById(this.img_id).src =\n",
       "            this.frames[this.current_frame].src;\n",
       "    document.getElementById(this.slider_id).value = this.current_frame;\n",
       "  }\n",
       "\n",
       "  Animation.prototype.next_frame = function()\n",
       "  {\n",
       "    this.set_frame(Math.min(this.frames.length - 1, this.current_frame + 1));\n",
       "  }\n",
       "\n",
       "  Animation.prototype.previous_frame = function()\n",
       "  {\n",
       "    this.set_frame(Math.max(0, this.current_frame - 1));\n",
       "  }\n",
       "\n",
       "  Animation.prototype.first_frame = function()\n",
       "  {\n",
       "    this.set_frame(0);\n",
       "  }\n",
       "\n",
       "  Animation.prototype.last_frame = function()\n",
       "  {\n",
       "    this.set_frame(this.frames.length - 1);\n",
       "  }\n",
       "\n",
       "  Animation.prototype.slower = function()\n",
       "  {\n",
       "    this.interval /= 0.7;\n",
       "    if(this.direction > 0){this.play_animation();}\n",
       "    else if(this.direction < 0){this.reverse_animation();}\n",
       "  }\n",
       "\n",
       "  Animation.prototype.faster = function()\n",
       "  {\n",
       "    this.interval *= 0.7;\n",
       "    if(this.direction > 0){this.play_animation();}\n",
       "    else if(this.direction < 0){this.reverse_animation();}\n",
       "  }\n",
       "\n",
       "  Animation.prototype.anim_step_forward = function()\n",
       "  {\n",
       "    this.current_frame += 1;\n",
       "    if(this.current_frame < this.frames.length){\n",
       "      this.set_frame(this.current_frame);\n",
       "    }else{\n",
       "      var loop_state = this.get_loop_state();\n",
       "      if(loop_state == \"loop\"){\n",
       "        this.first_frame();\n",
       "      }else if(loop_state == \"reflect\"){\n",
       "        this.last_frame();\n",
       "        this.reverse_animation();\n",
       "      }else{\n",
       "        this.pause_animation();\n",
       "        this.last_frame();\n",
       "      }\n",
       "    }\n",
       "  }\n",
       "\n",
       "  Animation.prototype.anim_step_reverse = function()\n",
       "  {\n",
       "    this.current_frame -= 1;\n",
       "    if(this.current_frame >= 0){\n",
       "      this.set_frame(this.current_frame);\n",
       "    }else{\n",
       "      var loop_state = this.get_loop_state();\n",
       "      if(loop_state == \"loop\"){\n",
       "        this.last_frame();\n",
       "      }else if(loop_state == \"reflect\"){\n",
       "        this.first_frame();\n",
       "        this.play_animation();\n",
       "      }else{\n",
       "        this.pause_animation();\n",
       "        this.first_frame();\n",
       "      }\n",
       "    }\n",
       "  }\n",
       "\n",
       "  Animation.prototype.pause_animation = function()\n",
       "  {\n",
       "    this.direction = 0;\n",
       "    if (this.timer){\n",
       "      clearInterval(this.timer);\n",
       "      this.timer = null;\n",
       "    }\n",
       "  }\n",
       "\n",
       "  Animation.prototype.play_animation = function()\n",
       "  {\n",
       "    this.pause_animation();\n",
       "    this.direction = 1;\n",
       "    var t = this;\n",
       "    if (!this.timer) this.timer = setInterval(function() {\n",
       "        t.anim_step_forward();\n",
       "    }, this.interval);\n",
       "  }\n",
       "\n",
       "  Animation.prototype.reverse_animation = function()\n",
       "  {\n",
       "    this.pause_animation();\n",
       "    this.direction = -1;\n",
       "    var t = this;\n",
       "    if (!this.timer) this.timer = setInterval(function() {\n",
       "        t.anim_step_reverse();\n",
       "    }, this.interval);\n",
       "  }\n",
       "</script>\n",
       "\n",
       "<div class=\"animation\" align=\"center\">\n",
       "    <img id=\"_anim_img44ad78020a0842a8ab11c7c03f4e2a2c\">\n",
       "    <br>\n",
       "    <input id=\"_anim_slider44ad78020a0842a8ab11c7c03f4e2a2c\" type=\"range\" style=\"width:350px\"\n",
       "           name=\"points\" min=\"0\" max=\"1\" step=\"1\" value=\"0\"\n",
       "           onchange=\"anim44ad78020a0842a8ab11c7c03f4e2a2c.set_frame(parseInt(this.value));\"></input>\n",
       "    <br>\n",
       "    <button onclick=\"anim44ad78020a0842a8ab11c7c03f4e2a2c.slower()\"><i class=\"fa fa-minus\"></i></button>\n",
       "    <button onclick=\"anim44ad78020a0842a8ab11c7c03f4e2a2c.first_frame()\"><i class=\"fa fa-fast-backward\">\n",
       "        </i></button>\n",
       "    <button onclick=\"anim44ad78020a0842a8ab11c7c03f4e2a2c.previous_frame()\">\n",
       "        <i class=\"fa fa-step-backward\"></i></button>\n",
       "    <button onclick=\"anim44ad78020a0842a8ab11c7c03f4e2a2c.reverse_animation()\">\n",
       "        <i class=\"fa fa-play fa-flip-horizontal\"></i></button>\n",
       "    <button onclick=\"anim44ad78020a0842a8ab11c7c03f4e2a2c.pause_animation()\"><i class=\"fa fa-pause\">\n",
       "        </i></button>\n",
       "    <button onclick=\"anim44ad78020a0842a8ab11c7c03f4e2a2c.play_animation()\"><i class=\"fa fa-play\"></i>\n",
       "        </button>\n",
       "    <button onclick=\"anim44ad78020a0842a8ab11c7c03f4e2a2c.next_frame()\"><i class=\"fa fa-step-forward\">\n",
       "        </i></button>\n",
       "    <button onclick=\"anim44ad78020a0842a8ab11c7c03f4e2a2c.last_frame()\"><i class=\"fa fa-fast-forward\">\n",
       "        </i></button>\n",
       "    <button onclick=\"anim44ad78020a0842a8ab11c7c03f4e2a2c.faster()\"><i class=\"fa fa-plus\"></i></button>\n",
       "  <form action=\"#n\" name=\"_anim_loop_select44ad78020a0842a8ab11c7c03f4e2a2c\" class=\"anim_control\">\n",
       "    <input type=\"radio\" name=\"state\"\n",
       "           value=\"once\" > Once </input>\n",
       "    <input type=\"radio\" name=\"state\"\n",
       "           value=\"loop\" checked> Loop </input>\n",
       "    <input type=\"radio\" name=\"state\"\n",
       "           value=\"reflect\" > Reflect </input>\n",
       "  </form>\n",
       "</div>\n",
       "\n",
       "\n",
       "<script language=\"javascript\">\n",
       "  /* Instantiate the Animation class. */\n",
       "  /* The IDs given should match those used in the template above. */\n",
       "  (function() {\n",
       "    var img_id = \"_anim_img44ad78020a0842a8ab11c7c03f4e2a2c\";\n",
       "    var slider_id = \"_anim_slider44ad78020a0842a8ab11c7c03f4e2a2c\";\n",
       "    var loop_select_id = \"_anim_loop_select44ad78020a0842a8ab11c7c03f4e2a2c\";\n",
       "    var frames = new Array(6);\n",
       "    \n",
       "  frames[0] = \"data:image/png;base64,iVBORw0KGgoAAAANSUhEUgAAAWgAAAFoCAYAAAB65WHVAAAABHNCSVQICAgIfAhkiAAAAAlwSFlz\\\n",
       "AAALEgAACxIB0t1+/AAAADl0RVh0U29mdHdhcmUAbWF0cGxvdGxpYiB2ZXJzaW9uIDMuMC4yLCBo\\\n",
       "dHRwOi8vbWF0cGxvdGxpYi5vcmcvOIA7rQAAHipJREFUeJzt3Xt0VOXdt/HvnklmMiEJCYdwMGgE\\\n",
       "xSAIAqFS7SOKCFIpCgZCPbxaX6UuD4ulVWuLRSpKqcUqpCqtbVFLW0+c3goIRcVSREQsB1EsKlAU\\\n",
       "jCQQICSTw8z9/kGZR8hMgGTIvjO5PmtlrWH2nnt+E+DKZM+exDHGGAEArONxewAAQHQEGgAsRaAB\\\n",
       "wFIEGgAsRaABwFIEGgAsRaABwFIEGgAsRaABwFIEGgAsRaABwFIEGgAsRaABwFIEGgAsRaABwFIE\\\n",
       "GgAsRaABwFIEGgAsRaABwFIEGgAsRaABwFIEGgAsRaABwFIEGgAsRaABwFIEGgAsRaCRUHJzc7V8\\\n",
       "+XK3xwDigkAjqtzcXGVnZ+vQoUOR637/+9/rkksucW8oS/zmN79Rfn6+/H6/brrppjrb33jjDeXl\\\n",
       "5Sk1NVWXXnqpduzY0fRDIiEQaMQUCoU0Y8YMt8ewTufOnfXggw/q5ptvrrOtpKREo0eP1pQpU7R3\\\n",
       "717l5+ersLDQhSmRCAg0Yrrvvvs0ffp0lZWVHXffYDCo66+/Xm3btlVmZqYGDBig4uJiSdLs2bPV\\\n",
       "o0cPpaenq2vXrvrtb38bud2KFSuUk5Ojxx57TNnZ2erUqZMWLFigxYsXq3v37mrTpo2mTp0a2X/y\\\n",
       "5MkqKChQYWGh0tPT1a9fP23YsCHqTOFwWNOmTVO3bt3Utm1bjR07Vnv37j3uvMczevRoXX311Wrb\\\n",
       "tm2dbfPmzVPPnj01ZswYpaSkaPLkydqwYYO2bNlyQmsD30SgEVN+fr4uueQSTZ8+/bj7Pv/889q/\\\n",
       "f7927typ0tJSzZo1S4FAQJKUnZ2t1157TQcOHNDs2bN1991364MPPojc9quvvlIwGNSXX36phx9+\\\n",
       "WLfeeqvmzJmjdevWaeXKlZoyZYq2bdsW2X/hwoUaM2aM9u7dq2uvvVZXX321ampq6sxUVFSkBQsW\\\n",
       "6O2339auXbuUlZWlO+6447jzTps2TSNGjGjQ52zz5s3q06dP5M+tWrVSt27dtHnz5gath5aNQKNe\\\n",
       "Dz/8sIqKirRnz55690tOTlZpaak+/fRTeb1e9e/fXxkZGZKkK6+8Ut26dZPjOBo0aJCGDh2qlStX\\\n",
       "HnXbiRMnKjk5WePGjVNJSYkmTJig9PR09ezZU+eee+5Rz5L79++vgoICJScn65577lEwGNS7775b\\\n",
       "Z6ZZs2bp0UcfVU5Ojvx+vyZPnqxXX31VtbW19c77wAMP6LXXXmvQ56u8vFytW7c+6rrWrVvr4MGD\\\n",
       "DVoPLRuBRr169eqlESNGaNq0afXud8MNN2jYsGEaN26cOnfurPvvvz/yrHbJkiUaOHCg2rRpo8zM\\\n",
       "TC1evFglJSWR27Zt21Zer1eSIs9iO3ToENkeCARUXl4e+XOXLl0ilz0ej3JycrRr1646M+3YsUOj\\\n",
       "Ro1SZmamMjMz1aNHD3m9XhUXF9c7b2OkpaXpwIEDR1134MABpaenN3pttDwEGsf185//XM8++6y+\\\n",
       "/PLLmPskJyfroYce0kcffaR33nlHr732ml544QVVVVXpmmuu0b333qvi4mKVlZXpu9/9rowxDZ5n\\\n",
       "586dkcvhcFhffPGFOnfuXGe/Ll26aMmSJSorK4t8BINBnXbaaTHnbayePXse9Wz/0KFD+uyzz9Sz\\\n",
       "Z89Gr42Wh0DjuM466ywVFhZq5syZMfd56623tGnTJoVCIWVkZCg5OVkej0fV1dWqqqpS+/btlZSU\\\n",
       "pCVLlmjZsmWNmmfdunWaN2+eamtr9eSTT8rv92vgwIF19rvttts0ceLEyGlue/bs0cKFC+ud90TU\\\n",
       "1tYqGAwqFAopFAopGAyqtrZWkjRq1Ch9+OGHmjt3roLBoB5++GH17t1beXl5jXrMaJkINE7IpEmT\\\n",
       "jjon+lhfffWVCgoKlJGRoR49emjQoEG64YYblJ6erpkzZ2rs2LHKysrSX/7yF40cObJRs1x11VV6\\\n",
       "6aWXlJWVpT/96U+aN2+ekpOT6+w3YcIEjRw5UkOHDlV6eroGDhyoNWvW1DuvJE2dOlXDhw+Pef+P\\\n",
       "PPKIAoGApk2bpjlz5igQCOiRRx6RJLVv315z587VxIkTlZWVpTVr1ujFF19s1ONFy+WYxnyvCTSx\\\n",
       "yZMn69NPP9WcOXPcHgU45XgGDQCWItAAYCkOcQCApXgGDQCWItAAYKkktwdoiHbt2ik3N9ftMQBY\\\n",
       "ZPv27Ue9QzURNMtA5+bm6v3333d7DAAWyc/Pd3uEuOMQBwBYikADgKUINABYikADgKWa5YuEsJ+p\\\n",
       "XitT8bJkKuSkDJdSrpDj8M8NOBn8j0Hchcufksp/JykoychUr5Iq50pZv5fjeN0eD2g2OMSBuDKh\\\n",
       "Yql8lqRKSf/9KQKmQqr+l1T1lpujAc0Oz6BRL2NqpKo3ZKpWS96OcgKj5Hg7xr5B9WrJ8Uba/L8q\\\n",
       "ZKr+LidlyKkcF0goBBoxGROUKb1WCn1++FmwfDKHZkmZs+T4vx39Rk6aJCfKBq/ktI5yPYBYOMSB\\\n",
       "mMyhP0m1n/43zpJULZlKmf0/kjHh6Dfy/4+kaMeZk+UECk7RpEBiItCILfg3HX6h7ximQqrdGvUm\\\n",
       "juOXk/UHyck8/GzaSZPklzImyUnufkrHBRINhzgQm+OLfr0xsbdJcnx9pOxVUvV7kglKvm/J8aSf\\\n",
       "oiGBxEWgEZMT+L5MzVYdPiMjcq3k7Sh5c+u/rZMs+S86leMBCY9DHIgtMEpKGSIp5fCH00pysuRk\\\n",
       "PSXHifZCIIB44hk0YnIcj5zMx2Vq/i3VfCB52kn+i+XUc3gDQPwQaByXk9xd4gU+oMlxiAMALEWg\\\n",
       "AcBSBBoALEWgAcBSBBoALEWgAcBSBBoALEWgAcBSBBoALEWgAcBSBBoALEWgAcBSBBoALEWgAcBS\\\n",
       "BBoALEWgAcBSBBoALEWgAcBSBBoALEWgAcBSBBoALEWgAcBSBBoALEWgAcBSBBoALEWgAcBSBBoA\\\n",
       "LEWgAcBSBBoALEWgAcBSBBoALEWgAcBSBBoALEWgAcBSBBoALEWgAcBSBBoALEWgAcBSBBoALEWg\\\n",
       "AcBSBBoALEWgAcBSBBoALEWgAcBSBBoALEWgAcBSSW4P0BihUEjvLFirt19+R/5Uv4b/38Hq9Z0e\\\n",
       "bo8FAHHRbAMdDof10NWPacOKzQoeqpLjSG+/8o4K779aN0wa4/Z4ANBozfYQx9ol/9KGtz9S8FCV\\\n",
       "JMkYqaqiWi9Om6+SL0tdng4AGq/ZBnrVwrUKlgfrXO9N8mjd3ze6MBEAxFezDXRaZqo83rrjO45H\\\n",
       "qRmpLkwEAPHVbAM97KZLleyLcgjdkb41/PymHwgA4qzZBvqMc7vojqKb5Qv4lJoRUGpGQGmZrfTo\\\n",
       "op/KH/C7PR4ANFqzPYtDkobffJkuvmag1r+1Wb6UZJ0/uJeSfclujwUAcdGsAy1JrVq30kVXf8vt\\\n",
       "MQAg7prtIQ4ASHQEGgAsRaABwFIEGgAsRaABwFIEGgAsRaABwFIEGgAsRaABwFIEGgAsRaABwFIE\\\n",
       "GgAsRaABwFIEGgAsRaABwFIEGgAsRaABwFIEGgAsRaABwFIEGgAsRaABwFIEGgAsRaABwFIEGgAs\\\n",
       "RaABwFIEGgAsRaABwFIEGgAsRaABwFIEGgAsRaABwFIEGgAsRaABwFIEGgAsRaABwFIEGgAsRaAB\\\n",
       "wFIEGgAsRaABwFIEGgAsRaABwFIEGgAsRaABwFIEGgAsRaABwFIEGgAsRaABwFIEGgAsRaABwFIE\\\n",
       "GgAsRaDRYF9//bWeeeYZjRo1SmeccYZSUlLUqlUrde3aVYWFhfrb3/4mY0xc7isUCumFF17QlVde\\\n",
       "qc6dO8vv96tVq1Y6++yzdeONN+qf//znCa+1d+9eTZ48Wb1791Z6erqysrI0YMAATZ8+XRUVFS16\\\n",
       "nXjNgjgxzVD//v3dHqHF++EPf2h8Pp+RZDp27Gjuuece8/TTT5uioiIzevRo4ziOkWQGDx5sSktL\\\n",
       "G3VfxcXFJj8/30gySUlJ5uabbzZFRUVm2rRpZvjw4UaSkWRuv/12Ew6H611r7dq15rTTTjOSzKWX\\\n",
       "XmqKiorM448/bvr27WskmR49epjPPvvsuDMl4jrxmsUtidgFAo0G8fv9RpK54oorzMGDB+tsX7hw\\\n",
       "ofF4PEaSufDCC00oFGrQ/YTDYXPRRRcZScbv95u1a9fW2WfGjBmRSD/66KMx19q5c6fp0KGDkWRu\\\n",
       "u+22o7bV1NSYESNGREK0f//+FrVOvGZxUyJ2gUCjQfx+vwkEAmb37t0x9xk/fnwknH/+858bdD8r\\\n",
       "V66MrDFhwoSo+4TDYXP++ecbSSYzM9PU1NRE3W/cuHFGkunUqZM5dOhQne27du0yKSkpRpL56U9/\\\n",
       "GnOmRFwnXrO4KRG7QKDRIH6/31xyySX17rNs2bJIXMeOHdug+3n88ccja/z1r3+Nud83vxhs3Lix\\\n",
       "zvatW7dGDrvcd999MdcpKCgwkkxqamrU7wwScZ14zeK2ROwCLxLGyY9+9CM5jtOgj//85z9uj3/S\\\n",
       "5s+fr5kzZ9a7zxlnnBG53NDHWF1dHbmcmpoac79WrVpFLpeXl9fZ/uqrr0ZesLz88stjrjNkyBBJ\\\n",
       "UkVFhRYtWtQi1onXLIg/Ah0nq1atatDtcnJydPrpp8d5mrq+Gbp4GD58uM4777x699m/f3/k8jcD\\\n",
       "ejJ69+4dufzxxx/H3O/INsdx1K1btzrb33zzzcjlvn37xlynX79+kctvvPFGi1gnXrMg/gh0nDz3\\\n",
       "3HNavXp15M/jx4/Xpk2b6nyceeaZkqQLLrhAmzZt0j/+8Y8Tvo8lS5bolltu0be//W3l5+eroKBA\\\n",
       "Tz/9tHbv3h3zNsYYPfnkk5o+fXrDH1wDbdu2LXL54osvbtAaw4YNi0S6qKgo6rPjdevWadmyZZKk\\\n",
       "UaNGKTs7u84+mzZtkiQFAgG1a9cu5v116dIlcnnz5s0tYp14zYJTwM3jKw1l67GmVatW1fuiWGVl\\\n",
       "pUlKSjKSzF133XXC665du9b069cvsvaxHx6PxwwZMsTMmjXLbNmyxVRWVppdu3aZOXPmRE6Reuih\\\n",
       "h+L4SE/M97//fSPJ+Hw+s3Pnzgavs2vXLnP55ZcbSSYvL8+88sorZuvWrWbjxo2mqKjIZGZmRk4N\\\n",
       "KykpqXP7YDAY+Vzl5ubWe1+hUChyPLZz584Jv068ZrGBrV1ojKSm+TLQMmzcuDFy+Zvfmh+xadMm\\\n",
       "1dbWSpL69OlzQmtWV1dr4MCBCoVCys7O1lVXXaW8vDyVl5fro48+0tKlS1VWVqbly5dr+fLlUdfo\\\n",
       "0aOHRo4c2YBH1HBff/21FixYIOnw8fmcnJwGr9WpUyctXbpU8+fP109+8hONGTPmqO2DBw/WLbfc\\\n",
       "osLCQnk8db8pPHjwYORySkpKvffl8Xjk8/lUVVV11O0SdZ14zYJTg0DH0ZFA+3w+5eXl1dm+fv36\\\n",
       "yOVoAY8mHA4rOTlZU6dO1YQJE+T3+4/aXltbq+XLl+uVV17RokWLVFxcLOnwf6b+/fvr1ltv1Y03\\\n",
       "3iifz9fQh9Ug9957ryorK3X++edr0qRJjVrrq6++0l133aV58+YpOztbU6ZMUZ8+fVRTU6NVq1bp\\\n",
       "d7/7ncrLy+X3+zV69Og6t6+srIxcPpHPw5EIHfvOuURcJ16z4BRx+yl8Q9j6rcyRN1T06dMn6vbb\\\n",
       "b7/dSDJer9dUVFSc0Jo1NTVm/fr1JzzD3r17zeeff27Ky8tP+Dbx9vzzzxtJJjs722zbtq1Ra5WW\\\n",
       "lpquXbsaSebss882xcXFdfbZsGGDSU9PN5LMj3/84zrb9+zZE/k2Pi8v77j3eeRNOOnp6Qm/Trxm\\\n",
       "sYGtXWgMXiSMoyMvtsR6dnzkGfRZZ52lQCBwQmsmJSUddThk+/btmj9/vl5++WWtX7++zs+6yMrK\\\n",
       "0plnnnnUWRP79u3TkiVLTuqxNNSKFSs0fvx4ZWRkaPHixcrNzW3Ueg8++KA+//xzSdKMGTOivgDY\\\n",
       "u3dvPfDAA5KkX/7yl3Uea3p6euRyMBis9/7C4XDkjJdv3i5R14nXLDg1CHScbN++XQcOHJAUPdDG\\\n",
       "mMghkBM9vPFNGzZs0JAhQ3TmmWdq9OjRKiwsVN++fdW1a1dNmTJFpaWlUW+3ceNGXXTRRVqzZs1J\\\n",
       "3+fJWr16tUaOHKmUlBQtXbpU/fv3b9R64XBYL774oqTDp+kNHTo05r6jRo2KXH7qqaeO2ub3+9Wx\\\n",
       "Y0dJihwCiuXrr7+OfNE79otLIq4Tr1lwahDoODneC4Sffvpp5BSxE32B8IinnnpKAwYMiHru6fbt\\\n",
       "2zVp0iR16dJFP/jBD7RgwQJt3LhRr7/+usaPH68BAwbUe/5wvLz77ru64oor5DiOli5dqoEDBzZ6\\\n",
       "zT179mjfvn2SDp/i5fV6Y+575PRF6fAXs2P16tVL0uFjriUlJTHX+eKLLyKXe/bs2SLWidcsiD8C\\\n",
       "HSfHC3RDXiCUDn/beeedd6qmpkYXXnihnnjiCS1atEgvvfSSHnroociz1MrKSj333HMaNWqU+vTp\\\n",
       "o+HDh+vZZ59VdXW1hg4dqptuuqnhD+443nvvPQ0bNkyStGzZMl1wwQVxWfebZ2QceyjnWN/cHgqF\\\n",
       "6mwfPHhw5PK//vWvmOt88MEHUW+TyOvEaxacAq4d/W4EG18MGDNmjJFk2rdvH3X7xIkTIy/G7Nix\\\n",
       "44TXraysNF26dDGvv/56zH22bdtmHnvsMTNo0CCTnZ1tfD6fOf300821115r3nzzzZN+LCfjvffe\\\n",
       "M61btzYZGRlm9erVUfeZPHlyg/7OQqGQycjIMJJMIBAw1dXVMffdtGlT5PM7cODAOtv//e9/R87h\\\n",
       "vf/++2Ouc+TvMRAImAMHDrSIdeI1i9ts7EJjEeg4Oeecc4wkc9lll0Xdfs0110R+0MzJCIVCjf55\\\n",
       "yqfK2rVrTWZmZr1xNsaYG2+80UR7LhAKhUxhYaFJT0839957b9TbXnvttZHwzp07N+Z9PPjgg5H9\\\n",
       "pkyZEnWfsWPHRt5kEe0smt27d5tAIBDzbJBEXides7jJxi40FoGOg4qKCuP1eo0kc/fdd0fd5+KL\\\n",
       "LzaSTFpaWswfh9mcrFu3zmRlZRlJZurUqeatt96K+TFs2LCogX799dePekfkJ598UmefTz75xKSl\\\n",
       "pRlJpkuXLlFP21u5cmXkR2Hm5OTE/HnFO3bsMNnZ2UaSueOOO47aVlNTY0aOHGkkme7du5uysrKY\\\n",
       "jz0R14nXLG6yrQvxQKDjYO3atZHIzJ49O+o+R/6BSzK9e/c2t956a9MOGUelpaWROJ/Mx7EWL158\\\n",
       "1PYtW7ZEvb8VK1aYjh07Rs6/vfPOO82zzz5rnnnmGXPddddF3j6fl5dnPv7443pnX7NmjencubOR\\\n",
       "Dv+2l6KiIvPrX/868lb6c845x2zduvW4n4NEXCdes7jFti7EA4GOgz/+8Y+RyKxbty7qPqtWrTLd\\\n",
       "u3c3SUlJpl27dvUe67Pdtm3bTjrO0QJdW1trCgoKTFpaWsxDHEfs27fPPPHEE+ayyy4zHTp0MD6f\\\n",
       "z6SkpJicnBwzYsQI84c//MFUVlae0PwlJSXmZz/7menVq5dJS0szGRkZpn///uaxxx6L+sPqW9I6\\\n",
       "8ZrFDbZ1IR4cY+L0Wz2bUH5+vt5//323xwBgkUTsAqfZAYClCDQAWIpAA4ClCDQAWIpAA4ClCDQA\\\n",
       "WIpAA4ClCDQAWIpAA4ClCDQAWIpAA4ClCDQAWIpAA4ClCDQAWIpAA4ClCDQAWIpAA4ClCDQAWIpA\\\n",
       "A4ClCDQAWIpAA4ClCDQAWIpAA4ClCDQAWIpAA4ClCDQAWIpAA4ClCDQAWIpAA4ClCDQAWIpAA4Cl\\\n",
       "CDQAWIpAA4ClCDQAWIpAA4ClCDQAWIpAA4ClCDQAWCrhA21qPlR4700KF+crXHKlTOVit0cCgBOS\\\n",
       "5PYAp5Kp+Uim9DpJlYevqD0gs/8nMuESeVr9H1dnA4DjSehn0Obgk5KCx1xbKZXPkDE1bowEACcs\\\n",
       "oQOt2g8lmbrXmxopXNLk4wDAyUjsQHtPi7HBSJ7MJh0FAE5WQgfaSbtTUsox16ZIqWPlOAE3RgKA\\\n",
       "E5bYgfYPkjKmSJ42knw6HOdxctJ/4vZoAHBcCX0WhyR5Uq+SCXxPMmWSkybH8bk9EgCckIQPtCQ5\\\n",
       "jkdy2rg9BgCclIQ+xAEAzRmBBgBLEWgAsBSBBgBLEWgAsBSBBgBLtYjT7JoLY8IyFS9LFS9I5pDk\\\n",
       "v0xO2h1yvG3dHg2ACwi0RcyBSVLl3xT58aiVL8lULZfaLZLjSXd1NgBNj0McljChXVLlQkXiLEmq\\\n",
       "kcJlMhWvuDUWABcRaFvUfCg5yVE2BKXqd5t8HADuI9C28HaUFI6yIUlKOr2ppwFgAQJti6TzJG8X\\\n",
       "1XlZwEmWk3q9KyMBcBeBtoTjOHKyZku+fEV+NKqng5zMp+Uk5bo8HQA3cBaHRRxvOzltXpAJ75XC\\\n",
       "FZL3NDmO4+pMJrRbpvx3UvV7kreznLTxcnwDXJ0JaCkItIUcT5v//pIBd5naL2RKr5ZMhaRaKbRV\\\n",
       "Zu8amYxH5Ekd6fZ4QMLjEAdiMoeKJFMuqfYb1walg4/ImNpYNwMQJzyDRmxVqxX1zBJTJYV2Nauz\\\n",
       "S4yplir/n0zwNclJlZNaKPkudv0QElAfAo3YPO2k8FdRNoQkT+smH6ehjKmV2XuTVLNZR94IZKpX\\\n",
       "SYHr5GTc7+psLdHXO0u0d/c+nXFujgJp/PLm+hBoxOSkjZcp+7GOfnejT/JfIqcZBVpVb0i1H+mo\\\n",
       "x2EqpYo/ybS6Xo63s2ujtSSH9h/Sw2N/rQ9XfqwkX5JCNSFdP6lA4348yu3RrMUxaMTkpFwhpd0u\\\n",
       "KUVy0iT5Jd+FclpPc3u0k2KqVvz3hc5jOF7epdmEfnH9TG16+yNVB2tUcaBSVZXV+vOUuVo5b43b\\\n",
       "o1mLZ9ColyfthzKpN0ihzyVPezneDm6PdPI8WTr8T/3YFzYdyWlG3wk0Y/tLDuiD5RtVU33030Gw\\\n",
       "okov/2qh/mf0BS5NZjeeQeO4HE+qnORezTPOkpxAgaI/F0mS/P/T1OO0SAdKD8qbHP35YFnx/iae\\\n",
       "pvkg0Eh4TlJXqfUvJCf18KEap9Xh7wbaPC/H8bk9XovQqWsHJSV561zvTfKq/9DeLkzUPBBotAie\\\n",
       "wJVyst+Vk/mUnKw/ymm/Uk7yuW6P1WIkJSfpjpk/kD/1f78gJvm8Sm0d0HUPFrg4md04Bo0Ww3FS\\\n",
       "JP+33R6jxRpy/SB1zM3WS79aqOLte9T3svM05t6RatfZ/XfN2opAA2gyvb7TQ72+08PtMZoNAg00\\\n",
       "E8aEpJr1kqmRfH3lOH63R8IpRqCBZsBUb5Apu00yQUmOJCO1/pWclCFuj4ZTiBcJAcsZUymz72Yp\\\n",
       "XHr4t72bcskckim7Ryb0pdvj4RQi0IDtgm8q+q9DC8lUzG/qadCECDRgO3NAMqEoG2qk8N4mHwdN\\\n",
       "h0ADtvMNlGTqXu+kykkZ1OTjoOkQaMByTtKZUmCM5HzzR3MGpOTzJR9vVU9knMUBNANOxs8k/3dk\\\n",
       "Kl+STJWcwFVSyvfkODzHSmQEGmgGHMeRUgbLSRns9ihoQnz5BQBLEWgAsBSBBgBLEWgAsBSBBgBL\\\n",
       "EWgAsBSBBgBLEWgAsBSBBgBLEWgAsBSBBgBLEWgAsBSBBgBLEWgAsBSBBgBLEWgAsBSBBgBLEWgA\\\n",
       "sBSBBgBLEWgAsBSBBgBLEWgAsBSBBgBLEWgAsBSBBgBLEWgAsBSBBgBLEWgAsBSBBgBLEWgggZSX\\\n",
       "HdLjtz6jka1v0PfSr9cvrp+hfcVlbo+FBkpyewAA8REOh3X3xT/TF//erdrqWknS2y+v1oertmj2\\\n",
       "lpny+ZNdnhAni2fQQIJY9/eNKt6+JxJnSQrVhnSwtFz/nPuui5OhoQg0kCC2f7hTNVU1da6vLA/q\\\n",
       "8407XJgIjUWggQSR072TklPqHsZISfOrS95pLkyExiLQQIL41vC+ymzfWt4kb+Q6j9ejQKsUDRp7\\\n",
       "oYuToaEINJAgvElezVj1iC64sp+8SV55vB71u+w8Fb37C6Wk+t0eDw3AWRxAAsnqkKmfz79f4XBY\\\n",
       "xhh5vd7j3wjWItBAAvJ4+OY4EfC3CACWItAAYCkCDQCWItAAYCkCDQCWItAAYCkCDQCWcowxxu0h\\\n",
       "Tla7du2Um5vr9hgALLJ9+3aVlJS4PUZcNctAA0BLwCEOALAUgQYASxFoALAUgQYASxFoALAUgQYA\\\n",
       "SxFoALAUgQYASxFoALAUgQYASxFoALAUgQYASxFoALAUgQYASxFoALAUgQYASxFoALAUgQYASxFo\\\n",
       "ALAUgQYASxFoALAUgQYASxFoALAUgQYASxFoALAUgQYASxFoALAUgQYASxFoALAUgQYASxFoALAU\\\n",
       "gQYASxFoALAUgQYASxFoALAUgQYASxFoALAUgQYASxFoALAUgQYASxFoALAUgQYASxFoALDU/we4\\\n",
       "SftVWKRXiwAAAABJRU5ErkJggg==\\\n",
       "\"\n",
       "  frames[1] = \"data:image/png;base64,iVBORw0KGgoAAAANSUhEUgAAAWgAAAFoCAYAAAB65WHVAAAABHNCSVQICAgIfAhkiAAAAAlwSFlz\\\n",
       "AAALEgAACxIB0t1+/AAAADl0RVh0U29mdHdhcmUAbWF0cGxvdGxpYiB2ZXJzaW9uIDMuMC4yLCBo\\\n",
       "dHRwOi8vbWF0cGxvdGxpYi5vcmcvOIA7rQAAIABJREFUeJzsnXd4HNXVh98729Wb5SZ3Y9zAYAx2\\\n",
       "KKF3h957TQhJIPQQkpiYEj7AhARCAoTuQOgGDKbGdAgYBxsbG/cqWVbv22bu98dakmXVXe3uzOze\\\n",
       "93n02NLO3Dk75TfnnnvuuUJKKVEoFAqF5dDMNkChUCgUXaMEWqFQKCyKEmiFQqGwKEqgFQqFwqIo\\\n",
       "gVYoFAqLogRaoVAoLIoSaIVCobAoSqAVCoXCoiiBVigUCouiBFqhUCgsihJohUKhsChKoBUKhcKi\\\n",
       "KIFWKBQKi6IEWqFQKCyKEmiFQqGwKEqgFQqFwqIogVYoFAqLogRaoVAoLIoSaIVCobAoSqAVCoXC\\\n",
       "oiiBVigUCouiBFqhUCgsihJohUKhsChKoBUKhcKiKIFWKBQKi6IEWqFQKCyKEmiF5Rk5ciTvv/++\\\n",
       "2WYoFElHCXQaMXLkSIqLi2lqamr72z//+U8OOeQQ84yyCA8++CDTpk3D4/Fw0UUXdfr8gw8+YPz4\\\n",
       "8WRkZHDooYeycePGts8CgQCXXHIJOTk5DBo0iPvuu6/ts2AwyGmnncbIkSMRQvDhhx92aFdKyU03\\\n",
       "3URhYSGFhYXcdNNNSCkT9TUVNkMJdJqh6zp/+ctfzDbDcgwZMoTf/e53XHLJJZ0+q6ys5JRTTuG2\\\n",
       "226jurqaadOmceaZZ7Z9fuutt7J69Wo2btzIwoULufvuu3n77bfbPj/wwAOZO3cugwYN6tT2I488\\\n",
       "wrx581iyZAlLly7ljTfe4OGHH07Ml1TYDiXQacYNN9zAvffeS21tba/b+v1+zjvvPAoLC8nLy2Pf\\\n",
       "ffelvLwcgCeeeIIJEyaQnZ3N6NGjO4jKhx9+SElJCXfffTfFxcUMHjyYefPm8dZbbzFu3DgKCgq4\\\n",
       "884727a/9dZbOe200zjzzDPJzs5m6tSpLFmypEubDMPgrrvuYsyYMRQWFnLGGWdQXV3dq729ccop\\\n",
       "p3DSSSdRWFjY6bNXXnmFSZMmcfrpp+P1ern11ltZsmQJK1euBOCpp57i97//Pfn5+UyYMIHLL7+c\\\n",
       "J598EgC3282vf/1rDjzwQBwOR6e2n3rqKa677jpKSkoYOnQo1113Xdu+CoUS6DRj2rRpHHLIIdx7\\\n",
       "7729bvvUU09RV1fH5s2bqaqq4h//+Ac+nw+A4uJi5s+fT319PU888QTXXHMNixcvbtt327Zt+P1+\\\n",
       "tm7dyuzZs7n88suZO3cu33zzDZ988gm33XYb69evb9v+tdde4/TTT6e6uppzzjmHk046iVAo1Mmm\\\n",
       "Bx54gHnz5vHRRx9RWlpKfn4+v/jFL3q196677mLmzJkxnbPly5czZcqUtt8zMzMZM2YMy5cvp6am\\\n",
       "hrKysg6fT5kyheXLl8fUdjT7KlIfJdBpyOzZs3nggQeoqKjocTuXy0VVVRVr1qzB4XCwzz77kJOT\\\n",
       "A8Dxxx/PmDFjEEJw8MEHc9RRR/HJJ5902PeWW27B5XJx1llnUVlZydVXX012djaTJk1i4sSJHbzk\\\n",
       "ffbZh9NOOw2Xy8W1116L3+/nyy+/7GTTP/7xD+644w5KSkrweDzceuutvPTSS4TD4R7t/c1vfsP8\\\n",
       "+fNjOl+NjY3k5uZ2+Ftubi4NDQ00Nja2/b7rZ7G0nZubS2Njo4pDKwAl0GnJ5MmTmTlzJnfddVeP\\\n",
       "251//vkcffTRnHXWWQwZMoQbb7yxzatdsGABM2bMoKCggLy8PN566y0qKyvb9i0sLGzr0rd6sQMH\\\n",
       "Dmz73OfztYkbwLBhw9r+r2kaJSUllJaWdrJp48aNnHzyyeTl5ZGXl8eECRNwOByUl5f3aG9/yMrK\\\n",
       "or6+vsPf6uvryc7OJisrq+33XT+Lpe36+nqysrIQQvTbboX9UQKdpvzxj3/k0UcfZevWrd1u43K5\\\n",
       "mDVrFt9//z2ff/458+fP5+mnnyYQCHDqqady/fXXU15eTm1tLccdd1y/vL7Nmze3/d8wDLZs2cKQ\\\n",
       "IUM6bTds2DAWLFhAbW1t24/f72fo0KHd2ttfJk2a1MHbb2pqYu3atUyaNIn8/HwGDx7c4fMlS5Yw\\\n",
       "adKkmNqOZl9F6qMEOk0ZO3YsZ555Jn/961+73WbhwoV899136LpOTk4OLpcLTdMIBoMEAgEGDBiA\\\n",
       "0+lkwYIFvPvuu/2y55tvvuGVV14hHA5z//334/F4mDFjRqftrrjiCm655Za2NLeKigpee+21Hu3t\\\n",
       "C+FwGL/fj67r6LqO3+8nHA4DcPLJJ7Ns2TJefvll/H4/s2fPZs8992T8+PEAXHDBBdx+++3U1NSw\\\n",
       "cuVKHn300Q6peoFAAL/fD0TS7vx+f9vL7IILLuC+++5j69atlJaWMmfOnC7T/BRpilSkDSNGjJDv\\\n",
       "vfde2++bNm2SHo9HHnzwwV1u/+yzz8px48bJjIwMWVxcLH/1q1/JUCgkpZTywQcflMXFxTI3N1ee\\\n",
       "d9558swzz5S33HKLlFLKhQsXyqFDh7a1EwqFJCDXr1/f9rcDDjhAPvPMM1JKKWfNmiVPPfVUecYZ\\\n",
       "Z8isrCy51157yW+++aZLu3Vdl3PmzJHjxo2TWVlZcvTo0fLmm2/u1d477rhDHnPMMd2em1mzZkmg\\\n",
       "w8+sWbPaPn/vvffk7rvvLr1erzz44IM7fBe/3y8vvvhimZ2dLYuLi+WcOXM6nfdd227d3zAMecMN\\\n",
       "N8j8/HyZn58vb7jhBmkYRrd2KtILIaUajVCYy6233sqaNWuYO3eu2aYoFJZChTgUCoXCoiiBVigU\\\n",
       "CouiQhwKhUJhUZQHrVAoFBZFCbRCoVBYFKfZBsSCW3jwkpmw9iOzuCRmBX+y8jLJysugfFMlQoA0\\\n",
       "kmeLpgkMI7aDCSHRNImu9/belxQNClFQHO7y00BAsPGHyOzDsZOb6WMqc9SEQpHZek6XpKt5exIn\\\n",
       "peudSClpbtSgy60UrQzbfQi+LC/rlm4kHNJ73b51tmS0UVYhIHdADnUVDbRNuBQCZx4dZrOmArYU\\\n",
       "aC+ZTBeHJ/5AZj2PdeBocjBC6pGs2WTaImM/ltNlMHpSC7+4fSt/unIE2zZ5uj3IHqMaufeVdV1+\\\n",
       "GgwILvrReEaMC3Dl7WUMG9sSm0G90KoL3c2qlhL8LfDgzSW8/2J7lTshJPse1sCPjq6jsd7Be88X\\\n",
       "sGm1NyE22onJA8fz549u47zRV1K+oec6Lx2I5X5rbV62/1szcn13W9sWWwp0OqCHe/dArEY4pLHx\\\n",
       "By+aE/7+/irOmTqRlh2e58En1HDGL7aTXxymeruTytLubz1Nkzy88AccGrh9ibtF+1LuwpcBB59Q\\\n",
       "x6dv5uFvduDx6jz4zmpKxgTQNDB0OPHiSh787VDefb5zqdJ0YtknK3n0xmeo2dZ7KVtF37BlFkeO\\\n",
       "KEiOB63Yha7d64LiEBfcsI39jqgn0KzR3KgxZrKfpgYNhwMCfkFGloHbE7nVevJc9XDk71rn0smm\\\n",
       "YRhwx89GsGhhFve/sYaR4wOdbA+0CM7aaxLNDe2GFw0KUrnNhQqNJIeaqetZtGiR2WbEFeVB2xi3\\\n",
       "14Xm0PA3BZJ0RIGmGRiGoFV0snLD/O2dVeQUhHG6IlsZRkRkM7MNhADfLsMFXXuuLsCBwxkGuopN\\\n",
       "R8YFzEDT4HePbOSHb30MH9dZnCHy0tnrgEY+fzsXkJx0WQUDBod49PYhZpmtSAGUQNuYUDCMjGZA\\\n",
       "r58a5/HpHH9+FQ21Liqr9mXV1z9w3HlVZOTobeIMtA3qRVcxUwd6Kg1qrsoJAeP37j4W7nBIgn6B\\\n",
       "y2MweESQS35bxopvMnG5JKFg/z1ozaFh6Ea/21HYCyXQFkJzahjhvj+EUYkzkJHto7k+2gG3SFjD\\\n",
       "49MpGR3g4t9sw+11g3M12zf8QF2NA68vHuIZD/Fx0rX3nXgMKdi6wcMpl1dw7jXb8Hhhyv5NjJrQ\\\n",
       "wqol/cs48mV7+fFpP+LTV76iqa6p9x0SgBACzaGhOQShgDnnOB1RedAWISPXh9OZ2MBrRrYPIQRu\\\n",
       "r8HZV5fz2CcrKBgY7HZ7zSEZNDzInvs38NNZpfz59TW4vRIIQHgpxSUhdtvDn1CboyNW4XAReRSi\\\n",
       "P/9StsbUJU9+vpJLfrsNTyRDECHghIur8Gb0b8DX3xjgw+c/w9+UmGyWVoQQncPlO/WGRu0xjN89\\\n",
       "fy2+7K4zVtQiA/FHDRJaAQFCE0g9sZfCl+0i0BTgz6+vZdSEFjw+yQcv5/GXG4cRaGl/V3u8Blm5\\\n",
       "IYaODnLbM+vxZtjuFrEMhgH3XVvCR6/nI4TE0AWhYGx+kcOpoUfRw0oEDpeDYy4+lPfnfkygufuX\\\n",
       "ezQIQVzy/NUgoU1xehyEAxZOW5MkXJwBWhpC7HtYAyN29+PZEZY4/NRaNAc8edcgtm91M7AkyMU3\\\n",
       "lzFl/0Yqylw4nOkqzhrxCLtoGlx//xbO/GUF33+dSW5RiIduGUr5ltYc8b4nugstPjb1Bz2k8/7c\\\n",
       "T9jz4Il88+4SjDjct/ZzEZNHanvQAjw+N0N3G8yWH0oJ+vu/Pp3dueg3pZz1q4ooB/DSES8IB8j4\\\n",
       "xnylhOYGwaUH7s6UA5uZckADrzwygM2rvdgpHc+T4Y6bBx0vlAdtNyQEmoOsW7rR7CQACyCZ+uMG\\\n",
       "ho1NVkqe3fGDNh70lXFtVQjIyJb8638rESLy+yEn1lG20c11J4+lpdFCCeA9YDVxTlXSY5Aw7cUZ\\\n",
       "HE7JNfdt5kdH1Svvua/EWZxbEQIcjkj4QwjIyDIYNjbAJb8ta9vG4XLgdDvJzPXhdAs0Td3E6Uh6\\\n",
       "CHSK4vI4yczNICNbcsxZVZx+5XbG7tHMrm8kTZNMnt5E8ZAwDqeK+VkRt0dy2Mk1+LJ0XB444/oT\\\n",
       "eHHbP/njXBc//UMZ3gyVA52OpHYMOoURmmDg8AH89ZOT8AavwjAkTpeBoQu+/SyLP/18OHpY4HBC\\\n",
       "dr7OffPWMGCIisFbGT0Mn7yZxx7TGygcfQm49oS6q5GGQcAvWPRhNg/PGsr2rW4AhCbJyNJpqk9c\\\n",
       "pNLpcjBgeBGVW6oJBax9/6RiDFoJtMXxZnoYuttgNizfjL6jhKPm0Jh0wO7cPPcXFLpmgqzrsI+U\\\n",
       "sGWdm/99nM3AYUGmHdKAI7VHG1KUjlM/9TA01Gtcsv9EpJSc8+tyRk1oYdaFowmHEtAZFlA0pIBb\\\n",
       "nr+Gxe8t5Zk/vhj/Y8SRVBRo9dhanFAwzN6HTya3OIclC5fjcjvQdYPMnGZynH8CWd9pHyFg2Jgg\\\n",
       "w8ZUmWBxNPiAxE6+sDcdfSeHE3LzDf7+/grcbsgt0lm7zIfbIwknwrmVULm1mmsO+r0axzGJlBPo\\\n",
       "1tlQ0U6Dtip6SOelOfNpnXKth3SKhwa57q43ESEDXHb+nkqco0UIGFjSntM/ZlILoyc1s+y/2bts\\\n",
       "J5EyTqPBdr7FbE7KDRLK9rm3KUb7w3bhTWVk5ug4bS3O6UTi0mY0B/zfC+vYfe/Gtr85XQY5BWFy\\\n",
       "C62ZCpeRm2G2CbYh5QQaUlGfO36hfQ5uVDFlRRtOF8x+agP7HFzPyPEtnHhJJf/4YBVzv17BoSdV\\\n",
       "YyUX2OHUGDZuiEr17CMp+5gLTaRMmAPA4TTQw5H3aVO9g/wB3RQG0kaBYzSEPkiidYqeSfx9mFek\\\n",
       "c+dznZd8umbOFr77KovKUnfCbdgVh0vDMCQOh0Y4qOPyOBk+fiiZeRkp6EQlhpT0oKFjDFpo9n9d\\\n",
       "Z+fpON0GmTk6/mbRxQ3uBs/RaMXvIHJvoN/dalEIIqt/bSjMR8A5V1ebc+gdbnI4qCM0gdA0tqwq\\\n",
       "I7coG5cnZX3DuJIWZylaT9qX5aGlKZDEnmFXS0lFDh6p9CU44vRqNA0OPqGWkeP9nbuIIgfCazC2\\\n",
       "HwLuQwEPEGsp0DzI/AU03hXj/nbDSeR8mVNrOZG43JLRUwbvqISX3IJh4WD78aQhCbZEYuKfvvJf\\\n",
       "VVO6j6SFQEeLlILh44eyacXWJB2xo9pOP7KO03++nUHDg+QW6PznlTxWLcngqv/rwR5ZCfqOJef9\\\n",
       "/+qnPbXQOLufbdgJA7wngP85sw2JO5omKBz9K5yuv8ck0OP3G8vKr9bE1SYlzn1HTVTpAiEEo6eM\\\n",
       "YN3SjUmPY4/bq4l7XlrboQZzoEUQDGhk51m4ZKrtScWcbA3wAs0E/E5OnTCBUCBlo5opOVElda9W\\\n",
       "P5BSsm39dryZnt43jjOT92vasWpJOx6fVOKccGIVZye4j4irJbGjgWs6+E4Fx3gitaObAfB4wwws\\\n",
       "sWbanaJ7lEB3gy/La0oWyPKvMtsWXU0pcu8H5xRS75aTEFxothG0LTAQWgwtr3VZie/O59byu0fX\\\n",
       "M+OoOvo8wGL/8XVbY8unRQhBZizJ7lHcbNVlNex16GScbicOZ/JOU0OdAz0aZ1nkgShKmD3xIRPc\\\n",
       "PwJ9LWavCBJ/9B0/ZtN6XkN0tzbjwJIwBx1fz2/+tpHbnlmHw9mHa2G7AGhqYUuBHj5hKFOP2DN6\\\n",
       "4YziZjMMyZfzv8HQ9aTlbLo9BidfVomjzzXbvYAjMkDYfav9N6y/aAVQcRDIxt63VSQcX6Zk38Ma\\\n",
       "KRps7ep0CpsK9NbVZXzx+tdJWUDT0CWGHt/jZOboXH//Zjw+A7fHACTeDJ1J+zVx3HnRFDjyg+xt\\\n",
       "e4Puuw6uKI7VD4zNgIp/Wgkh4IxfbMftTbUeTWphyzQ7PWwQtkS3MjYuvrmUw06tZtqh9Sx8NY/a\\\n",
       "SidT9m9k7x83JiD+3MN5cu4N4UWkXthB0ReOP7+ayjI3rzw8AM0pCQcFg0cG2LTKXusjpjIqzS7J\\\n",
       "OF0G81Yvw+VO5mnvbjXo1ofQdrdACuEhEjeWmHUdWpo0yje7KRwUQgjJ6ZMmYRj261yrNDtFP5Fc\\\n",
       "9rvSJIszdO8hK2E2nxDthfkFkPxKb75Mg5Hj/WTn6WRkGwxQ6XiWwZYhDjvhzdA58Pg68opCFJcE\\\n",
       "OeEic+oidE+8Rbo7b13RNTufK0lr3rJZaBqceHE9T9zlIhSwxwrjqYwS6AQyelIz97y0Fs0RydDQ\\\n",
       "HKRBmUUlznbnpMu2ccBxFVw4fSIqFm0uKsSRMCS3PrGBrFyDjCwDp4vUnICisAGZUW3tcEgGDQuz\\\n",
       "x4wmVBjMXJRkJATJtEPqKChWeaaKZNOVx9tEpNZIdNz4wKY+9/hc3iSlbKYZaSfQbp8bzZHYrz1w\\\n",
       "WJA7nt2IU92ziqTTncfbAs69iOaRLx4aYve9+xYTD/ljc0Y8Gcmvd2Mn0k6ggy3BuE88aa/dLPH4\\\n",
       "DP7w2IYdv8f5MFFjugEKK6GvhtwHotrlst+V4ek0mSV+YY+84py4tZWKpJ1AJ4IRu/sZPCLAfkfU\\\n",
       "c/dLaxg7OdZC+f2hK3ddxQ8VOyF1aIxOoPeY0cRtc9cxbq9mPD6doaP8/HTWVjy++EwUK99QEZd2\\\n",
       "UhWVxREHDj+1htN/XoFmalZST13M1jxbq+LGOkWHUhjX3hD6b9S7Tdm/iQfeWt32u79FULrBw/yn\\\n",
       "BsTTOkUXKA86Dny2IJdgIBHhhHgVOrKyOOdCwdMkrS5IOqMNjEszXp9k/2Pq49KWomeUQEeBpgmc\\\n",
       "7s5u8g//y+DjN3Ix4uoAusFzDKkvXPVQfS6xr5+o6DPBb4lXnvroiS0IYeUXf2qgBDoKDEPidDk7\\\n",
       "rRLu8UnGTPLHOcQRhMAbdA5dpNqotyR9Qhsu+j9w2/rIeoiUm40CubEPGzl2LKzQM/kDdI49p4JJ\\\n",
       "+zUy7ZB6fJnpcg2TS0rEoJ1uJ3pYT8oKKJ4MDwNKCqnYUkVxSYhLb97AvofX43AkYgZdV98nkIDj\\\n",
       "KJJC/uPgfx1a3iC2HoMGvrN27B+ku8L83dOX50OD8KY+tXbV3WW0NGkYBjhdkj9fO4wPX8uP0iZF\\\n",
       "T6SEQEsk46ePZeV/1yRcpJvrm3lx2z/Z+P0KhuReiMPZgFDTm9OQPKA2ul3qfw+ZV4J7f2h+DsIr\\\n",
       "QUYTyzWg5UUiwpyo+zwE1PVpSyEgI6v93h88KgBCglTpnfEiJQRaD+qs+GJ17xvGjOTHJ9RwxpUV\\\n",
       "1NUWI0NLGT7oAQj17UZW2AkHfQu5xHDt9Q1QPwuyLgNtEMivom+jx2ydeBGbw1Gx1aXEOc6khEAn\\\n",
       "g5rtbnbb04+Um6D6dJOtcZJesdtkYhDJnumt5GasHmwLNP6NVCwqNWX/Jj56PZ9QQA1txYu0OZOi\\\n",
       "X9P6BP4mbUc78bGnf9ht9NxOfoAk8ctzpZ44Axx8Qi3FQ4O43LuWUFXEStoI9NQj94hxT8l1f97E\\\n",
       "va+uias9EWJVe7MndfTVbgGu/Yl+MEthRzw+yQNvreaUn1YwaHiArLwwmlMJdH9IG4HesHxLTPv9\\\n",
       "6Oh6DppZizcjETdagm5e515EnYIVFX21W0Lo8wTaobAamTkGl/x2G3f8ax2BFg0jnDYSkxDS5uxV\\\n",
       "bY12JROJL0tn5oWV+DLt5QWIrJ8jCv+NKpakMIv/fZKNHlL3X39JG4GOHkE4JJgw1dwliGLDj3BN\\\n",
       "BBFdoXaFIl7oOhipGWpPKnYavUkSksn7NXHA8XUYOlRtc5KZE+2gkSDy7jMjTuwA9wykUQ9STZ9W\\\n",
       "mEPhILVYRTywtUA7XA4cLgfB5niNukuuvnsLh55ci8drYEjoW23/XavFmZgC57sARBbIFnOO3yf6\\\n",
       "Wl1PLUBrR6SEooEhNAdxrk+Tftg6xCGEiKM4w+T9mjj05Fp8mZEFXp1OEH06QxaKUbc8gSzfB9n8\\\n",
       "AtYVt6w+bmdV+xU9ISXcct5oDF3FoPuLrQU6HOw5fSsjJ7p12A44vq6L1SPsiB8a78a6AtdgtgGK\\\n",
       "BKJpcNKllbi9u7rPkgNnqjKl0WBrge6N5vrouvlBvyAJ9ZZSgESm8ClSgXOvKeeI02pweQx8WTou\\\n",
       "t8Fx51XhdEqTF7awF0JKaTtJyhEFTBeHx73dPWY08qd/r8Pltt0pMYHW7qs6V/1HgHN/CH9mtiFx\\\n",
       "p77GQflmNwOHBXF7DU6bMJlQMDF+Yc3U9SxatCghbZuFrQcJ44nDKbnq7iqcLomUVpnSbWVMFGaR\\\n",
       "v2MQNGCuHXFDgv6d2UbEB20EGFtoHSTPydfJyY/0ZCtKnX0c0+kZt9eFYRiEg6k/ApnSIY6+I/nD\\\n",
       "P9czfGwtQqSKOKdiDrSArF9Dxrl0zAQRkR9tNIhc88zrD1GVHbUwxtZuPyocFCYjq3+i6s30kJmb\\\n",
       "0a827IQSaMDhgPwBKVYvIus6IqUzuyIZbyAX4AbHWOLXUXOD7wxoehTYeXxBAh7w/QSkGoA0dwZp\\\n",
       "mO5STDUNnvl6BRfcUIYW7QIXAgaPGYiuGzTVt6SF9wwpItCaq39fQ9fh87dz4mSNRWi8u4cPkxAW\\\n",
       "cIxGG7QMUTSP+C3TJSMrkoiu1mn0Q9PjWDdzJZlYN+zj9kjOumo7Nz/Ut1Vb2pCwfVMFIX+IYEui\\\n",
       "qw1ah5QQaCPU34dSsHBeqi3V48fUinf6D0hpIIQbkf8g8VmhPAjNL4Bs7OZz5T1H8IJWCPiI38rw\\\n",
       "8cPhgBlH1eNwRvfc6v1+zu1HSgh0dHTtXQT9aXgqEopAtI4IOYaD92i6D7lEgb6u/22kPH7IvivS\\\n",
       "eymaD64ZZhvUCSlBqtVXeiUNVanzTeF0GRxwnFq+Kr5IDL0eo/k1ZOWx4J+PWgEmiTTeHanFUnUW\\\n",
       "hP5rtjWdcLslmiN+oZjUGNjvTBoKdEccToOC4jAXXL/NbFP6h3N/sy3oTMX+UH8jkRVKrBsXTUn0\\\n",
       "1ciqM0BWY8VzL4Gjzoi2BHD3jNxjeNzashJpL9AgmPPqGnILbezdCR9kmL1OYlcoYe6eHBI/DSGQ\\\n",
       "4PZjR9Pg4pu34fbqOJ0G/b1PNq8sjY9hFiNNJ6pIJuzTzIyj6jF02LbFTXGJjcsjOiZA81NmW6Ho\\\n",
       "M27IvhIa7jHbEFPJztN5ZeVyQgGBcEhO2X2PmAss9VaXx66koUBLfn3vFg45sQaPT6KHwRH3s+Ah\\\n",
       "qd5LeHHyjqWIA0FomEO6x+SFAJdbtpVWGDAkSPnmeKVkpgZpF+LY+6BGDjmxBl+mRNPA5Y50t7om\\\n",
       "l8iEiyjIf66fFirSAxv32BLE+deV4/GlXypdT6SdQB98Qi0eX1/iXYJILnEUp0hkItx7g2NQjNYp\\\n",
       "FOnLkWfUcPkftpKdH45rhoedSSuBzh8QYuwezX1MyZFEwhR9DVU4IeM8wICsq1ElORWK6PnJhdW8\\\n",
       "8N1yXlz2HUNGqSXbUlqgNaeGcMCYyS2UjPHzyIc/MHK8P0E5k2Fo+idy+wyQzZBzC4gCIpMzXEQd\\\n",
       "KlEoTMPcgs2aBpk5kqk/VjNDU3eQUMDw8UPJzFjLnFdXIQRJKCOqR6qS1d+ByP8LFH8BsglEBrLy\\\n",
       "aNA3JvLgCkX8cO4B4WWYlSYpBFz2u22s+jaDVUtSsTJj30hZD7poaAHlGyo46bL2/MjkzTZqQTb+\\\n",
       "HSEEQssiUgqzKFkHV6QcguSWj9UhvDK2XR3j42aFL9PguPOr4taeHUlZga4pr6Ol0c/QUQFzpoGG\\\n",
       "NiNb3sBomousOBxCdi7IrtYoMhXHZMSAt0BkE1UpUTGIjqE1Fzin0rfrGSJ671kDvSzKfXrmxYeK\\\n",
       "49qe3UhZgdZDkRzT5V9nEjYlo6kSWfd7aJi9Y4WJfpRIFCPjY1LMqNQn89DAMx20QeA5kqgeWblj\\\n",
       "KrVjNLgOAu+J4Dk0ujaiRcQvt3v9Cg9lG/uWF33MJYfG7bhWImUFWmgSt9fgxb8V428RmLPyYnN8\\\n",
       "mpEb4tNO7AaYfPx0xoDmucjK48H/KtFNbgkCocjYR+hT8L8ETXMif0tIUX+DyNyB/iMlrFrqw+jj\\\n",
       "1z3qIiXQtsLhlNz80AZamjSe/+tApHIC0xffhWZb0E/8oK8h9hel3sW+CXrpyvjUxJASFr6a1+ft\\\n",
       "bzzij3E5rtVI2SyO3IIw+x/TwPQjltPSpKml3tMVz9GIzPORLc+gQjXJID7Cv3JxBisW7Rhg7wOp\\\n",
       "ugRWinrQkuPOjYz+OpyQldvDg+maCq79iZyKFC0qm66IbMCBrP8/1LW1F6MntXDOtdsYNDxVVm6P\\\n",
       "jRQVaDhoZm0ftvJC/tNohU8iBq4A9xFEd0qUW25pZAME3oLge6R7YSK74fFKjjmzhqptLtL55Zqy\\\n",
       "Av3vB/pQD8N7BIRXIFvegPCEjyrVAAAgAElEQVQKCH5IdN1g9dArFIlACKirduJ0pa/3DCkbgxZ8\\\n",
       "Mj+XEy/JYPzUHjIp/PPB/yYSH5FuVGrWlFWkEd6TIPgdGGvNtqTfDBqePqt3d0fKetChoOCWc0fR\\\n",
       "3Nhb90gSSYdrIbmxLh+qoJIifrjBORGyrwNjk9nGxAW3R3LBDdt2qWwnSaeYdIp60ACC4y+owu21\\\n",
       "6sUMoTx2RXzQIGcWuA8Ew5prEMZKwK+hOQwMvXW8RyA0A2mkR1w6hQUajjqjBqdlv6ESZ0WccO0D\\\n",
       "DXeDnE1kDCU17i0p4fUnivBlSPJH+Cnb5CYU0JBGynb8O2FZ+VKkIhr4zoeWuagB1jjhnLSjzkvq\\\n",
       "1U4WAq68bQvTj2wgHBII4Kl7BvLqo+lTnyOlX0Xvv5RvUh0ORddIRMbJiIKnwbUXKX77JYfw96Si\\\n",
       "OLcy46gG3B5JRpaBL8vgwhu3ccCxfUmhTQ1S+AmRVNcek4AFYRWxI5HVlyFrboTQRuybR24lu1Mn\\\n",
       "3twVrQvKtuLLlJx11XaTrEk+KSpfksnTG7n69ifNKTWq6B5ZabYF/STJK7YrOlEwMH26xSkh0E63\\\n",
       "wU//UMoRp9XgckuWfZWBroseVuvuCw5UnDTdcUdivPpKkC1EOpwqN9dM9DAs+2/nxQscLiv1auJH\\\n",
       "Cgi05E/PrWX83i1tKXV7H9QE9HcFFSXOCh3cB0HLNiLCHMs9IUj1MESy0MPgb9F4+p7BnT5ze90m\\\n",
       "WJR4bC/Qu+/dzG57+jvkO6uwhiI+6ND8V2IXWSeRtDcl0PGguVHjt2ePprrcuSM3ur2LHA6mZtjD\\\n",
       "9oOEkVW61QOgiJW+vM1jvL9EPqrEafzIzjOYM28t18zZzIyj6sgtahflUCA1cr93xfYCvXWtJ21m\\\n",
       "FSUPJ+lTQSyBL3dZkbi20wwpIz8ut+TgE+r45Z1bOeXyCnILU9NzbsX2IY5lX2WydYObEbv5ce1Y\\\n",
       "vkwaIGz/6jGT1PRGFPamNXS5drmX608Zix4SBPyp/aCnwLcT3HT6GD55M49QUGDoULnN9u8dhUKx\\\n",
       "EzuPK91z9XCaG7SUF2ewqQetaaJDz7SxzskbTxWRlatTMiZARpbKwFAoUpH6GgebV3tIlxCcLQV6\\\n",
       "V2YcVcvND23C7ZVoGiat4N0dGmqgqL+oVDVFBIczve4DW/YRDKNjfdhf3lmKN0O2TUyxVpqdEud+\\\n",
       "4dgj8hMzLqw1NVvRHzKzDSbt27RLjejUxZYCvTPZeTp5RWpQKyVxHwTOAaAv7UcjYVLgNlfsxC/v\\\n",
       "qsPjTY/C/bYMcewcg25p0jBUyDk1EIWRKdWuyZDxc3BkQfUZ/WxUElkcQWE/di23IEAbxtIlVxAK\\\n",
       "vUQ6zPa1pWshdophhEMa7z5fQKDFUnENRbRog0E2A0EIfQ11l0D1uaSDl2QfkvmMaUTCUzsjwShl\\\n",
       "v0MWp83kNFsKdN7AXJxuJ0KL3DBP3D2SpV8UIW09smvLSxE/jG1E1oUM077uXC+FiUQe6TKabw0K\\\n",
       "k3gsQdc9nzADCl/iuHO34/YqD9qS1GyrxTAMpCHxZXm5dNZgph1ai7Clt5UB7h+jhCaGa6cVxbaf\\\n",
       "IkaSWSpWp7sQhgCumL2VeauW8Y//rOSEiytwulJzMN6WAm0YkhG7NTHtkHrcnnqmzngXIewWZxSR\\\n",
       "QbABn0BoGekQT+uafmRY6GviZ0aX2HKIJi3QNHA4YdT4AFfeXspjn6w026SEYMs7cPhufv78+mp0\\\n",
       "XeByGxZeGLYnJAS/gMoTQVabbYwJCNCGgKzZEXu2ICIDsn8LjXMiq2WLHNCKQV+F8tytgxAwcFgI\\\n",
       "8JltStyxpbR5vAa+zPY0G2tNTImGMMgtZhthDs7xkH071JxjtiXdI3XwvwHO3cBzNDiGgZYHtT8H\\\n",
       "o9xs6xQ7Ya25D/HDlgK968UQIiLSqXqRwE3KreQRXgF1V4Fzdwgvx5ohniYIfhb5b/BzIuEYBypt\\\n",
       "T5EsbBmDTiu0SaRsdTlj647wTucljKyJTuRFadsum8JmpIRAh1NUv/CcAq5hZluRWPRycA402wpF\\\n",
       "0mntvMdLglJzOr8tQxzQHtKQBjYdJOwNAYHXsGbXP56EIbzebCMUScVBZBJKmP7VqhGAE8PQqCjL\\\n",
       "BfzxMM5S2NKDDoVEW7w5dQvzS1JfnCHyPVO1C6TohMiHnDtBxMPj9bH4y6P4zZmjuXC/zgvJpgK2\\\n",
       "9D23bXTT3KjhdBm4PWZbo1CYRRaRl5uVPUcnuKaBezr4TkFzDsbwfwIy0O+WpQzzw1eLWfJZcRzs\\\n",
       "tCa29D+z83RWLvbh3HWqvkLRCScpGZ/0/ASKF0Hu3YDXbGu6Ycd5Dy2B5seg6icYLQuh7lbikQkj\\\n",
       "RJDJ0xv73Y6VsaVA5xWFmfrjJgsV57dlRyRNcACp1s3KRGSehaZpaL5jYMB/dtQlsdrjrBPx8FtA\\\n",
       "NoKsh7qfgdwcl9YNQ2Pr+tSbnLIzVruifULSvsqvNXKfVQw1/sTr1gyTetdHB62g7TfNUYQoeh18\\\n",
       "pxIJe6QHQnPz5tNDzDYjodhSoNkhzNYQZ6vhJDUKL8Wr+I1Bak0sEeAcg3CO6fhXxyC03Dsg82cm\\\n",
       "2ZUMxE7/OhDuGfzqoavJzMsgIyc1PWlbCrQS5p4wQJtothEWItkrbyQ43CWyIe/vXX4kZQACbyf2\\\n",
       "+KaST2RW7Y4Mp+CnjBt1HS9s/T9uee4ak21LDLYUaEVPGGAsN9uI9EUrILGPVQgR+qrDX6SUSKMO\\\n",
       "2fh3CCe6wp+ZVNOx5EEYZCPO8HPsd+zeZhmVUJRAKxTxxGii80ogcUS2IJtfjPw3uASj6ixk+WTk\\\n",
       "9unQ9BDQ//S1nslOcPvREoTmF5F6ldmGJASVfqCIme2VYV5+s5H3Pmzmf98FKK/UcWgwcICDaXt5\\\n",
       "OffUbGYemdlhibJYCYclz73awItvNLJ4qZ+qGoPsTMG4MW5OPT6LKy7Mxefr3d/Qdcm/Xm7ghdcb\\\n",
       "+HZZgKoaA6cDhgxy8qNpXi47N5cDp/c9niml5G+P1/HbOytpapZ88PJIDjn0ZAjM79P+sdmjYzS/\\\n",
       "CPV/ZNciWp3tGcoh+2fEyZYCDpze0Ke2koqsRFadYLYVCUEJdMy4SK3Bp+j4+Y3lPPl8A8GgZFCx\\\n",
       "g7NPzmbMKBeGDgs/a+alNxp58fVGDjvQx/OPDKYgP/Zc5I2bQ5x2aRmLvwtQXOTgorNy2G20i4pK\\\n",
       "nWdfaeD6P1by8DN1vPHMEHYb7e62ne2VYX5yXimLlgRwOuH803PYe7KHpmaDj75o4ZkXG3jmxQZ+\\\n",
       "flEuD9w5oNcXy7qNIS67ppyPvmjp+IFzZJ8c2djs8YF3JtTfxq7i3K09fSDe5ybpGHVYNx88doSU\\\n",
       "1sgkjoZpU7x89c7wOLQkUJXJYiNj5BoCAcnRh2bwwqODycrc2XvVeP2dek69pAzDgP339fLRvJLI\\\n",
       "auxRUlOr86PjN7N6XYjdx7j4aF4JA4ra/YpwWHLmT8uYt6CJkcOcLHp3OPl5nV8GUkoOPnELn33t\\\n",
       "x+MRfDyvhGl7dXygH/hnLb/+fQUAt988mJuv6jplbWcv1eEQTBzn5stvIrP5Ih7rGKCsx+8VtT2/\\\n",
       "KeTmX5eAaypkXgE1F9JaCqB3e3r2oGOy5eqCrpoylf1m5rBo0SKzzYgraRyDFuBU2Q79wecVPH7/\\\n",
       "wF3EGUBywtFZXHpODgCff+3n3/Ni6xrf+ZdqVq+L9FTuv31AB3EGcDoFD98zkAyfYMPmMLfd1/Xq\\\n",
       "NJ995eezryOi9bPzczsJEMAvL81lr8mRSS33/r2OcLjrl/fsOdVc/bsKDtjPx9KFwznqkF0FsGdx\\\n",
       "js2eWvSsvyLyHyPSe2uv09K7PfG2pabbc6OIL2ks0BLCqbmOWbKYPtXLoOKuomSRh/fUme0e6Ovv\\\n",
       "NEXdvmFInnq+HoDCfI0jfty18BQVOtpE6ZFn6mhs6pxD/fX/2utVTN+n666wEIJ994qIUG1tMytW\\\n",
       "d79IwiNzilnw3FCGDY1tQDBqe+p0vl/6DrLhHqi5IK72RG+L0eO5UcSPNI9Bx69a3PW3VvDnh2tj\\\n",
       "2nf91yMZXmKvwiIvPzaYkiE93z4jdvpOm7dGP5tv9boQVTURsZ04zt1jiGTKJA/zFjTR4pfMf6+J\\\n",
       "s07qmG0QDLV7fBm+7tvJzGj3WboSeoA/XFfQ7xhsTPZUPQ3Neewa4O6vPfE8N4r4kuIedPLeP59/\\\n",
       "HVtFsZIhzqSIczAY3y7psYdnsseEnmtc1DW0P8SZGdELSFVN+ws0J6fnQcbCnQYhd/YIW9ljYrut\\\n",
       "K3vw/lo9QyFgzMiur0s8Bshit6fz6GN/7YnnuVHElxQX6OTVYHj8/oF8Nr+k7ffLz8thycLhnX5G\\\n",
       "DY+8NKZP9bJk4XA+fLWkuyY7seCDJi6/rpwDZm5mv6M3cfplZfz9yVrKyrv/nlJK/vJIDXP+XhP7\\\n",
       "l4uR9Zvas1wOmhH9VNyMndLm/IGePbadX0DLf+gsMkcfksGeEyMZHg8+3nUY5Jslft77KLLC+EnH\\\n",
       "ZlJclLgXvJXssZItio6kuEAnj/G7uTF2uq9//CMfk8d7OvyMHelic2lETPfdO/K3UcN790QWfetn\\\n",
       "36M2MfO8Uh5/tp4vv/HzzdIAr7zZyC9vrmD41PUcdeYWHn66jh/WBPH7DcrKw/zr5Xr2PWoz186q\\\n",
       "JBhKflrUa29HSkG63YKLz8qJev/RI5w4djjG6zb0nNK4YUv751XVnUNXDofgrWeHcsSPM9haFmb6\\\n",
       "MZt4aX4Da9YH+W5FgL89XstRZ27FMODQA3w8fE9il+Gyjj1uC9mi2BX1GuyWIUBpVHss/b69+7nn\\\n",
       "xM7d/+9WBtvWT+zq864IBiX7z9yMrkNxkYMTjs5k/Fg3jc0G368K8u6HzdTWGXzwcQsffNx1/uuE\\\n",
       "CeP4yYlnAK+SrNXBt1eGeW1BZGDw2p/lUTIk+i5xTraDA/fz8dEXLazfFOaHNUF2H9t1nvN7Hza3\\\n",
       "/b+hm/jo4IFO3v73EF59q4lb/lTJmZdv6/D5YQf6uOScXM48MSumlMAIfd8vOfb0gmMcFL7IYNdZ\\\n",
       "vP3v73n1rRrzbFF0Qgl0t5QChUDfp5B+tyIifm63YHwXQvLtsp4FvCsMQ+JyCe64uYCrLsvD4+nY\\\n",
       "6QmHJe9/3MxL8xt56/0myisi3qOmwT57erj0vMFcdPmfccnPoCV5I+83/LGSFr9kr8kefn9t7Dmz\\\n",
       "t1xTwMdfbkVKuOn2Sl59YnCnmOtjz9bxw9p2D9rRTb9w2/YwV91SwatvNVJc5GD2jYXsOclNKASf\\\n",
       "f93Co3Mj3XuPW3DK8bGW7cwhUoO69zGJ5NjTy+QNoxyhr6as/kSuumY1r75RlkBbEoUTRBHQ3OuW\\\n",
       "dkMJdI9UE81klu92eNATdnPhdHb2MpYsj3zucMDk3buf8bYzTqfg8/nDmDKpa0F3OgXHHJbJMYdl\\\n",
       "ApGJHbX1BsVFjvZR9+ZrQSSvbu7TL9Qz96UGioscvPz4YLze2CNphx+UwZ2/LeTmO6p4450mfnJ+\\\n",
       "KTdcmc+4MW4qq3Wen9fAPQ/VcPyRmbz5XsRjz8nufLzqGp2DTtjCuo0hdhvt4uPXSjrEUU85PosL\\\n",
       "zsjhxydu4fTLyrjxl/n86ZaiGCyuA3rPQ+7ZHkcc7fH3bI+soGrNKRx07FrWbQyy25hcPp5XSHFR\\\n",
       "+6Br/GxJFGGQ24i8HFMLFYPukdZSlYK+dF2/WxnxULvLbmgV6LEjXX2qGwERAd5ZnDdsDvHqW41t\\\n",
       "9RJ2nQian+dg1HBXh5SomtoQC97/oU/H6y8fft7MFTduJydbY/7cIYwc1v/R/ht/WcBbzw7hR9O8\\\n",
       "vP2fZg47dSsle61nr8M2MfelBu75QxFPP9AeFy0q7Jzx8fv/q2LdxoiX/efZA7oc5NpzooebfpkP\\\n",
       "wN0P1rDgg+hzt/tKz/boSbXn9/9XyrqNkXv3z3/Mpbio84BuMs+Noh0l0H1CAhrkPw6isMstNmwO\\\n",
       "Ub8jrayr8IWUWluMeo8+hjd2ZsnyAEedsYUx+23gtEvLOPtn29jnyE2Mnb6B2++r6nJgDCJx8YNO\\\n",
       "2MJXXaSexZsvFrVw0oVleD2CBc8NYZ8p8auNcPShmXz6xjDKl43mi7eG8eGrJfzw+Qg2fDOKqy7P\\\n",
       "bzv3AHuM73h+DUPy/GuRmYyZGaLHmXYnHdvefX/oydjy2nvDSvZ0tsVNd+MUyTg3io6oEEef0aHp\\\n",
       "CZBdTyXeeYBwjwmdwxdr1vtpbIp4u1Mmeoh0O1voS/jkoSdquXZWBaEuEhk2bA4z655q7nqghjNO\\\n",
       "zOKEo7MYPcJF6bYwr77VyNMvNsQ9B7orvvymhePOKUUIWPDcUKZPTUzhmsICB4UFrR6yRuvKK2s3\\\n",
       "tp+cfaZ0FOiKKp2a2sh2w4a4cDi67w21pkECLP0+MTH7jvY4TbUnvrYUAZVxtjC9UQIdDcHP6U5Q\\\n",
       "v9vphu3Kg/52+U4CPtFNJEfbSW8V8fx+g1/9NlKkZv99vZw2M4vdxrhpbDJYsSrIm+818c3SAC1+\\\n",
       "yVPPN/DU851rXhx5cAYXnpm4+NxX//Nz7NmRjJe3/90PcdYG7lhctK/d5/Zr0To5JTNDtMXj25rd\\\n",
       "SXN6Kw228+e6npgXm5Xsia8tqVmT2UyUQEdF91PDl66ICPCAQkeX9SmW7iTQU1oFXBsOxtpejzps\\\n",
       "iJOH7y3m6EMzO3026/pCNmwO8dIbkSyOFauD1NYbDBrg4ID9fFx6bg6HHhBd8Zxo+PpbP8ectRWA\\\n",
       "Bc8N6VKcZ8+pYv67Tb1XIDTKO/2pscng/Y+b2XOih9Ejdo1nt4tEa62PM0/K7hB/h4jXnZOtUd9g\\\n",
       "sGlriFAokhnTFTt74iMSNMOzoz1hU+2Jry2qgFK8UTHoONGawdE6I2tXVq6J3NwZPhGZ2q0N6pM4\\\n",
       "u92Cxe8P71KcWxk5zMX1V+bzn1dKKPtuNC0bx7J+0SjmPjQooeK8aIc4SxkR5xn7dD1bcP2mEN8s\\\n",
       "7TxF2TAkZ19RRt5ua7lxdkWX+24pDXPqJWXccX/XoSWADz5p5otFfnKyNW67qfMYgaYJjj8icv5a\\\n",
       "/JI33u3eQ3/htca2/x93ePfnvD9YyR4r2aLojBLoONDSYrBmx0y37jI4Kqva85PDYQFG3ybBaJro\\\n",
       "V7H7RLF4qZ9jzt5KbZ3BTb/Mxx+QfPh5c5c/27Z33fN476NmXnitkYZGgzl/r2XV2u5jrP+e18Di\\\n",
       "pZ0HOpcsD3D+L7bhcESm23ddXS9SUCgrM+IZXvuHCjZs7hxa+vS/Lcz5R2RKfMkQJ7+6LLeXsxD7\\\n",
       "dUmMPfa3pSOR1bvTGRXiiAPLfwii79Cg7jI0cnMj78LGJsm+R29gv729PHyvPafMVtfoHHXm1rbB\\\n",
       "pVv+FFvs0dhlwl9PMVC/X3LQiVu48Iwc9pzoJhyGL75p4ZU3m8jN1njh0cEdsgx2ZdwYN68/PYRz\\\n",
       "fr6NzaVh9jpsExeckc2eEz2Ew5LPvvLzwusNhMMwfqyLlx8fQk529+Iw96X6tv/vPED8/kfNbNkx\\\n",
       "nT8rU+vWJivZE29b4seO1bvTmDRfUSU+PPHvOi67ZjsAX78zjKl7do7Dfv51C5deU866jSHychxc\\\n",
       "fHYOd/3OSsn+fWfD5hBj9tsQ9X562W4df9clZ1+xjXcWNvGzC3K5+w8DOu0TCBi8uqCJhZ828/W3\\\n",
       "fsrKdWrqdAryHIwd6eKEY7K45OycPvcyaut0nnq+njffb2LZyiA1dQaaBkUFDqZM8nDSsZmcc3J2\\\n",
       "r5NrHINX93qsESVO1n09yjb2xMsWs0jFFVWUQCsUipQgFQXamq9ChcKyqEdGkTzU3aZQdImLzkM0\\\n",
       "HnCMNsMYRZqiBFqh6BIdfJeA1hoXdwJh0NfE0Fbfarl0j3pMI6RfToO68ooYSIfbxoCWR8Bozc8O\\\n",
       "E3tGgQTHbiBiyUnXADeIwTEeO5UQkDkLiL6WjV1JhydNEVeiX7rKPCyUQ2vokPcIZFxKdJ6gAfhB\\\n",
       "liXIMCvQ195FCJpmk06pd0qgFVHgBi2P7h+oZExeiAYLPchyLTT+EwKfkBy78pJwjFYcdHtPiGzQ\\\n",
       "RnX/eev+fY7tS5K51qjZKIFWREF4R72M7gSmLg7HSNzUdNMJfQr6ehJfs8IJ7ulEBjqTgYMuv5PI\\\n",
       "QBQ8gxjwNojOOe7thEHfmCjjbI0SaEUUGLSW90wcqbdsUTtheqteGB+ckP0rkhfi6WqKvga+K5AN\\\n",
       "9yPL9wS5vZc2LNTbsRD2HBYV2excC1ihULTiAUcJVJ1DJMxRjjlV5gxovs+E46YW9vSgnSMQA1eA\\\n",
       "VmK2JQqFhXAAgR2pgPXANlQJUHtjT4EGZN1vwNhithld4xiPjU+twrakb5jAfgUr+oYtQxyBpiqe\\\n",
       "+uPXaM5ijj2niqLBFrsx9bWQ9xRC/x7ZshDCX5ptkUIRPaIEpEWdoF0Q/ZkHZGFs6eZtXlXHSw/n\\\n",
       "8aOj6snOs5g4AxCC2kuRaIjcW0jeaLpCEUe6WX9TkTxsKdCGATMvrGLURD8ey86bCELDvSAckHlF\\\n",
       "nNrs75RhhW0ReZDxC6DrFXsSQypn1NgDWwq0pkku/k1kFQ0Tjh7FtmFky5to2b+C/MdA5Pfz2BI1\\\n",
       "6NMVKZw73Yqsg+ZH6TqlzWqkz1TsRGNLgc7O0xHCDKHyQM5s8J6wI9WvN3RofgUjXIpw7Q0yfWZA\\\n",
       "JZd08PQk9hBngM7rTyaCcAhef7KA0yZO5NhheyblmMnGloOEbo+BK5k9vVaEE0LLwP8OfZ5wIMug\\\n",
       "8lCkYzjQkEjrUoDWNejUi8zauLDClGtDwtjJfhrrnEiZmqE/W3rQ/maN5kYTTJcBaHmeiIcQzSQZ\\\n",
       "qaay9obIg8yrUDF2OxAC9+Egik2zQErQBDTWauQPSMbsTHOwpUA31juo2uYiGEj2w6yjYsAJQjZC\\\n",
       "4H3M9sr6jy0fqegJvgcytsWC44EQ4HTBHj9qYurBqdszteXdJKXg1z8Zy4J/FXRaGTrBR07mwdKM\\\n",
       "MIRXYP9znC7lBwysMDHGlymZeUHqpgPaUqABGuucPPS7El78+wACLapb3HesfK7SRdwU8cTtSd37\\\n",
       "xrYC3coz9w5k3fdem0/1TKJoiiHJO5ZC0SUakAl46e+9728RLJzX3/RV62JrgRZCcuGN2xixewBD\\\n",
       "t/N8/CQaLrcm71h9JstsAxRJxQBadvw/+nvf2BFZaW7U2Lzay+tPFMXNMqtha4GWEp68azA/O2wc\\\n",
       "2za5Ezwf30LLJ/UJK4cydqXRbAMUSWfHUl4xoDlg1RIvf76+hKtn7kagxdYy1iM2/2aCcEhj+xY3\\\n",
       "N50xJoEetMvUlKLYsG13QtEjdnrxJo4v383m49fz0cOpfT5sLtCtCKq3O1m5OFFTfkMpvminQmEv\\\n",
       "jji9FoRBqjsiKSLQYOiCxjq7hSEUimixoyB5wbF73FqrKHUx68JRIFO/eJgtp3p3x4R9msw2QdEv\\\n",
       "3Nin3oSiz3gOBaM2LmnThgHXnzKG8s1uUl2cIWU8aMmhJ9WQlWvhfEjfz4ikFVkdMyuRKXFOSQIL\\\n",
       "IPRFv5qQMlIcafFHWVSXu1K29saupIBAS6YdUs+ND24225CeCX2GFWZedY0TCp5FDPgMsn4JWLbI\\\n",
       "tiJeiALI+BmQY7YlfUIIqCxz8ZebSggGUkC2+kgKfFOB0NpzIy1LeBl9roCXdARCy0c4BiAyzqXn\\\n",
       "GX0qzp8SCB8i+yrI+oXZlvSZilIX27ekV63pFBBo+Po/ubz9XEHb7/adsNJfYr2cPnCMRsoWpF5K\\\n",
       "12EOEVlwwHc6OKf1w0aFJTC2IiuOBM0eHjRE6sB7fQaalh7hDUiRQUJvho7TlbaqvBOtlzNMdHUt\\\n",
       "/MjyqURmd3WznzYYMWAhALLi0NhNVFgHoxTqf2+2FX1m5PgAj/9vCh++sReP3fwv9LCFx5zihP0F\\\n",
       "Wki8GQY/nlnX/qf0ecHuQqyDbMHe9zUqkIEPoOFPkQc7aXhI1god6Um05V0dmDGWoofhq/9kc/vl\\\n",
       "S8jI2YBhpIdDZv8QhxSM3aMZzWHWBbP/KewbIai9BvRkD8amvpdkL3TABY5RST2qwwl7H9TIedeV\\\n",
       "U1/VgFQCbR++/TSbtcvNGjywTwyv/5gxEmv10d80RHjAexrJzkP2+iTHn2feIgFmkBICHQ4JyjZ6\\\n",
       "0ZO+GIcA0mVyjIY5q52kh6cUHbmYmk0jQ9D0AGZcG29GevWoUkKgcwt0Djq+DkfSI+oS66bOxZs4\\\n",
       "CII2IoadlEB3ph5TexbaQMyYVGQYsOTz9CpNmxICPWRUgGAwbUcGk0R/X0SOyEKjijhg4ktL5EB2\\\n",
       "8nKnW1Nmg35Bc4PGw7em14IT9s/iAMo2unG7O9+0hhHJ6EjfrA4roYNcD9pIMDaYbUwUCCIzKwOo\\\n",
       "eHgBFLwAQicZ8WcpobbSwdb1Hr77MovXnyiiutxF5AWVHg91Sgh0baWLT+bncsDxdXh97UIdCgrc\\\n",
       "HtVFtgyBr7BXzN6JKHgGGVoDDXfSvgpIulILVUcQ6XgnPhYsBGTlGjx86xBWfbtzKeH0EGdIkRAH\\\n",
       "wJxrh/HGE0W0NGkYBqxd5mXWRSOtPwU8rbCTOAMiB+HeB/yvoMQZ2kU5eQN1TpekZruLiCinjzC3\\\n",
       "khIeNIAe1vjn7UP45+2D0TQwDIHbY1BX7aSg2IzsA0Xf8WFJARSt1QdTxo+xHaUb3NRVp4xMRU0K\\\n",
       "3nkCw4i8acMhwWuPFVJTkb4XuGv6eT600eDYIz6mAJYUZwDhxqj/P/AcTKRWdSpjLSnQw/Ds/cVc\\\n",
       "ffxuBP3p5zm3ksLKJTEMwSuPFPP1f3KYM28Nvsze4tEOIjdqKqfOueh3TrOtBvn6gb4Bmp/CnPzv\\\n",
       "9Oa+64bxyRu5BPzpXT0xhQU68tbNyNa564V1eLx9GSzUSf2Rekn/a1uk02SBdBFn61xTw4CsvDAB\\\n",
       "v7W8ejOw/xnopffzk4sq8fgMtPR+Ee9EugiOwq5oGlx80zaOOafabFNMx/4CLcHp7l59J05r7qP3\\\n",
       "rFAorII3Q3L+ddvMNsN07C/QQDjYfVhi0yovIbXUnUJhOwoGqt5eysSgNYeG0+Ug6G8f4NM0yRtP\\\n",
       "F1Ay1s+WNV6GjAqwz9HCOGoAABjuSURBVCENOFS4w0YIzK3HYfbx05fSDameOdM7KSPQHp+bYeOH\\\n",
       "Ujy8CM2h8cnLX5KdF8LhgNsvH0k4JHC6JHkDwtw3b43KjbYNkmTNXOsSUQiy0pxjpzH+ZsGjs9Or\\\n",
       "7kZXpESIA6Cl0c+qRWv571uLaaxtwuNzU1ftYss6Dy1NDkJBjZYmB9u3uLj/hhKzzVVERV/EORF1\\\n",
       "uR3gOTAB7Sq6Q0pYt8LL7T8dyZfv5pptjumkjEC3EvKHWPzeUvxNkVQyPdTxK+phjUX/ycHfbIZ1\\\n",
       "itjppbvrnUnst7MbxLAu/q5DaE2MbSpiQQj47otMln6RXmVFuyPlBLov6DpcetB4Ewr8K2InCK4j\\\n",
       "iUy02RUH+J8l9jBIGGR51x/py2JsUxErP7moistuSea6l9YlLQUaBJVlbj55U3WhbEXoA3BNJ3Lb\\\n",
       "7jzS29/JRQZmFKBPHk7IvRty/4pVCw611n1uaRI01TuY/3SRuQZZhJQZJIwewXN/LeaQE+t63zQO\\\n",
       "x4qgsgH6hwGhT802woZ4Ec5xCNdEDHk/1N+AFV9IrzxSyKZVPj56PY/mRpVqBWkt0FBXlcyvr8RZ\\\n",
       "YRaNyJorYcBCtIxjMZzjofpos43qxKuPFrN9q0qt25k0DXEASKYfXp+0YynSCTdoXQ06moisgfAq\\\n",
       "pPRD/XVmW9OJhlqNGUfVEe2zojk1nJ7U9TPTVKAlHq/B2b/uZmBIoegPjskgLDa+IQUQRjb9C8I/\\\n",
       "mG1NB7ZtdnHpQRN4+9lCoo2RS0My4/h9KBySnxjjTCZNBVrgdEu++TARubOKtEdfbMHsjzDSsTv4\\\n",
       "X8dq5XT/8YehNNZqBAPRy5E0JF8v+B+PLf9zAiwznzQVaGhp1Fj2X5VrqUgXBCL8PxDmx3gNI5Lq\\\n",
       "2srij7MxjNilyOF0sOidJXGwzHqkbvCmFxxOOPmn25FSrfqdXriwmgeZHALIwEcI31nI0CrMWsUm\\\n",
       "GIC1y3xoDsjJC1Nd4er3fAQJKfsQp6kHLQmFBPf8ajgtNlvH1J5Y6eFJ19lJLhDZSO8J4BqHWddE\\\n",
       "02DCPi2MntBCTqHOX24sIRzqnwwF/UH8Tf44WWgt0lSgBUjBptU+rjpuHAG/oKlBxLEsaZqe1k74\\\n",
       "iJwLK2WxWMmWZKJFpsPXXQWhVcTtPIjCqDZ37pgI6vKAL9Pg57P7P2NQD+v87arH+92OFUnbEEcr\\\n",
       "m9f4OHncZAw94lHsdZDO9Q+4KRqwjJi7wt6ZEF4D4e/jZ2hSEEA2EK/0Q4suBtsrGuCGjAvB/yUY\\\n",
       "do9vOiD3XoRRigx+QVyvi6yKeVdNgz1mNMbBhkixtFREuXpECihJKZBSsORTB3+7qQYp+xGndO4D\\\n",
       "bjtWQZPET5xtjOsQEBnQ/BgYS822Jg44EJ4DIPhfkNZ6abY0qRmDPZH2HvSuGIZg2VcZGHpkIDEm\\\n",
       "GmejTq1dcUPoM/q/sK6VEEi9FCHyiFQFtMZ387cI5j8dXYgk3VAedBfUV7t4+9mCfrSgY5WHQBEt\\\n",
       "QeJ/7RLsJWq91TcPQPXFSPc0zB4k1cPQWKcR8Au+ej+HuXMGmmqP1UkrN09oAmn0bXDkkdlDOO78\\\n",
       "yKrCKZrBo0g4AhzDQC+n/xX3ujtEPmReAQ13Aj0UOZdVUH8PZg+Srljs5bn7B7N5jZfyLebnZFud\\\n",
       "tPKg+yrOAP5mjdL1bsLpmDKriBMS9E0krjflgZzZYJTSozgDkUqAn2Da0mE7GDkuyP8+y1Li3EfS\\\n",
       "SqCj5aHfD+W9FwoIqmiFwoq4DkTzHQ3SPjdoZq7B6T/fjtmevF1QAt0tgm8+zOavNw3F36xGmhUW\\\n",
       "JPQZRsvb0Pwvsy2JirIN2Vhr8pJ1UQLdA1IKCgeFyc5LUPxQYUM08F5gthE78EPdr+k+hNLV8mDm\\\n",
       "oofhi3d9ZpthG5RA94jk1/duUYOEip3wQvBzs43YCYNuwwWiCCt5qoYBz/11IEF/z7IjNIFQDx1g\\\n",
       "U4FO3sWT/LDYpxaX7RVb3kYx0gyGTVb6lmWYE+ttfT49IDIBL5XbvNx79XDmzhnU694luw3muS0P\\\n",
       "89zmhznhyqPJK87B5XGmpaNkyycrpzBZZUIFz8wZxIUzxlNd7sQwXKRZZmLvOMaBY5TJRmRgJU8x\\\n",
       "3fG3FFJedTHhzIcQxYv57ofnuOzgKXzwct+K6ldurSa3KJvmhha2rCqjtqKeUCDctrBsOmFLtSkc\\\n",
       "kg/VJME5iDz0FaUezp02gZ/Oqueky0qVFOyMvhq00SYb0VuKmSIZ6Do8Onsobz4zAE1bjuZYwZEX\\\n",
       "rWbJwmVR1cqQwDfvLuGOs+9P2RobfcWWHrTT5WTqEXsm9ZiGrhEKNiENlRjdEQnGWrONUFiAJ+8a\\\n",
       "wltzCwj6Jf7mAM0NLbz2wAI2LNsclTOlh3Re+9vbtKRoCdFosKUHXbu9juUrk7+u2qolPjRbvtIU\\\n",
       "isRSWebhxb8XIY3+9S+dbifTj5vKd5+uUKnS2FSgK7dWEzAhOX/zKi/+FoHXp+4chaKVpgYNKcMI\\\n",
       "0X9N9WZ4WPTOt+hhldoKNhVosyjd4GXTKi8rF2dg6IJ9D69n6Ki4Vfm3GA7QBoBRjnJl/r+9Ow+T\\\n",
       "or7zOP7+VZ/TczMM9zEcInJJkCeAWYLHgs+uPjEmIXlW0cEVia5EE++4gnkSBTU++mwQjfIQTXaN\\\n",
       "JAYUMBJ9FAFFEUUh4dCR2wFmnGGGufru+u0fPQEG5p7u6aqe7+sP9bG7q35TXfWp6t8pmrN3u48n\\\n",
       "7xrE0QNetNaYCcjU+pOyxNGZlNb2axvNNQr4JpelaO8apUAZGsMBs2+tYO59ZSkqS5JlPw3+XzfO\\\n",
       "J9Hdp4lBfBY4N/EZ5tKh7t8DRhGYR7DvYgZxJ084KJ5ywVmjbDWp7E1TPekgn3zyScr2nwy2rFF1\\\n",
       "ulI59Do+sb8ZM4iGDV55ppBd23wpLE8S1d0OsRpS8gStvKjcJajeq0BZb0Rc54TA/AJrh3P7IuG1\\\n",
       "5b2JRs4OY+nflGi2DOhI2DojR6IRxUPFw6ivseWhbIMJnEzNrnUUHT2KrroFdDp3o1NY6zJsfbY7\\\n",
       "rePDtbdvzu7yYq9dZTitdNySI/3/wqRTNNQ5ePHxtkdIiY6IQMNTYB5KdUGSTMf7kavsVBekXY4f\\\n",
       "dnJl0QRKdvjozC+rRIaqGU3t1KndQQI6AbSp2LwmH/mJl0i2axrpPHMf6LokbDhx56NpQtCvWFQ8\\\n",
       "Am3+c9sd334iQlUZCmX0jGtNAroZ//Hza+hXVNixDymobyjqkcNRhVUl5mSMhOGN/+vF1SPH89WX\\\n",
       "HlL9IDLvsTmMnJjq6QW6hwR0M8ZNH03F0ap2v99waGKmwaLrMgj6e8adXfQcLjfMnF2N22uS6nAe\\\n",
       "PfU8Jl02nu/+5N9SWo7uYstudjmqF1PU5akuRjM0vftHeGL1fvoODqNNiEbB4QBnunREED3SprW5\\\n",
       "LLl1KFq3EdCKpNdOeTLcXDBtFDve3dVkX+nYzU4GqiSUovK4i7nTRpOZYzJ6UgPVFU7yC6IsXnkw\\\n",
       "1YUTotNWPNK/7XCGbmk6CAXC7Ny4u0c0U0hAJ1z8JG6odbB9Yw4AC5cfRGtZHVzYU32Novwray3y\\\n",
       "2pEFoO1MAjrpNAOGhSWchS2UlzpZ9sAgykvdTJhWz1XFlbzyTAcbzEXC2DKgbRV2Cg7u9TJ8TKKn\\\n",
       "TswAXzH4X6DlNemEaD+t4X/uHcz2jfFFXUv3eXhnVT6hgPQlSBVbHnlbrVemIbdXEkY+Ki8q81ra\\\n",
       "GvklRHtoDQf2ek6FM0A0auCvczQO6bbRNZdGbBnQ9qJY9/sCgn6V2D7SuhZdvYDWJxEyzvq3EM0L\\\n",
       "NCjuvmYkZwdxvGFQwjlVbHnlmjZrINj6Vh73fH9kgvtIxyD695ZfVkOJzwYH8pQtWhKJQNAP0YjR\\\n",
       "5mrbovvZsg7ajkp2+njpqX7MubMMry/ZNxgP6K+QYBYtCQUVS+8fyMbX8onFFENGBsktiHKizIU8\\\n",
       "MVuH3DK70ernC9mxJYugXxGLxuv9TDP+FJNQKg8JZ9GaN1/uxcY1+UTCBmZMceiLDKrKnUg4W4s8\\\n",
       "QXejWFTxUPFwho8NMOrCBjKzTWqrHPzLVTVMndnSZDkOoINLVejyrhZVdCsn8e+4e6ruTBO2rM8l\\\n",
       "Emru+Sy1k+6LpiSgU+DA7gwO7M4AwOuL8e83tH/ej/TjAt88CLwMOkVzT6dc981vrjXU1zj4cqe3\\\n",
       "mdcMesTwPBuRKo4kar03oMblNpk6s5ai8/2t9PBI13uoAt9/gfvieF9uXZPqAqWds88preHjDVk8\\\n",
       "u7A//vpzzyvDaPvp2XAkNzK8mR6e2/kEEy8dl9T92IUtA1ophSOly161j8fn4YobL2nx9W9eXsvM\\\n",
       "H1Wx5nd9iDZbD62w1lp8ifzpq8C/HMKbgCDy5JZ8K5cWsvD64WxYXdDYfe7MY64xzba/X5fHxcVX\\\n",
       "T05aGWPRGLFIjF+svpuB5/VP2n7swpYBPXz8EFZVrGjzfcpIXZA7nA4GjuzPhBlj8WZ6mnmHYsv6\\\n",
       "PP772hGUHXETi7ZUH9gd2nsatFWejgS4SddvPgaoAjAKurid9HT2L7g1Kwpp+h219N8tC/lDfLAm\\\n",
       "eTPGRUJR7pyxiAVTHuCGh2Yz8/pv95jJ+Ztjy4AOhyLs+6zt2eEGnz8gJZOqKEMx8dKxPPrWg8yY\\\n",
       "PQ2nu/Vqil0fZaJUM+VUPkKhvG5YBCBRPT66+1ibQBSy7qPrp3LqJ6JPpoN7PVRX2KO6LNgQorTk\\\n",
       "GE/Of46h44bQr6gPHl9zDznpz5YBffTL49w781dtvq/mRB2DLxjYDSVq6her7uHRNxeSV5iLJ8PD\\\n",
       "RTMntPr+0v1eNq7JI9Bw+usIBhTlpVm8trw7viInNj0V4nXXtffR5ZuMUQh5LyaiRJZimlBfY/Dw\\\n",
       "/KLUFaKT972QP8TKJa/yzPbHuPnxOeT3y01suWzAHrfUs5imxtRtX5A1X9e2UL2QPDkF2Uz7TtM6\\\n",
       "ut1bvmjzc0/dNZgd72dz5Q2VeLyaDavz2Lgmj9xeUb43vxJXl2d7dAPhFl5zAFlAgPjESwap7Uft\\\n",
       "bSxHe5/IE/DkbpZC7eKub8dCohE4dsjDzTNGNVYTtD8plaES9+uzC5sJB8NEghGGjRtCdVnPa0i2\\\n",
       "ZUB3RPnBim7d3/jpo5tM5nR033Gqy9vuPqa1YsPqfDaszj/j/5pUlbtZ+7sCrp53Amenvy0fKC/o\\\n",
       "lrrzRcE5GDzTIfQhRD/r7I66yIDsxSjPBLRZD1VziQd1B/uBd5bZ9o3U6rSGcFChFHyx08fiW4YC\\\n",
       "Bu14nmm6HYtMpxAORnhy/m8pLTmW6qKkRNoHdHeLRk201iilqDx6gh9/4x5inV7JOB70z/9yENn5\\\n",
       "MaZfVYNpxidP7zMwTFZue7brBsxWwhni83p8Dq4xoE90sqyJ4AL/0+D9X5RrBNpzOYTWpbA8iWCA\\\n",
       "ygVdnYBtOWmtz3Tpfjcrlxay++MsAvUOqivSY521reu2t/kepw16dXWGrEmYYC6Pk1lzL+Wnz87n\\\n",
       "uXv+wKonXycxh1hTNDrA0QNenG5NLKL419lVLFh8FEert9nWL+qmvMS7vKWSAc4LwH0J+JeluCyJ\\\n",
       "0lr1UgcY/cCspLnv860/5bP054OIhFXj03L6Nni2RNYkFG2KhKKsX/EOoyaPYPNftiYonAEUhz73\\\n",
       "xffReK2/syqf3F4x5t5f1srnOvL0nupwBjAhWgLRPakuSAIlIJzxxhdoiO6B4JvEK3bj3RQPl7h4\\\n",
       "6u7BmDH7hrLhMlBKEQt3rjrLDuMiOkOeoG0uIzPGqyW77LXKjOggJzhHcjL6PNve2IPXd4LJl/nw\\\n",
       "ZZkc2b6QBVeMIBS097zNhqG6NI1wRpaXY6P2yhO0sJag38CMcU41h2nC/l1eRowLYti0B13Po4j3\\\n",
       "oDnzKdKArJ/yt5VDWXb7nRgOA9M0iYajXDRrIifLZxAK2r8BratzvH979jRW7tyboNJYhwS0zQ0c\\\n",
       "Hmq2DjocVFQed3PeBCtUWySbg9Oz/nVTj4+k0OCeCuFtgAFGASp3CWXHhrPsjjsJB5uOvPx4fap6\\\n",
       "21jPtvWfwYBUlyLx0jegFeT3yaXfsL6MuHAoQ8cPYdmCtoeH24smt8DkyL48hoysA0xCAQgFDZ64\\\n",
       "YxATLvYTjYAzPRrzW+EmXiebiLreVFKo3CWNXSIDYPRDKcWmP71KNNR9M97ZUXX5SQloW9Hgrwtw\\\n",
       "+zPzGDZ+CN8v/M9UlygJFLu3+bht1khm3/Mdrpw3iXtn3cXRgx60qSg74uWq4kqcLts1M3SQ/SZb\\\n",
       "Mk1oqHXQUGtQODCCwwHgQPtfxsj+GZB36r1vv7QZ05QFGFplr6+/3dI3oIFIOMpzd/0ef12AhpP+\\\n",
       "VBcnacLBCH9+fC2eDA/HDvrQjRfz4RIvyx4YyILFR4lGFA6nPrXcltZw9IAbhxP6DQnbvJHRPlen\\\n",
       "1vD0A/355N1cKo65Qcf/35y7yrjuZ19z/ItNLCo+TCwS41vfm8KODf/g8O7SxBVANY4SjNnnmPVk\\\n",
       "0osjjbgz3KemazyTLzvGhGn1REKKRSsOcmCPjyW3DqWmygFa0WdQmAeXH6Lo/FCKSp7edOM/lIKP\\\n",
       "3s5i0Q3DObfHhWbpGyV8+HYv/vhkIZDg4daNfDkZTLxkHB+s/Tih27WCdOwHLQGdZjw+NyF/C3Wx\\\n",
       "StNvcIiaEy4CDaf7jSqlyc6P8dIne3B7bXc6WJo2OZXFpgk/HDuG+trm1v7TXHRpLSU7MqmrTt4P\\\n",
       "24xsLw/95W7uv+LhpO0jVdIxoNO6iqOrDMMAFQ+9QJ09ekOYpqZwcAEVX509ZFuDhrIjXpyupvWZ\\\n",
       "WisiIcUHb+ZyydUnqfrayXvr8qivVeT1jjFkVIixkxsw0nMsQFKpxi6OsSj86uaiFsIZQLFraxah\\\n",
       "QPIP8oQZY8gtzKGmojbp+xJdY8uA7q760n82zNglnCF+U3l43f08dM2vKTv49RmvnD5o0ci5HaMj\\\n",
       "YcWmNbl8ujmTDat7Ycbii9wCOF2avN4Rnt9YQma2NFadKRaFf2zNwl9vMGFaPZk5ZrPnp2HEl5tq\\\n",
       "eTCJ7pZwjkViPHr9UhpqGpK+r+Y4XAaxSDvPobMXfemBbFnFMXzQSEZ9PZlY1M59XpNEwZQrJ/HR\\\n",
       "65928IP6jAui+RBxuWMU31fGxG/VM2x0EGeXp0C1j7NX69Ma9u3K4MHrhhFoMDDN+BwYxfce54e3\\\n",
       "VZ7z+UCDwXfPG0fzx7bnrKSd3SuLYEOISCjxS7mlYxWHLQNa6qATrb0BEX+fNzNGfmGU3/z1S3Ly\\\n",
       "e95NUms4Ue7gxmljCIea/hpxOE0ee2U/46ec7jUU9CvWvtCbFY+kYUfdDrrj2fmUH67g3ZXv468L\\\n",
       "UHeiPmHbTseAlkHAnZF2Dzvt/YPi7ws2OKg46uIPT/RFm+euHv1P9rv1n+vLv2ewZkVvNq/LJRRQ\\\n",
       "bFqbw9xp51M8ZQzh0LnHLRZVvLCkH6Ggor7WIBxUvP/XXF58LEELoDZ2k7Mjw6GYVTyDmxZfyzcu\\\n",
       "G99yY7Y4xZZ10KmWVv1IO1nPF40YvPd6Hoc+97Dk5UO43E03Yprd11aQDJvW5LD84QFUHnejAJfH\\\n",
       "JBQ483mmpT9OsXtbFnMmj2FAUYiyI25OViZuKOf0H0zlvVe2Jmx73Sk7Pwu3182J49Vs+ON75wxd\\\n",
       "F+eSgO4gpUhZODvdDqKdnI4RaD6Mu/CnREIGJZ9lsuP9LC68uL5JF71ISGE4NS4bDjMv3e/msZ8M\\\n",
       "PbXSuobGBrz2VgUpaquc1FYl/vLatdm+EwL1G9YXgMN7SnF5XBLQ7dBjqzhcno5fPA6XA0+mNwml\\\n",
       "aR+lFL6cjM5vIIH3FXeGm8JBOYSCDh758VA+fCuHcEgRCiiqyp0suW0Iq35bSChwOtDsUOWhNfz5\\\n",
       "mT6nwrmp9tbTJ08oaM9qAY/Pw5yFPwCg//A+bTYSKqXwZnowHD02ooA0CWhPhrvD9cIDRvRr93sz\\\n",
       "sjPwZnkZMnogV867vFPhnggOh4NZxZd0+vMt1V2qDtRFOJwG3kwPF0w9j0uvuxpPhpNAg4PFtxTx\\\n",
       "o/FjuWn6aK6dNIYP/5bHC0sG8MubitiyPodPN2exZX02sVi8+qMpA/AQn5EudTTxBr33Xu/K6tHJ\\\n",
       "q9fxZWfQq29ei687XIZ1Ak2Bw+nAk+Emu1cWt/3mRqZedREA/Yf1ZeJl41q8jgyHwUVXXMhLh57l\\\n",
       "0bcetG2deyLYshdH7969KSoqSnUxhBAWcujQISorz+3iaGe2DGghhOgJLPJ7SAghxNkkoIUQwqIk\\\n",
       "oIUQwqIkoIUQwqIkoIUQwqIkoIUQwqIkoIUQwqIkoIUQwqIkoIUQwqIkoIUQwqIkoIUQwqIkoIUQ\\\n",
       "wqIkoIUQwqIkoIUQwqIkoIUQwqIkoIUQwqIkoIUQwqIkoIUQwqIkoIUQwqIkoIUQwqIkoIUQwqIk\\\n",
       "oIUQwqIkoIUQwqIkoIUQwqIkoIUQwqIkoIUQwqIkoIUQwqIkoIUQwqIkoIUQwqIkoIUQwqIkoIUQ\\\n",
       "wqIkoIUQwqIkoIUQwqIkoIUQwqIkoIUQwqIkoIUQwqIkoIUQwqIkoIUQwqIkoIUQwqIkoIUQwqIk\\\n",
       "oIUQwqIkoIUQwqIkoIUQwqL+H8RlKM9jsMLXAAAAAElFTkSuQmCC\\\n",
       "\"\n",
       "  frames[2] = \"data:image/png;base64,iVBORw0KGgoAAAANSUhEUgAAAWgAAAFoCAYAAAB65WHVAAAABHNCSVQICAgIfAhkiAAAAAlwSFlz\\\n",
       "AAALEgAACxIB0t1+/AAAADl0RVh0U29mdHdhcmUAbWF0cGxvdGxpYiB2ZXJzaW9uIDMuMC4yLCBo\\\n",
       "dHRwOi8vbWF0cGxvdGxpYi5vcmcvOIA7rQAAIABJREFUeJzt3Xd4VFX+x/H3vdMnPYEAoYWOIIgN\\\n",
       "ZS2IDQtWVOzdXcv6c+1rL4hlVxQbilh2ldW1YAVRUbGyFkCk9xYSCCSkZ+q95/fHkEY6JJn2fT0P\\\n",
       "D5C5c+c7k5nPPXPuOedqSimFEEKIiKOHuwAhhBANk4AWQogIJQEthBARSgJaCCEilAS0EEJEKAlo\\\n",
       "IYSIUBLQQggRoSSghRAiQklACyFEhJKAFkKICCUBLYQQEUoCWgghIpQEtBBCRCgJaCGEiFAS0EII\\\n",
       "EaEkoIUQIkJJQAshRISSgBZCiAglAS2EEBFKAloIISKUBLQQQkQoCWghhIhQEtBCCBGhJKCFECJC\\\n",
       "SUALIUSEkoAWQogIJQEtIl52djZfffVVuMsQosNJQMeR7OxsMjMzqaioqP7ZK6+8wjHHHBO+oiKA\\\n",
       "z+fjqquuonfv3iQlJTFixAjmzJlTZ5uvv/6awYMH43a7GTNmDJs3b65z/yuvvJLk5GS6du3KU089\\\n",
       "VX2b3+/nnHPOITs7G03T+Pbbb+vsVynFnXfeSUZGBhkZGdx5550opdr1+YroIQEdZwzD4Jlnngl3\\\n",
       "GRElGAzSs2dPvvvuO0pKSnjkkUc477zz2LRpEwAFBQWcffbZTJw4kV27dnHIIYcwYcKE6vs/+OCD\\\n",
       "rF27ls2bNzNv3jz+8Y9/8Pnnn1fffuSRRzJjxgy6du1a77FffvllPvroI/744w+WLFnCp59+yrRp\\\n",
       "09r9OYsooUTc6N27t3rsscdUWlqaKioqUkopNX36dDV69OgGt/d4POqiiy5S6enpKiUlRR1yyCFq\\\n",
       "+/btSimlXnvtNTV48GCVmJio+vTpo1566aXq+82bN091795dPfHEE6pz586qa9eu6sMPP1SzZ89W\\\n",
       "AwYMUGlpaWrSpEnV2z/wwANq/Pjx6rzzzlOJiYnqwAMPVIsXL65T99y5c5VSShmGoR577DHVt29f\\\n",
       "lZ6ers4991xVWFjYbL2tNWzYMPX+++8rpZSaNm2aGjVqVPVt5eXlyul0qpUrVyqllOrWrZv64osv\\\n",
       "qm+/99571YQJE+rts3v37mrevHl1fjZq1Cg1bdq06v+/8sor6rDDDturmkXskRZ0nDnkkEM45phj\\\n",
       "ePLJJ5vd9t///jclJSXk5ORQWFjISy+9hMvlAiAzM5NZs2ZRWlrK66+/zs0338yiRYuq77t9+3a8\\\n",
       "Xi+5ubk8/PDDXHPNNcyYMYOFCxfyww8/MHHiRDZu3Fi9/ccff8y5557Lrl27uPDCCznzzDMJBAL1\\\n",
       "anruuef46KOP+O6778jLyyMtLY0bbrih2Xoff/xxxo0b16LXKD8/nzVr1jB06FAAli9fzgEHHFB9\\\n",
       "e0JCAv369WP58uUUFRWxbdu2OrcfcMABLF++vEWPtee+W3NfEfskoOPQww8/zHPPPcfOnTub3M5m\\\n",
       "s1FYWMi6deuwWCwcfPDBJCcnA3DqqafSr18/NE1j9OjRnHjiifzwww917nvPPfdgs9k4//zzKSgo\\\n",
       "4KabbiIpKYmhQ4cyZMgQ/vjjj+rtDz74YM455xxsNhu33HILXq+Xn3/+uV5NL730EpMmTaJHjx44\\\n",
       "HA4efPBB3n//fYLBYJP1/v3vf2fWrFnNvjaBQICLLrqIyy67jMGDBwNQXl5OSkpKne1SUlIoKyuj\\\n",
       "vLy8+v973tYSe+47JSWF8vJy6YcWgAR0XNp///0ZN24cjz/+eJPbXXLJJYwdO5bzzz+frKws7rjj\\\n",
       "jupW7Zw5czj88MNJT08nNTWVzz77jIKCgur7ZmRkYLFYAKpbsV26dKm+3eVyVYcbQM+ePav/res6\\\n",
       "PXr0IC8vr15Nmzdv5qyzziI1NZXU1FT2228/LBYL+fn5TdbbEqZpcskll2C323n++eerf56YmEhp\\\n",
       "aWmdbUtLS0lKSiIxMbH6/3ve1hJ77ru0tJTExEQ0TWtx3SJ2SUDHqYceeojp06eTm5vb6DY2m40H\\\n",
       "HniAFStWMH/+fGbNmsUbb7yBz+dj/Pjx3HbbbeTn51NcXMwpp5yyT62+nJyc6n+bpsnWrVvJysqq\\\n",
       "t13Pnj2ZM2cOxcXF1X+8Xi/du3dvtN6WUEpx1VVXkZ+fz8yZM7HZbNW3DR06tE5rv6KigvXr1zN0\\\n",
       "6FDS0tLo1q1bndv/+OOP6u6R5uy579bcV8Q+Ceg41b9/fyZMmMCzzz7b6Dbz5s1j6dKlGIZBcnIy\\\n",
       "NpsNXdfx+/34fD46d+6M1Wplzpw5fPnll/tUz8KFC/nggw8IBoNMmTIFh8PB4YcfXm+7a6+9lnvu\\\n",
       "uad6mNvOnTv5+OOPm6y3Ja677jpWrlzJp59+Wt3ir3LWWWexbNkyZs6cidfr5eGHH2b48OHVXSCX\\\n",
       "XnopjzzyCEVFRaxatYrp06dz+eWXV9/f5/Ph9XqB0LA7r9dbfTC79NJLeeqpp8jNzSUvL4/JkyfX\\\n",
       "ua+Ic+E9Ryk6Uu3REEoptWXLFuVwOBodxfHWW2+pgQMHKrfbrTIzM9WNN96oAoGAUkqp559/XmVm\\\n",
       "ZqqUlBR18cUXqwkTJqh77rlHKVUziqNKIBBQgNq4cWP1z4444gj15ptvKqXqj+IYMWKEWrhwYYN1\\\n",
       "G4ahJk+erAYOHKgSExNV37591V133dVsvZMmTVInnXRSg89z06ZNClAOh0MlJCRU/5kxY0b1NnPn\\\n",
       "zlWDBg1STqdTjR49us5z8Xq96oorrlBJSUkqMzNTTZ48ud7rDtT5U3V/0zTV7bffrtLS0lRaWpq6\\\n",
       "/fbblWmaDdYp4o+mlJyNEOH14IMPsm7dOmbMmBHuUoSIKNLFIYQQEUoCWgghIpR0cQghRISSFrQQ\\\n",
       "QkQoCWghhIhQ1nAXsDfsmgMnCeEuQ7SQrisyugZI7RREY/c4MzN0mxHUyN3owO8LtRXsDpPsQd5W\\\n",
       "7d/n1di8xknvgT7sDpOmJuEpBYahkbPOQTCg0au/D4fLrLedacLGlS4MI1SxpoHLbaJbFRWlFkId\\\n",
       "gzLbL5LYM/Q6s1ljQVQGtJMEDtOOC3cZokUUUz5ZR7+hHuzO+qc7TBMqSnUevjKbtUtcXPdILmPP\\\n",
       "L27dIyioLNOxO01s9ua3N4KwapGbT/+VwW3P5mBt4FPgrdR44Z4efPlOOqB49K0NDD64kmuPG8iO\\\n",
       "Ujt1jwIKCevwK8re2PxGUSYqA1pEnu59fSilyNvooHZY7T+yguzB3gbDGUDXITHFZOJ/NmK1KnRL\\\n",
       "6x9b0yAh2aSlp7stVhh0YCV9h3oaDGcAu0MxdGQ5X89MAwV9h1ayY6ud0l1W6oexRvZgDwNHVPL1\\\n",
       "++kYQQlr0TakD1rsE7vTZOKMDUydu5pJb23AaquaLBeSvZ8XXW86OTUNnC6FxRoK7L3VmvWFLFZw\\\n",
       "uhuvS7fAmDOLeG7OGkYeX0JaZ5NgQGv0MexOxY2P5fLo2+ubfb5CtJQEtGiFmuBJTAkyaEQlf310\\\n",
       "Kwf8qRynS5HVO8CUT9fu7tMNbZu3ydHiwOroBdyaezyHC/oM9vL3F0LrfvQd6sHmqP9cHC6TY88u\\\n",
       "wu5Q7HdQJSOPL623jRB7Q7o4RIvoFhPT0NB0k788kMdplxei6aEWb+2gGzDcywerl+Hz6OzMtbJ6\\\n",
       "sRs9At9lLT0Y6BZwukP/tljg7hc38+AV2RhBjYBfx5lg0Hc/L6deUgiAw6U45Jgyfv4ypZE9VvVX\\\n",
       "S7+1aF4EfnREx6gbEBaLQrOYmEGNQQd6sDsUKxa6Cfh0nG6D+6ZvpGd/P2uXORh1YjmWJvqKrVaw\\\n",
       "JpkkDPaTPdjf/k+lAx14VDmv/biKue+lUbjdzoFHlXHYCaXVr4dSMOywctyJBpXlDb1I2h5/C9E4\\\n",
       "Cei4pDh4dCk9+/spKbIQ9Gv83xO5JCQZGMHQMDTD0NB1eObOLI4+tZSDj6lA06BLz5YvgB+rMroG\\\n",
       "Of/Gxq9Gk72fjzOv2cHMaZ3xVcpHTOy9qJzqnaylyzC7vaRpJv/8YD37j6wMjXpQoOmNf+U3jPrd\\\n",
       "GKJ5pgk+j84bT3bhg2mZu39av1tD1xWJqQblJRZMQ2t0O9G8ooM2smDBgnCX0abk8B4Xavo9jz27\\\n",
       "mCGHVKJpLQvdproyRON0HVwJJlffs42Lb8nH59GZ/WY67zzXhYA/dG7+tMsLuOz27TjcJsEAzP88\\\n",
       "BYfLxJ1gMuftdH6clYpSEtTxTAI6LtT0e5580S4J3Q5ksUJCkklCksmFN+1g6KGVTL65J6dcXMCE\\\n",
       "G3dWj8O2O+C48cXVB81hoyo45vQSJl7TG2lNxy8J6Dhjs0ddj1bMsFhDJxnf/HVlg91Ktf9vdyhG\\\n",
       "Hl/K8FEVLPlfAhLS8UnGQceZr2em4q2UD3u4aFpo6F5LupdsdsWNj+XgTjKx2kw6Z/mxOarWDZED\\\n",
       "bTyQgI55dT/IX72fxq4d8sUpGmga9Ojv56+Tcnh32XJe+X4V7y9fxpV356FpdWdsitgkn9QYZ7Mr\\\n",
       "FAqHQxHwaxx8dDmduspQuWih63DEKaV1pqWfcUUBfq/OjKe6hLEy0REkoGOA021w5KklpGcGWfGb\\\n",
       "m2W/hvosLVaTax/K5ahxJWxd76BrLz8ZXYPhLle00p5rhjgTFGf/ZSf/eTpTRnnEOAnoKORONPjT\\\n",
       "ySUkpRjszLPxtye3YrEq7A6TgF9nxQI3D1+VTUaXACecV4TDpUjJqAx32aINOd0mdif4POGuRLQn\\\n",
       "CegoM3RkOY/MCK17a7UqrHZVZ0yz1Way/8gK/j51M8MOq8Dhkn7KWFSwzYbPI63nWCcBHS00xSHH\\\n",
       "lHLv9M24mlgmE0IL9ow6sayDChMdQamag7ARBHdCkG69/Wzb7AhvYaJdySiOCJaYEiQpNUhGVz9v\\\n",
       "/LySe6dvxikt4rhUe1iexQruZMXFt24PX0GiQ0gLOkL16OdlyqfrCAagtMhKRrdAo1f/EPHHYoED\\\n",
       "jyzHagtdSABA0xXK1Bg4opLNq1z4vBoywSW6yUc+Qt36dA6JKQaaBmmdjXCXIyJQepcgUz5dR2G+\\\n",
       "la3rnOhWxbDDy+g90M+6pS4e+XNvCre34CKNImJJQEcg3aLY7+BKWUFONEnTYMBwDwMATgidc6ha\\\n",
       "fXDIIZVcdHM+Lz+UhbdSFl+JVhLQEUjTFKYpK8mJ1qv9njn27CJWLHBTWmTh169TQMZMRx05SRhB\\\n",
       "+g+r5KmP1vLJhqUos/nthWiKK0Fx69NbGf/nApwueUNFI2lBR4huvX08OXM9rkT5IIm2o+tQssuK\\\n",
       "Jk2xqCS/tghgsSquuGsbNqeEs2h7g0Z4MAINdW/IkM1IJwEdZqPPKOKdJcs58tQSGUYn2kXXXn5G\\\n",
       "n1mEo1Y3h9Vm4kow0S3SKIhkEtBhNPCASm6ZnENSqiEnBEW7umXyVv78QC69B3nI7OHn9CsKmDp3\\\n",
       "DVnZfqQlHbnkorFh0m//Sm5/Zgu9B/rQJZxFmPg8Gqf3GwaEZigeMqaUzlkBVi1ys26pO8zVtY5c\\\n",
       "NFa0WtXsrtp0i0m/oR6yB/tkrLMIG6Xg57lJuJMMktMNJn+wHleigcWqQMEf8xN56Mo+GEF5k4aL\\\n",
       "dHG0I7vT4ODRZbUuUxRisyvOu2EHmhb6kAgRDpoGo08v5cPVy/nne+tJ6xwgIcnE6VI43YoD/lTO\\\n",
       "GVfuDHeZcU0Cuh0ddHQZd7+0iWPOLMJmN7FYTbr38TLpPxvo2d8PtOzadEK0t05ZASx7fJ92uhWn\\\n",
       "XrIrPAUJQLo42o2uK7r19uNOVNz29FZueiIXv1fDnWRKKIuI09h70mqTUR7hJAHdDjTd5JRLCrn0\\\n",
       "9u3Vb3ybXWGzS3+GiEwNBXTAr/H9pykdX4yoJgHdxjRN8dRH6xhyiFyLSEQvpcBqU2xZLxcECCcJ\\\n",
       "6DalGHFEKYMPlHAW0a2qRf3z56lAaLbrqLEl9B3iIW+Tg+8+TiXgl1NY7U0Cug1ZrIpJb21qcFxz\\\n",
       "7UsWCREtKsstJKUGmfLpWtK7BHEnmlSW61x97zZuOHEAhfmy3nR7kkNgm1GcOGFXvTPhVSScRbRR\\\n",
       "CgaNqODKu/Po0tOPe/dCXu5Ek+S0IHc8tyXMFcY+aUG3EZtDccmt+eEuQ4g2o2nwtye3ktElgG2P\\\n",
       "hrLFCvsfXoHNYRLwSTuvvUhAt5HeA724EmRIkogtvQf6MBt7WytkGY92Joe+NrJhuYtAg0s6ChHd\\\n",
       "dL3+jFcjCIt/TJQThe1MXt1Wa7jJYJrww6wUmbotYlLVORTTgMoynV07bDx9W8/wFhUHpIujDWia\\\n",
       "4shTShh3qUyLFbFNKXjx/m5880EawYAsw9jepAW9FzS9buebxaq49I5tch1BEfMsVvi/f+SGLjBh\\\n",
       "M5FO6PYlAd0KnbP8vD5/FY++tYFDxpTRa6CX/Q8rQ9MUm1Y75bpvIi7YbHDX1BzeX7GMQQdWhruc\\\n",
       "mCZdHC2lKV7+dhWuBEVWtp+Dji4HIBgEb6VGYrK0JER8sdoUww6rYPXvCeEuJWZJm69FFKNPL8aV\\\n",
       "oOpNOLFakXAWcUnXobxUr7PeuaYpdIuiW28fFlkJb5/JJa+aFHppklINXpq3ik5djA54TCGih2mG\\\n",
       "RnYsmJdEabGFQSMqSU4zcDgV0x7K4vO30oGOGX4ql7yKOxoWm8n071eRmiHhLMSedD3057ATyoC6\\\n",
       "SxroetS1/SKOdHE0o2sPvyx0JEQzNK3+Z2T06SU4XNLNsS8koJuxfaudey/qKxNQhGilA44oZ/Tp\\\n",
       "xbuHpYq9IQHdDCOgk7vBwZo/XOEuRYioomlw4+NbGX54WbhLiVoS0C2g65CfI+veCtFadgfc/NRW\\\n",
       "xl+bT3J6MNzlRB0J6BYIBjT6DZWrpAjRWkpBt14Brrl3O2/8soIhh1SEu6SoIgFdh2LPNRQdLoPD\\\n",
       "Tyyhe19/2KoS7UEHLQuQ9STaU9WJQ00HV4Ligdc2ItPDW04CuhZdV5x6SSHDDi8nOT1Ilx4+Lrk1\\\n",
       "n7+/IFeOiD0mqDxAhk92pJQMg3GXFYS7jKgh46CrKbr28nPj47kypE6IdqJpcPEt+fz6VQo7cuW8\\\n",
       "TnOkBb2bpsGlt+dLOAvRzlI7Gdw9bSN2p6yG1xwJ6N10i6L/MFmZS4j2pmnw7J098Xs1OmoaeLSS\\\n",
       "gAZAYRgaU27vic8jbxgh2pPXA5tXO5Fwbp4ENAAaKI01i928/UyXcBcjRGxToc+baJ4EdC3BgMZP\\\n",
       "nyeHuwwhYppSMPSwcpkC3gIS0AAoTr9iJ++vXMaLc9eEuxghYporQXH3i1vIyvZhscqJwqZIQANH\\\n",
       "n17MVfdsIyHJxGoLdzVCxL60zkFe+X41I48vDXcpES3uA9ruMLhr6hacbjmKC9GRdB3Ou34ndod8\\\n",
       "9hoTlwHtdBu4Ew0SkoM88p8N6HH5KggRfoMOrGTYqHL2XGJBhMTlTMLbpmwhKdVk6MgKbHZ5UwgR\\\n",
       "LgGfhhHUGH/tDpTS+GBaZrhLiihx2HZUfPhKZ0YcWS7hLESYOd2KJ97dwDX3beeoU4uRVnRdcdiC\\\n",
       "1ljxWwIbVjjoO8QX7mKEiHv5W23cfWFfCvJsobkrktHV4rAFHbo0/IblcoUUIcJNKbj3or7kbbDj\\\n",
       "rbTIBJY9xGVA251K1ncWIgJsXOlkR64N04zLKGpW3L0qFqtJVh8/gw+ShZGECLeyYgu6XDOhUXER\\\n",
       "0E63gcWqsNpMDj6mlH++v06WFRUiAgwY7sEIyIexMXFwklDx9xe2MHxUOVabiUO6noWIGO5Ek2vu\\\n",
       "z2X6xCx8Hh1Z4a6uOGhBa3z0aicSkiWchYhEp12+i0ff2sigEZXIEI664iCgoWhHHHxRECKK7X9Y\\\n",
       "Bc/MXkdWtg8J6RpxENCKlIxAuIsQQjRD0+DFr9Yw7HCZ+l0lDgJaY8WCRNYsdoa7ECFEMxwuRf5W\\\n",
       "B6G+6Nr90U2HtTPB0Z5lhU0cBDSYpsa3H6fh84YGxgshItOufCulhRZGnVTCzU9t4Zr78+g90Etz\\\n",
       "Jw8vund8xxTYweKic1aZEPDrOKQRLUREc7gMHvzXJgYfWIkr0aSsWOeXuUnoFgemAY0F9Wt3vw0H\\\n",
       "dmipHSIuAtrhMjnilOJwlyGEaEZiimLIoRU4nKGvui8/lMXKhQmYRtMtaBWjX41jNKBrfllOt8mf\\\n",
       "TirlgD9VhLEeIURLVYWzYcC8j9II+OOiJ7ZBMRfQFqvJcefuwuVWBHwaR40r4cCjymXmoBBRxghq\\\n",
       "cT/LMOYCOnuwl5sez5VrCwoR5ewORd8hHtYtc4e7lLCJue8OU2atbTCcY7SLSoiYpRT83z+24nQb\\\n",
       "xOuY6JgKaKfbwNZIy1m6OISILpoWWkzp9mc2E69rdMRUQKd2CsbrgVaImKTr8KeTy4jXD3ZMBXTB\\\n",
       "NhvBOD+pIESsCa1yF59i6pmPOKKMX79JlP5mIWKIppv0GugFLf7W54ipURzn3rCTEUfIeGchYonT\\\n",
       "BS/PW8PmNXY+erUTKxa42bwqIdxldYiYaUHrFsXW9Q6UkhEbQsQaTYPsQX569PWTt9FFvKx2FzMB\\\n",
       "fePjWzn+nCI0TUZsCBGLVv3u4q0pXbBaFfVXu4tNMRHQuq5Y9nMChfkdMTslfgfNCxFOTpfJO0tW\\\n",
       "8P6KZbz87SqGHBr73ZkxEdCmqTHvwzRuGDuQLWvbe11YuRq4EOHQe5APm11htUHvgT4efWsDWX18\\\n",
       "4S6rXcVEQEMopL0VOq8/3jXcpQgh2sGeXZc2u8lZV+8MTzEdJGYCGkApjeW/JIa7DCFEB7DaCA2/\\\n",
       "i2ExFdAAaZ3l+oNCxAO/T2PVwtgebhdTAW13Gky4cUe4yxBCtDOlIBjQ+Pi1jHCX0q5iKKAVR59W\\\n",
       "xDFnypVThIh1mgZvP9uZXTvs4S6lXUXpTMLQAPWktCCX3LqdI08tIRjQSEoNosfQIUcI0Th3oolu\\\n",
       "Uc1eDiuaRWlAg91p8txna+nU1Y8tNq+4LoRownFnFzFjcteYDuiobG/a7Brn/18+qZ0CEs5CxKnU\\\n",
       "zCCJKUa4y2hXUdmC7tY3iwk37JDLWgkRp5SCLaudFBfEdghEZQva6TawROWhRQjRFjQNdu2I7XCG\\\n",
       "KA1ojG2yIJIQccwIwoDhldw1dTO9BniJ1ZXtojKglYrt+fdCRJ+OixKlQLdAWmeDo04r5rk5a7jm\\\n",
       "/rwOe/yOFJUBHfSHuwIhRLjUXlLYYgGnW3Hm1QXhLaqdRGVA78i1UbLLEu4yhBDVzLA+uiVG4yAq\\\n",
       "A7qizMIFI4bw8sPdMMP7vhBCRAAzRkfbRWVAg4YR1Jn17ww+nN4p3MUIIUS7iNKADvF5LLz3Yma4\\\n",
       "yxBChFmsDruN6oAGKCuK0c4nIUTci+qA1i2KM2P8igpCiPgVtV8MHC6DyR+up+9QT7hLEUKIdhG1\\\n",
       "Legzryqgz36emB1eI4QQURvQx51TJIslCSFiWtQGdNAvi3EIIWJbVAZ09z4+nG6DgEz5FkJAzE5Y\\\n",
       "i8qATkgy6N43gKbH7i9GCNE0VWsBu1hd3TIqA7qK1Rq7UzyFEE2rHcoS0BFKThQKIWJV1Ae0is11\\\n",
       "uoUQInonqlSJ1a820WBHQZCZs8uZ+20lvy/1kV9gYNGhS2cLh4xwctH4JMadkIDWBr+kYFDx9odl\\\n",
       "vPdpOYuWeCksMklK0BjYz874UxO59rIUXK7m2xv7up8rbtrOG++Wtar2A4baWfRV7xZvf+fEAp6c\\\n",
       "WgTA/bem88BtGS26364ig+deLebDz8rZuCWA1arRP9vGeWckcd1lKbjdjT+vklKD2V9VMO8nD78v\\\n",
       "8bExJ0BZuUmCW6dvbxujR7m49rIUBvazt/h5iH0X9QEtwuO6O/L51ztl+P2KrpkWLjgriX59bJgG\\\n",
       "zPupkvc/Lee9T8o59kgX77zcjfS0vZ9RtDknwDlXbWPRUh+ZnSxcfn4yA/ra2Flg8NYHZdz2UAHT\\\n",
       "3izh0zezGNC38QBpq/20Vmanln/MFi3x8vS0olY/xoLFXs6+chu524KMOcLFNRen4Pcr/jOzjDse\\\n",
       "LuD1t0v55M0s+vau3yc4/zcPx5+bi88X+jp66gkJnHt6ImmpFjZuCfDWB2U8M72Yqf8q5umHO3Pd\\\n",
       "5amtrk/sHU2p6OskOOQAJ79+0SvcZcQ1d/Y6fD7F2DFu3p3ejcSEuq2zT74oZ/yV2zBN+NOhTr77\\\n",
       "qAe63vqWdFGxwahTc1i7IcCgfja++6gHnWsFXjComPDnbXw0p4LsnlYWfNmLtNT6B4O22k9VC3r5\\\n",
       "9823iC+5YTuLlvp466WuTDgjqdntg0HF4Sfn8Puymku6taQFvTUvwMiTcsjfafCXS1OY+kTNCo/B\\\n",
       "oOLsK7cxe24F+w2wM392D5KT6j6vz7+p4NSL8tB1mPlaN04fm1jn9opKkzMuzWPeT6FlFb6e2Z1j\\\n",
       "/uRu9vl0tJHjklmwYEG4y2hTUd8HLcLH5dR4bUqXeuEMcPrYRK66MBmA+b95+e9HresWqPLoM7tY\\\n",
       "uyEAwJRHOtcJVQCrVWPaP7vgdmlsygky8ald7bqfKoMH2Jv8Y7XC78tCLfWzTk5scl9VnnqpiN+X\\\n",
       "+Th9bEKLtq9yx8QC8ncadOti4ckH6q6PHnpemTidGivX+vnH8423zi8an1QvnAES3DrPTupc/f/n\\\n",
       "Xy1uVX1i70lAi7122EFOumY2/vV9/LiaD/snX1S0ev+mqfj3O6UAZKTpHH90w622ThkWTjwmdNvL\\\n",
       "b5ZQXlF3cHxb7QdgYF87RxzqbLb26TNKUQouPz8Zu735bw7rNvp5ePIuDh3h4MarW96FsG6jn3c/\\\n",
       "LgfgovHJDfYzd+ti5dTjQ6H/zPTies8rJVnn4OEOzj298Vb+fgPtJLhDz2PlGpkh1lEkoNvIbQ/u\\\n",
       "xNJt7V792bI1EO7yW23mq92Y8kjnJrfp3aOmvzMnN9jqx1i7IUBhUShMhgy0N9lFcsBQBwAer2LW\\\n",
       "3LoHg7baD8BdN6Xz/Sc9m6zb7w8dEDQN/nxJSpPbVrnujh0EgoppT3ZBb8Wncuas8uqRTMcf7Wp0\\\n",
       "u+OOCh14Kj2K2V/VfV6jDnHx6xe9qkO8IZqm4d598tTllNjoKPJKt5H5v3n36n49sqz06tH+g7n9\\\n",
       "/rY91XDycQkM28/R5DYlZTUttarWV2sUFtXMQkpObvokY0atk5C//V73d9FW+2mpDz4rZ2ehwQmj\\\n",
       "3fTp1fzv9tW3SvjmRw+3XJs38IVyAAAgAElEQVRWfYBoqW9+rFlu98D9G2/ZHzS8Zr/f/FDZqseA\\\n",
       "0AnWnYWh1/GYIxo/EIi2JaM42shrU7pQXGpwxLitAFxzcTJ/var+V9UzL8tj45Yghx3k5OXJmSQ0\\\n",
       "MfRpT3O+ruCDz8pZsdpPIKDo3dPGsUe6OPPkRLp1afhXqZTi2enFVHoUd92UvndPbi9t3FLzzeCo\\\n",
       "w1v/oXbXGu7m9TU9p7/2AWj56rpfwdtqPy01/c0SAP5yafOt5+07gtw5sYB+2Tbuv6X1v59lq0In\\\n",
       "FF1OjU4ZjR98embVvD9WtLKLwjQVtz9cAEBWVwu335DW6jrF3pGAbiODB9iZ/1tNa+boUS72H1y3\\\n",
       "NeT1muTkhb7qH3qgo97tjVmw2Mt1d+xg0VJfnZ8vXOLjg9nl/N89OxlzpIvxpyZxzJ9c9O5hpajE\\\n",
       "5JsfK3n6pWJ+X+bj/ls7NpwBPv481Ddqt2tccX5yq+/ft7cViwUMAzZsarobaFOtbqLCXXXn/7fV\\\n",
       "flpi9To/3873kNXVwrgTmj/Zd+PdOykqNnnn5W4tGsddm89nsn1HqMYunZv+ZpDZyYKmhSZ2bcpp\\\n",
       "+jXw+xXFpQZFxSa/Lfby4r9K+Hmhl+OOdvHvZ7vSpbPERkeRV7oNLVlRE6DDh9QP36Wr/ASDjd/e\\\n",
       "EL9f8adxORhG6EN2+tgEBve3U15psmKNny+/raS4xOTr7z18/X3DV5fZb4Cd005s3ciAfbWjIMjH\\\n",
       "c0J9nbf8JZUeWa3vxklOsnDkSBff/c/Dxi1BVq/zM6h/w+OT535b87W9bI+TYG21n5Z4eXfr+aoL\\\n",
       "U7Bam+7W+fjzcj6YXc5lE5Kq+4hbo6y8prXvdDT9WLquYbdr+Hyqzv0a8smX5Uy4Znv1/ztnWHj+\\\n",
       "sc78+ZIULBaZGdaRJKDb0NKVoa+OdrvG4AYCYPGypgO8IaapsNk0Jt2Vzv9dnYrDUbeVFQwqvvq+\\\n",
       "kvdnlfPZVxXk7wy1qHQdDh7u4KqLUrjsvJaNJGhLtz9UgMerGLG/g/v24qt7lXtuTuf7n3NRCu58\\\n",
       "pIAPX+9Wb2biq2+VsHp9TavQ0kBDtK320xSv1+SN90qxWODqi5r+xlBaZvDXu3aQ2cnCkw80fbK1\\\n",
       "MR5vzQGkJb9fuy0U0JWepg88Rx/u4ot3ulPpMdmwKcC7n5Tz17t28tizRTxxXycuOKv5Md2ibUhA\\\n",
       "t6Glu1vQ+w2wNdh6+mN56HaLBfYf1LKZalarxvxZPRs9eWS1apx0bAInHRtqIRcVGxSXmmR2srSq\\\n",
       "f7stvfFuKTPeLyOzk4WZr3XDuQ9n/Y87ys2jd2dw16RCPv2igtMuyeP269MY2M9OwS6Ddz4q459T\\\n",
       "izj1hARm7x51kZxU//Haaj9NeX9WObuKTE4bm9DsN4Y7JxaQt91gxtSuez3LsvZoipacBPYHQtu4\\\n",
       "m+lKyexk5fija6Lhb39JY9LTu7j/H4VcfP12crcFue166YfuCBLQbWjpqlALurHRDVUB3T/b1uL+\\\n",
       "RqtVqxPOm3IC/L7URyCoGNjXzgFD7XVagmmplnoz4IqKDX5e6OXk49q/m+Pb+ZVce8cOkpN0Zs3I\\\n",
       "Irvnvo9QueOv6Rww1MHEp3bx+TeVzPm6phuiZ5aVf97fiUvPSyZj8AaARk+WtdV+GlN1crC5oXU/\\\n",
       "/Oxh+oxSTjrWvU+t0aTEmt+719d0QJumqg7x2vdrqXtuTuebHyv5dr6Hux8tYNwJCQweIOtytDcJ\\\n",
       "6DayKSdA6e5hZQ11Xyilqvuoh7Wwe6O2P5b7uP2hnXz9Q91+5uyeVq44P5nrLk8lI71+oCxZ4ePC\\\n",
       "a7dz7umJ7R7Q/1vg4czLtuF0aHz2VhYHH9D8hI6WGjsmgbFjEijcZbB+cwCfT9Gti4X+fUIhUXss\\\n",
       "+bAmTr621X72tGK1jx9/9ZLd08pJYxrvT/b7FX+5LR+7XeOh2zMoKKx/IrKktKYLotKj6myTlKhV\\\n",
       "d3M5HDpdMy1s32FUd201ZkeBUT1eem8Pmhedk8S38z0YBrz5XimT7u7U/J3EPpGAbiO1TxAO269+\\\n",
       "y2LdxgDlFaFPyAGtDOiprxdzywM7CTRw8n1TTpAH/rmLx58r4rwzEjl9bCJ9e9vI2x7kw8/KeeO9\\\n",
       "sjYfA92Qnxd6OOXCPDQN5rzdncMOartwri0j3dLggWj95poX5+ADmn9922o/Vabtbj1ffVFKkxNh\\\n",
       "8vKD1f3ch52c0+x+n5xaVL2yHcCrU7pw+YSa/u2hg+1s3+HB4w0FeWOt/q15NROFhgzcu5bvoFor\\\n",
       "2S3byyGIonUkoNvI0hU1b9iGWtCLl9cK8CEt/4B4vSY33r0TCC06dM64RAb0s1NeYbJyjZ/ZcytY\\\n",
       "uMSHx6v49ztl/Pud+mtenDDazWUTWj/MraV+/d3LyRfkAfD5f9svnJtSNakkwa1V98d31H48HpMZ\\\n",
       "75dhs8GVFzb9OnftbOGLd7o3uc2SFT5ufyg07vjic5K45NxagbzHuYtjj3BXj975fZmXE0Y3XHPt\\\n",
       "IZpjjqzbwp/zdQVul8boZhZAqn1eJRiMujXWopIEdBtZsjL0AeicYWlwfYoltQK6tS3onllWpj2Z\\\n",
       "ydgx9T98D9yWwaacAO9/GhrFsXKtn+JSk66dLRwx0sVVFyUz5oj2W3nst8VeTjo/F4A5b2c1GM4P\\\n",
       "Ty5k1pcVe7UCYXmFyVffVzJ8iKPBpTKrVK31MeHMpAZPjrbVfhryziflFJeYnHNaYrNjhJ3OxtcC\\\n",
       "qWKttYu+vW1Nbj9+XCL3Pl6IUvD1D55GA/rr3bMHXU6t3pTuG/6+gwS3ztLvml6hb836mkZIr+4S\\\n",
       "HR1Bpnq3kaoRHMMbaR2vWhf6Wut2aa2a2m23ayz6qleD4Vwlu6eN265P45sPerBtaV88m/uzcUEf\\\n",
       "Zkzt2q7hvGB3OCsVCufDD254tuDGLQEWLvHV+7lpKi64dhupA9Zzx8M7G7zv1rwg46/cxqQpja8u\\\n",
       "9/UPlfxvgZfkJJ2Jdza8NGdb7achLT052B4G9LVzzmmhRan+M7MUTwND6LbvCFaPTLnx6lSSEut/\\\n",
       "7Feu9deZ+dmQN94trf73uBNbtkKf2DcS0G3A4zFZt3uGWmMjOKpO9Oh6674e6rq2T4vdt5dFS7yc\\\n",
       "dEEuxSUmd/41Da9P8e38ygb/VM1229Pc7yp59+NyyspNJr9YXKeFtqf/flTGoiX118b4Y7mPS27Y\\\n",
       "jsUSmm7f1Op6bbmfKktW+Ph5oZeB/ULT7sPhH/d1IrOThbztBndMLKhzWzCouPaOHXi8ioH9bPz9\\\n",
       "xoaHxykFl/51O9vy6y9qpZTi3scKqtf9OO4oV5MLK4m2I99T2sDy1X6M3RnU2AiNlJTQsbC8QnHo\\\n",
       "2C2MPNDJtCe7dFSJbWpXkcGJE3IpKg611u55rHCv9mPu0dhr6tIRXq/iqDO2ctl5yQwfYicYhP8t\\\n",
       "9PDB7ApSknTend6NM1uw7nJb7adK1czBay5O2adLey1Z4as+0bxqrb/Oz2e8H2q5dulsabALo1cP\\\n",
       "Gx+/kcX4K/OY+noJq9b6OfPkRAKB0BVVFi31MaifjU/ezCKlgcWihg91sHlrkPm/eRlw+CYmnJnE\\\n",
       "4P42OmVY2JoXZOas8upJWKeNTeDN57vu9fMUrSNXVGkDr/+3hKtv3gHAb1/05KDh9fth5//m4aqb\\\n",
       "89mwOUBqsoUrLkjm8Xujc5jSppwA/UZuavX9jG0D6v7fUFxw7Xa+mFfBXy5N4R/3159R5/OZfDin\\\n",
       "gnk/VvLbYi/b8g2KSgzSUy30z7Zx+kmJXHlBcrPfMtpqP7VVVJr0GLERn1+Rs6hPg6NCWuqhJwt5\\\n",
       "eHLTFwkYPcrFNx/0aPT2wl0Gz75SzEdzytmUE0DXNQb0CV2T8PrLm74m4fLVPj76rIIffvGwep2f\\\n",
       "nYUGgaAiKVGnV3crIw90cuHZyRw9KnJXsovFK6pEZUAfPDwU0HLBWCFElVgM6Kjsg1bI1byFELEv\\\n",
       "KgNaslkIEQ+iMqANQyJaCBH7ojKgd2y14a3UmjzrL4QQ0S4qA9pTYeGFe7pTXBB544OFEKKtRGVA\\\n",
       "G4bGV++lc/Pp/XnvhegcqiaEEM2JyokqyWlB/vvjcpwuE01XKCWjOoQQsScqAzqzu5+U9Jrpw9IX\\\n",
       "LYSIRVHZxaHvUbW0noUQsSgqW9BCCAGh9VyMIBjB2GylRWVAS4+GEAJC36Z1O9jssZkKUdnFUbrL\\\n",
       "wrYtUXlsEUK0gXg57xSVAe336SQmK4xg/PyihBA19jzvZDR9zdyoFZUBndElQFKqgcUqJwiFiEeB\\\n",
       "3Utmz34znQnDh3BKz+HhLaidRGU/wZ6jOIQQ8cUwNGa/ms5rj3bD54ndGcUSdUKIqON0KWZM7hrT\\\n",
       "4QxR2oI2TfhsRjrbNtsZOMLDqBNLsLb8OqxCRCgb0PSFW0WIEYSy4tgOZ4jSgN640sW0B7PwVlpw\\\n",
       "Jhh06dGFpz9eR0Jy/SsaCxE9JJxbymKFjK4BCrfbw11Ku4rKLg7DAG9l6OjprbCQt9HBf57ODHNV\\\n",
       "QoiOohScfFEhNntsN8qisgW95zVVTrpwFxfuvmirECK25W20cdcF/SgptO6OAhWzo7miNKBrjDlr\\\n",
       "F1ffm4fTLQOihYh1SsE//9aL/Bw7StWksqbH5uc/Krs4arv4lnwJZyHihGnA5tXOOuFc9fNYFPUB\\\n",
       "3ambnFgRIl5oOow5s7ihWzq8lo4Q9QG9YaUr3CUIITqIrsOfH8il9yBPuEvpEFEf0K9O7Ia3MjaP\\\n",
       "nkKI+uxOuPBv29G0UNdm1d+xKOoDetmvidx1QT+W/C8BT0XUPx0hRDM0DY4+rZSjTisiKS1Qrz86\\\n",
       "lsREoq34LYG7zu/LjMldwl2KEKID6Drc/WIO7/yxgoTkYLjLaTdRG9B7fq2xWOHUSwvDVI0QoiOp\\\n",
       "3fNTdAucc+3O8BbTjqI2oG12hd1h4nQbpHYKcP+rm8jK9oe7LCFEB/D7NW46tT8rFrjp0c8b7nLa\\\n",
       "TdROVPH7dE66sIBxlxXSvY8PV0LsnigQIt4pFep7NoIQ8Gu88kgWqxcncPcFfTn02NJwl9duojag\\\n",
       "AT5/qxML5iUz8rgyzrx6B70G+GN2yqcQ8cxbqfHz3GTKiq188XY665a6gVBY/zArNczVtZ+oDmiA\\\n",
       "gm12PpuRwdqldp6bvSFWx6sLEdc0Dd59IZMNy911fm4Eo7aXtkVi5tltXu1mR54sCi1ELLJYFcNH\\\n",
       "VYS7jA4XMwFtBDXKii1s32KL2QtIChGvrDa48u48jhpXFO5SOlRMBfTfThvAi/dn4ffGzNMSQhDq\\\n",
       "4nA44ZantqJb4mdAQEwlWcCnc8joMpzu2F7EW4h4pUzI6u0LdxkdJoYCOnR2sEf/+PnlCRFvNA1c\\\n",
       "SfHThxlDAQ2gmP95igy1EyIGmSZUVuisW+JufuMYEfXD7OrSWPZrQriLEEK0EaVCwbx2iRO/V2fq\\\n",
       "fT1ienGkPcVYQCs2rXSx7JcE9j8s/obkCBFLTAMWfp/IEzf0pqLMsvuqKfETzhBzXRwapqkx6dpe\\\n",
       "qPg50StETKoo13j8+t6UFVswDY14C2eIuYAOKS6wsW2zPdxlCCH2wY+z0vB5deIxmKvEWBdHDYdT\\\n",
       "htoJEa2+fDeVZ+7oHlf9zQ2JwYBWZPX2kdE1dhfxFiKWrV/hYPLfehHPLecqMdfFYbEqHnlrQ7jL\\\n",
       "EELspadv7YmEc0jMBbTdZbJ+qUtOEgoRpdYvi59xzs2JuYD2lFl57Pre/Pp1koS0EFEoIbmxmYLx\\\n",
       "94GOuYAGCAZ0UjKCMqNQiCh0xpUF2Ox7nuRXxGO3R0wGNEDRTiumDOQQIupceFM+Y84qwmY3sTvM\\\n",
       "3avXxV84QwwH9IfTO+P3NvxLla4PISKXxQq3Pr2VN39byWP/3cD071aFu6SwidmA/uOnJF57tFuD\\\n",
       "YSxdH0JEptqf17TOQYYcWsHaP+L3pGHMBjTAx691oqJM0liIaKFpNSHtqdAo2mFl+sSs8BYVRjE4\\\n",
       "UaWu/32ewpizirHK5QqFiAqmCXPfTWPNYjdfz0zDW2kJd0lhE+MBrfHKI90YcVQ5nbrKqA4hIp1p\\\n",
       "wi9zk3n61l7hLiUixHQXB0BxgZ2bT+sf7jKEEC3g82g89/ce4S4jYsR4Czok4NcIBsAmC9wJEZHK\\\n",
       "inXefSGTD17uTDBQ1W6M3+F1VWK+BQ2hVnTOOqeMixYiAikF8z5K492pmRLOe4iLgAZ47LreeMp1\\\n",
       "GQMtRITRNEhMNqDO0qISzhBHAb1lrZPbxvfDkFVIhYgoAZ/GT5+lhLuMiBQ3AQ3Qb4iHYFCOzEJE\\\n",
       "kopynQXfJoW7jIgUVwG9c5t997XN6pOuDyE6nmnC958m463UicfV6poTVwG9cqG7wfeAUhAMSEgL\\\n",
       "0ZGUgk//lcGL91Ut0C/fbvcUVwHt81i475I+lBVbqCjVqSjVCfhCw/BsdlmjQ4iOFPBrTL23e6Pf\\\n",
       "akWcjIOubdmviZx/wBCGHV6BbjG5/dkc0jo1tkC4EKK9+DzxfcXuloi7gIbQgv6//5CEzW6Skibh\\\n",
       "LERH8/vgy3fSwl1GxIurLo49BfwaxYVxeYwSImyUgtwNDv71RLdwlxLx4jydNO67uA/5uXYqSy0M\\\n",
       "HFHJdRNzGTTCE+7ChIhZAb/GfZf2xe+N6/Zhi8T9K7RumZuyIiuGobFyYQJ3nNOPLWsd4S5LiJi0\\\n",
       "ZZ2dBy7LZmeuLIzTEnEf0Hvy+zTeeT4z3GUIETOCASgutPDNBylce+xgFn0vk1JaKs67OOozDZ11\\\n",
       "S13hLkOImLF+uYubTx+AIbN4W01a0PUoeg3whrsIIWKCzwNvP5Mpa+DsJQnoBpx3w45wlyBE1FMK\\\n",
       "nrurB7/NS0bGO+8dCeh6NFb/7sZbKW8oIfaFacL8OSkE/RIze0teuQa8cE8PvngnDWXK+hxC7C2f\\\n",
       "R6OiTE5z7QsJ6AaYpsbUe3py/dgB5G2U4UBC7A2HU6FpchmjfSEB3YQNy138ecwg5n0oi4kL0Vo+\\\n",
       "n0a3bH+4y4hqEtBN0ggGdJ66pRflxdInLURLKQWT/tyb7Ztl0te+kIBuAb9P45z9hzH94W7SJy1E\\\n",
       "Cyz7JYFlvyRimtKw2RfSg98iGsqE484pkjWjhajF59F448mufPF2OgG/xsjjSrnqnm0s/C5x91VS\\\n",
       "xL6QgG4xRa+BMoFFiNpWL3bx3ceplBWHouSHWan8Ni8ZV4KBjH3ed3KIa6Gk1NC60aaclBai2tBD\\\n",
       "K3nivfXollDfn1IannILu/Jl9FNbkIBuIa9H581/dsHn0TFljX8hALBYIa1zkEPHlIW7lJgkAd1C\\\n",
       "AZ/Of5/rwk3j+pOfa5OThULsZrOb9Owv3X/tQQK6lTavdlG0wyYnC4XYLeDX2bTaGe4yYpIEdKuE\\\n",
       "UnndMhfBQJhLESJMan97DPhhZ56NRd/JGs/tQUZx7IX3XuhMzhoHa5e66TXQyznX7qRnPx+aHO5E\\\n",
       "HDANMA0Nw4DvZ6Xy8oNZMt65nWhKRV9varKWzmHacWGuQgEausXEZodJ/9nAsMMrwlyTEO0j4NcI\\\n",
       "BjT8Xo3n7urOD7Mi74rcRQdtZMGCBeEuo01JC3qvhVoMpqHj88DEa3pz/yubGTqyQvqnRcx58b5u\\\n",
       "LJ6fSN4GJ0rJG7yjSEC3kZJCK3df2IcRR5TzwGubsMgrK6JczjoH33+agmloHHxMOV+9ly6jlzqY\\\n",
       "xEib0fB5LCz+KZG576Zz0oW7wl2QEHvtg+mdeP2xbhjB0OQTm03RpZePLWtktEZHktNabcznsTD7\\\n",
       "zfRwlyHEXtux1cZrj3bD79UxgjqmoeHz6uSscyLTtzuWBHQ7WL/chRGUaeEiOv08N7nB8yjKBDTp\\\n",
       "4+hIEtDtwAjqfP1BMp5yeXlF9NEtTdwo+dyhJEHaydO39ubR63oRbOBy89KyFpFs1NgSAr6GujI0\\\n",
       "pIujY0lAtxPT0FkwL5nZb6Tjqah5mT0VGjlrHTITUUSkQAC+mZkqQ+kihIziaFcaU+/twcLvkjnh\\\n",
       "3CJA0W+Yl269/Vht4a5NiLqUgjee6Mp7L2aGuxSxm7Sg253GL3NTeOTP2Xz+dgapGUHsTunIE5Fn\\\n",
       "zWIn707tIq3nCCIB3YEGDPPgcEoHtAgfpeDH2cmcM2QoEw4YwquTuuLzaHg9Gi8/3L32lmGrUdSQ\\\n",
       "Lo4OtD3Hjs+j405qOKSVQqaJi3alaXDosWUkpRrkbXLw0SudWfZLAgqNlQsSdm8VWmdGhJ+0oDvQ\\\n",
       "j5+l4PPqjY7iMA1kKq1od5oGh59YCoDfp7N+uYuVC9y1twhPYaIeCegOFPDp/O20/qz5w4VS9dfV\\\n",
       "3ZErFwIQ7U8pMGpdts0wqt500jqINBLQHWz7Fgc3nTqQW87ox4blToKB0FKOv36VzJ0T+oa7PBEP\\\n",
       "NPjps5Tq/xrBqvHN0jqINNIHHSYrFiRy/YmDcLoNjKBGwK8DCtMEXQ6boh0oBQGfxvN3dadgW9VV\\\n",
       "txVKFtuPWBIFYeattOwO55Cv30+r0/1R9W/TDP2RPmqxt5QJP32exJfvZNT6qYRzJJOAjigaT/6t\\\n",
       "J1cfPYg/5ieQu8mGacLqxS5+/iKZwu3SRy1aTikIBkJ//zE/gR8/S+HVSVlVt4a1NtEy0sURcTS2\\\n",
       "rndy57n9GXP2LtYtdbMz14auQyCgMfb8XdwwKVe6QUSzKst1/vd5Ei8+0ANPuQUjCDUtZjnSRwMJ\\\n",
       "6Ai24JtkKsosmEbNh2nuu2kMPKCSsecXhbEyERUU/DgnlfJiCxLI0UnaYRGsrLhuOEPoggCvTuqG\\\n",
       "t7LutnsO2xPCalP88VMSEs7RSwI6ojX8wSoptHLlkftRUVrz69M0mYUoQpQCvzc0WqOyrKnFnUWk\\\n",
       "ky6OqKRRVmxh6n1ZrF/mZmeejcNPLOG2KVslpONIRZnOlNt6sHapm14DvFz4t3wGH+jBU6Fx06kD\\\n",
       "2LLWFe4SxT7SlIq+L8bJWjqHaceFu4yw03WFWWsM66cbl7Brh5UX7unOwm+TsFrhmLOK+MuDeSQ0\\\n",
       "sv6HiA57rtNiBOGGsQPYtNqFMjU0TWF3KO6cupl3n89k1aKExncWo4oO2siCBQvCXUabki6OqFU3\\\n",
       "nAH+93kS/3fyQBZ8k4QR1PF5db6emcad5/WT/ukophQs/M5d5+o8j/ylNxtXuqsnmSgVurDrxKuy\\\n",
       "4zKcY5UEdAyZel8PvB4N06z5tQb9OjlrHSz/zd3EPUUk0zTIz7Hz1C09KCuy4K3U+O2b5Aa3lbWc\\\n",
       "Y4v0QUet+h/E4oKGL9OiFGxZ42T/kZUN3i4i06LvE5k+MYuctQ7SMgPs2Gpn3ofpdOnhJ+iXII4H\\\n",
       "EtCxRDOx2agzdRxCLbBeA3z1NjcMQIFF3gUdyjBC6600dUJ38U8JPHh5H3ze0O9yx1YHoDANjW2b\\\n",
       "HR1TqAg76eKIJUrD7jTR9ZoTgja7SefuAYaOrKi3uRHUuPLIwZSXyNugoygFb07O3D2rr+HbAV5/\\\n",
       "tFt1ONeQVnO8kbZTTNGoLNdJzwyya0doerjFqkjvHMDn0bDaFD/NSWHBvCSS04MkpwfZvsXBHef2\\\n",
       "45lZa7HaZCx1e9M0mHDDTvw+DYtV4fPolBVbSMsMYLHAykUuPvlXBqt+l3MGQobZxY3DTiimYJud\\\n",
       "3A0OvJUWdIvCNCDUKlNkZfs465qdHH9uMe5EGZLXXpSCH2an8OT/9STgD63BrAgNmbTaTPxeffeJ\\\n",
       "PjlStlYsDrOTgI4rzV9rLq1zgP8sWoGl1gQ0n0fj24/S8FRqnHLxLuyOqHvLRASl4J839eSnz1Lw\\\n",
       "VjY2w0+uB7i3YjGgpYsjrjT/wS8rtrDo+0SSU4P8+8luFO2wUpBnw+vROeaMEpTa1QF1Rp8WXfBX\\\n",
       "wa9fJTcRziDhLGqTgBZ1BAMaD1zap9Z16kJdIKCxarGrwdazUrBhuZPf5iXjdJkcdVoxGV0aOQsW\\\n",
       "gwwjdDEFW61RjoX5VvJz7PTo6yM5PXQBwKoLLwjRUhLQYg/a7guKanV+BtCpSwBvhYZuBZtdoetQ\\\n",
       "Wa7xxF97sej7ZIyAhsWmePXRbtz5/GaOPKU0HE+gw61Z7CJ7sAebDfw+jSdv6sn8L1Kw2RUBf2gN\\\n",
       "7+sfySVvo4OKUlm8SLScBLRoQMNfs/O32vnXE13ZtMrFmPFFOF2KT17LYPlvCdX3qWp5/+PG3hx0\\\n",
       "9PIWnXBsUfdAG2qLx/N5Nf77bCYHHV3GP2/qSZceAY44pYQta5z878sUAj6dwO6h57PfzGBnnpWC\\\n",
       "bQ1PJBKiMXKSULSY3WlgsYKnvPlWoDvR4NYpORx5SkkHVNYwvzc0lK2hiTjNhfRv3yTx73905dYp\\\n",
       "W+gzuO4kH9OERd8lcu+lfdDQqkfD2Oxm9ciMBh6xkZ+LthKLJwllhoJoMb/Xgqe8494y+9p0MAyN\\\n",
       "oNHwbQ2Fc9XjffdJChOvyWbtEjdTbuuJp0InGAjdFvCBp1znpQe6owx99wUVQjvbcwbnHo+4189D\\\n",
       "xC8JaNFKLQuaYFDjoKPL9u2hmglos5HwraLpil/mJleHa4seUsG0B7PweUIfjVWLErj+hIHM+U8G\\\n",
       "y35x8/HrnfjLsYPIWeds7FFb/mBCNEP6oEW70C0mPq+G3RGawWgEQ+Fnsbas/1cpyM+10rVn46NB\\\n",
       "5n2Ywsjjy7HZTRwuVWe/3kqNWW9kMPOlTAYfuJbUTsE6I1D27OII+MHv1dF0RdHOun3FeZscPH93\\\n",
       "jxY/dyHaSlT2QXfq1Ins7OxwlyGEiCCbNm2ioKAg3GW0qagMaCGEiAfSBy2EEBFKAloIISKUBLQQ\\\n",
       "QkQoCWghhIhQEtBCCBGhJKCFECJCSUALIUSEkoAWQogIJQEthBARSgJaCCEilAS0EEJEKAloIYSI\\\n",
       "UBLQQggRoSSghRAiQklACyFEhJKAFkKICCUBLYQQEUoCWgghIpQEtBBCRCgJaCGEiFAS0EIIEaEk\\\n",
       "oIUQIkJJQAshRISSgBZCiAglAS2EEBFKAloIISKUBLQQQkQoCWghhIhQEtBCCBGhJKCFECJCSUAL\\\n",
       "IUSEkoAWQogIJQEthBARSgJaCCEilAS0EEJEKAloIYSIUBLQQggRoSSghRAiQklACyFEhJKAFkKI\\\n",
       "CCUBLYQQEUoCWgghIi7sSDAAAAANSURBVJQEtBBCRKj/B7EGQNTyThHxAAAAAElFTkSuQmCC\\\n",
       "\"\n",
       "  frames[3] = \"data:image/png;base64,iVBORw0KGgoAAAANSUhEUgAAAWgAAAFoCAYAAAB65WHVAAAABHNCSVQICAgIfAhkiAAAAAlwSFlz\\\n",
       "AAALEgAACxIB0t1+/AAAADl0RVh0U29mdHdhcmUAbWF0cGxvdGxpYiB2ZXJzaW9uIDMuMC4yLCBo\\\n",
       "dHRwOi8vbWF0cGxvdGxpYi5vcmcvOIA7rQAAIABJREFUeJzt3Xd4VGXax/HvOdPTGyEJVTqCiBUL\\\n",
       "ioK9AwL2trqWRXctoLy41rWDfe0NxboWUBRUFBXFAqg0AQEDBALpPdPP8/4xJCRkEiAkmXZ/rosL\\\n",
       "yMyc3JnM/OY5TzuaUkohhBAi7OihLkAIIURwEtBCCBGmJKCFECJMSUALIUSYkoAWQogwJQEthBBh\\\n",
       "SgJaCCHClAS0EEKEKQloIYQIUxLQQggRpiSghRAiTElACyFEmJKAFkKIMCUBLYQQYUoCWgghwpQE\\\n",
       "tBBChCkJaCGECFMS0EIIEaYkoIUQIkxJQAshRJiSgBZCiDAlAS2EEGFKAloIIcKUBLQQQoQpCWgh\\\n",
       "hAhTEtBCCBGmJKBF2OvZsyfz588PdRlCdDgJ6BjSs2dPMjMzqampqf/aSy+9xHHHHRe6osLERRdd\\\n",
       "RHZ2NklJSfTr14+XXnqp0e1fffUVAwYMIC4ujuOPP55NmzbV3+Z2u7niiitISkoiKyuLRx99tP42\\\n",
       "j8fDueeeS8+ePdE0jW+++abRcZVS3HrrraSnp5Oens6tt96KUqpdf1YROSSgY4zf7+eJJ54IdRlh\\\n",
       "Z8qUKWzcuJHKyko+/vhjbr/9dpYuXQpAcXExY8aM4d5776W0tJRDDz2UCRMm1D/2rrvuYt26dWza\\\n",
       "tIkFCxbw8MMPM2/evPrbhw8fzsyZM8nKymryfV944QVmzZrFsmXLWL58OZ988gnPP/98+//AIiJI\\\n",
       "QMeYSZMmMW3aNMrLy3d7X5fLxUUXXUR6ejopKSkcdthhFBQUAPDqq68ycOBAEhMT6dWrV6NQ+eab\\\n",
       "b+jatSsPP/wwmZmZZGdnM2vWLD777DP69etHWloa999/f/3977rrLs4991wmTJhAYmIiBx98MMuW\\\n",
       "LQtak2EYPPjgg/Tu3Zv09HTGjx9PaWnpbuvdnUGDBmGz2QDQNA1N09iwYQMAH374IYMGDWLcuHHY\\\n",
       "7Xbuuusuli1bxpo1awCYMWMG//73v0lNTWXgwIFcddVVvPbaawBYrVb+9a9/MXz4cEwmU5PvO2PG\\\n",
       "DG6++Wa6du1Kly5duPnmm+sfK4QEdIw59NBDOe6445g2bdpu7ztjxgwqKirIy8ujpKSE5557DofD\\\n",
       "AUBmZiZz5syhsrKSV199lRtvvJFff/21/rHbt2/H5XKxdetW7rnnHq666ipmzpzJ0qVLWbhwIffe\\\n",
       "ey+5ubn19589ezbjxo2jtLSUCy64gHPOOQev19ukpqeeeopZs2bx7bffkp+fT2pqKv/4xz92W++D\\\n",
       "Dz7IGWec0eLPe9111xEXF8eAAQPIzs7mtNNOA2DVqlUceOCB9feLj4+nd+/erFq1irKyMrZt29bo\\\n",
       "9gMPPJBVq1bt9vkNduy9eayIfhLQMeiee+7hqaeeoqioqMX7WSwWSkpKWL9+PSaTiUMOOYSkpCQA\\\n",
       "Tj/9dHr37o2maYwYMYKTTjqJhQsXNnrs1KlTsVgsnHfeeRQXF/PPf/6TxMREBg0axP7779+olXzI\\\n",
       "IYdw7rnnYrFYuOmmm3C5XPz0009Nanruuee477776Nq1Kzabjbvuuov3338fn8/XYr233XYbc+bM\\\n",
       "afHnfeaZZ6iqqmLhwoWMGTOmvkVdXV1NcnJyo/smJydTVVVFdXV1/f93vW1P7Hrs5ORkqqurpR9a\\\n",
       "ABLQMWnw4MGcccYZPPjggy3e7+KLL+bkk0/mvPPOIycnh8mTJ9e3aufOncsRRxxBWloaKSkpfPbZ\\\n",
       "ZxQXF9c/Nj09vf6Uvq4V27lz5/rbHQ5HfbgBdOvWrf7fuq7TtWtX8vPzm9S0adMmRo8eTUpKCikp\\\n",
       "KQwcOBCTyURBQUGL9e4pk8nE8OHD2bJlC88++ywACQkJVFZWNrpfZWUliYmJJCQk1P9/19v2xK7H\\\n",
       "rqysJCEhAU3T9qpuEZ0koGPU3XffzYsvvsjWrVubvY/FYuHOO+/kjz/+YNGiRcyZM4fXX38dt9vN\\\n",
       "2LFjueWWWygoKKC8vJzTTjttn1p9eXl59f82DIMtW7aQk5PT5H7dunVj7ty5lJeX1/9xuVx06dKl\\\n",
       "2Xpbw+fz1fdBDxo0qFFrv6amhg0bNjBo0CBSU1PJzs5udPuyZcsYNGjQHn2fXY+9N48V0U8COkb1\\\n",
       "6dOHCRMm8OSTTzZ7nwULFrBixQr8fj9JSUlYLBZ0Xcfj8eB2u+nUqRNms5m5c+fyxRdf7FM9S5cu\\\n",
       "5cMPP8Tn8/H4449js9k44ogjmtzvmmuuYerUqfXT3IqKipg9e3aL9e5OYWEh77zzDtXV1fj9fj7/\\\n",
       "/HPefvttRo0aBcDo0aNZuXIlH3zwAS6Xi3vuuYchQ4YwYMAAAC655BL+85//UFZWxpo1a3jxxRe5\\\n",
       "7LLL6o/vdrtxuVxAYNqdy+Wq/zC75JJLePTRR9m6dSv5+flMnz690WNFjFMiZvTo0UN9+eWX9f/f\\\n",
       "vHmzstlsasSIEUHv/9Zbb6l+/fqpuLg4lZmZqa6//nrl9XqVUko9/fTTKjMzUyUnJ6uLLrpITZgw\\\n",
       "QU2dOlUppdSCBQtUly5d6o/j9XoVoHJzc+u/dvTRR6s33nhDKaXUnXfeqcaOHavGjx+vEhIS1NCh\\\n",
       "Q9XSpUuD1u33+9X06dNVv379VEJCgurVq5eaMmXKbuu977771CmnnBL05ywsLFTHHnusSk5OVomJ\\\n",
       "iWrw4MHqhRdeaHSfL7/8UvXv31/Z7XY1YsSIRj+Ly+VSl19+uUpMTFSZmZlq+vTpTZ53oNGfuscb\\\n",
       "hqEmTZqkUlNTVWpqqpo0aZIyDCNonSL2aErJaIQIrbvuuov169czc+bMUJciRFiRLg4hhAhTEtBC\\\n",
       "CBGmpItDCCHClLSghRAiTElACyFEmDKHuoDWsGo27MSHuoyQCCww08J4KbBC1yE5zYcjwcDr1qgo\\\n",
       "MeP1aKR08hGXYLBtkxXD2LlSzmw2SOvsIzHFR5D9hNqEx6OxbaMNt0vHZDZISvVjtSmcNTpV5SaU\\\n",
       "0gjMgGu4gk9hjzPwuPRG9YrwZE3XG61mjQYRGdB24hmmjQp1GaEVpnmh6Yo3fllNYooPe5zC6wG/\\\n",
       "T+OOS/fj/rf+YvM6Ozee1QdXbSCJE1O9vPjtWhJT/Jjb8dWoFNRWabwxPYtLJ29H18HmUNRW65QV\\\n",
       "mbnhtD5UV1iaPM7kNTBZweOWk81wV9Yzd/d3ijDyqhNtSLHfQCcpGV7scYEWvsUK9jjFpMfzMJlh\\\n",
       "v4Euhp1YyUHHVHLGpUW8/vNqUtLbN5whcOYRl6i4+s5tOOIVNkegvrgEg045Xi68Mfi2pPY4g3HX\\\n",
       "FWK1G7v/HrpC08P1zEZEoohsQYuOYbUbjBpTyuEnVlGy3cKcGelsXONo5t6BYLrq39uwWJvemprp\\\n",
       "pW7/nynPbMYwQNehI/cE0jSCnnlYbYqRY8t55YEcvA1aylabwSkXlHLhjQUU5Zv54t2MZo9ttRkk\\\n",
       "pfko3ta0FV733ITtaY8IWxLQogHFwSOq6D/UyfJF8dzw8BY6d/XgiFf4vHDiuFKm39iN7z5JrX+E\\\n",
       "yWzgiDfof1AtxdssZGQF3z3O1OCVpmm0W19zayUm+xl4SA1rf4vHZFb4vBoHHlXNZZO3o+mwanFC\\\n",
       "M49UJKf7OP2iEgYfUc0b07LIXe2o78IB0HS485VcPnyhE8sX7dkud0JAhM6DTtLSpA+6nVjtBm8s\\\n",
       "/oOEJH8gSHf5CK+p0plwwCC8Hh2L1eCsy4v5+53bAHDVaixblMDQo6vruxAizcY1dvI22OjRz0X3\\\n",
       "vu76ry+ck8zjk7ri9Wi4nTp1reEuvdz89/O1OOIVSoHbpWEywS/zE3n+7mwqSiyc/bdirpiyndoq\\\n",
       "nfFDBjVqpYu2U3ZwLkuWLAl1GW1KAlo04kjw86+Ht3DcOcEviaUUOKt1Vi2OY9Yrnbjt6U0kpuy+\\\n",
       "fzYa+Lyw6U87n7yWztcfpuJx6XTp5eKFb/5sckagFBh+KCk0k5njA8Dj1nhqShe+eCeNQMDvOmtE\\\n",
       "7AsJ6DAhAd1WmgaEI8HPjdPyGHFWRcuPNAIPjdV95VctjqNgi4VjTq/AbNnz58Hvh+oKE3HxBqt/\\\n",
       "jeO5O3PYsDKufYuNEdEY0HKuFcOCbZVs+DUOG7n7yzVpHTzAF24GHVbLyNEVWKx79zwE5oj7sdgU\\\n",
       "Q46sYfqHG8jp6d79A0VMkoCOYVk93FjtBhargc3hx2Y3uO2ZTcQlxEaXRSjsGuYWm8G4fxSGphgR\\\n",
       "9mQWR0wKdG14XBpPz1vL0m+TsNkNjj6tgpR0f6iLiylmC/QbUhvqMkSYkoCOQSYTZO/n4pARlXTt\\\n",
       "7aFHv+haHhtJ/D7IXd1wbrkMHIqdJKCjXtM3vC3O4Ln5f2KxRtz4cNTRdLA5/PQdUktlqQmPR6e6\\\n",
       "PDAlxOup+71p9NrfSf+htRRutfDbwkTZGyRGSEBHhZ0hbHMYjLu2gEXzUvjrj0DLTDcpDP/O26+8\\\n",
       "PV/COUzoOhx7ZiXHnllZ/7XSQjMup8aMh7L4YW4KU5/fyEHDqwIXM/RrVJabuGV0H4rygyzZFFFF\\\n",
       "ptlFoZQMLy8vXMMNp/fhyJMrqSozs/zHBDJyvEyYWMhhx+9+loYInbp3pKbBx6+mcdKEsvq9TQB8\\\n",
       "Pljzaxw3n9M3RBWGp2icZict6IjV/P4OtdUmaqp0nv3yT6z22J4OF6mUCvzeTr+ktMkiGLMZ+h/o\\\n",
       "JCnNR2WpGV1X6CaFzyuTsqKN/EYjkiK7pxuLLfjJj1KBubY2h4RzJNK0QNeHUs3vWaIUJCT7uPmx\\\n",
       "zczesIKP/1rBE5/+Se/BMiMkmkhARxzFgINqeX7BWm56NK/JNphWu8HI0Y1PiUVkaunD1WJTvPjN\\\n",
       "WkaNLcNqU5hM0O9AJ9M+2EBGtqfjihTtSgI6oihunL6ZR2evx2aDkaPLufim7djj/Dji/VisBsNP\\\n",
       "K2fi/VtDXahoZ5oWmEPdcDMrXQezVXHmpSWhK0y0KemDjiBmi6JbH0+jN+X4iUWc/bditm22kpbp\\\n",
       "IylVFprEMqtN0XOgM9RliDYiAR1BdJMKugzb5lD07C/7OQhwOzXW/iabL0UL6eKIGIpOOV56DnCF\\\n",
       "uhARpvx+cLt0Pn0jPdSliDYiLeiwprA5DDQdElP83PtGrszKEE0oFfhTnG/hqSk5VJQEu+yWiEQS\\\n",
       "0CFmtfvxenRUkKW73fq4uPTWApLTfAweVhN0e1AhtB37cmd29XL7i5t56B+waF5Ko/vouiI+2ctR\\\n",
       "p1SRmOLj9+8TWL8iPkQViz0lAR1CNoef1xat4bk7c1j0eXKjSyHZHH4mXF/EMae3vHG+EHU0DewO\\\n",
       "xU2PbmHZogT8fo2cnm4m3r+VgYfUomlgGKD84LtZY9G8ZB6a2B3ZnCl8SUCHjELTIS7Rz43Tt+By\\\n",
       "6vz6XSIWa+CCpedeU8SosWWhLlJEoIRkP9M+3ICrVmPgIYEZHXVdYyYTYApMxzvy5AoSUvxYbYrS\\\n",
       "AjMS1OFHAjpkNFCw9NtEjj61kntmbKR4m5nibVa69XERnySb5ovW0TTotf/uB5Md8Yp3fvsDQ0F5\\\n",
       "sZnHb+nGr9/JVcfDifRqhpDHrVFauHNAJyPbx4CDayWcRYex2BQ2u6JzVy93vpJL974ySyicSECH\\\n",
       "kDI0DhhWE+oyhADAYlWMvqoo1GWIBiSgQ0bRuZtb5jWLDlc3LW9XJjP0H1qLySJncOFCArrDNH5H\\\n",
       "mC2KO1/dGJpSRMwLNp9eKeg1yMWc3BUcd05pxxclmpCA7hCKQYfVYLEamC0G2T3d/GdmLr0GyvJs\\\n",
       "0fGaW+xUN59a1+HWp/PYb6BsXRpqMoujA5jMijF/L+LQ46vwuHUSU/yyIlCENV2Ho06p2HFBW3mx\\\n",
       "hooEdAdITPFz1KmV6DrY42S3OREZ+h9US3qWF7NFUZBnRYK640lAtzObw+Dqu/JlmbaIKG4XdMrx\\\n",
       "8dqiNRgKygotPHBdd9b+JsvDO5IEdBuy2g3OvqKIUy8sRdMUP3+ZSPd+bg4ZIVPpRGQxmaBHf1f9\\\n",
       "Jbeye3h48N2/uOyIgVSUSmx0FHmm24iuKx7/eB377e+qby2fc6WMhIvIZDI3HUzUTYoTxpfywXOZ\\\n",
       "oSkqBklAt5FhJ1Q2CmeQC7aKyBXstWt3KDp3lesddiTpGW0jI8eWST+ziGq11Torf04gLtFHnwNq\\\n",
       "sTlkwLu9SQt6nylAw+3SUEpazSJ6NHw9u10apQVmrrk7j7TOBkpB3jord12xH/m5NmSGR/uQNt8+\\\n",
       "6tTFgz3Oz4fPdwp1KUK0qbpwVirQes7u6SE9y0DTYNmieK49sb+EczuTFvQ+URx0TDXHnlHO5nV2\\\n",
       "fvwikSNOrJKuDhFVNA1SM3Z2Z2xca2PqBb3w+zQknNuXRMk+sNkVZ11ewmEjqxl9ZTGHHlfFd3OS\\\n",
       "qCwzhbo0IdqN36txzd35dOklA4btTQK6NTSFzW5ww8N59D0gcMUK3QRWGxx3ViVJqTJ4IqJX78Eu\\\n",
       "TruohGe+WMuBR1eFupyoJl0ce8nm8DP5qc0celwV9rggezYKEQPMlsCOjDc/msclwwYS6OpQ9X9J\\\n",
       "10fbkBb0XvL7ND5/Ow2bQ8JZiNROPtIyfYAiu6ebFxas4Zn5azGZZU/ptiABvRcc8X6OOqWSlAwf\\\n",
       "61fYQl2OECGn6eD3w6hzS3lhwZ/06OehS08PZ15WEurSooJ0cexWYJ7z4aMqmfr8Rgx/4NTNapcW\\\n",
       "gohtSoHPC6/+sKbRdTTtcYphJ1Qy6yWZerqvJKBbFAjnxBQfU5/fuKPPWbo2hIDA9DtHfNP3hN8P\\\n",
       "Jdst1L1/ROtJF0eLAi+uI0+pQCl5oQmxJ7xujdmvpoe6jKggAb0HbHaFrkvLWYiWKAUeNzxzexe8\\\n",
       "bo3bX9zIbc/mYrVJd2BrSRfHHvjlq0SuuiPUVQgR3gwDfpybzJiri/C4NB6+vgfbNlvxeeTss7Wk\\\n",
       "Bd2iQKu5IM/Ge093wlWrBb1cvRAisMn/iHMqSO/s49bxfSjcauHUC0pwxEsLurUkoINS2OP9nDSh\\\n",
       "lN6DaklM9bHy5wS251lltzohdmPBRymYTAaPf7yeK2/fxsgxpcjgeutIF0cQN03fzMnnl4e6DCEi\\\n",
       "0vbNVoafXkF2Tzf2OMXKXxKQ2RytIwHdgMmsOPbMcgYcUit7OwvRSgMPrSEjy4sjXqEUbFprD3VJ\\\n",
       "EUsCegezxeCR9zew3/7O+heWEGLvDT+tEr9/54b/8Ul+aiolalpD+qB3GDm2jP32d+2YeC+tZyFa\\\n",
       "S9PA3OCis6OvLMLmkIHC1pCA3mHEmeUy2ixEO7jgxkJOOb8Eq83AEe9HBgz3nAT0DjVVJgzJZyHa\\\n",
       "nMkE1/0nn3eWr+KBdzdwyHGVoS4pYkhA7/Dp6xl4XNKvIUR7iU806DXQRU5Pb6hLiRgxHdC6SRGf\\\n",
       "FDjlWrYogXeeysTrlpAWor0oBat+iSPQzSFdHbsTo0OrisunbOPsvxVjNkNlqYmX78vis5kZnDCu\\\n",
       "jK5yrTUh2pzPC3nrbeSusSPzovdMTAa02arolO3FseOSVelZPm5+fAuwBZNc71WIdvHz/KQd3YgS\\\n",
       "znsqJrs4fB6d9Ssdjb5mMiHhLEQ7OvCoalIyfC2sMZAuj13FZEDbHH6ye0g3hhAdKSHZ4IAja7BY\\\n",
       "gvc/y9qDpmIwoBW6DiPHlIW6ECFijtkMU57dtKOXY2dImy0GfYbUhqyucBWDAR14MZgtcjolRCgc\\\n",
       "fWolLy9czYkTSklO89J/aA1Tn9vElg2yZ8euYmaQ0B7n56TxpQw9ppribRZ+XZjAUSdXhbosIWJS\\\n",
       "l/283PLYlvr+6II8MwlJfpzVMhDUUEwEdGKKj6fm/UlKug9HvMLrkf4uIUKp7v1X93dWdx8DD6mh\\\n",
       "KN8auqLCUEwE9PiJhaRn+rDaAx/XFnkNCBFW/H4oKzIjVwJvLCb6oI8+taI+nIUQ4efXbxMoKbQg\\\n",
       "4dxYTAS0s1p+6UKEs6HDq3n2iz85+FjZSKmhmAjojWvtsgG/EGHMYgV7nGLyU3lomrxZ68REQPcb\\\n",
       "4pJBQSEigN1h0K2PO9RlhI2YCGh7nGz0LEQk0E0KV21MxNIeiYlnYtG8JLzyoSxEWPP7YfM6O4Vb\\\n",
       "ZZpVnZgI6Dcfz6Kq3Cz90EKEKaWgtsrEfdd0D3UpYSUmArqy1Mzrj3TG5wt1JUKIYDQN3E4oL7I0\\\n",
       "+rqux3arKiYCGmDzejummPlphYg8Gdl+HvlgA70H12IyKcwWg35DY3sDpShfSagwmRUmExxzRhm6\\\n",
       "LPMXIqz1HeLkmS/W4arVUUrx9hOZ/Pl73I4LOsfeVKyoDmiLNXBpqxPHl5GU6g91OUKIPVQ38+rS\\\n",
       "Wws44qRKpl7Qi9rqqI6roKLwJ1bYHAa6Dtc/uIVRY8tDXZAQohVqq+Cuy3vxx5J4vB6NWNynIwoD\\\n",
       "Gjr3cPPAm7lkZMuooBCR6q/VcaxaHI/PG7uDR1H4k2tsXW/nget6hLoQIcQ+6HuAM6bDGaIyoMHv\\\n",
       "00lM8eF2xtbpkBDRxOeT929UBvSE6wu49b+bsTliew6lEJFKKcjPtXLsmeWYLbG7VUPUBXRCso8L\\\n",
       "byzAESfhLESk0jToc4CLG6fn8fLCNaRkeAl2JfBoF1UBrWmKo06pwO+VUyMhIp2mQVyCQWZXLzN+\\\n",
       "Xs3D729g6PDYuo5o1MziOHhEFZOe2Excoh+bXD1FiKih62B3KA48qob+Q3N5fFJXFnyUFuqyOkSU\\\n",
       "tKAV6VkektN92B1K9n4WIkrZ4xTX3pMfM3t0RElAa3z3cQofPp8R6kKEEO3MFmeQ1tkb6jI6RJQE\\\n",
       "NLidJma93CnUZQgh2pmuQVV5bGysEzV90AA1lbHxSxMiVrmdGt/MTsHtjI33etQEtKYpDjiiOtRl\\\n",
       "CCHagceloYDvP0vmqSldQ11Oh4nogNY0hVIaZouB1a646o5toS5JCNEeNMWk0X1Y+3t8qCvpUBEd\\\n",
       "0MNPL6co38rAQ2oZ8/ciMrvExsCBELHGYoWTziuVgI4kNzy0haTU2F0GKkSs0DTo3jf2rvwcsbM4\\\n",
       "0rO82GWvDSFiglKw+ldHqMvocJEb0J29OzbxFkJEO02Dnv1daFpsNcoiNqA3r7NhssTWL0uIWDbs\\\n",
       "hGr2P6yGWNo0KWID2lVr4st3U1Gx87sSIuZdPmU71hjaaydiAxqg74FO2XdDiBhywLAabn50M5pm\\\n",
       "kJTmw2SO7rCOyFkcGgqL1U+/A52hLkUI0cGOO6eCYSeuxGQGv09j1svpvP5wdqjLahcRGdCpmT6u\\\n",
       "mLg91GUIIULEEb+j5WxTjL+uiPhEg/98ENqa2kNEdnEkp/kYc1UxekRWL4RoSyYznHlpSajLaBcR\\\n",
       "GXFVFSY8bul8FkLsEKVxEJEBXVpgoSDPirM6UL7M5BAitkXrZIGIDGjDgGtP6McHL3TC8EfvL0cI\\\n",
       "0VSwBpknSleBR2RAg4bfp3H6RSXosbEtrBBiB6870Eir4/eDsyY6gyBCAxp6DXJii5ONkoSINRYb\\\n",
       "/DI/Ea8nEM6/f5/AP0/vG+qy2kVETrMTQsQuTYPDRlWhEeju0DRwR+mkgYhtQW9Y6cBZE7HlCyH2\\\n",
       "gckEuikwxe6gY6p5/afVoS6pXURowilA8b9nMjD8oa5FCBFKmgZmS6iraB8R28XxnzdzGXRorczg\\\n",
       "EEJErQhtQcMjN3Tn649S0CL2JxBCtJVobahFaLxplBdbeP6uHD59Iy3UxQghRLuI0IAOcDtNvP5I\\\n",
       "VqjLEEKIdhHRAQ1QUWLG7wt1FUKIjmbEwDKIiB0krDPsxApMEf9TCCH2VvE2CykZPnxeLVr3Sors\\\n",
       "gLY5/Ex+Mi/UZQghQmDLBhu3jOmN3aHI32SFQZtCXVKbi8iA1jRFdg83V0zNJz4pBs5zhBBNHHh0\\\n",
       "NYahsXm9FWVEZxs6Ivug+x7g5LUf13DsGZWhLkUIESImE0z7YAP7DXBhtUdnQy0iW9AiPFRU+vl0\\\n",
       "fg0LfnDy23I3uXleqqoN4uN0evWwMOJIB9dcmky/3tY2+X6lZX6eermcjz6rJnezF7NZo09PC+PP\\\n",
       "TuTaS5OJi2tde+PWe4uZ9kwZAHfcnMadt6R32HH8fsWbH1Tx3sdV/L7STUmZgdkEOVlmjjzUzpUX\\\n",
       "JjN8mKPFYxQW+/jg02q+/KaW31a4KSj2Y9KhcycThw61c+HYRM44MR5tDycLr8/18No7lcz9upa8\\\n",
       "rV6qaxWdM0x0yzFzxKF2jjs6jtNGxe/RsdpbVncPz87/k+2brZx1nT3U5bQ5TanI2+7+0APt/PJ5\\\n",
       "91CXEdMWLXZywrituN2Bl8/pJ8Zz9GF2UlNM5G728taHVWzJ92GxwGP3dOLay1L26fst+d3FmCu2\\\n",
       "sXWbj+OPdjD6tAQ8nkC4/bbSzcC+Vj5+I4dePfZuze+vy10ccVoe/h1bBrQ2oFtznMJiH2delM+S\\\n",
       "ZW7MZrh4XBIHDbZRU2vw7Y9O5n1dC8C1lyXz1P2dggbstZMLeO3dKjweRVamifNHJ9J7PwuGHxb8\\\n",
       "UMusuTUoBSOHO3j3hWzSUlvelvOhp0q5e3opGWkmxp2ZQL/eVjwexS+/uXjv4yp8vkDL1bMl/HaP\\\n",
       "O/yMJJYsWRLqMtqUtKBFq1RWGbjdCl2HD17J5qyTExrdfvuNaZx9ST4LfnAycUoRA/tZOe6ouFZ9\\\n",
       "ry35Xs66JJ+CIj9XX5LMMw9l1t92/ZUpjLliG59+WcNZF+ez6NOuJCXu2d7APp/i7zcX1odqa7Xm\\\n",
       "OEopzr1iG0uWubHZNL6b1ZVDh+5sAU6eCE+9VM6//l3Es69V0CXLzJR/Nl2UNeO9QDiffHwc772Y\\\n",
       "TUL8zrOIf1yRwsefVzP2im18/b2Tsy/N59tZXdH14C3p2x8o5oEnyxh/dgIvPdqZ+F3OSC47L4lT\\\n",
       "z9+65z+k2GcR2QctwseFYxObhDNAfJzOk/d1qv//0y+Xt/p7TL63mIIiP9mdTUy7M6PRbWazxvOP\\\n",
       "ZGK3a6xe5+Hhp8v2+LiPPlfGbyvdnHXyvp2ut+Y4P/zi4ofFLgCuvji5UTjXmfi3ZIYOtgEw7dky\\\n",
       "fL7gJ7sOu8Yrj3duFM51zjo5gb9dkATAosUu3plVFfQYX35bwwNPljGov5XXn8pqEs4Ao46J44wT\\\n",
       "48lIi87N8cORBLRoleQknUOcAvLAAAAgAElEQVSG2Bh3VmKz9xnYz0p8XKC1tvpPT6u+z/pcD+/N\\\n",
       "rgbgwrFJQfuZszubOf2EQDg+8WI51TW7HzBan+vhnumlHDbUxvVXtr77pbXHWfybq/7fww4J3neq\\\n",
       "aRqHDQ0EdHmFwep1wZ/DYQfbycps/mR47Bk7P0A//rymye1KKW78dzEAkyemYrE031f94as55C/v\\\n",
       "1eztom1JF0cbueWuIh57vnWtxNzFPeneNbL2SzzyUMduxwE0TSPOoVNT68dhb11b4IM51fXXoDvh\\\n",
       "2OYHy0YdE8cHc6qpdSo+nV/DhLOb/+AAuHZyIV6f4vlpnSmraH0fR2uP4/HubA3HOZoPxIYt2WAf\\\n",
       "PB+8nE3XnJbfxj0avLbytjZddvv9zy5Wr/Og63DmSeEx+CcCpAXdRhYtdu3+TkF0zTF3SDh7PB0/\\\n",
       "Frwpz0tRSSC0jju65ZkIzfn6e2f9vw8a3Pwo/cFDbDsfs7C2xWO+/FYFX3/v5KZrUjlwkK3F+7bX\\\n",
       "cQ7Yf+f91zTTMgbqW82aBr17Nn2dnDoqngMGtvy9K6p2BnvdGU1D788JdHv06GomOWln94VSisoq\\\n",
       "PxE4jyBqSAu6jbzyeGfKK/0cfcYWAK66KImJf2t6ynvOpfnkbvYx7GA7L0zPDNrX15y5X9Xw4WfV\\\n",
       "/LHWg9er6NHNwsjhDs45NYHszsF/lUopnnyxnFqnCjrI1F4MQzHpnsBpc06WiUn/SG3VcVauCVyu\\\n",
       "2WHXyEhvvu+zW4NW5B8tdKdsL/Rx673F9O5p4Y6bWv987OtxTj4ujiH7W1n+h4enX6ngustTmvQh\\\n",
       "L13m4stvAx8255waT2ZG696uuZu99f8+5oimH5RLfg88x927WDAMxavvVPLq25Us/t2FzwdmMwwd\\\n",
       "ZOPCsYlcfUkyNpu06zqKBHQbGdDXyqLFO1t7xx7pYPCAxi0bl8sgLz9winnYQbYmtzdnye8urp1c\\\n",
       "yK8rGl9bfulyNx9+Ws0NU4s4friDsacnctxRDnp0NVNWYfD197U89lw5v610c8fN7RvOHo+ivNJP\\\n",
       "WbnB4t9dPPtaBT8tdTHqWAcznsyic6e9f6m53QbbCwMt8M6dWh6YyswwoWmBa9RtzPM2e7/r/6+I\\\n",
       "snKDd1/IxuFofdDs63FMJo3P3urCZTcUMP+7Woadspm7b01n6CAbTpfiux+d3PFwCYYBxx/t4PlH\\\n",
       "Ore61tnzAn34VqvG5eclNbl9xerA68owFKect5UFPzi5dEIS//x7Cjarxs9LXTz1cjk33lHM6+9V\\\n",
       "8cnMnGYbBKJtybPchpb/sTNAh+zfNHxXrPHg8zV/ezAej+KoMwLzazMzTJx1cjwD+liprjX4408P\\\n",
       "X3xTS3mFwVffOfnqO2fQYwzsa233vsWPv6hmwlXb6//fKd3E0w904u8XJ2MytW4ZblX1zlNru63l\\\n",
       "Y+i6htWq4XarRo9raPa8aj78tJpLJyQy6pjWTflry+NkdzYz750cPvqshqkPFDd6/iAwd/mKC5KZ\\\n",
       "cHZCs1Pjdqew2MfsuYGBwZuuTqFrTuNuEqfToKY28Hwt/DnQTffOC1mMO3NnH/5ZJycw7qxEjj07\\\n",
       "j99Wujn3b9v4dlZXzOboXF4dTiSg29CK1YFTa6tVY0Cfpqvnfl/ZcoAHYxgKi0Xjvilp3HBlSpPT\\\n",
       "S59PMf+7Wt6fU81n82soKAq0OHUdDhli428XJnPp+CSs1vZ9Mx17hIPP3+1CrdPgr41e3vu4molT\\\n",
       "injgyTIe+ncG549uedAuGKdrZ9/pntRvtQQCutbZdDCtssrPxCmFZGaYmHZnpyCP3jNtdRwIdJPc\\\n",
       "MLWIjz6rJjPDxD2T0xkyyIrXG1gI9OLMCqprDGxWjTGnN53KuCcm3V2M06UYOtjGv4N0xVRWN36u\\\n",
       "ThkZ1yic6wwdbOOfV6Vw/xNl/LTUxdsfVXHxuKatcdG2JKDb0IodLeiBfS1BWxfLVgVuN5lgcP89\\\n",
       "W/5sNmssmtOt2UEos1njlJHxnDIy0EIuK/dTXmmQmWHaq/7tfZWZYeaEY3e+nP51dSr3PVbKHQ+X\\\n",
       "cNF129m6zcct1+1dP3TDmR97MshZNzMiLkiXw633FpO/3c/MZ7J2u5quJW11nNIyP8ectYW/Nnnp\\\n",
       "28vCd7O7NupjHnN6ApeMT+LYs7cw7sptTJ6YygNTM1o4YlOvv1fJzPeryMww8cEr2diDzKTx7TKp\\\n",
       "49wzm/8gOH90Ivc/EZhnPvN9CeiOIL39bWjFmkALurlR9bqA7tPTssf9lmaz1iicN+Z5+eiz6vq9\\\n",
       "G3YdYU9NMbFfd0ujcC4r9zP3q6bzX9vb1BvTOO6owKDU/91f3OJshWASE3Z+yLncLQe0Yaj6EG/4\\\n",
       "OICFPzl5cWYlp4yMa1VLvq2PA/Dvh0r4a1Ogr/yxezoFHQAcsr+NWycGPtQefrpsr36H3yyq5ZrJ\\\n",
       "hSQl6syZmUPPbsFnCiXEN36uDmhhXGRAXyt2e+D+i39v3awlsXckoNvIxjwvlTumMwXrvlBK1fdR\\\n",
       "H7CH3RsNLVvl5qTxW+h9+EbO/ds2zr96O4ecuJk+wzbyn0dLKCkNPgd3+R9ujjlrC7/8Fpo31IXn\\\n",
       "BoLM74c3/rd3uw/abDpZmYFWal3XTXMKi/3186UbhpHHo7j6lgKsVo27J6VTXOJv8qeicudpfq1T\\\n",
       "NbrN7Tba9DgQ+DB5d3Zgalt8nMZJxzXfj33OqTtbtM+8tmfz7H9c4uScS7dht2nMfTuHQw5sfnpi\\\n",
       "YoLeqPsoJbn5SNB1jdQdt1dUGo1+JtE+pIujjTQcIDxgYNPui/W5XqprAgly4F4G9DOvlnPTnUV4\\\n",
       "g0xO2Jjn485HSnnwqcAeCmednECvHhbyt/v46LNqXv9fVUjmQNfp32Anu5Vr93414aABVrYXOnG6\\\n",
       "AoHX3FS7Lfk7z9X377fze+YX+Fi7IfDEDTt19xd3mPZMWf2OdAAvP96ZyyYktdlxAIpKArNdIDA9\\\n",
       "sKVB1P2673yLLv9j98/fT0udnHZBPpoGc9/uwrCDW97hTdc1Bva1sGxV4Ni7dnnsquEJW2sHLsWe\\\n",
       "k4BuIysavHmCtaB/X9UgwPff8+03XS6D6/+vCICjDrNz7hkJ9O1tpbrGYPWfHj79soaly904XYoZ\\\n",
       "71Yx492mey2cOCKOSye0bX/h3K9qiHNojNjNBkgN++Kb20uiJSOPjqufnfLbShcnjgg+G6XhFMTj\\\n",
       "h++sKauTic/f7dLi91j+h5tJdwfmbF90bmKjvtVBO8YK2uo4AA1zbXdrQBre7ve3fOdffnNx6vn5\\\n",
       "AMx7Z/fhXOfwg+z1Ab29yMeAvsFfn36/onTHB0undFOLS8JF25CAbiPLd8wl7ZRuCrovwvIGAb23\\\n",
       "LehuOWaen5bJycc3Dac7b0lnY56X9z8JzOJYvc5DeaVBVicTRx/u4G8XJnH80a2fCtacf9xWSHyc\\\n",
       "zopve7R4vz837Pzg6t5l719uY89I4PYHS1AKvlrobDagv9qxetBh1+r35QCw23VOOHZ3HyI7/92r\\\n",
       "hyXo/dvqOADpaSaSEnUqqww2b/Xh9apmw27Dpp2nTT1aWHG6+HcXp5wX2Glu7ts5QcP5nuklzPmi\\\n",
       "pskS/XPPTOTFmYHup6XL3M3uOrhyjaf+bCzYghfR9qQPuo3UzeAY0kzreM36wBstzqHt1dJuq1Xj\\\n",
       "1/ndg4ZznZ7dLNxyXSpff9iVbSt64dzUh9wl+zHzmax2Cec6q9d5Gq1SC+b193b2O59xUuMZAoah\\\n",
       "OP+abaT03cDke4qCPr5vL2v9zII3P6jEGWQK3fZCH59+GRhAu/7KFBITwvtlres7P0ScLsUnXzQ/\\\n",
       "+Fe3URTQ7Cb5S3aEs1KBcD7ikODhmbvZy9Ll7iZfHzncwUE7ds2b+X5ls0u7G44hXHtZcrM1d6Ro\\\n",
       "X4Ue3q/kCOF0GqzfGAiq5mZwFJfsnJ+8N6f6uq7t03Su9qQUXDJxO9sKmnZcKqW4/YHi+r00Rh3j\\\n",
       "aNSyBfjy21rem11NVbXB9GfLG7W2G3r43xlkZpjI3+5n8r3FjW7z+RTXTC7E6VL0623htutbt6S8\\\n",
       "o91xc1r9DIqb7igKuvrx+5+dTH8u0I/dNcfM9Vc2DcVfl7s45fytlFcY3DoxFZdb8c2i2qB/6lZl\\\n",
       "7krXNf77UCY2m8byPzzc+2hpk/t8u6iWZ16rAODicYmMHN5+H/x7Yw8vEhOxpIujDaxa66nfrL25\\\n",
       "GRrJO0a/q2sUh528mcMPsvP8tNYv3w21IYNsbNriY9FiF32P2MiEcxIZ0MdCRrqJLfk+PphTXb9w\\\n",
       "58yT43nj6awmxzB2aQw31xrq3tXC7NdzGHtFPs+8WsGadR7OOTUBrzdwRZVfV7jp39vCx2/kNNrs\\\n",
       "pyXL/3DXD+w2nP63/A83M98PtBQ7dzI126Wyr8fp19vKx6/ncMG128nL9zF05GYuGZ/IkP1t+HyK\\\n",
       "H37ZeQWTAX0sfPBKTpMLEZSW+Tlpwtb6AcepD5Ts0c8ezLCD7bzzfBaX3VDA3dNKWfiTk7NPScBm\\\n",
       "0/j5Vxdv/K8Snw8unZDIsw0umBBKSkV/QMslr9rAq+9UcOWNhQAs/rwbBw9p2v+3aLGTv91YwF+b\\\n",
       "vKQkmbj8/CQevH3vFh6Em1Vr3cz6rIaFPztZu95DUYkfr0+RmKDTvYuZww+yc8GYJI49Mvgpt9+v\\\n",
       "OP+a7Xy+oIarL0nm4TtaXplXUurnyZfKmTW3mo15XnRdo+9+gWsSXnfZ3l2T8O5pJdwzvWlLsaER\\\n",
       "Rzr4+sOu7Xqc8go/M96t5NP5Naxc46GswkDXISPNxIGDbJxzajwXjE4MushkY56X3odvbPF7B+Pf\\\n",
       "1vzlqvK3+3jypXI+m1/Dpi1efH7qxzOuuig5rPqe6zZyqhONl7ySgBZCRCSfL9BlqO/47IrGgJY+\\\n",
       "aCFERNJ1KMiz4HJquGqjs68jIgO6pkpn45rou8S6EGLP6TpkdvEy4+HO3HB6+F1lvC1EZBdHiimV\\\n",
       "4fbj6dbHzX1v5pKSsZvlT0KIqOasgRETpIsjLBiGhttpIne1nfuubnmhhBAi+jmi9FKKERnQdfw+\\\n",
       "ndW/xlFSILMFhRDRJ6IDGsBkVtRUhudCDiGE2BcRH9BWq6LLfk2XrwohRKSL2L4BXTew2OCGh7dg\\\n",
       "itifQgghmheR0Waz+xlxWjnjri2i1yC5soMQIjpFZBeHx6XjdeuYrXJFByFE9IrIgFZofP9ZCkX5\\\n",
       "e77xvRAieigV+OP3gdcDbpesJAwjClAMObIm6nezEkI0Vfe+101gMkF+bnQ21iI0oDVAQ9MjbhGk\\\n",
       "EKKNaFrgj26CHv2jcyZXhAZ0wC/zk/DLKm8hYp4e0UnWvIj9sax2g5R0L7oe/Ze9EULEpoicZgdw\\\n",
       "0c3b6XOACy1iP2KEEKJlERtvp5xXis0hTWchRPSK2IA2WySchRDRLWID+uf5SfiaXghZCCGiRsQG\\\n",
       "9Iv35lC01cL6FXZqqjQZKBQixjR8z0frJa8idpCwtMDCZUcNxGxW6Ca49NZ8xl5dIgtXhIgRmgY+\\\n",
       "L6z4OYF3n8oEikNdUpuL2IAO0OjUxcMtT2xmwEG1KAM02RpaiJhRXmzmtvG9A/85WAI6rNgcBo99\\\n",
       "vI6kND+mHcGsFNKKFiIGKAXffpIS6jLaVcT2QQMMP60cm0PVhzNIOAsRC5SC8hIT7z7ZOdSltKuI\\\n",
       "DuisHh7scbLlqBCxpmirhetP60tFaUR3AuxWRAf0hpV2XLUR/SMIIVrBWaNRtCU6d7BrKGLTzWQ2\\\n",
       "0ICSAjNeT6irEUJ0pOfvzgl1CR0iYs8PhhxZw6Qn84hPki4OIWKJUlBeZCGw7XB0i9wWtElWpggR\\\n",
       "q7ZtjP7uDYjggF7xcwK6zHkWIib1GOBG06K/kRaxAe126jx8fTdcTg2PW8MwwOuJ/lMeIWKZUrBp\\\n",
       "nYXVvzpQKvrf7xHbBw2waF4KVx4bx8jRZSQk+6mp0rn8tgJZrCJElNI0qCixQAyEM0R4QAMUbbXy\\\n",
       "7tOdsdoNLvjXdglnIaLcpzMyQl1Ch4nYLo7GFGaz4pQLSiWchYhyJQWxMYMDoiagNbr2dmG1Rv+g\\\n",
       "gRCxLj7JB8TGez1KAhr+XBbHJzPSZV9oIaJcdbkZaUFHHI3XH8ni1+8SQl2IEKIdZWR7kRZ0BPL7\\\n",
       "9JiZwC5ELDH8UFOls265jb5DakJdToeJ+FkcDaVkeDlpQlmoyxBCtDHdFOjUeO+Zzvz8ZRLSxRGB\\\n",
       "DhhWjW6OjVMfIWKNzWGQ08OD2xk7S4ijKqAHHV7TaPN+IUT0cLt0clc7Ql1Gh4qqgD54RLXMgxYi\\\n",
       "Svj9O//tcWsUbrGw+OvE0BUUAlHVB22RedBCRA2vW8Pp1VBKY8GsFF57MBvDiK0WWFQF9HefJDPm\\\n",
       "78VYbRLUQkQ6t1Pn7Sczmf1KBoZfI1YGBhuKqi6Od5/uTEGeFWd1VP1YQsScFT/Fccmwgcx7O31H\\\n",
       "OMemqEqy2ioT157Yj6en5rBqsQPDQFYWChGB+h7oZPw/CnFWmwi0nGMzpKMqoAG8bp35/0vnprP7\\\n",
       "MWlsL3y+UFckhNhbNrviq/dTiZUVg82JuoBuaOXPiTx3RxdctdKSFiKSlGw3U7TNSqy2nOtEdUAD\\\n",
       "zJmRwaSxfdm4xiYhLUSE0E0qxqM5IOoDGgI73U05rzdOaUkLERHik/zEJfp3f8coFxMBDVBWZOGG\\\n",
       "U/tRUmCWkBYiTCkV+FNdbmL/w6uJ9T7oqJoHvTt56x1cePD+HHVKBXe8vElWHQoRJpSCrblWZr+c\\\n",
       "wZwZGTG3IKU5MdOC3klj0bxk3piWiWGEuhYhBMDKX+KYeHJfPn61k4RzAzEY0AAa/3umM28/kRnq\\\n",
       "QoSIeYYBfYc4uf/tXGwOaTU1FKMBDR63znvPZDbakEUI0fF0HewORe9BTs67fnuoywkrMRvQAK4a\\\n",
       "nd8WyiWyhAgHNofihHHloS4jrMR0QIPGtH92p7JUNpEWIhzoemzP2thVjAc0VJSYeej67qEuQ4iY\\\n",
       "s+t0V49bY8FHqaEpJkzFfEAbhsayHxKoKJFWtBAdyesGZ01gxkZttc7Wv2y89XjnEFcVXmJqHnRz\\\n",
       "dJOittpEcrqMGArRUaac35uuvd1kdfOwdlkcP3+ZFNNbiwYjAQ04Egw6d/OEugwhYorbqTPvrfRQ\\\n",
       "lxHWYjygFVa74sZHtqDHfGePEO1vxc/xvHh3NltzbTv22lDE+o51LYnpgNZNMO66Qo44qTLUpQgR\\\n",
       "9X74LIl7/94TtWOlYHWFGTQV69tttCim242GX6O8KKY/o4ToME/e1rU+nOspDd0kCd2cmA5oi9Ug\\\n",
       "u6e7/v/OGo3P305l8YLYurS7EB2hojR4Y8iQsflmxXTz0evRWLcsjiXfJOB26nw2M50lCxKx2RX/\\\n",
       "efMvhhxZE+oShYgaKek+yoosoS4jomhKRd7uyElaGsO0Ue36PQYfXs30WRva9XsIEUs+ejGdVx/M\\\n",
       "xu1suOag7QYJyw7OZcmSJW1yrHAR010cAcE/n/LW2zu4DiGi2zlXljD+H4WYzXU71kVc27DDSUA3\\\n",
       "o1tfV6hLECKqaBqMu66I40eXsTOcZYpdSySgg7xAbHaDSyfLtodCtDW/V+OHuSmhLiNixPQgYVMK\\\n",
       "TYfDR1XQtbcLvx9MskWHEPtEKXBW67hdOndf0ZPaahO6ruTKKXtAAroRDWXAwk9TWPhpCvY4g0sm\\\n",
       "b2fMVcVy/UIh9sGUC/bjz9/i60NZLje3Z6SLIygN0HDVmnBW6zJPU4h94HZqrFka36DFLMu795QE\\\n",
       "9G7EJxmY5DxDiFbxeeGnL5J2+aqE856SgN6NJQsScdbI0yTE3lIKvv80mUf+2Q0J5daR5NmNpd8k\\\n",
       "svpXR5OrPwghdtqw0s6dl/XkokMHMnlcL1b8FI/fDw9d3wOfV0baW0tO3ndDKY3bL+zFvTNzOXh4\\\n",
       "NZp8pAnRyJrfHEw+tzcel45SGkX5VtYsjWfM1YWyAf8+krjZA36fztQL9mPyuF7U1mi4apteT02I\\\n",
       "WPXiPTm4nSaU2hnGbpfOu0/J5av2lQT0HlKGzvIfExnddwgXHTaQT99II3+jRYJaxLz1KxxBvy7z\\\n",
       "nPedBHQrVJVZqa4wkZHlw+0MzJ0WIlalZPhCXULUkoBuhUNGVHL2FSVY7Qp7nJJ+aRHTzru+EJtD\\\n",
       "Fgu0B4mWVjjt4hIc8dJsFgLglAtKOe/6QuxxfuxxfjRN+v3aigR0K9jjJJyFqKNpcMG/Cnl32Spu\\\n",
       "ejRPxmXakAR0K3wzKxVnjQyACKEMKNluoijfwpJvE3j0JlmU0pZkHnQrLPgohZMmlNJ3iBNHvIFS\\\n",
       "yGZKIiaVFJq48ODBO/4ne2y0NWlBt4LPq3Pr+F78d2oOP89PpLZaXpQi9vj98Ou3DffZkPdBW5OA\\\n",
       "biXDrzP//TTuuKQXz93RBZ/MNBIxxu+D9/6bGeoyopoE9D5QOybiz/9fGuVFZhkcETHD54HZr2TI\\\n",
       "tTvbmQR0GzAMjYpSs/RDi5jhNzQ+erETcuHX9iUB3UZW/hyP1xPYo+OTGWlceOhAzuh5ADec1odV\\\n",
       "v8SFujwh9lhLZ4KGH9wujadv60LJdivS79y+JKDbyP+ezcTt1Jn5aCYv3pNDcb4Vr0dn7e/xTDm/\\\n",
       "N38uC75fgRDhZPHXiVwzqh/vP5eBy9k4fL0ejY9fS+eyIwbyxXvpIaowtsg0uzZStNXKxJP7Ubzd\\\n",
       "gtfT+HPP49J4/ZEs/jMzN0TVCbF7S79N4N4re+J26bz8nxzcTp0xfy/GZjcoKzLz3F05fPdxaqjL\\\n",
       "jCkS0G1o22Zb0K8rpfHXHzKYIsLbKw9k43YFGheGofH6I9nMnJ6FI95PTZWOnHB3PAnoDtK1tzvU\\\n",
       "JQjRoq0bmjYwDEOjpkquiBIq8pHYIRTHn1Me6iKEaFFWd08zt2jIYGBoSEB3CI3Zr2Y0+orMmRbh\\\n",
       "5rJbtyPT5sKLBHQH2fynfUc/HrhqNSrL5LRRhJcjTqqky35uJKTDhwR0B1EKKkpM/PWHnRfuziEh\\\n",
       "STY4F+FDKXC7QDfLhkfhRAYJO4jh17j8qIHY7IpbntiMSZ55EUb8Pnh4Ynfy1sl8/XAiLegOdvyY\\\n",
       "Uvoc4GyyCECIUKoqN/PD3JRQlyF2IQHdoTTmvZXB1cf358fPk/D7wTBkwFB0nF1fa2WFZn78IpG7\\\n",
       "r+iJUtJoCDdyoh0CHrfOW49nkrvajuHXOPT4Kg48qkY2WxJtTin4Y3EcuWscpGZ4qSgx4zfg6FMr\\\n",
       "eO2hLOa/l76jkSAvvnCkKRV57bckLY1h2qhQl9EGAgMyKRle3lj8B9bgCxGFaBVnjc6U83qRu9qO\\\n",
       "z6vh8+4awtEVymUH57JkyZJQl9GmpIsjpAJvkPJiC9/OTsW/Y9P/H+YmcdGhAzm16xAeu6ULPm+g\\\n",
       "K8Tr0aQ7ROyxVx/IYv1KB65aEz6vzs4FJ7LwJFJIF0eYeOyWblSW6aR28jHtnz3w+wNvoHlvZZCe\\\n",
       "5eXzt9Mp2W5hzsblmC0hLlZEhC//l4bXLW2wSCYBHSb8Po0X7u5KsAtv/u+/nfHseKMt/jqJw0dV\\\n",
       "yjQ90SJXrYZbZgpFPPl4DTtN31SeBq2g/07tQnmJGWeNtuO2wHam0vUhYOeCk5U/J2D4JaAjnbTD\\\n",
       "IkxRvpXLjxrA8aPLGXZCBT9+kcz2zRaumLKd/kOd6LKCPCbUfSAHm/kz7600nrm9K9LPHPkkoCOQ\\\n",
       "22nii3fTmPdWOoOHVXPfm39hj5MmdCxpbkqmUlC41YaEc3SQLo4IVXf6+vc78iWcRT2PW2Px14mh\\\n",
       "LkO0EWlBR7ieA12hLkGECWeNzvefJrNpreynES0koCNcWaGZrO7eUJch2oFSTbsygn3N8MO2zVZe\\\n",
       "uT+b7z9N7rgCRbuTLo4I99bjnXHWNn7H+n3grNUwjBAVJVpFKVAGuGqhtkrntvH78fikLvh8UFMZ\\\n",
       "mDZXU6XjcWl4d1z8xFmjsW2TletP7cf3n6Ygfc/RRVrQEe7zd9JISPFz4b8KMJkVSmnMejmd2S9l\\\n",
       "cP87ufWXMXLEG7LXR5hbOCeJvPV2ivKtfPdJCjWVJn7/QTHvrTQOOKKGkgILW/+ykbOfh9MvKqZz\\\n",
       "Ny9Lv03g6w9TcTtl+k40kr04ooTJrEjtFNgMx+upOzFS9D+olqxuHrr0dnPexEKsdiVBHabOO3B/\\\n",
       "yopkmWhrReNeHNKCjhJ+n0bxNusuX9VY+1s8a3+LB+CX+YmcfnEJXXp56NHPRVKan9+/j2fbJiu9\\\n",
       "B7npN7QWXTq9QsLr0YhP8ktAi0YkoGPI+hXxPDE5nrprzsUlGBgGGIaG3wejxpYy8f58bI6IO6kK\\\n",
       "W8EG9YLSFCPHlPH6I9ntXpOIHBLQMSmQGLXVOg0HlS6ZXCDh3MaUAr8fzLt5p5lM4EgwCLYXi4hd\\\n",
       "ckIb03YGgW5SpHf2hbCW6KTrgWd5dyM9bqfOwo9lFoZoTAJaAIGViRUle3ZCpVRg7m3kDS+Hhset\\\n",
       "8/rDnXG7Godv3fPnrNH56ctE/lgaF4LqRDiTgBb1Zj7aGVdt8BCp4/PCtx8n8/fj+9XPxRUtM5kU\\\n",
       "H73UiRfvyaa6QsdVq+FxaeSutjP/f8ncf00PHryuB9J6FruSPmhRb86MdJSCi28uIDndR3mxCatN\\\n",
       "oZsCA4q11TpV5Saeu6MLZUUWtv5lp0d/V9CZH7sGeyxM7fP54Oaz+1BaZOGAI6q56KYC0jp7WfBh\\\n",
       "Ks4aE5+81olP38ggJcNHVblJNtMXuyXzoEVQJrPC79OwOQyOOaOcbn1dbFzt4PvPkuuDpUc/F9M+\\\n",
       "Wo/NYWCzq8CAmA82rrWT3cNDfOLulzIaBh0+tU8pqK0G0Fn8VRJlRSaOO6eclAx/qz9IfF5YNC+Z\\\n",
       "+67uCYCuK+zxBuOuLeDNx7J2XHJKtKdonActAS32iT3Oz4SJhUyYWMj7z2XUTxPz+zSyeri55fHN\\\n",
       "DD7cGfSxSsHcN9PoP7SG3oPd7VajUoE/HldgWfSfy+MoyLPw5qNZgQ8iv8alk7Zx3vVFQffTrpsq\\\n",
       "13APZqUCVy2xORSuWp2qMhP/PKPvLvOYZUZGR4rGgJYuDrEXmgaOYWigwbN35DDvrfRGLcVtG21M\\\n",
       "PrcPH65ZGXRL1K25VuIblxgAAAJiSURBVJ6Y3JWBh9Ty+Cfr26fiHeGqaWCPU+T09PDz/CTWLYsD\\\n",
       "NPy+wM+z4KM0xl5TjM2kmjy+qkzHUIGB1KRUP2YLfP5OKssWJZDd3cPmdXZ+/DwpSCtZwlnsGznv\\\n",
       "EnuhceBYrAYpGV5OHl/C3DfTGywx33l/v0/nuTtzmvRJu2o1XrirC6Cx5te4dtvYadcuC5tDMXJ0\\\n",
       "OUu/bbxn8uZ1dmZO74zHpeH372x1//h5IucfNIgJBxzA+UMH8+wdXXDVaqz4KZ6vP0jjzceyWDgn\\\n",
       "RbowRLuQFrRoNa9Hp6zIwoWHDUIZzbcWv/4gjaHDq9lvoIvO3Tzk59p45f5sFn+dBIDF1rH7g2j6\\\n",
       "jpb/Lt77b2eWfJPIieeWUbjVwvefpVCU33j5/JwZGXz5XiqpGT40LbA5lRDtJSL7oDMyMujZs2eo\\\n",
       "yxBChJGNGzdSXFwc6jLaVEQGtBBCxALpOBNCiDAlAS2EEGFKAloIIcKUBLQQQoQpCWghhAhTEtBC\\\n",
       "CBGmJKCFECJMSUALIUSYkoAWQogwJQEthBBhSgJaCCHClAS0EEKEKQloIYQIUxLQQggRpiSghRAi\\\n",
       "TElACyFEmJKAFkKIMCUBLYQQYUoCWgghwpQEtBBChCkJaCGECFMS0EIIEaYkoIUQIkxJQAshRJiS\\\n",
       "gBZCiDAlAS2EEGFKAloIIcKUBLQQQoQpCWghhAhTEtBCCBGmJKCFECJMSUALIUSYkoAWQogwJQEt\\\n",
       "hBBhSgJaCCHClAS0EEKEKQloIYQIUxLQQggRpiSghRAiTElACyFEmJKAFkKIMCUBLYQQYUoCWggh\\\n",
       "wtT/A2GQOM16s2jjAAAAAElFTkSuQmCC\\\n",
       "\"\n",
       "  frames[4] = \"data:image/png;base64,iVBORw0KGgoAAAANSUhEUgAAAWgAAAFoCAYAAAB65WHVAAAABHNCSVQICAgIfAhkiAAAAAlwSFlz\\\n",
       "AAALEgAACxIB0t1+/AAAADl0RVh0U29mdHdhcmUAbWF0cGxvdGxpYiB2ZXJzaW9uIDMuMC4yLCBo\\\n",
       "dHRwOi8vbWF0cGxvdGxpYi5vcmcvOIA7rQAAIABJREFUeJzt3Xd4VGXax/HvOWdqeieEUKRJExBQ\\\n",
       "7CI2FEVABMVeUFQsrH1dEbErqyu6iqsrKlhfZRUBe0EUCyBNQAGpgZDeM/2c949JJQl1wrT7c125\\\n",
       "lMxMcp/JzG+e85ynKIZhGAghhAg5arALEEII0TwJaCGECFES0EIIEaIkoIUQIkRJQAshRIiSgBZC\\\n",
       "iBAlAS2EECFKAloIIUKUBLQQQoQoCWghhAhREtBCCBGiJKCFECJESUALIUSIkoAWQogQJQEthBAh\\\n",
       "SgJaCCFClAS0EEKEKAloIYQIURLQQggRoiSghRAiRElACyFEiJKAFkKIECUBLYQQIUoCWgghQpQE\\\n",
       "tBBChCgJaCGECFES0CLkderUia+++irYZQhx2ElAR5FOnTqRkZFBVVVV3fdeffVVhgwZEryiQszG\\\n",
       "jRux2Wxcdtlljb7/9ttv07FjR2JjYxk5ciTFxcV1txUXFzNq1ChiY2Pp2LEjb7/9dt1tubm5jBgx\\\n",
       "gqysLBRFYevWrY1+rsvl4pprriEhIYHMzEyeeeaZVj0+EV4koKOMz+fjueeeC3YZIevmm2/mmGOO\\\n",
       "afS9tWvXcsMNNzB79mzy8vKIiYnhpptuavQYi8VCXl4eb731FjfeeCNr164FQFVVhg0bxocfftjs\\\n",
       "75s6dSobN25k27ZtfPvttzz11FN89tlnrXeAIqxIQEeZu+66i+nTp1NaWrrP+zqdTi677DJSU1NJ\\\n",
       "SkrimGOOIS8vD4BZs2bRs2dP4uPj6dy5My+//HLd47777juys7N56qmnyMjIoG3btnz00UcsXLiQ\\\n",
       "7t27k5KSwmOPPVZ3/6lTpzJmzBjGjRtHfHw8AwYMYNWqVc3WpOs6TzzxBF26dCE1NZWxY8fWtWb3\\\n",
       "Vu/+ePfdd0lKSuL0009v9P233nqL888/n1NOOYW4uDgefvhh5s6dS0VFBVVVVXz44Yc8/PDDxMXF\\\n",
       "cdJJJzFixAhmz54NQJs2bbjpppuahH6tN954gwceeIDk5GR69uzJhAkTeP311/e7ZhHZJKCjzKBB\\\n",
       "gxgyZAjTp0/f533feOMNysrK2LFjB0VFRcycORO73Q5ARkYG8+fPp7y8nFmzZjF58mR+++23usfu\\\n",
       "3r0bp9PJzp07mTZtGhMmTGDOnDksX76cxYsX8/DDD7Nly5a6+3/88cdcdNFFFBcXM378eEaOHInH\\\n",
       "42lS0/PPP89HH33EokWL2LVrF8nJydx88837rPeJJ57gvPPOa/FYy8vLmTJlSrNdDGvXrqVfv351\\\n",
       "/+7SpQsWi4UNGzawYcMGTCYT3bt3r7u9X79+dS3ovSkpKSE3N7fRz97fx4roIAEdhaZNm8bzzz9P\\\n",
       "QUHBXu9nNpspKipi06ZNaJrGwIEDSUhIAGD48OF06dIFRVE49dRTOeuss1i8eHGjx95///2YzWYu\\\n",
       "vvhiCgsLue2224iPj6d379706tWrUSt54MCBjBkzBrPZzN/+9jecTic///xzk5pmzpzJo48+SnZ2\\\n",
       "NlarlalTp/LBBx/g9Xr3Wu+9997L/PnzWzzWBx54gGuvvZbs7Owmt1VWVpKYmNjoe4mJiVRUVFBZ\\\n",
       "WVn3O/a8bV8qKyvr7n+gjxXRQQI6CvXp04fzzjuPJ554Yq/3u/zyyzn77LO5+OKLycrK4u67765r\\\n",
       "1X766accd9xxpKSkkJSUxMKFCyksLKx7bGpqKpqmAdS1Ytu0aVN3u91urwsogPbt29f9v6qqZGdn\\\n",
       "s2vXriY1bdu2jVGjRpGUlERSUhI9e/ZE0zTy8vL2Wu/erFy5kq+++orJkyc3e3tcXBzl5eWNvlde\\\n",
       "Xk58fPxeb9uXuLi4uvsf6GNFdJCAjlIPPfQQr7zyCjt37mzxPmazmQcffJB169axZMkS5s+fz5tv\\\n",
       "vonL5eLCCy/kzjvvJC8vj9LSUs4991wMwzjoenbs2FH3/7quk5OTQ1ZWVpP7tW/fnk8//ZTS0tK6\\\n",
       "L6fTSbt27Vqsd1++++47tm7dSocOHcjMzGT69Ol8+OGHDBgwAIDevXs3au1v3rwZl8tF9+7d6d69\\\n",
       "O16vl40bN9bdvmrVKnr37r3P35ucnEzbtm0b/ez9fayIDhLQUapr166MGzeOGTNmtHifb7/9ljVr\\\n",
       "1uDz+UhISMBsNqOqKm63G5fLRXp6OiaTiU8//ZQvvvjikOpZvnw5c+fOxev18q9//Qur1cpxxx3X\\\n",
       "5H4TJ07k/vvvZ9u2bQAUFBTw8ccf77Xefbn++uv566+/WLlyJStXrmTixIkMHz6czz//HIBLL72U\\\n",
       "Tz75hMWLF1NVVcWUKVMYPXo08fHxxMbGMnr0aKZMmUJVVRU//vgjH3/8MZdffnndz3c6nbhcLsA/\\\n",
       "rM7pdNbddsUVV/DII49QUlLCH3/8wSuvvMJVV1110M+jiCwS0FGsNlRasnv3bsaMGUNCQgI9e/bk\\\n",
       "1FNP5fLLLyc+Pp4ZM2YwduxYkpOTefvttxkxYsQh1XLBBRfw3nvvkZyczOzZs5k7dy5ms7nJ/W67\\\n",
       "7TZGjBjBWWedRXx8PMcddxy//PLLXusFeOyxxzjnnHOa/d0xMTFkZmbWfcXFxWGz2UhPTwf8LeiZ\\\n",
       "M2dy6aWXkpGRQUVFBS+++GLd41988UUcDgcZGRlccsklvPTSS41awXa7va47o0ePHnVdPuA/k+nS\\\n",
       "pQsdO3bk1FNP5a677mLYsGGH9FyKyKEYh3JeKkQATJ06lU2bNjFnzpxglyJESJEWtBBChCgJaCGE\\\n",
       "CFHSxSGEECFKWtBCCBGiJKCFECJEmYJdwMGwKFZsxAa7DNGEv7dMUSAu0YfPq+B2KigqeNwKoBCf\\\n",
       "5CUx1cuuLVZ0XWnyE2wxPjp0dQW8suJ8E4W7zYCCohi0yXYTl+QDAyrLNPJyLBhG03o0TUfXlT1u\\\n",
       "M4Cm9xXBZUlVG81mjQRhGdA2YhmsnL7vO4qgaZPg5KWvNmKz63jcClUVGq88nMndM3KorlQZ3783\\\n",
       "LmfjEziLVeeSW/IYf3t+wOv5Zm4SM+7JxlGlcfOjOZx1cTE2u/8D5ZEbOrI4J6lJ5lpsPrweBR1V\\\n",
       "8jgMlHTasu87hRnp4hCtwOChN7Zii9HRTGCLMUht4+We53P8resEnSvuzsVq99U9wmzVSUzzMuLq\\\n",
       "1mkBnXhOGVa7jtnq4+wG4QwQn+RFVfUmj9FMQDOtaj+5ti5anwS0CIDGYdW9n4PMbA81ayXVURT/\\\n",
       "F8CYiYU8+NpWBg0tp2ufasZNyuelLzcQl9g0KAPBajd46asN9Du+EnWPus69tBizpeljLFaD9t2c\\\n",
       "TW/Yry4OHQlxcajCsotDBFfnXg7OHFdEx24udm+3sOiTRFb9GE9taKW29aDvRzYNPLWSgadW7vuO\\\n",
       "AZKS4eXRt7ei7/EZ0K2vgxum7mTm1HaYzAaGATa7zqNvbSYm3sfkkV2pKDHhdatYbDoeNxjN9J83\\\n",
       "piD9IuJQheU46AQlRfqgW01zrcP6751/VSHXTdmJ1epvDRuG/2vjKjv3jOuCo1KjfddqXvpqY7Ot\\\n",
       "0lBWVa6y5pdY7LE6fQZX1Z0B6DrMm5XKiu/j6TmoCq8XvvtfMiOvLaJ9Nydrfo5l3qw0yooarh0i\\\n",
       "FxIPt5IBW1i2bFmwywgoCWjRgIHZauBx1fd8We0+ho4uYdHHyZitOrOXrsdqa/qSMXTYvcNMYa6Z\\\n",
       "HgOqMZnruzMijdvlb0FrZgOTCVxOBVe1yux/ZjDq+kLWLY3lhb9n46jU9v3DRMBEYkBLF0eUUxSj\\\n",
       "bghZvxMrGX19Af99NIvtG6zEJvgYNaGAURMK0DSoqtDweVv4OSq07eihbcd9L5Af7ixWaNi/bLUZ\\\n",
       "WKw+bn40F4C2HUqpKFF5/cksnNUS0uLgSUBHndpgUbDF+OjU08HtT+fw9C3t6XSkkwGnVHLcmX+i\\\n",
       "69BwKeWufatZ9k0CihJ2J1yHRcOzBUWBkdcVY7LAq49k4fModePAhTgQ0sURFQzssTqKAsecUUZa\\\n",
       "ppfSAhMjJxTQ7aj6UQrOagV7bMsvB8OI3G6L1uJ2QWmhmTnPZPD5O6m0HNIGqkrNBUx5kg+GdHGI\\\n",
       "sJGY4iWzo4vcbVbKi03oOoy/LZ+Lb215EsjewhkknA+GxQoZ7Tzc/tROOh3p5MeFSRTnm9i11VZz\\\n",
       "D38wP7dgAxnZbsYf3RufV55o4ScBHWFUzeD2p3Zw2qhSPG4Fa4yOy6HiqFT46fPEfbaCpZXcOlQN\\\n",
       "Rl9fxOjri3A64N6xXdiwKpYO3R3c+ewOuvRx4nEppLbxkL/TGuxyRYiQLo4Ic+XduVw4MR+rrelt\\\n",
       "bpeC2WJIAAeZYYDuA0eV2mhijmH41yz5dm4S/7qrfaO1SuwxPpwOtdn1QoSfdHGIEGcw5qZ8LC2M\\\n",
       "P7ZYw+6zOCIpin8a+Z6zJhXF/zcaMqqUlDYeElN8lBRqGIbC1j9szHkmE49LAjqaSEBHkEGnldPM\\\n",
       "PqsizFhtBoOGVKLUjKIxDFj7a6yEcxSStTgiyNDRpdJ9ESGUBu9MRYH+J1Zii2mddUpE6JKAjiCG\\\n",
       "QZN1JkRkOPqUSnoNqsYWU78CoKoZKKp0W0UyCeiwZJDRzkV8khdFNUhK9aBqOl9/kIzLIU3oSKSq\\\n",
       "8PDszdw4bRd9jquk/0kVTJ6+g/fX/M6R/auDXZ5oJdIHHW4Ug0sn72bcpPqRGk6HworFcTw+sQOV\\\n",
       "ZRq2GK90dUQgkxmGjS9m2PjiRt+f9uZmLjm6N7pP/uiRRlrQIU4zGTXTq/3/Pe+KQi66saDRMDqb\\\n",
       "3WDAyZW8s2It6VkSztHGYjXoNailZVuNBl8i3EgLOoQpqsHTH2wiMc3NG0+15fanc9A0A1tM0/ta\\\n",
       "bAZW++GvUQSfNUbHYmv+4oNmMnji3c24nApTrzkCr1vaZOFE/lohrGM3Jx26O8nu7OXvL+0gJq75\\\n",
       "cAaZ/RfNVBVun55D1hFNN9tNz/LQ94Qq7LE6vY+pCkJ14lBICzoE2WJ8PPT6FnoMrEYz1e+ULURz\\\n",
       "FAXS23p54r2/+G1RHCefV4ZhKHz/SSJmm87DEzqy9Jv4mnW+ZSOBcCIt6BB0w0O76DmoGpvdkIkn\\\n",
       "Yr+oqn9RpjPHlhCXqBOf5GPYJcWgKyz9Jh6XQ6uZOi7hHE6kBR1yDM64sARLM7uWCLE3iuIf6VFL\\\n",
       "M8Fn76TgcsimAeFKWtAhRlUNTBYJZxEYMvQuvElAhxhdVygr1gi/NQZFKDrjomKsdl+T7yemeuh4\\\n",
       "pCMIFYkDIQEdVEajL0U1uO2pHJLT/G8oCWlxqIZdUkzvY2qniBtYbDq2GB8PvLKNgl1htu16FJI+\\\n",
       "6CDRNIMho4q57cmd/PhZIgoGJw0vx2yRURsicExmeOydzaxYHMfKH+NISfdy2qgSElN9dOjq5I8V\\\n",
       "scEuUeyFLNgfJJpJ57Uf15PZvoVtsoVoZSt/jGXK5Z1xOVXMFp0R1xQy7JJi1i6N5d9/b4cnzCa1\\\n",
       "ROKC/eH1F4ggKZke4hJk6TkRPP1PrOLB17bQ8chqHpmzmSvv3k2Hbi6GjiqpG38vgksCOkgmPbKT\\\n",
       "mHgJaBFcA4dU8p9vN9L/pCqsNUM7rXaD+17cjsWmy3KmQSYB3cpiE7yYLTqaSa9Z9AjMFh+DTqtA\\\n",
       "lWdfhKjjzipn1o/rufbvu2jbsekUcnF4yEXCVmNw+/Qcho4qwTDA51PwuhXuv+wIqso1NHnmRYhL\\\n",
       "a+vlopsKOf3CUsYP6CUb1gaBxETA+dc6GDKylCEXlGC1G3XfNwx45qO/MJllZ20RPmLifbTt6GbX\\\n",
       "VmuwS4k6cpIdUAadejgwW3WGX16EPbZx/13trs3StSHCidlq8MJnG/hk82pSMtzBLieqSFQElELB\\\n",
       "TisnDCvD2sL6vEKEE8PwL8QUm6BjsRlkd5H+6MNJAjrAfD645u+5HNHLIRu4irBlGP4vRWk8aeri\\\n",
       "W/KbnTouWocEdID5fAqJKT4sVhp1ZYTfdCARzfYM5loDh1Ry0yM7scdKSB8OEtABpGkGQ0eXYI9t\\\n",
       "2nSWi4IiUpx9cQmTntiB7HPY+iSgA8jnMxg3KU9ayyKieb3w4UsZyOL/rU8COqBUbhvejdcey8Qr\\\n",
       "S2yICPXETR3YvK65zTGlZRJoMg76kBloJoM27d3c/OhO+h1fBYqBSZ5ZEUFqLxgCbFzdws7FIuAk\\\n",
       "Rg6SyaJzxoUlDBtfRNejHGgm/wmfIuckIgI1vIZy+pgSPngxA7dLbXC7QUKKl7Ii2UQzkCRODorB\\\n",
       "hTcUcPv0HHoOdGC2+EdsSDiLaDDu5nw69XDWjOQwsMX4iE3w0WdwVbBLiziyHvRBik3w8sG6tTIr\\\n",
       "UEQlXYfl38Xz54oY0rM8HH1qOVcO7onuC94bIhLXg5YujoPkcqg4KlViZU1nEYVUFY4ZWsExQysw\\\n",
       "dPjbyC4YuozqCDRp/x0ke5yOPU7CWQifD1LbemS1u1YgAb1fGvcCWe0+rrhzt3RvCIF/30OzuXbz\\\n",
       "YxFI0sWxXxT8w+kgtY2Hy+7czdnjSoJdlBAh47I78vB5FRbNS0ImsASOXCTcTyaLzlvL15GU6l+D\\\n",
       "oOG4UCEEuJ1QXmKivETj+08Seee5TA5nWEfiRUI5Sd+TYqBqTT+zsjq6SUyRcBaiJRYbpGZ66dzL\\\n",
       "xeV35BOfLNNpD5UE9B7OubSItEwPthh/GFusOvY4H3fN2F4XyhLOQjSv9r2hmeDef29H+qUPjfRB\\\n",
       "7+GCq4uYOHUX332UzO+/xpDd2cXZl5SQnC6tASEOxMBTKolN9OGo1NB90qo5GBLQDZjMOmXFKh2P\\\n",
       "NBg2vphh44uDXZIQYUtR4eWv/+S287pRtNsS7HLCkgR0DUUxePzdzXTv55Dhc0IESHqWF1uMzBc4\\\n",
       "WBJFNQYOqaDrUQ5sMdJnJkQgHXdmOSazhPTBkICu0ff4SmJkZqAQATd2Uj7xSf6FleKTvLTv6kRR\\\n",
       "5b22P6SLo0ZJvhmnQ8Fmlxa0EIGUlOrjgmvzaXeEh+POKqc438R1p/TAIxuE75O0oGt8MzdZFnsR\\\n",
       "opUcc1olg88spzDXzLN3tMfrlvfa/pCArlFWrPGPS4+gpMCEo0p24RYikLr0cZK3w8JNZ3Vn1ZI4\\\n",
       "WVhpP0lA1zBbDVLbelixOBaTSSajCBFIigKzHs/EWaXKmeoBkD5oQFF00tp6uOeF7WhasKsRIjKt\\\n",
       "+aX5lrOqGTKRpQVR3oL2L5E4aGgF/5q3ScJZiFaUlNr8bFxNM+h/UsVhriY8RHlAK/QYUM0js7eS\\\n",
       "lCZTuYVoTWNvzq9b46aWxaZz2qgSLryhIEhVhbYoD2goKZBeHiEOhzPHlnDhxAKsNp2YOB9mq87g\\\n",
       "M8qY9NhOEltoXUe7qE4nVTM46jjZiViIw0FR4Io78xgzsYBdW6yktfWQlObF5VD46fPEYJcXkqI2\\\n",
       "oBXVwB6jc9nf8oJdihBRJSZOp0sfB4oCTodCSb6JebPSgl1WSIqygDYAheR0DwOHVHDZ3/Jo29Ed\\\n",
       "7KKEiEp/rLCz5NNEPnk9jepKuULfnKgJaKtdp/exVXjd8MeKGC68IV/CWYggURQo2GVm3qw0HFUS\\\n",
       "zi2JioA+6dxS7nxuB7oPUMDrUXju7nY88Mp2mZAiRJAcM7SCmDi9mYA2UFQDQ4/6MQyRP4qjTXsX\\\n",
       "dz2/HXusTmyCTmy8TmKKjzuezSFvhznY5QkRtWx2g2lvbiEuyYs9zofN7h/Zkd3FBYaCbJcVBS3o\\\n",
       "My4qQVOb/qEVBUxmeQEIEUxdj3Lwzop1LP0mnooSE936VfPaY23J+csW7NJCQsQHdHySF62ZhrKm\\\n",
       "GaRmythLIYLNYjU48ZxydB3KikysWBwf7JJCRsR3cSz9OgFXddPDNFsN6X8WIkQYBuTvNHPPRV3w\\\n",
       "eeWNWSviA/q37+NZ/XMszur6P7phIPsOChFCFAWevSObHZtkc9mGIj6mDEPhX3e349v/JVFVrmIY\\\n",
       "spSoEKFo8j9zSEjxb40l/CK6D9oW4+OxtzfTvX81ZvlgFiKkZbb3MHn6Dh68+gjJ6BoR3YLWaxYG\\\n",
       "N8loOiHCwjdzkyWcG4jogMYAl1NFUWQLKyHCgcejANIHWSuiA1pRoNegqrr/F0KEttNGljZZMzqa\\\n",
       "RWhAG2iawd+e2YEtRprOQoSLE88to/9JlTUhLe/diAzo7v2qmPnNnwwZWVr3PeniECL0aRpMnbWV\\\n",
       "B1/bSlK6TCSLyIC+67kc2ndxBbsMIcRBUBQYcEoltzy+E6s9urs7Ii6gjzq+ksyOLpQ9jkz6oIUI\\\n",
       "LyedW8Zlk/Ow2nXscdHZ5RFBAW0wcdpOHn97s4x5FiJCjJ1UwPtr1vLga1uIiYu+1nTETFQ5+bwy\\\n",
       "hl1ShNkafZ+yQkQyW4zOBy9l4KyOvoX9I6YFff5VhdhjJZyFiDQlBSZWfB9fN/EsmkRMQNtj9WCX\\\n",
       "IIRoBRtW2fFFX+8GEEEB/f0nSTgd0fcJK0SkW788JtglBE3EBPS8Wans2mLFUeU/JBn3LERkMKKw\\\n",
       "a6NWxAS0y6Fx6/Bu/Pv+LJZ+GyfD6oSIECecU4bVHp0trggJaIPUTDf9Tqjk5PPKSEyJ0g4rISLQ\\\n",
       "kf0dnHNpEVa7D0UxUDX/rt/RICKG2V15925GX18g624IEaFunLaL00aWsnh+IijwxXvJlBdH/jrC\\\n",
       "YR/QVruP0TcUYIvSUyAhokWPAdUceXQ1X3+QSHlxRrDLOSzCvosjo50HXTaZFCIq6D54eVq7mn8Z\\\n",
       "RPr077AP6KLdZkzmyP4jCSH8XE4Vn0fBZNFrNn6O7MZZ2Ad0daVGeYkmw+qEiHCGARUlGpMe28m4\\\n",
       "Sfmopsh/04d9QA8aUk5yuleG1QkR4RQF2rT3MHS0f513rzvy3/RhH9DnX12IFvaXOoUQ+8swYO7L\\\n",
       "6UR69wZEQEDHJ8mYZyGihcupcPeYznUzhiNd2B/lks8SpP9ZiCihqqCZDKKh9QwRENDz30iNmk9T\\\n",
       "IaKd2WJw+R15wS7jsAn7ZHNWm7hnbOdglyGEOEyyo2i/0bAPaIC/fo+RVrQQUWL7BluwSzhsIiLV\\\n",
       "ElM8WKyyYL8QkU73wdvPZUTNYklhH9A9jq7k9Z//kKF2QkQBVYPbns7hjIuKych2oWoGthhfzYXD\\\n",
       "yBPmsWawe4eVylINa6Y32MUIIQ6DzPYe7nw2BwBHlcqGVXZ+/jKB/y4NcmGtIMxb0ArlJSZenpoV\\\n",
       "7EKEEEFgtev0GVxFu86ReeEwzFvQoPsUfv4yIdhlCCEOM12HGfe04/N3UvzzwPttDXZJARfmLWg/\\\n",
       "Wc1OiOhiGP5JKzc8mMvUWVsxInSMQAQEtMFJw8uCXYQQ4jCqXRzNHqfT76RKzrioJLgFtZIICGiF\\\n",
       "HxZIF4cQ0cpmN5g8fUewy2gVERDQBv1PrAp2EUKIIIrUYbZhHtAGJovBpMd3BrsQIYQIuDANaP+2\\\n",
       "6z0GVDH7l/WkZMgYaCFE5AnLE4NuRzlY8OlqNC3YlQghROsJyxa0oiDhLISIeGEZ0EIIEQ0koIUQ\\\n",
       "IkRJQAshRIiSgBZCiBAlAS2EECEqLIfZidBQVu5jwVdVfPujgxWrXWzZ4aGiUic2RqVzRzOnHm9n\\\n",
       "4pWJdO9iCcjvKy7x8fx/S/nfwkq2bPdgMil07WRm7AXx3HhlIjEx+9/e2LTFzevvlvPpN9Xs2Omh\\\n",
       "stqgTZpG+ywTxw2yMeTEGM49PbbFx/t8Bm99WMH78ypY+buLohIdkwZZmSaOH2TjuksTOWmw/bAc\\\n",
       "19DROSz6ybFfv2vnqiPIzNj72/5QnxsROIphGGG3FNygfjZ+/bxDsMuIakuWOjjjop24XP6Xz/Az\\\n",
       "YznxGBvJSRpbtnt4e24FObu8mM3w7LR0brwq6ZB+37KVTkZfk8vOXC+nnWhn1LlxuN3+kFzxu4ue\\\n",
       "3SzMm51F547mff6sJ58v5qF/FpOWonHR+XF072LB7Tb4dYWT9+dV4PX6h3G6c7o1+/j8Qi/nX7aL\\\n",
       "ZatcmExw+UUJHN3HSlW1zqKfHHz2TTUAN16VyPOPpaPUruzTSscVyIA+1OcmmI49L4Fly5YFu4yA\\\n",
       "koAWB+Wzb6oYfukuVBU+fK0tI86Oa3R7VbXOBVfs4tsf/cHx9YftGHJCzEH9rpxdHo4dtoO8Ah83\\\n",
       "XJHIi09m1N3m9RqMviaXBV9W0bObhSULskmIb3mQ/D8eL+TxGSWMvSCOV59pQ+werdOvF1dzziX+\\\n",
       "pQOaCyHDMDj1ghx+XOrEalX4/qNsBvVvvInp86+WcvsDBQA8cm8q992W0qrHNXR0DtUOnddnZLZ4\\\n",
       "3LW6dTajac1/YBzqcxNskRjQ0gctDsmlF8Y3CWeA2BiVGY+m1/37hf+WHvTvuPvhQvIKfLRtozH9\\\n",
       "wbRGt5lMCi8/nYHNprB+o5unXmh52ckvF1Xx+IwSeh9p4c3nM5sEEMDpJ8dw3pmxpKU0H4Y//urk\\\n",
       "x6VOAG64PLFJOANMujaR/n2sAEx/qQSvt/k2UKCOCyDGrtKjm2WfXy2FcyCeGxF4EtDioCQmqAzs\\\n",
       "a+WiEfEt3qdndwuxMf5AWL/BfVC/Z9MWN+9/XAnApRcmNNsf27aNieFn+PtEn3ullMqqpqu3G4bB\\\n",
       "5AcKAbh7UjJmc8vdDnNnZbFrdedmb1u6wln3/4MHNg1nAEVROKa/P6BLy3TWb2x67IE6rkAI1HMj\\\n",
       "Ak8COkDunFqA1nbjQX1tz/EEu/wDdvwgO79+3qEuQJqjKAoxdv9LzG47uJfah/Mrqe2EO+OUli+6\\\n",
       "nX6yv/uk2mGw4Kumy8/+8IuT9RvdqCqcf9bBX+Bye+pbwzH2loOsYQu0uWAN1HEFQqCeGxF4EtAB\\\n",
       "smSpc993akZ2lokO2fu+sHWo3O7Df6lh2w4PBUU+AIacuH8jGvb0zQ/1F7+O7tN8ixVgQF9r/WMW\\\n",
       "Vze5/YP5FQB0zDaRmFB/im4YBuUVPvb3UsxRvep/zx/NtIxr1baaFQW6dGr69w3UcTXH6zUoK/fh\\\n",
       "8+3fMQXquRGBJ8PsAuS1f7WhtNzHief5t4OfcFkCk65tOnJh5JW72LLdy+ABNv7zz4xm+/pa8unX\\\n",
       "VcxdWMm6P914PAYd25sZepKdkefE0bZN839KwzCY8Uop1Q6jxYtVrUHXDe6a5j9tzsrUuOvm5IP6\\\n",
       "Ob//4d+t2W5TSEttue+zfVaCzGU4AAAgAElEQVT98a9rpjtl2Ur/z+nQzoyuG8x6t5xZ75SzdKUT\\\n",
       "rxdMJujf28qlF8ZzwxWJWK3N/13OHhJD314WVq9z88JrZdx0dRJxsY3vu3yVky8X+cN05DmxZKQ1\\\n",
       "/dsE6rhqOZw6/36tlFfmlLH2Tze67t+zr3NHM2efFsPt1ye3OBIkUM+NCDwJ6ADp0c3CkqX1raJT\\\n",
       "jrfTp4e10X2cTp0du/xrVx9ztLXJ7S1ZttLJjXfn89uaxlvLL1/tYu6CSm69v4DTTrJz4fB4hpxg\\\n",
       "p2O2iZIynW9+qObZmaWs+N3FlDtaN5zdboPSch8lpTpLVzp56fUyfl7u5PRT7LwxI5M26Qf+UnO5\\\n",
       "dHbn+1vgbdL3fmEqI01DUfybiW7d0bTLaM16/3On6wbDLt7Jtz86uHJcArddn4TVovDLcifP/7eU\\\n",
       "yVMKefP9Cj6Zk9Xsh56mKSx8ux1X3ZrHV99XM3jYdh66J5X+va04nAbf/+RgylNF6DqcdqKdl59u\\\n",
       "06rHVevXFS5WrSvkyrHx3HtrCvFxKpu3enj9vXL+/VoZr75VzvOPpXPt+MRWe25E4MmzHECr19UH\\\n",
       "aN9eTcN3zR9uvN6Wb2+O221wwnk78Pn8b9YRZ8fSo6uFymqddRvcfPFdNaVlOl9/7+Dr75sfC9uz\\\n",
       "m6XV+xbnfVHJuAm76/6dnqrxwuPpXH95YosjB/alorL+1Npm3fvPUFUFi0XB5TIaPQ7A4dCpqvZ/\\\n",
       "b/Ev/q6od/+TyUXn11/gHHF2HBeNiOeUC3aw4ncXY67NZdFH2ZhMTX9v2zYmPns3i/8trOL+xwsb\\\n",
       "HTfA0JPsXDM+kXEXxKGqTR8fqONqKCNN44v323FUz8avq5uuTuTKW/J4538V3HBnPkkJKheeV3/c\\\n",
       "gX5uRGBJQAfQmvX+U1CLRaFH16az51b+vvcAb46uG5jNCo/el8Kt1yU1Ob30eg2++r6aD+ZXsvCr\\\n",
       "KvIK/C0zVYWBfa1ce2kiV45NwGJp3TfTKcfZ+fy9dlQ7dDZv9fD+vEom3VfA4zNKePKBNC4Z1fJo\\\n",
       "j5Y4nPUX1/anfovZH2TVjsYX5corG/972NCYRgFUq38fK7dNSOKx50r4ebmTd/5XweUXNd2QeHe+\\\n",
       "l1vvL+B/CyvJSNOYdncqfXtb8Hj8E3hemVNGZZWO1aIwenjTIYiBOq5ab8/MxGpRSE5q2hrXNIWZ\\\n",
       "T2fw9eJq8gt93PaPAoafEYut5qJtoJ8bEVgS0AG0pqYF3bObudnWxaq1/ts1DfocuX/Tn00mhSXz\\\n",
       "29Ovd/OBbjIpDBsay7Ch/hZySamP0nKdjDTtgPq3D1VGmokzTql/Od1+QzKPPlvMlKeKuOym3ezM\\\n",
       "9XLnTQfWD91w5Mf+XOSsHWFRO3KklnePHdHGnN80NGtdMiqex57zjzme80HTECou8XHyiBw2b/PQ\\\n",
       "rbOZ7z/ObtTHPHp4HFeMTeCUC3K46Lpc7p6UzOP3Nx7jHKjjqrWvqdtxsSrjLojn+f+Wkpvnn55f\\\n",
       "24oO5HMjAk96+wNozR/+FvSep5m1agO6aycz9hbebHsymZRG4bx1h4f/LaysWwNizyvsyUkaR3Qw\\\n",
       "NwrnklIfn359+Hc+v39yCkNO8I/e+PtjhXsd9dCc+Lj6Dzmna+9BputGXdg1fBxAXGzjfx+1l77/\\\n",
       "Ht0s2Gz++y9d2XRkzgNPFrF5m78v+Nlp6c1eAOzby8o9k/wfRk+9UNLkuQ/UcR2IQf3rj7nhiKNA\\\n",
       "Pjci8CSgA2TrDg/lFf7Txea6LwzDqOujPmo/uzcaWrXWxVljc+hy7FbGXJvLJTfsZuCZ2+k6eCuP\\\n",
       "PFNEUbGv2cetXufi5BE5/LoiOG+oS8f4W2o+H8z+v/IDeqzVqpKZ4T9tr+26aUl+oa9uXHGn9o1H\\\n",
       "K8THqY26EpISW37Zq6pCcs3tZeU6Lld9F4CuG7z3sX9IWmyMwllDWp66PvKc+pboi683nkUZqOM6\\\n",
       "EBlp9d0fufn1zeZAPTeidUhAB0jDC4RH9WzafbFpi4fKKv87rd8BBvSLs0oZfM52vl7c9CLg1h1e\\\n",
       "Hny6mI4Dt3DN7bv56NNKVq9z8dk3VdxwZx6Dz9nR7Ey2w+XIBivZ/f7ngdfRu4f/8Q6nQWFRy2GW\\\n",
       "s6s+dHp1b/z8q6pCz2714bbnaf2eGp6UNLzIV1DkH6UC/uFve7v4eUSH+pb16nVNjzsQx3Ug9AZZ\\\n",
       "qjU4pkA9N6J1SEAHyJoGb8LmWtAr1zYI8F77/0ZzOnVu+XsBHg+ccIyNZx5K45M5WbzzciZT7khh\\\n",
       "YM1EBofT4I33KrjwmlyOPn07wy/dxatvleN2G5x5agxXjgtsf+GnX1exaMm+J0407ItvaU2KvRl6\\\n",
       "Yn0rdcXvLZ8FNByCeNpJTVu2xx5dPxlkd0HLKeTzGRTXhHB6qtZo2nPDPNrX3I2Gtzc3YSRQx/XJ\\\n",
       "F5U8+mzxPieTNGw1t23T+GJiIJ4b0TokoANkdc1Y0vRUrdmLNqsbBPSBtqDbZ5lY+HYWi+e157br\\\n",
       "kzn39FjGjojnwTtT+fXzDvz1ayeefCCNU4+3k5GmYbEodGhn4pJR8Xz1QTs+e7fdIZ0eN+fme/OZ\\\n",
       "dF/BPu+34a/6D64O7Q78mvSF58VRu1pnc2cQtb6umWVntynNTj8f02BkwvJVria31/r9D3ddn+/J\\\n",
       "xzWe/ZiaopEQ73/LbN/pxeNpORT/2lY/ZrljMzNFA3VccxdUMuWpon12lfy8rP5DYM91qgPx3IjW\\\n",
       "IQEdILUjOPq20Dr+Y5P/DRtjVw5oarfFovDbVx04+7SWxzF3am/mzpuS+WZuNrlrOuPY1pUty45g\\\n",
       "zouZnHbiwS3xuT/Wb3SzZfve1xF58/36fufzzmo8QkDXDS6ZmEtSt7+4e1rzYd+ts6VuZMFbH5bj\\\n",
       "aGao2e58Lwu+9F+Iu+W6JOLjmr6sh55k5+iaFebmfFDeYouzYT/5jVc1ntShqvUh6XAafPJFyxde\\\n",
       "axdCAppd3D5Qx1Vr4V4uAhcW+fhgvr+eDu1MDNvjtRSI50a0DgnoAHA4dDZt9QdVSyM4avsZVfXA\\\n",
       "TvVVVSElOTSXdzQMuGLSbnLzmp4WG4bBPx4vrFtz4vST7U1agF8uqub9jyupqNT550uljVrbDT31\\\n",
       "QBoZaRq7dvu4++HCRrd5vQYT787H4TTo3sXMvbc0P5RPVRX+/WQGVqvC6nVuHn6muMl9Fi2p5sXX\\\n",
       "ywC4/KJ4hjbTpTDljpS6kQ9/m1LQ7Oy+H35x8M+Z/uFo2Vkmbrmu+TALxHHVuv+xomZXDKyu1rns\\\n",
       "5t2UlumoKvz7yYwmY68D9dwEU6QuFyLjoANg7Z9ufDVnmC2N0EisufpdWWVwzNnbOfZoGy9PbzoN\\\n",
       "OFz07W1lW46XJUuddDtuK+NGxtOjq5m0VI2cXV4+nF9ZN3Hn/LNjmf1C08Xk9T0ajS29yTpkm/n4\\\n",
       "zSwuvGYXL84q44+NbkaeE4fH49955Lc1Lo7sYmbe7KxGi/3safAAG+++nMlVt+bx0PRiFv/s4IJh\\\n",
       "cVitCr/85mT2/5Xj9cKV4+J5qcHi+Q1172Jh3ptZjL9xNzt2eek/dDtXjI2nby8rXq/Bj7/W7zzS\\\n",
       "o6uZD1/LanGh/UAcV6/uFsxm/2iPQWdv56Lz4xg8wIbVqvDXFg9zPvTvbBMfp/LqsxktblUViOcm\\\n",
       "mPayaU1Ykx1VAmDWu2VcNzkfgKWft2dA36arky1Z6uDayXls3uYhKUHj6ksSeOIfaU3uF07W/uni\\\n",
       "o4VVLP7FwZ+b3BQU+fB4DeLjVDq0M3Hs0TbGj07glOOb76/0+Qwumbibz7+t4oYrEnlqSnqz96tV\\\n",
       "VOxjxqulfPRpJVt3eFBVhW5H+Pfuu+mq/d+TcNduLzNeLWXhV1Vsy/Hg9UFmusaJx9qZcFnifvWv\\\n",
       "lpb5eOO9chZ8VcXvf7gpqWmhpqVo9OttZeQ5sYwfFV83Y681jyuvwMv/Flby1ffVrFnvJjfPi8tt\\\n",
       "kJSg0bObmbNPi2XCZYl7XZQpkM9NsETijioS0EKIsGUY9a3nSAxo6YMWQogQJQEthAhbitL0WkYk\\\n",
       "CcuLhG6X0ujURggRvaorVFb/1PIiT+EsLFvQJrMh4SyEwOOGb+Ym89A1RwS7lFYRlgEt4SyEMAwo\\\n",
       "LTAz55nwHa66LxLQQoiwpCjg8UCH7i5ULewGo+2XsAzoilKNjatDdzymEOLwSEj2cfxZZZx4Tlmw\\\n",
       "S2kVYXmRMC/Hwh2jutC5l5PH3/0Le2xkfnoKIVrmdipcc1IPnFUqLqcGA0qCXVLAhWVA67qCy6GR\\\n",
       "85dFujuEiFJzX0mjosSErkduCIRlF0et486qiOg/jhCiZe881ybi3/9hHdDJGR4s1ggepS6EaJHN\\\n",
       "Hvnv/bAO6LW/xuLzRvYnqBCieTO/+ZPk9L2vRx7uwjagLVadLettdct8CiGiS1Kaj+sf3FXzr8gc\\\n",
       "KBCWFwnjEr2MnZDP8MuLiImLzD+MEGLvFAWOP7t2eF1knkmHZUBbbTqX35EX7DKEEEFmsUV2Ay0s\\\n",
       "uziK883k5QR2E1QhRPhRVRh78+5gl9FqwjKgDUPhPw+1jehlBoUQ+6YocNW9eWQd0fJu5OEsLAMa\\\n",
       "4IcFybz1bAaGEbkbRgoh9k1VYdglRcEuo1WEbUADzPlnW24f0YXcbdLdIUS0UhTo3q862GW0irAO\\\n",
       "aICNq2KYNyu8N18VQhw8jxvmz47MDAj7gNZ9SsSe3ggh9q2i1MSPCxKDXUarCPuAVhT4YUFSsMsQ\\\n",
       "QgSBzwuL5iViGJE5DjrsA1rXFXI22wC5WChEpNvzPe5xKyx4MzK7NyACAtoW46tbrFsCWojoYBhg\\\n",
       "6PCfaVns2GQLdjmtJqwD2mb30fUoB/1OrMBRpTL1qk4yNlqICFa7/ruigG7AsUMrgltQKwvLqd51\\\n",
       "VEhp4+G5u9qz9Nt4PC4lQmfkCyH2pGnQ/2QJ6JDlrNL4fl5y4+85FNkCS4go4XKEdSfAPkXU0SmK\\\n",
       "wZLPEoJdhhCiFex5jcnpUFgwOzU4xRwmERXQhgGvPd4Wd2ROyxciqimK/z3ucYPLCb8tiuetZ9oE\\\n",
       "u6xWFVEBDQrlRWY+mJkR7EKEEK1AUUAzgdej8tID7fB6IizC9hDWfdC1NJPBScNLGXhqBUW7zfyx\\\n",
       "PCbYJQkhWomq+vcjHHdLPs/fmx3sclpV2Ae0xabzzEebyO7iwh6r43GBIWM5hIhomgn6HlcZ7DJa\\\n",
       "XdgH9HlXFNK+mxOb3X8FwWwFMDCM+jGTQojIouuQl2MJdhmtLuw7cE4bVVoXzg1JOAsRudxOhfde\\\n",
       "iPxrTWEf0H/8FsPfRnZhdI/e3Hhmd37+QobZCRGpnNUKZcUa/7ozmzU/xwW7nFanGEb4rWCRoKQw\\\n",
       "WDkdAFUz0H31zWWrXefWp3Zw+uhSaUULESGcDgVNNbjvks6sXRrX6D1fq2TAFpYtWxaE6lpP2Leg\\\n",
       "9/xDuRwqr07LYvPayF1ARYho8+6MdMYP7MWaX5oP50gV9gHdnJICExtW24NdhhAiQE48pwKXQ4MI\\\n",
       "Xfe5JREZ0ABdj3IEuwQhRIB06+tgxNWFQNj1yB6SCAxog7Yd3XQ7yhnsQoQQAXTdP3Kj7rpShAW0\\\n",
       "QWYHFzO//jPYhQghWkH3/pG5e3dLIiqgVRUyO7i56vie3HRWNxbPj8yNJIWIJuXFKj8sTGDyiC7s\\\n",
       "3Gwhmro5wn4mYUO6Dit/iAcUSgrMPH1be/JyzIyZWBjs0oQQB2nWk2357K1UdD3K+jeIsBY0KDVf\\\n",
       "fi6HxutPtMVVHX1/WCEiwTdzE1k4OzrDGSIuoJvyeRVyNltlQ1khwozHrfDCfe0hihc/i/iA1nVI\\\n",
       "b+eJuqu/QoS7zets6FHesIrwgDZIz3KTkOwLdiFCiANkj9XRo/ytG+EBDccMLQt2CUKIg9Chm4vM\\\n",
       "9h4UJXqb0REe0Aqbfo8NdhFCiANUu/fgqBvysNp1omloXUMRHtBQXqzxxXvJUX+qJEQ4qd17sGtv\\\n",
       "J85qjWi9UBjhAW2we7sV1WSg68GuRQhxIFQVjujpJCYueltXER7Q/nHRc6ZnRsX2OEJEIl8ULS+6\\\n",
       "pwgPaL/d2y3cO65zk1a0jI0WInR5PfDb9/G4HFERU82KiiM3DIWKEhPrltZfMPR6JKCFCDW6Do4q\\\n",
       "heoKldztVv45uX2wSwqqiFqLY290HQp3m3BUKRi6QkGuGZtdp017T7BLE0LUUFX4+YsEPnsnhVU/\\\n",
       "xmNE2QL9e4qagHY5NN6ZkcHyRfHs3mZl9U+xtO/q5JVFG2SWoRBBpPvA5QRdVzEM+Oi/6fzxmwyP\\\n",
       "hSgKaICt62PYuj6GuEQv54wvJjbBx7xZKYy4ulhCWogg+GFhHC8/mE3/kyupLtf49ZsE3M6o6Hnd\\\n",
       "L1EV0AD9T6rgode3oJlAMxkoChLOQgSBYcAJZ1eyY1MRrz+RFexyQlJUfVSZLT6mvLoVW4yB2WKg\\\n",
       "qhLOQgSLooCqwegJhXTqKXuINieqArrP4CosVhm6IUQo0UwGZ4wpCXYZISmqAlpR/S8GIUToMJkh\\\n",
       "Nj56ZwvuTVQF9Jqf43DJBQghQoqjUmXJZ7J/aHOiKq08LpXHJnbE5VBkVqEQIcBRpbBqSSzLvo0P\\\n",
       "dikhKaoCGuDXrxO4+oQe/Px5PIbhD2bdBysWx+D1SlAL0Zr2fH+9+EAWD11zRNRPSGlJ1A2zAyjK\\\n",
       "s/DIxE6cM76QDati2LAyFlC4599bGDqqPNjlCRGxFAV8PtA0KC1U+fL9FIwo3RB2f0RlQAP4PCrz\\\n",
       "30indp3ZE4aV0ff4agxDht4J0Zo2rLTz9dwkCnZaJJz3IWoD2s//4jjp3FLumrEdW4z0bwjRmsqK\\\n",
       "NH74NJFPZmUEu5SwEOUB7Xft/bl14WwYUFmmEhuvo8hEFiECZvtGC7cO747bKW+q/SUBDbTp4Abg\\\n",
       "z5V2Hp7QiYoSDYA+gyt5ZM5WCWkhAiCjnYe0TA87NtmCXUrYiLpRHM0pzDVTVaFy77guFOy04KzW\\\n",
       "cFZrLPs2kTtHdcYnY+iFOGQms8G4SfnBLiOsSEADbzyZyTcfJjW7seym32P4/N3kw1+UEBHGZIau\\\n",
       "fauDXUZYkS4O4OsPU8jLMTe7zKHLoZKcJov6C3GofF7Yss4e7DLCirSga/z+S3yzfc2a2aDfiVWH\\\n",
       "vyAhIkBZkUZ5sf+ajset8N4LMnrjQEgLugH/7sEGtcPvwCC7s5OVP8ZhscJRgyux2mUonhD7sn2j\\\n",
       "lSdu7sC2P/0XBLO7uDBbdLb+IS3oA6EYRvhNbk5QUhisnH6YfpuB2WpgNhvoOtzzwnZOGCazDYVo\\\n",
       "SXWlyhXH9qSyTDusU7hLBmxh2bJlh+33HQ7SxdGshp9ZCh6XSnWlf2TH4zd1JH+nOWiVCRHqFn2c\\\n",
       "hMetyPoaASAB3ayWX1i6Dt99lHQYaxEivOTl+IeqikMnAX2AvG6FilJ58QnRku79qrHHyuSBQJCA\\\n",
       "PkAmi8ExQyuCXYYQIWvwGeW0ae9GVcPu8lbIkYA+QF63So+BMuxOiL258u5cUCSgD5UMszsIlSUa\\\n",
       "KW3kFE6InL8sFOWZ6dzLSXySD68HZj6YxSevpwe7tIggAX0QLjm6N8OvKOTWJ3YFuxQhgqKsSOPB\\\n",
       "q49g81o7JrOOx6Vy0c15nDCsnIVz0oJdXsSQLo6DorDgzTTe/3d6s+t3CBHpHp3YkY2r7LgcKlXl\\\n",
       "JtwulQ9eyuDWc7vi88rwukCRgD5oCrOeyOTjWamy2p2IKkV5Jtb+GovX0zg+XA4Nn1dGOAWSBPQh\\\n",
       "0H0qMx9sx4QhR1JZLk+liHzF+Sbuu7gzXo+0kg8HSZVDZSjs/MvGxX17sX2jBZcz2AUJ0XqmXt2J\\\n",
       "nE029jaZSwSOBHSAeNwaPyxIQlWbbi0vRCTYtdXC1vX2mkXFxOEgAR0g/U6oZNSEQswWf0CXFWl4\\\n",
       "3PJCFpGjvERDM0vr43CSYXYBMmx8EVa7zjdzk3h5ahZV5RqqBudeWsiEKblo8kyLMJO7zYLHrdC+\\\n",
       "qwuAI3o4ZdTSYSaxESBWu87yRfH86672uBz1JyYL5qTh8ync/KiMmRbhoShP44X7sln+XQKKahCb\\\n",
       "4KPvCZXs2mLFZDZQVANDB+mHbn2yHnSAdO9fRUm+mYJdlia3mS06/7fud+wxYfdUiyhjGOCoUlFV\\\n",
       "g3VLY3nw6iNqtoJruJFFaJL1oEWLNqyMoWBX8+tEq5pBebGcrIjQpygQE6djizHofWwVV92TW3tL\\\n",
       "UOuKVhLQAaPQ0otY0yC1jWw8K8KL1W5w9iXFwS4jqklAtzqD868uYPd2C0V50ooW4cVilW65YJLE\\\n",
       "aHUKH7yUwUevpqP7FLr3q+b+/2wjtY032IUJsVc+H6z4Pi7YZUQ1aUEfBj6visuh4XGrrP8tlrvH\\\n",
       "dOHPlXZKi2TdAhFafDXtBqdDoapc46Up7YJbUJSTFvRhpvsUcv6ycteFXdB1hVNHlDJ5+g5Msg+t\\\n",
       "CLKiPI0Fb6bSubeLDavsfPpWqlzcDjJ59oNCweXwt54Xf5JIYoqX6x/M3cdjhAgswwC3E1QVzFb4\\\n",
       "4r1U3no2ExmxETqkiyPIXE6NBbNT0fVgVyKijbNK5d/3ZzPlyiPYvtFMTJxMEww10oIOAS6nitej\\\n",
       "yBVz0WoMA7weBUUx8HgUFGDadZ347ft4ACac2pOUTHdwixRNSECHgOwuLixWA7dTYfl38QwaWoHZ\\\n",
       "ImEtAkdRYN6sVMqKTFSWaXw/P4mKkoZvf4Xi3dag1SeaJwEdRIpiYLEZTHosB0eVQnG+mefuyebE\\\n",
       "c8u45fGdwS5PRJiBp1Zy89ndmuyEIkKX/KWCyBajM+LqAhyVGq8+nMWNZ3SnpMDMF++m4HYpbFxt\\\n",
       "542nM/jkjRTycmSYhzh4hgEoBp16OvCvqyHCgSyWFII0k0GHbg5y/rLh9SpomoGqwU2P5HDO+JJg\\\n",
       "lyfC0Pw3Upg5tR0+r4LuUwiHxY8OlCyWJA4Lnxe2rI/B41YxdAWvR8XtVHnx/myZ3CIOiGHApjVW\\\n",
       "Xvh7Nh6XWhPOEGnhHKkkoEOKwd5aNqpmsPTrhLrZXkLsi6LAT58nyjZsYUoCOqS0vCIegNeroGoG\\\n",
       "VRUad4zuzFO3tGftrzGHrzwRlrr0cWK1y0D7cCSjOMKI163w4cw0inab+P3neNYqBj8sTOSKu3Yz\\\n",
       "ZmJhsMsTIcAw/K1m3QdVFQrVlSY2rrY12uVHhA8J6LCisHldDJvX+1vNhuGfMv5/L6Zz4Q2FKNKt\\\n",
       "KICyIpWJpx9JSYG5pmtDXhjhSj5Ww4xhKBh64zec2WrgdsmbUIDLofDEpI4U55sxjL13mYnQJwEd\\\n",
       "AQp2WigtbHoy5PP6l40UkcswoLrK//+OKpWfPk/kt0XxSDBHBgnoiKDw9K0dcFYreGqWU3BWKxTl\\\n",
       "mbn5zO4U5kpPVjjzemhxFIbPB+P69OE/0zJ54uYOPDmpAxLOkUPeuRFizc9xXH/akQy/ooh2ndys\\\n",
       "WhLLl++n4HQoPH9fOyY8kMsX76dgj/Vx8S0F0l8dBgwDKkpVfvkqHlWBU0aUYW6wabzXA798mYDb\\\n",
       "pfHhzDbBK1S0GgnoCJK3w8prj2Y1+f7PXyTyy5eJKCpMe3NLECoT+8PQ/S3i3G0WElO8JKToFOyy\\\n",
       "MP22jiSkeDnyaAcpbbxYbTouh0pFqcbz92UHu2zRiiSgo4KCYYDhgw5dndJ6DjLDoG79b49LYcnn\\\n",
       "CaRneWnb0cXt53ejvMiE2aozfe4m5r2WBiiUF5uYMKQHg88op2N3Jzs2Wfn5y0R8XvljRjIJ6Ciz\\\n",
       "aa2d9HYeVLn6EDRvPZOBzweaBj99kcimNTFY7TqnnF9KwU5/H4bbpfDM39qzYVXtRCQF3eefFfjT\\\n",
       "54nBK14cVrJYUpSJTfAya8l6ElPqZ5YZun+CuYR266uqULm4b2/crsZPtqL434b+oXG1Im9Bo9Yk\\\n",
       "iyWJsFdVbmLCqT1Yv9yO26VQsMvE60+3Ydm38bJew2GQu82C19M0dA1D2SOcQcJZSBdHFCorMnH7\\\n",
       "+d1q/lUfAkNGFnP79B3YGyzvUTt1WATGqw9ntrD/pLSWRVPSgo5aTWeZffdRMu/OyMTpUKgqV3G7\\\n",
       "glNZJDIMKC00seKHBJoPYgln0ZS0oKNSS2Gg8O6MNnz83zSyu7ioKFWZ8so2uhzlPKzVhaN1y2J4\\\n",
       "74UMcrdZ6HNsFWMm5pN1hKfmQ07hz5V2ViyOk81MxAGRi4SiRZpJp/exlRx/Zjkjri3CtMfHuXR/\\\n",
       "+C1ekMjTt3bA5fCflWgm/1sqo50Ll0PF5VSpKpe2UGuTi4Qiihj4vAqrlyQw+5m2eN1Nk9jrAY+n\\\n",
       "6SN9Xpj3eirLF8Xh8+3HbzJansocTPtTk67DC/e2q1nO0/8c+bwKPq9C7jYbxfkWCWdx0CSgxV74\\\n",
       "A6e6QuPh6zrhrFbw+fyz3TwuhZentuPR6ztSsEujtFCtC7THJnbk1Yfb0uPoarR97NC1YHYK153a\\\n",
       "vab1GVr25+ygaLeZijIJYNE65JUlWtA4nZZ9l8DF/Xpx/NnlqCos/TaesiL/TuM/fZ5Im2w3MxZu\\\n",
       "ZNdWC0u/jcfl0HBWq8QmtLyTx+fvJfPy1CxcDo1p13bi/v9sA8Bi1RutOdHaaj9YGgby3rpvalv8\\\n",
       "igK5W02yBZloNdIHLQImJs5Hl94O1v8Wg9ejMv723YyblI8tpv4l1jAMLxvUk4Jd9UlstugcdXwV\\\n",
       "Ccle7ntxe6vUuGcYO6oUPn4tleJ8CxdNzCcl0+vvN3YoJKc37Z/x+eDtf7Uh5y8rnXpUs+DN9EbH\\\n",
       "IIInEvugJaBFq9FMBve8sI3jzizH6/FfPMv5y8qfK+106e1k8ohu6HpzzVSDz3aubrULkDs2mXG7\\\n",
       "NCpLNT76bzpLPqsf+ma26Hg9Cj0GVPPEe39htRsoSn2wz3stlRcfkAWKQpEEdIhIS0ujU6dOwS5D\\\n",
       "CBFCtm7dSmFhZO3NGZYBLYQQ0UBGcQghRIiSgBZCiBAlAS2EECFKAloIIUKUBLQQQoQoCWghhAhR\\\n",
       "EtBCCBGiJKCFECJESUALIUSIkoAWQogQJQEthBAhSgJaCCFClAS0EEKEKAloIYQIURLQQggRoiSg\\\n",
       "hRAiRElACyFEiJKAFodbPYMAAACjSURBVEKIECUBLYQQIUoCWgghQpQEtBBChCgJaCGECFES0EII\\\n",
       "EaIkoIUQIkRJQAshRIiSgBZCiBAlAS2EECFKAloIIUKUBLQQQoQoCWghhAhREtBCCBGiJKCFECJE\\\n",
       "SUALIUSIkoAWQogQJQEthBAhSgJaCCFClAS0EEKEKAloIYQIURLQQggRoiSghRAiRElACyFEiJKA\\\n",
       "FkKIECUBLYQQIer/Aak/9//Q6YuOAAAAAElFTkSuQmCC\\\n",
       "\"\n",
       "  frames[5] = \"data:image/png;base64,iVBORw0KGgoAAAANSUhEUgAAAWgAAAFoCAYAAAB65WHVAAAABHNCSVQICAgIfAhkiAAAAAlwSFlz\\\n",
       "AAALEgAACxIB0t1+/AAAADl0RVh0U29mdHdhcmUAbWF0cGxvdGxpYiB2ZXJzaW9uIDMuMC4yLCBo\\\n",
       "dHRwOi8vbWF0cGxvdGxpYi5vcmcvOIA7rQAAIABJREFUeJzt3Xd4VGXax/HvOdMz6RVCgEDoYENQ\\\n",
       "XAuIDRuiNBVR1451dVdXRVFRsay69vLaRVkrAlLsiCg2UBEQpJdUSG/Tz3n/GNLIJLQk0+7PdbFr\\\n",
       "ZibJnWTmN895qqLruo4QQoiQowa7ACGEEIFJQAshRIiSgBZCiBAlAS2EECFKAloIIUKUBLQQQoQo\\\n",
       "CWghhAhREtBCCBGiJKCFECJESUALIUSIkoAWQogQJQEthBAhSgJaCCFClAS0EEKEKAloIYQIURLQ\\\n",
       "QggRoiSghRAiRElACyFEiJKAFkKIECUBLYQQIUoCWgghQpQEtBBChCgJaCGECFES0EIIEaIkoIUQ\\\n",
       "IkRJQAshRIiSgBYhLzs7my+//DLYZQjR4SSgo0h2djbp6enU1NTU3/bKK68wYsSI4BUVIkaMGIHV\\\n",
       "aiU2NpbY2Fj69u3b5P5Zs2bRvXt37HY7Y8aMobS0tP6+0tJSzj33XOx2O927d2fWrFn19xUUFDB6\\\n",
       "9GgyMzNRFIWtW7c2+boul4vLLruM+Ph4OnXqxBNPPNGuP6cILxLQUcbn8/HUU08Fu4yQ9Oyzz1Jd\\\n",
       "XU11dTV//fVX/e1r1qzh6quvZubMmRQVFRETE8O1115bf/91112H2WymqKiId955hylTprBmzRoA\\\n",
       "VFVl1KhRfPTRRwG/57333suGDRvYtm0bixcv5tFHH+XTTz9t3x9UhA0J6Chz66238thjj1FeXr7X\\\n",
       "xzqdTi666CJSUlJITExk6NChFBUVAfD666/Tv39/4uLi6NmzJy+99FL9533zzTdkZWXx6KOPkp6e\\\n",
       "TufOnZkzZw4LFy6kT58+JCcnM2PGjPrH33vvvYwbN46JEycSFxfH4MGDWblyZcCaNE3j4YcfJicn\\\n",
       "h5SUFCZMmFDfmm2t3oPxzjvvcPbZZ3PCCScQGxvL/fffz+zZs6mqqqKmpoaPPvqI+++/n9jYWI47\\\n",
       "7jhGjx7NzJkzAcjIyODaa69l6NChAb/2m2++yd13301SUhL9+/fnyiuv5I033jjomkVkkICOMkOG\\\n",
       "DGHEiBE89thje33sm2++SUVFBTt27KCkpIQXX3wRm80GQHp6OvPnz6eyspLXX3+dm2++mV9//bX+\\\n",
       "cwsLC3E6neTl5TF9+nSuvPJK3n77bVasWMHSpUu5//772bJlS/3j586dy/jx4yktLeXCCy9kzJgx\\\n",
       "eDyeZjU988wzzJkzhyVLlpCfn09SUhLXXXfdXut9+OGHOeuss1r9ee+44w5SU1M59thj+eabb+pv\\\n",
       "X7NmDYcddlj9xzk5OZjNZtavX8/69esxGo306dOn/v7DDjusvgXdmrKyMgoKCpp87X39XBEdJKCj\\\n",
       "0PTp03nmmWfYtWtXq48zmUyUlJSwceNGDAYDRx55JPHx8QCceeaZ5OTkoCgKw4cP59RTT2Xp0qVN\\\n",
       "Pnfq1KmYTCbOP/98iouLuemmm4iLi2PgwIEMGDCgSSv5yCOPZNy4cZhMJm655RacTic//vhjs5pe\\\n",
       "fPFFHnzwQbKysrBYLNx77718+OGHeL3eVuu9/fbbmT9/fos/6yOPPMLmzZvJy8vjqquu4uyzz2bT\\\n",
       "pk0AVFdXk5CQ0OTxCQkJVFVVUV1dXf899rxvb6qrq+sfv7+fK6KDBHQUGjRoEGeddRYPP/xwq4+b\\\n",
       "PHkyp512Gueffz6ZmZncdttt9a3aRYsWMWzYMJKTk0lMTGThwoUUFxfXf25KSgoGgwGgvhWbkZFR\\\n",
       "f7/NZqsPKICuXbvW/7eqqmRlZZGfn9+spm3btnHuueeSmJhIYmIi/fv3x2AwUFRU1Gq9e3P00UcT\\\n",
       "FxeHxWLhkksu4dhjj2XhwoUAxMbGUllZ2eTxlZWVxMXFtXrf3sTGxtY/fn8/V0QHCegodd999/Hy\\\n",
       "yy+Tl5fX4mNMJhP33HMPf/75J8uWLWP+/Pm89dZbuFwuxo4dy7/+9S+KioooLy/njDPOQNf1A65n\\\n",
       "x44d9f+taRq5ublkZmY2e1zXrl1ZtGgR5eXl9f+cTiddunRpsd4DoShK/c8zcODAJq39zZs343K5\\\n",
       "6NOnD3369MHr9bJhw4b6+1euXMnAgQP3+j2SkpLo3Llzk6+9r58rooMEdJTq1asXEydO5Omnn27x\\\n",
       "MYsXL2bVqlX4fD7i4+MxmUyoqorb7cblcpGWlobRaGTRokV8/vnnB1XPihUrmD17Nl6vlyeffBKL\\\n",
       "xcKwYcOaPe6aa65h6tSpbNu2DYBdu3Yxd+7cVuvdm/Lycj777DOcTider5d33nmHb7/9llGjRgEw\\\n",
       "adIkPvnkE5YuXUpNTQ3Tpk3jvPPOIy4uDrvdznnnnce0adOoqanh+++/Z+7cuUyePLn+6zudTlwu\\\n",
       "F+CfVud0Ouvvu/jii3nggQcoKytj3bp1vPzyy1x66aUH/HsUkUUCOorVhUpLCgsLGTduHPHx8fTv\\\n",
       "35/hw4czefJk4uLiePrpp5kwYQJJSUnMmjWL0aNHH1Qt55xzDu+99x5JSUnMnDmT2bNnYzKZmj3u\\\n",
       "pptuYvTo0Zx66qnExcUxbNgwfvrpp1brBZgxYwann356wO/t8Xi46667SEtLIzU1tX4gsm7gb+DA\\\n",
       "gbz44otMmjSJ9PR0qqqqeP755+s///nnn8fhcJCens4FF1zACy+80KQVbLPZ6rsz+vXrV9/lA/4r\\\n",
       "mZycHLp3787w4cO59dZb698YhFD0g7kuFaIN3HvvvWzcuJG333472KUIEVKkBS2EECFKAloIIUKU\\\n",
       "dHEIIUSIkha0EEKEKAloIYQIUcZgF3AgzIoFK/ZglyH2garqZPV0YbZqjW4DTQNF8X9c9/8dpa5T\\\n",
       "z+tRMBh1lEbNFI9LYfsGK5rWwUWJg2ZOUZusZo0EYRnQVuwcrZwU7DLEPjCZNV57dx3pXQIvudb1\\\n",
       "jg/o1r73jo0Wrh/VG2etodnjYxO8VFeE5UsmKpRlb9n7g8KMdHGIdqWqOh536wkcrGHqQG8MWTku\\\n",
       "4pN8zW43W32MvWYnw88p64DKhPCTgBataC059y1V45N8ZGa7W31MsFrQgSgKTH1pGza7D4vVH9Q2\\\n",
       "u4+cgU7GXV3MJbcW4v/ZdYwmH2ld3E26bwBUg8ZRJ1XSc6Cj/rFCHAi5XhMBxcR6qa1u+emhKOze\\\n",
       "TKguXRuHkILJrGEw6dz+3PZWAziUwhn8rfl+g2t566e1LJ6TSHGBiUFH1zDkxCoMBsjMdvPS4nUs\\\n",
       "+zSe864sqf+8ua+l8s4T6ZxwTgWX31lAQooPXQOPG76encT7z6VTlGtG80mbSOy7sJwHHa8kSx90\\\n",
       "OzMYNVQVPO7AgWK2aKDo6LrCzY9t52+nV+J2qixfHMcfP8SSkeXmtPNLSenk7eDKD97e+sXrXjGN\\\n",
       "H+N2KjhqFeKTtCa36zqs+zWG2yf2DNivLdpO2eAtLF++PNhltClpQYuAfF4VU4wPHR9ed9Ngsdg0\\\n",
       "TplQyumTSigpNHHUyCoUFWwxPk4aW85JY/d+nFYo21urPtD9ZquO2dq8raMosOYXO15PiF0qiLAg\\\n",
       "AS1alJjqZcJ1O5nzSir5Wy0oCigqnDqhlGum52E0Qa9Bzr1/oSh3/FllDDu1gpICE+8/n87yxXUn\\\n",
       "sNQFuoS3CEwCWgSkqBpDTqzizMmlnDm5FJ8XynYZiUv0YbGFXa9YUKV38aIokNXTTd8jtvLajM7M\\\n",
       "fS3Nn8vyqxStkBGLqLE/swl0YmI1Lrix4URsgxFSO3slnA9A4y4Ra4zO3+8soHMP5+52s7SeRcsk\\\n",
       "oKNGa0GgN/nvTt1cPD5nAykZ4TfAFw4sFp2Xv/kLm735fGuAtEw3V96dx6MfbuSa+/LIyGp9mqKI\\\n",
       "XDKLI+I0nvrW9HbVAJpvz/t0Bh5VjcdtwGLVOGNyCSeOKQ+56W+RRtehcLuJa07qg7O2oaexe18H\\\n",
       "/523EbNZw2TxT9PzuFVuHZvDxlUxQaw49MksDhHCdDKzXfQ5zEG3vk6+X5jAptWNXtAKjLl8J7XV\\\n",
       "BoaPrsDnU/jyw0QKtpp55P0tmMxh9z4d1hQFMrI8nH1JCXNeTcPjVjFZNK59IA+b3T/FEcBk9i+X\\\n",
       "v+7BPG4e3QvpEokuEtARQWfqS9sYdmolZouOrsPE63fy5iOdeP+5DEAns5uTq+4pRNdA3T1r7sjh\\\n",
       "Veg6GGR6blCoBrj41iIUFarKVU47v4x+gx0Br176H1lLt95Otm+wNb9TRCzp4ogAvQ6t5ekFG5oF\\\n",
       "ra7D9vVm7Aka9jgfNnvY/anFbroOLgdMv7wHK5bE7/0TolAkdnHIIGEEMJkbLon31L2vm9ROXgnn\\\n",
       "MKcoYI2BW57YgczNix4S0BEi0GWxDPRFnuR0L5k9nEhIRwcJ6DBnMvs4/cLSoG3ZKTqWosJFtxRh\\\n",
       "smioqkZGlosr7spj+lubmXBdEXGJMjUykkgfdFjTOWRYDQ+/twmjKdi1iI6iaYDedNMm1QBOh4Kz\\\n",
       "RuXyE/pRXR594//SBy06mM6QEZWYLFqz21VV56ZHcnnkAwnnaKOq/kA2GP3/6mblWG06cYk+Jt9S\\\n",
       "t2e1CHcS0CFs+Ohy/vnfHXTp4apfdWax+bDH+3ju8/WcMblUpsiJJgxGGDm2HJkvHRmi7zoojJw5\\\n",
       "uYTkDC/Pf76eHz5PYO2KGDp1czPy3DLs8Xu2qoXwc9ZIuytSSECHMHuCv9VsMMJxZ1Rw3BkVQa5I\\\n",
       "hDqvB+bPTAl2GaKNSECHMI9LCeqp1yL8eD0Kc19LbXa7yaxx/FkVHDm8kl0FZha9k0zRDksQKhT7\\\n",
       "QwI6xJjMPuzxGlXlRhJSvBLOYr9YY3RueCiXp27riqrquF0KJrPOf+dtJDPbjc2u4XHDuVfs4rLj\\\n",
       "+lFSaA52yaIVEtAhwb8DndXuo0c/J49+uBGvR8EaIyPxYv+dPK6co06qYvniOIpyTThrVbJ6uur3\\\n",
       "8vZvwOQP7YuP6o8MKIYuCeggM5p8nDC6gtF/LyYl3UNqphdVBbNFwlkcuPgkHyPP858N6fUQcCpm\\\n",
       "XKKPnoNq2bza3sHViX0lAR1EBqOPZz/bQLfeLpkuJ9pNS/PkDUadaa9s5Z9jelNSaEJa0qFH5uME\\\n",
       "0YnnVpDdV8JZdDxd81+lde7m5dXv1nH51IJglyQCkIAOEoNRY/SlxTIIKIJCURtmB9lidM65vJiM\\\n",
       "rq7gFiWakYAOCp3EFC/d+zmCXYgQAHjdCt16S0CHGgnoIIhN8PLi1+uxyuEYIkRYbBpFuSZMFh+y\\\n",
       "j0fokIAOgkm3FBGfFPhEZyGCwWiC+97YyrUP5MuYSAiRWRztJC3TTUmRqckp2j0HOrjm3jwOOaYm\\\n",
       "iJUJEVhmtpvM7FIKtpr58MX0ACfAi44mLeh2ofPY7I0cf2Y5RpN/U6PMbBePf7yRQ46pafF4KiFC\\\n",
       "wUX/LGLIiEoURadpd4d0fXQ0iYp2oKiwdZ2V6x/Ko0tP/1ah599QiNna8tmBQoQKi1Vn+ltb+b9v\\\n",
       "/uKUiaVkZjtRDRppXTyYrdI115HkRJV2MmBoNf+duwlNg5Xfx9JzgIOEFHlyi/CjaVBTacBk1lj1\\\n",
       "k53pl/XA7Qq9lkYknqgifdDtZMuf/ikaqgpHHF8d5GqEOHCq6l8WDv450wajDjIjr0OE3ttghHA6\\\n",
       "VByycbqIMP2H1GC2ymERHUUSpJ2YrRo78+SwQBFZDAb/dLyYWB82uw9FDbse0rAiXRxtwB7v44Ib\\\n",
       "Cxl+TgVet8KCt1NYMDOFtExPsEsTos31P7KW//3+J8s+jWdnnpnXH+qEbLTUPmSQ8CCZrD5eXrye\\\n",
       "lE6e+i1CnQ6Fwu1msvtKR52IbF4PXDOyDzs2BX9ZbCQOEkoXx0E6/oxKktM9TfZvttp0uveRcBaR\\\n",
       "z2iCl75Zz/Q3N9O1lzPY5UQcCeiDNOjo6vqTKhqTXepEtDAYYOhJVTw1fwMZWe5glxNRJKAP0s48\\\n",
       "E15vsKsQIrhUFawxGuOm7ERWHLYdCegD4n8CWmN8bF1rlc1lhABUA1RXyIuhLcksjgNgNOmcMr6E\\\n",
       "o06u4uhTKqU7Qwjg5fs7s+CtFGRGR9uRgD4AXo9KXLKPISdWSutZCMBRozDvtVQ8brkob0sS0PtF\\\n",
       "J7u/g269XIy+tBiTOdj1CBEaNq6KwWzR8cgYYZuSgG6B2eZF86mYzDq65t+h7oSzy5gyPR+bXQZB\\\n",
       "hGgsMdWL1yNdG21NAjognZPHlnPltALWrojBZtfo0d+Byay3eIS9ENGsay8XvQ6t5a/fYvB6pJuj\\\n",
       "rchvMiCFLz5IxutROHJ4NQOG1GKz6xjk7UyIFt33xlYGHV2DTLNrOxLQLUhM8fDtvASqyht+RTJb\\\n",
       "Q4iWxSX6OPrkSoxmCei2Im3CAE4cU8rNj+eiKGAw6ui6hLMQ+8LlVOUswzYkLeg9xCZ4ufnxXCw2\\\n",
       "HbPV360h4SzEvjn65EqMppZa0NKy3l8S0HsYOrIKn1cSWYgD0XOAkzMnF2Ox+RodOtv48FkJ6f0h\\\n",
       "XRz1dBQFwm/zVSFCyzX3FTD26l2UFhkpKTLx3YIEvvooGVlhuP8koAFV1Xly/gZenJbJ79/F+s9c\\\n",
       "E0IcsLRML2mZXnTdyeHH1bBjo431K2OCXVbYkS4O4LBjq+g1yMED72zhsGOreeKWLFwOBY9bWtRC\\\n",
       "HAxFgZhYjVuf2h7sUsJSlLegdYxmndue3o7BCPY4jTtf2I7bpeD1gCX4h0QIERE6dXeTmOqhvFhW\\\n",
       "eu2PKA5of9O4S7YTt1sFfPX3mC06ZkuQyhIiAhkMulyNHoAo7uJQAIVt621ce3Ifyouj+L1KiHam\\\n",
       "qHDPq1tRDRp1szr8J4JLardGUgkFR63KvNdTuPjWomAXI0REUlUYMLSW179fh8upkt7FzbpfY/B6\\\n",
       "Fd5/Lp0/lsUFu8SQFMUt6AaaT+XP5fZglyFERFMU6NTNQ/c+Lmx2nUOPqUFV4NSJpaR0kn1KA5EW\\\n",
       "NKCqGl17y4nEQnSUreus/Ht8T6orDbJNaSskoAGTRWfM5cXBLkOIqKBpMHVSD8pLjMjildZFcReH\\\n",
       "jqLoZOU4mTFrC116yCWWEB1h3a8xuw+XlXDem6htQRtMOs99tp4e/VzBLkWIqOKsVWXK3T6KyoC2\\\n",
       "2X3M+m0NMbHyLBGiow0YUouuS+t5X0RdF4fF5uOcy4olnIUIEmuMxo2P7EA16Lt3vPNv83vGRSVM\\\n",
       "urmQw/5WjcyP9ouaFrTRpKEaYNQFpVx8a2GwyxEiqp0yvpyeA5wsfDuZolwzd76wHUXVsVh1XLW7\\\n",
       "+HNFDHdP7hn1W/9GTUBfcVc+oy4sw2bXgl2KEAL/3tE3PJSP5gPV0HC7LVZjwNAaRl1QwoKZqcEr\\\n",
       "MARETRdHZZkRVZXLJiFCRd1JRY3DuY4tRue0C0o7tqAQFDUBvfDtFHRdNmwRIlzIazWKArqqwoDJ\\\n",
       "LOcLChEOnLUKn85KDnYZQRc1fdBK/f8IIUKVroPLqbDqJzufvZsS7HKCLmpa0F6PfxN+IUToUhRA\\\n",
       "hzU/2UnPdGOyRPegfpQEtI7V7sPn2/sjhRDBZY3RufT2It74cR2vf7822OUEVZQEtILmU1nwZlqw\\\n",
       "CxFC7CNFgaQ0L9361Qa7lKCJ2IAeMKSGqf+3lSc/Wc+kWwqxWDW+np0U7LKEEPvBYISpz2+nex9H\\\n",
       "sEsJiogcJDxlfCnXP5SL2aqjqtBzoJMzJpXy339lBbs0IcR+UBTI6OqmssyAf/l3dI30R1wL2mTW\\\n",
       "mPJAHtYYfzgDWKw68clerrg7P7jFCSH2m64rHDmimmgLZ4jAgO7WJ/DJKGaLTnZf2VpUiHCjGvSo\\\n",
       "3aIh4gK6qsyI0Rh4CZIsUhEi/CgKLF8cnYfKRlxA78wzs3GVTeY8CxHmNA0cNQpzXkmlYJsl2OUE\\\n",
       "RUQFtMmsYTRpzJjSnc1rbHi9wa5ICHEgdB1WfBPH9CuyeW1GZrDLCZqImsXx4pd/8cMXCaiqTnyK\\\n",
       "F2NE/XRCRA9FgcOPqyZ3s5nflsaha9HZPxlRERaX7GP8lF3BLkMI0QZMZp1zryjB41J5+4kMXI4A\\\n",
       "+5JGuIjq4pjzSirO2qbvtFp0Dv4KETHGX7uLGx7Ko0tPJ6ohul7QERLQOqqq8+m7iezYaEbX/MGs\\\n",
       "a9TPhRZChCddh1MmlPHcZxvIGRh4Gm2kioAuDp3ufR08uWADNpv/FkWJxintQkSmihIDq3+y8/2i\\\n",
       "RDautgW7nA4V9gGtqDDtla3ExAS7EiFEe0hM9bFgZgq/LY0j2ppeYd8BoOAPaTkeR4jIpChw96tb\\\n",
       "yMhyozQ5VzTyX/RhH9CaBgXbLLJKUIgIZo+F175fxyPvb6Lf4GpiE6NjkUPYBzQo/LokDqdDElqI\\\n",
       "SGY0wSFH1/DIB5s5dFg1tlgNgzGyZ3VEQEDDolkpVJYaccteSEJENNUAVpvOPx7LxVWrRvyVc0QE\\\n",
       "dG2VgetO68O811Ip2GbGFV0zcYSIOiazTve+TryeiIiwFkXMT1dZauTl+7tw2XH90CP7qkeIqKca\\\n",
       "dBw1dfEVuYOFERPQfjqnjC/BKlPuhIhYPi/kbbZQuD3yd7gL+3nQDXQys53c/HhesAsRQrQDjxs8\\\n",
       "LpXKMgP3XZbd6J7I7YgO84DWMZr8py2cMLqUK+4qjPhBAyGila7D9Cu68/t3ceh6dLzQwzagFUXj\\\n",
       "wVlbGDCkBps9cvughBB+JjP0PcLBn8vtUbOzXdj2QQ8dWSXhLEQUURS49N+FXPrvQhJTPUTy4GCd\\\n",
       "sA3oQUfXYLFF/h9ICNFAUeC8q4qZ/K9CDIbIf/2HbUBXlBjxuKOjH0oI0dT6lTH4fGEbX/ssbH/C\\\n",
       "xR8nyXxnIaJUdl8nFqsv2GW0u7AN6NKdJu67rAeVZSpuWTkoRFQ5ZUIZJouOokR2N0fYBnRWjpPz\\\n",
       "bygiNl7DFPnz1YUQjZQUGbHYtN1ToHUidcAwLKfZGQwaT36yAXuchhods22EELt5PXDbuBwqSoxE\\\n",
       "8iIVCNMWdHyyD5NZl3AWIgqtWBKH26US6eEMYRrQFquGNSYyL2mEEK2rLDVGzQSBsAxop0PFURP5\\\n",
       "755CiOYOGVaD5ouO139YBnRlmRGXQ8UXHafeCCEa6dTNzevL1nL/25s5ZFg1ACZzZDapwzKgNZ/C\\\n",
       "Daf34acv43E7lai53BFC+KV29jL0xCoeencTl/w7n2GnVgS7pHYRlgENsDPPzH2X9eDsnofw1eyk\\\n",
       "YJcjhOhgiuLfQOmCG3exY6M12OW0i7ANaABV1Rk8vJraqujojxJCBJaYEpn9nWE5DxogLdPNY7M3\\\n",
       "ktLJi9EkMzqEiGZdcpywOthVtL2wbUHf/tw20rt4MJl12aRfiCim+aBwW2QuJw7LgDYaNfoc7pCF\\\n",
       "KkJEOV0H1QDDR5cHu5R2EZYBjeL/wwghopui+P+den5ZsEtpF2EZ0F6PQnG+KdhlCCFEuwrLgAaF\\\n",
       "R2/sRm21itcd7FqEEMEWqeNQYRrQsO5XO4//o2uEbjIohBBhPM0O4KxLizGZg11F9Kqo9LHgyxoW\\\n",
       "f+/gtz9cbNnhoapawx6j0rO7ieHH2LjmkgT65LTNH6m0zMczr5bz8cJqtmz3YDQq9Mo2MeGcOKZc\\\n",
       "kkBMzN7bGz6fzjsfVfH+vCp+X+2ipEzDaIDMTkaOGWLlikkJHHe0Lezq8Xp1/vdxFR98Us2vfzgp\\\n",
       "KdOIsyv0yTEz9sxYrrkkAZtt39pjG7e4eePdShZ9XcuOPA/VtToZqQa6ZhoZNsTKiGNjOOMk+z59\\\n",
       "LXFwFF0Pv+G2REMS1580lJsf30FSWuQfexOKlv3i4OTxebhc/qfPmafYOXaolaREA1u2e5g1u4rc\\\n",
       "fC8mE/x3ehpTLk08qO+3/Hcn511WQF6BlxOPtXHuGbG43f5w+221i/69zcybmUnP7i2PTews9nL2\\\n",
       "RfksX+nCaITJ4+M5YpCFmlqNJT84+PTrWgCmXJrAMzPSUFq5bg6lerbt8DDu8gJ+XeUiPdXApefH\\\n",
       "07uniV3FPmbNrmL1Oje9e5r4ZGYmvXu2/mb5yDOl3Pd4KanJBsafHUufHDNut87Pvzl5f14VXi8Y\\\n",
       "DODO7d3q1wmGo86KZ/ny5cEuo02FZUAfeaiVZfO7YTRFbt9TqPv06xrOnJSPqsJHr3Vm9GmxTe6v\\\n",
       "qdU45+J8Fn/vAOCrj7ow4m8xB/S9cvM9HDVqB0W7fFx9cQLPP5Jef5/Xq3PeZQUs+KKG/r3NLFuQ\\\n",
       "RXxc8/mXuq4z/Jxcvv/FicWi8O2cLIYc3nR58DOvlPOPu3cB8MDtKdxxU3LI11NW7uOYM3ewYbOH\\\n",
       "vjkmlszJIi214cLY69WZeFUBcxbVkN3VyPLPu5GUGHh+6l0PFfPQ02VMOCeWV57IwL7HFcBXS2s5\\\n",
       "/YI8QAK6o4RlH3TdGnwJ5+CbNDauWTgD2GNUnn4wrf7jZ1898Hmqt91fTNEuH50zDDx2T2qT+4xG\\\n",
       "hZf+k47VqrB2g5tHnw083er7n518/4v/8MqrJyc0C0OA6y9P4PBB/gUPj71QhtcbuO0SSvXMeKqU\\\n",
       "DZs9ADz5QFqTcG6oJ4MYm8LWHV7uf6I0YD1fLKnhoafLGNjXzFvPdGoWzgAnHR/DWafYSU2WBQgd\\\n",
       "JSwDWgRfQrzKkYdaGD86rsXH9O9jxh7jfxddu/7Aptts3OLm/bn+LSUnjY0P2K/bOcPImSf7+0Sf\\\n",
       "ermc6prm2xv+8lvDycJHHxl4Yx1FURh6uD8Qyys01m5oXnMo1aNpOm++VwlASpLKyScEvkJJTTFw\\\n",
       "6gj/ff83s6JZPbquc/PdxQDcdn0SJlPLLZ/Zr2eS/0fPFu8XbUsCuo38695dGDpvOKB/23M9wS5/\\\n",
       "vx0zxMbPn3WrD6JAFEUhZvfAlM16YE+1j+ZX1y9KOvmElgfLTjreH0C1Dp0FX9Y0u9/taWh9xtha\\\n",
       "DqDGLcdAwRpK9WzY7KGkzH/bgD5mVLXlr3PYQH/QO5w6879oWs93PzlZu8GNqsLZp8rgXyiRgG4j\\\n",
       "y35x7v1BAWRlGumW1f6Lbtzujh9q2LbDw64S/yDuiGP3bWbEnr7+zlH/30cManlLycGHNuzF8PXS\\\n",
       "2mb3HzKg4f51AVrGdepaqYoCOdnN/y6hVE9JWcMAeXx8690OKUkN9zduvQN8OL8KgO5ZRhIafR1d\\\n",
       "16ms8hGGw1QRQwK6jbz2ZAZgaKC2AAAgAElEQVTfz8+q//jKi+JZubhbs389uvn7CI8ebGXl4m58\\\n",
       "83FWS1+ymUVf1XDlP4s49qwdHHXadsZfUcALb5RTUNTyVou6rvPU/5Xx+AsduxRW03Rune6/bM7s\\\n",
       "ZODW6w5sz+7V61wA2KwKqSkth1DXzIa+1z8DdKecNiKGQwf4ZzA8+1rzy3yAFSudfLHEH6ZjTreT\\\n",
       "ntp8Fmoo1RPTaNqc09X6qRWN36DX/NW0nuW/+3+mbl1MaJrOq7MqOO7sHVi7bSSpz2as3TZy9Kjt\\\n",
       "PP1yGa69fB/RtsJ6HnQo6dfbzLJfGlpXJxxjY1C/pjtsOZ0aO/L9YTr0CEuz+1uy/HcnU27bya+r\\\n",
       "XE1uX/GHi9kLqrlx6i5OPM7G2DPjGPE3G92zjJRVaHz9XS3/fbGc31a7mPbPwDMS2orbrVNe6aOs\\\n",
       "XOOX35288EYFP65wctIJNt58uhMZafv/VHO5NAp3+luJGWmttxDTUw0ou/do2bqjeZeRwaCwcFYX\\\n",
       "Lr2xiC+/reXoUdu5798pHD7QgsOp8+0PDqY9WoKmwYnH2njpPxkhX0/P7kYMBvD5YPPW1rvJtjbq\\\n",
       "RispbTo1ddVa//NK03RGnZ/H4u8dXDIxnpuuSsRiVvhphZNnXi3n5mnFvPV+FZ+8nUnnDImOjiC/\\\n",
       "5Tb0x58NAXrogObhu2qdG6+35fsDcbt1/nbWDnw+/4t+9Gl2+vUyU12r8ed6N59/U0t5hcZX3zr4\\\n",
       "6ltHwK/Rv7e53fsW531ezcQrC+s/Tksx8OxDaVw1OQGD4cCm21RVN7T6rJbWv4aqKpjNCi6X3uTz\\\n",
       "GuucYeTTdzP5eGENUx8qblIvwMjjbFx2YQITz4kN2J8bavXExxk47igbS35wsGW7l782uunbK/A8\\\n",
       "5y++aehmqWrUWnc4NGpq/fUt/cnf9fHu/3Vi/NkNg7+jT4tl/Og4TjhnB7+tdjHu8gKWzMnCaJRp\\\n",
       "VO1NAroNrVrrv3Q0mxX6BXih/L669QAPRNN0TCaFB+9I5sYrErFYmvZKeb06X35by4fzq1n4ZQ1F\\\n",
       "u/ytI1WFIw+1cPmkBC6ZEI/Z3L4vphOG2fjsvS7UOjQ2b/Xw/rxqrr9jFw89XcYjd6dywbktz/Zo\\\n",
       "icPZECT7Ur/Z5A/EWkfgy/DCnV5unLqLjxdWk55qYPptKRw60IzH41948/Lb/q4Gi1nhvDObTx0M\\\n",
       "tXoApt6czLc/5qHr8O8Hivn49c7NFrS8OquCvzY1tKANjZ5CldVNaxs1MqZJONc5fJCFm65MZMZT\\\n",
       "Zfy4wsn/Pq5i8vj4vf4OxMGRgG5Dq3a3oPv3NgVsXaxc47/fYIBBffdt+bPRqLBsftf6UfhA948a\\\n",
       "aWfUSH8LuazcR3mlRnqqIeBc1vaSnmrk5BMank7/uDqJB/9byrRHS7jo2kLyCrz869r964duPPNj\\\n",
       "XwY562ZGxARY0lxa5uP40bls3uahd08T387NatKne96ZsVw8IZ4Tzsll/BUF3HZ9Eg9NbTrHOdTq\\\n",
       "Af9skRl3pnDHgyV88lkNZ0/O59Zrk+iTY6a41Md7c6r4z/NlnHmKnQW7Z2/ExzXU491j+GLc2YHf\\\n",
       "CAAuODeOGU/5xzLe/lACuiPIIGEbWrXO34I+pH/gMK0L6F7Zpn3eF8FoVJqE89YdHj5eWF2/d8Oe\\\n",
       "I+xJiQZ6dDM1Ceeych+Lvmo+1au9Tb05mRF/88/euHNGcauzFQKJi214k3O6Wg9ETdPrQ7Px59W5\\\n",
       "+5ESNm/ztyL/Oz0t4ADgoQMs/Pt6/5vIo8+WNfudhVo9dW67PpmFszI5ZoiVT7+uZeTYPLIO38Lh\\\n",
       "I7fz9odV/GdaKm8909CH3XhwM9betLZDWhkX6dfbjNXqf/wvvx/YrCWxfySg28jWHR4qq/yXi4G6\\\n",
       "L3Rdr++jPmQfuzcaW7nGxakTcsk5aivjLi/ggqsLOfKU7fQ6eisPPFHSbOCnzh9/ujh+dC4//xac\\\n",
       "F9Skcf7LZZ8PZn5QuV+fa7GodEr3h0ld101Ldhb76ucnZ3dtOh1N03Tem+ufSmaPUeoXbQQy5vSG\\\n",
       "FuTzbzRd/Rhq9TR22ol2vvukK0Wre/LDwq5883EWfy3rztYVPbjxyqT65yY0DeG4WLVJd01iQsuR\\\n",
       "oKoKSbvvr6jUZEZHB5AujjbSeIDwkP7Nuy82bvFQXeN/xR62nwH9/Ovl3HLPLjwBBuq37vByz39K\\\n",
       "efgZ/x4Ko0+LpWd3E/mFXj5eWM1bH1QFZQ50nb6NdrJb/df+ryYc2M9M4U4HDqdOcYmvxaltufkN\\\n",
       "1+oD+jT9/e8q8c8uAf/0t9YGLeumQQL88WfzekOtnj2lJBtICbAUe9O2hifPkYc1PP9UVaF/bxMr\\\n",
       "1/i/9p5dHntqfMHW2sIY0TYkoNvIqkYvnkAt6N/XNArwAfu+/abTqXHDnf4Nc/421Mq4s2LpnWOm\\\n",
       "ukZj7Xo3C76oYcUfLhxOnTffq+LN96qafY1ThsdwycS27S9c9FUNMTaF4XvZAKlxX3xLe1u0ZuSx\\\n",
       "MfWzU35b7eSU4YFnozSegnjicU1rapwje1tz0fh+n6/5g0Otnn1VtzjFHqPUj1fUOeoIa31AF+7y\\\n",
       "0q934Oenz6dTuvuNJS3F0OqScNE2pIujjfyxey5pWoqBTunN3/f+aBTQ+9uC7pppZOGsTJbO68pN\\\n",
       "VyVxxkl2JoyO455/pfDzZ93Y9HM2j9ydyvBjbKSnGjCbFbp1MXLBuXF8+WEXPn23S7PL7IN13e07\\\n",
       "uf6OXXt93PpNDW9c3brsf3tg7Fmx9ZtifbU08DRC/33+aWQ2q9Js+XlKsqF+YGx7nhePp+Wga9zS\\\n",
       "7B5ghWeo1VNdozFnUXV9f3ZL5n3m77+eOCau2eDxuEazNlasbDrXvrHV69z1V2PHDzuwlaFi/0hA\\\n",
       "t5G6GRyHttA6XrfR/wKKsSn7tbTbbFb49ctunHZiy/OYs7ua+Ne1SXw9O4uCVT1xbOvFluU9ePv5\\\n",
       "Tpx47IFt8bkv1m5ws2V768Hw1vsN/c5nndp0hoCm6VxwTQGJvTdx2/TAYd+7p7l+ZsE7H1XiCDBl\\\n",
       "rXCnt36Gwg1XJBIX2/RpraoNIelw6nzyecsDpnUbIQEBN6UPtXpy872MvayAB58MvEsd+N8sflju\\\n",
       "JD5O5f5/pzS7f+RxNo7YvWve2x9Wtri0u/EYwpRLE1r8fqLtSEC3AYdDY+PulVwtzeAoLmmYn7w/\\\n",
       "l/qqqpCcFJrbO+o6XHx9YcCl5rquc9dDxfV7V5x0vK1ZS/KLJbW8P7eaqmqNx18ob9LabuzRu1NJ\\\n",
       "TzWQX+jjtvuLm9zn9epcc9tOHE6dPjkmbr8h8FS+af9Mrp+xcMu0XQFX9333k4PHX/RPI8vKNHLD\\\n",
       "FYFDKNTqAXh3ThW//tF8IHjlGheTryvEYPBvRxDo6k5VFZ57JB2LReGPP90BtyRdsqyW59+oAGDy\\\n",
       "+DhGHtd+b/yigfRBt4E1f7nx7R7Ub2mGRsLu0e/qGp2hp23nqCOsvPRY8+W74eLQgRa25XpZ9ouT\\\n",
       "3sO2MnFMHP16mUhNMZCb7+Wj+dX1C3fOPs3OzGc7Nfsa2h6Nz5b6Y7tlmZj7ViZjL8vn+dcrWLfB\\\n",
       "zZjTY/F4/CeY/LrKRd8cE/NmZjbZ7KexPjlm5r2VyYVTCtmR7+Xwkdu5eEIchw6w4PXqfP9zw4kh\\\n",
       "/XqZ+Oi1zIAb7YdiPQBOp87x5+RyyYR4Dh1gxuuFH1Y4mL2ghoQ4lfdf7txkRsiejh5s5d2XOnHp\\\n",
       "jUXc91gpS390cM6oWCwWhZ9+dTLzg0q8XrhkYhwvNDqgQLSvsDxRZchhVn7+rFuwy6j3+rsVXHHz\\\n",
       "TgB++awrgw9tvsvZsl8cXH5zEZu3eUiMN/D3C+J5+K7mCw/CyZq/XMxZWMPSnxz8tdHNrhIfHq9O\\\n",
       "XKxKty5GjjrCyoXnxXPCMYH7K30+nQuuKeSzxTVcfXECj05LC/i4OiWlPp5+pZw5i6rZusODqir0\\\n",
       "7uE/A/DaS/ftDMDyCh9vvlfJgi9rWL3OTVmFhqpCarKBwwZaGHO6nQvPjcO6D9ujhkI9LpfGx4tq\\\n",
       "WPxdLb/87qSgyEdZhY/kRAO9sk2MHhXLZRfE7/NVWH6hl6dfKWfhlzVsy/Xg9UGnNAPHHmXjyosS\\\n",
       "QrrvORJPVJGAFkJEhEgMaOmDFkKIECUBLYQIe4EWcUUCCWghRFjzeuDVBzoHu4x2EZYBHXad5kKI\\\n",
       "dqOosGxRZM7LDsuA1nzNp2gJIaKTqsLrP6wLdhntIiwDWlFAkW0AhBC7GUJzLddBC8uFKooqAS2E\\\n",
       "8NM0KNsZllG2V2H5U0k2CyF0HT5/L4mXp2fidqowYFuwS2pzYRnQQgjx05exPDc1C5cjLHtq90nk\\\n",
       "/mRCiIh29MnVvLJkHSPPa3knv3AXli1oTfP/k8FCIaKXokB6loebHs1F12F25PVwhGcLetMaG2P7\\\n",
       "DWTDKiu+vRzRI4SIbNYYnUtvLwx2Ge0iLANa1xVqq43cfHZvnr2zC1rr53cKISJcepfIXOsdll0c\\\n",
       "BoPOPx/fzrFnVKAosrJQiGhXnN+2R7qFirAM6K69nJx4bhmm3adLhd+GqUKItpTWxQOE7l7VByos\\\n",
       "uziMJr0+nEEGCoWIdpGaAWEZ0GpYVi2EEPsnLKNONkoSQkSD8Axon4K30aCt9EELEd0iNQPCMqB3\\\n",
       "bLTw+3ex+Lzg8yHT7ISIYroeuVfVYTmLw+NRmTopB4NRR9dh7FU7ufT2QoyROdNGCNEKRQGfNzJH\\\n",
       "CcOyBV3H51XQfArz3khj4+rIm2IjhNg3EtAhSlF0xk8potcgR8T2QwkhWueL0G7OMA5oHfB3cbz9\\\n",
       "RCduOTcnYvuhhBAt03V49UE5NDakqIa65rICKPz1m11a0EJEoYJtZhbOTA12Ge0ibANa8/mDuU5c\\\n",
       "klc25RAiyjhrFV5/qFOwy2g3YRvQex58NfWF7UGqQwgRDJoGn7yRwrefJAW7lHYTxgHdIDndw4Ch\\\n",
       "NTLNTogooqrQrY8r2GW0qwgIaJ2R55ViNEr/hhDRJjY+Qqdv7BaWC1Uau+k/uZw4pgxD2P8kQoj9\\\n",
       "4axV+GZuYrDLaFdhHWtZOU5OOq8Mi01az0JEA133rxx01KjkbTbz6f9Sgl1SuwrrgD5kWI1MrRMi\\\n",
       "Smg++GuljdIiEz98lsCSuQm4XZG5grBOWAd0RYkRn09hz/l1+u5Tv6XbQ4jIoPlgxbexPHBVNq5a\\\n",
       "BYMJvO6mU20jUVgPEv7ydRxej9JsmafLpbBgZnJwihJCtLnSnUbumpSDs8aArqt43SqRHs4Q5i1o\\\n",
       "j1tl8tD+uJ0qZqvOyLGlXHRLEf/9Z1cMBp3Rfy8NdolCiIPkcRPxg4EtCesWNIDLYUDXFVwOlU/f\\\n",
       "SWHS4AF06ubmzhe3Bbs0IcRB0nUoLzHx/rMZwS4lKMI+oBvTdf8lz6gLS7DGyOihEJEgd6OZK6fl\\\n",
       "0+vQ2mCX0uEiKqABFBVyN1mCXYYQog0oChxxfA0njS2jz6G1KEp0NbwiLqB1DbL7OYNdhhCiDakG\\\n",
       "2PBHTP1VcrQI60HC5nRAobjARFZPFyZzsOsRQhyMmiqFtcvtfP1xIlvWWql7jUeLCAto/x9uxjXZ\\\n",
       "vP3Ln5jMsoO/EOHK54WrRvSjpMiErkE0BXOdCAtoP5dDxWaXcBYinHncCuXFRnQt+oK5TsT1QYN/\\\n",
       "1ZHHE71/VCHCncupMPe1VLyeiIyofRaRP72uwxcfJOGO7K1ihYhYX3+UxBsPR+Y5g/sjIgMaFF57\\\n",
       "oDO1VRH64wkR4battzY6dzR6RWyC1VQZqa2KyC52ISLexOt3YrbqRPtBoxGdYCaLhs/rPxpHidi3\\\n",
       "IiEiR9kuI+8/l8byxfFkZrvI3WTBWRsdGyMFEsEBrbP+DxtDT6zGIMdhCRHyynYZueakPlRXGBoN\\\n",
       "DkbXvOc9RXS7csiIaswWCWchwsGHL6buEc4QzeEMER7QcpCsEOFj+eL4qJ9Wt6cI/m0o/PptHD5v\\\n",
       "01u1yD4EWIiwpGns7msWjUX0b+TZO7tQXWHAUeP/MR01arRfMQkRcjxuhdsn9KQo1xTsUkJOBA8S\\\n",
       "QuF2C5f+rT8njyul50AHO3NNXHzrzmCXJYRo5PP3klj3Wwy6FtHtxQMS0QENUFtlYN7raYDOu3+s\\\n",
       "QZEWtBAh5asPk3A5DMEuIyRFzVuW2aqRmCId0EKEGqNZBvNbEjUBbTTJk0CIUHTGpFLMVtl9MpCo\\\n",
       "CWiTWW82o0MIEXxHnVyxe3aVNKL2FDUBXVFipLoicD+XLs8LIYJC1+HHzxMwmaN7xWBLoiagQeGL\\\n",
       "DxPxBeiGloFDIYJD1+H/7susnwormoqq38or07twRtdDuW5UL7ZtMPHrt3Y8sme0EEFTWmSkbJcJ\\\n",
       "aT0HFlUB7X8SKGz8I4arhvdnwcwUDDI3XoigcNYqvP1ERrDLCGlRFtB1/EG97NNEtvwpR38L0ZF0\\\n",
       "HWqrVV57qDOL3kkJdjkhLeIXqrRG88HXs1PIGVQQ7FKEiHheD/zvqQw+eTOVqjIDWpSe1L0/orQF\\\n",
       "XUdh2WfxOGsV3E6ZzSFEe1oyL5EPnk+nosSIFsUnde+PKA9oyN9i5YbTe/u3BZfnjBDt5rgzKzBZ\\\n",
       "Gi9IUfDPfZaWUUuiOKD9TwxF0dm+wcq4AYfw7J2ZuJ2S0kK0B69HYeBRNXvcqiDdHC2L4oD2Pyl0\\\n",
       "3f8EcTtVPns3hYev6xbcsoSIUIoCNS0sFhOBRfUg4Z7v3G6nyi9fx7Mzz0R6F0+QahIisug6/PW7\\\n",
       "jW3rraz/3RbscsJKlAd0cyaLRsE2M+ldPOi69EsLcTAqS1X+PbEX+VvMqCp4fSqKou8ekJcX195E\\\n",
       "cRdHYG6XStdeLnw+2L7BwufvJQW7JCHCUkmhkTvOz2HrOgvOWgO11QY0nyLhvB+kBd2Ixerjb2dU\\\n",
       "EBPrY9MaG/dc3AOfD04eX4Yqb2VC7BNdh49fSeG1GZl4XIEGASWc95XETiMul0rRdjPXj+rDDaP6\\\n",
       "ULrTREWpkQUzk2WOtBD74fizKvC6ZYbGwZKAbkxX+HN5LDs2Wpvc5qhW8cqYoRD7RFHAHqfR5zBH\\\n",
       "sEsJexLQ++CkceWYZMsOIfaZroHFJqekHCwJ6Gaar2wyGqV/Q4j9oRpg7a8xe9wqr6P9JQEdgKI0\\\n",
       "fSJ9tzABjztIxQgRZnQd3nosHYPB/zpSDToocmLKgZCAbkZB15v+Wt54pDOlRSYZKBSiBbrO7nMF\\\n",
       "/S78x05OPb+UTt1cmC0+0CWcD4RMs9sHVeUGynYZyOgqI4VCtOSDF1JZMieR2CSNdb/G4Hap6LKl\\\n",
       "6EGRgN4HuqbwwQvp3PXSdhS55hCiXkWJgWWfJqDpOu88mYGr1oAEctuRgN5H3y1IYvXPxfQbXCsz\\\n",
       "OoQAynYauOSY/mgaeFx1LRcJ57Yk7cH9MHVSTz5/TxatCKFp8OydXXA5DHhcda1mCee2JgG9H1wO\\\n",
       "Ay9Pz2THRkuwSxEiqHxehdxN1r0/UBwUCej9pAMZXd3oWvMjsjSZly+iREmhka1/SUC3Nwno/aKT\\\n",
       "1dPJ+8+l8/rDGXhcCk6H/7Kutlolf6uZGdd0xefby5cRIkxpGpTuNJK32SI9Gh1ABgn3i8LGVXY2\\\n",
       "rrID8On/khlxTjmZ2W7W/mrn+4UJqAadrz6q4tQJ5UGuVYi29fn7ibxwdxfcDhVFBZNZ293/LNqL\\\n",
       "BPRBqCgxMfe19Ga3f/FeMqeML5fN/kXE+OCFNF65vzNNm80yWt7epIvjoARO4Ox+zg6uQ4j2U1Op\\\n",
       "8tqDe4YzAT4WbU0Cuo2ZrRrd+zql9SwixveLEmQAPEiki6MN2ew+uvZ2cvK4smCXIkSbqK1SWP5N\\\n",
       "LIrSfNaSaH8S0G0kq5eDvoc7uPCmIqwx/meyx63w7fwEyoqMDDyqln6Da6VlLcKGrsMjN3RjxZI4\\\n",
       "CecgkYBuI7kbreRttrD0k0SuuDufjCwP06/ojs/rT2TVAIOOqmbG/7ZgMsuzXYQ+TQODQZeZGkEk\\\n",
       "Ad1mFHRNwe2Cl6dn4vX6P66j+WDVj7HMfimViTfsCmKdQuwbXYPfvo8LdhlRTQYJ24HXy+5tFpvS\\\n",
       "dYV5r6fKQhYRFtwulU5ZclJFMElAtwNdU2lpClJVhYGPXkqVPj0R8gwGndpq6d4IJgnodhM4gRUF\\\n",
       "xlxeIoOFIqT5vLB9g5XC7bIxWDBJH3S7CZTAOs9/+ZcMEoqQ5nHDzlwz912eHexSop4EdAc6ZUIp\\\n",
       "yWleaT2LkFZdYeDqkX3wuKV7I9gkoDtQr0Mc2OzNW8+67h9UVFQkvEXQ7Mo38uajndi42obBpMtJ\\\n",
       "9iFAAroDbVodg6O6DFusxrb1Fj55M4XifDNHjqhk+wYzV00rlOO0RLsr2Gbm1Qc789vSWGLiNMZc\\\n",
       "touz/l7MLWN6sTPXjOyxETokoDvQknmJXHJbAT9/Hcvj/+iOx6Og+RRWLInD7VRQVTj3imLSunhR\\\n",
       "pTUt2kHpTiM3nN6bmkoVTVOproA3/9OJHz5PYGeuDAiGGkXXw2/CV7ySzNHKScEu44AkpXuorVJx\\\n",
       "Ofbs39NB0bHtXiaemunh6QXriYkNuz+PCEHlJQY8Lv88/I9fTsPj3nMCl064t5zLBm9h+fLlwS6j\\\n",
       "TUkLuoOV7TS1cI8CuoKjxv9R/haFB67KZsasLR1Wm4hMBdvM3HB6b0wWjbgEX4BwhnAP50glAR2i\\\n",
       "fF6VP36wo+vS1SH2ndul8Pl7Sfz8VRy9BjkZfEIVH76QTnWlAV0zUloEkdBajhYS0CHM41LJ3Wym\\\n",
       "a44Mp4u983rg1rE5bFlrxeUw8NMX8NFL/u6MxvvCSDiHD1lJGOIevb4bztqmL6jwGzUQHWHp/ES2\\\n",
       "rrM2Gd9w1hrweYNYlDgoEtAhTWH9SjuP39yV3M1mPG4FTZMuDxHYiiWxOGsDLS6RJ0y4koAOA99+\\\n",
       "ksTlx/XnH2f3wlEtfzLRnK5Dv8G1qAa5vIok8moPI2W7TLKPhwjI7VLYmWtGk61sI4oEdBgpKTSx\\\n",
       "clksbqf/klX6okUdVYVP3kxBujMiiwR0mJkxpTu/LI7j4euy8LiCXY0IJl33H0ul61Bdoe4+Xk3e\\\n",
       "tSOJBHSYqa0yMP3yHiz+OJmvZyfjdEiLKVopin/f5tU/xZCU5qN7XyfSgo4sMg86bCk8c0cXvvoo\\\n",
       "EbNFZ/DwKk4aW4bV7sNqC3ZtoqN4PSrPTe3CuCk72ZUvO21FGtmLI0Ioio4OTLkvjzFXlAS7HNGG\\\n",
       "nDVQWWYgtbMPdY9ZdLvyTVw0pP/uj6K79RyJe3FIF0eE0HX/Xh4fv5oa7FJEG9F12LjKwthBg7j0\\\n",
       "2AEsfCeZmir/S9bpUHDUqMyY0h1/MEd3OEcq6eKIMGU7TRQXGqmpNGC26KR3cWMI8FfWfHJAQCho\\\n",
       "/HeorlB59cHOLJmbhKbDsFMqWLogAe/uk02euT2Ll+/PZNw1O6mpNPD17CQqSlrafEtEAuniiDg6\\\n",
       "iuo/oQVg3JRd/P32AowBXsdL5sVz3BmVAQNcdAxnLVSWGYlL8nHTmb3J22zB69l9YavooMs76L6S\\\n",
       "Lg4RBpTdG+P4/6352Y7H3fxFXlutsnhOEl98mNThFYoG1hhISPZy63k55G9pFM4g4SwkoCPd2hUx\\\n",
       "rPoxtsmGS85ahS1/WvnxswSKdrQ88q/rshjmQOk6vPFIBg9N6UbtXpbnK6rCtg3WgG+kIrrJxW3E\\\n",
       "U7j37z0486JiRk0qxWCAz99LYt4bqei6wpHDq1r+TEUC+kDoOqxcZueD59PRNIXL7yrAbNUwtvBq\\\n",
       "qyw14HaoyECf2JMEdBTweRXmvZHGvDfSmtyuKDopGZ4gVRWZdB08LoVnbu9S313xzzG9uOP5bfQ+\\\n",
       "rLZ+LEBR/KsA3U6F5+/qgoSzCEQCOorpOhRuM9Opm6fF2RyOahXVoGPdfVZiXYu68eO3rbfw/cIE\\\n",
       "VAMcd0Y5WVF6wIA/nOG603qTu6lhtdDOPDM3n9ObhGQvXXs7OeuSEvoeXkvBNjOznsxg9U+xQaxa\\\n",
       "hDKZxRH1NB58ZwuDT6huNu3OUavw8n2ZfDM3EY/LH9RdcpxMurmIY0f5u0befiKd957NwOfxf6Km\\\n",
       "QUpnNy99tY7YhGD8PMG1Za2Fa07qF+wyolIkzuKQFnTUU5k6KYfufZxMvLGIo0ZWYo/XqCgxMvOx\\\n",
       "DBbMbLpD2qZVdqZf1oMp9+eRmOLlvWczcDubDoIV51tYuyKWoSOrO/hnOThup8LMJzL47H8puF0K\\\n",
       "R42s5MppBaRlevbpbEhdh2/nJ3ZMsSIqSAtaNGMw6rt3RmuN3uhxzR/bo38tT36yAWvMwdXSkYfm\\\n",
       "3nF+T1b/ZMft8r/hqAadhGQvr3y7jopSAykZHswW/8KSOnW16bp/sG/SkAF4XDI5KhikBS2iwt7D\\\n",
       "GUBpdXvLLWttrFwWx+DhVRiNLYfsnkd47fm4upV2ajtn3qY1Vtb80hDO/u+tUFulcu9l2az6IY4+\\\n",
       "h9Vw8rgy4pJ89BtcTXGhic7dPBhNOt9+kshrMzpLOIs2JQEtDlJLYa4w7eJsBgyt5bant7c4EFla\\\n",
       "ZODvx/bnzR/WEpekNTsxxusFt9OAze7DaAo8SNkWtqy1oajN32xcTgOrfogDYP1KO+tX2uvv65zt\\\n",
       "pHCbxb8PihDtQN7uRTvRAYU/f4nl73/rz5a1lmbHMbkcCp+/l4LbqfKvsTm8+3Q6LoeC1wMet//+\\\n",
       "l6d34YoT+vL+c+ms+SWGHz6L5+7JPZqddH5QleqQme3a773uC7ZaJZxFuwrLPujU1FSys7ODXYYQ\\\n",
       "IoRs3bqV4uLiYJfRpsIyoIUQIhpIF4cQQoQoCWghhAhREtBCCBGiJKCFECJESUALIUSIkoAWQogQ\\\n",
       "JQEthBAhSgJaCCFClAS0EEKEKAloIYQIURLQQggRoiSghRAiRElACyFEiJKAFkKIECUBLYQQIUoC\\\n",
       "WgghQpQEtBBChCgJaCGECFES0EIIEaIkoIUQIkRJQAshRIiSgBZCiBAlAS2EECFKAloIIUKUBLQQ\\\n",
       "QoQoCWghhAhREtBCCBGiJKCFECJESUALIUSIkoAWQogQJQEthBAhSgJaCCFClAS0EEKEKAloIYQI\\\n",
       "URLQQggRoiSghRAiRJ7fcVcAAAAxSURBVElACyFEiJKAFkKIECUBLYQQIUoCWgghQpQEtBBChCgJ\\\n",
       "aCGECFES0EIIEaL+H+JV33IznrVmAAAAAElFTkSuQmCC\\\n",
       "\"\n",
       "\n",
       "\n",
       "    /* set a timeout to make sure all the above elements are created before\n",
       "       the object is initialized. */\n",
       "    setTimeout(function() {\n",
       "        anim44ad78020a0842a8ab11c7c03f4e2a2c = new Animation(frames, img_id, slider_id, 100.0,\n",
       "                                 loop_select_id);\n",
       "    }, 0);\n",
       "  })()\n",
       "</script>\n"
      ],
      "text/plain": [
       "<IPython.core.display.HTML object>"
      ]
     },
     "metadata": {},
     "output_type": "display_data"
    }
   ],
   "source": [
    "%store -r mc_pi_approx_ani_obj\n",
    "display(mc_pi_approx_ani_obj)"
   ]
  },
  {
   "cell_type": "code",
   "execution_count": 25,
   "metadata": {
    "scrolled": true
   },
   "outputs": [],
   "source": [
    "# %run $mc_pi_approx_path"
   ]
  },
  {
   "cell_type": "markdown",
   "metadata": {},
   "source": [
    "---"
   ]
  },
  {
   "cell_type": "markdown",
   "metadata": {},
   "source": [
    "## Markov Chain Monte Carlo (MCMC) <a class=\"anchor\" id=\"mcmc\"></a> \n",
    "[To ToC](#concepts_toc)\n",
    "- [Markov Chain Monte Carlo Method Wiki](https://en.wikipedia.org/wiki/Markov_chain_Monte_Carlo)\n",
    "- [Markov Chains an Monte Carlo Methods - An Introduction](https://github.com/christianb93/MachineLearning/blob/master/doc/MarkovChains/MarkovChainsIntroduction.pdf)\n",
    "- [Blog: Metropolis and Gibbs Sampling](http://people.duke.edu/~ccc14/sta-663-2016/16A_MCMC.html)"
   ]
  },
  {
   "cell_type": "code",
   "execution_count": 22,
   "metadata": {
    "scrolled": true
   },
   "outputs": [
    {
     "data": {
      "text/html": [
       "\n",
       "        <iframe\n",
       "            width=\"900\"\n",
       "            height=\"400\"\n",
       "            src=\"https://en.wikipedia.org/wiki/Markov_chain_Monte_Carlo\"\n",
       "            frameborder=\"0\"\n",
       "            allowfullscreen\n",
       "        ></iframe>\n",
       "        "
      ],
      "text/plain": [
       "<IPython.lib.display.IFrame at 0x11dc2f278>"
      ]
     },
     "execution_count": 22,
     "metadata": {},
     "output_type": "execute_result"
    }
   ],
   "source": [
    "IFrame(\"https://en.wikipedia.org/wiki/Markov_chain_Monte_Carlo\", width=PDF_W, height=PDF_H)"
   ]
  },
  {
   "cell_type": "code",
   "execution_count": 23,
   "metadata": {},
   "outputs": [
    {
     "data": {
      "text/html": [
       "\n",
       "        <iframe\n",
       "            width=\"900\"\n",
       "            height=\"400\"\n",
       "            src=\"http://people.duke.edu/~ccc14/sta-663-2016/16A_MCMC.html\"\n",
       "            frameborder=\"0\"\n",
       "            allowfullscreen\n",
       "        ></iframe>\n",
       "        "
      ],
      "text/plain": [
       "<IPython.lib.display.IFrame at 0x11dc2f3c8>"
      ]
     },
     "execution_count": 23,
     "metadata": {},
     "output_type": "execute_result"
    }
   ],
   "source": [
    "IFrame(\"http://people.duke.edu/~ccc14/sta-663-2016/16A_MCMC.html\", width=PDF_W, height=PDF_H)"
   ]
  },
  {
   "cell_type": "markdown",
   "metadata": {},
   "source": [
    "### Metropolis-Hastings <a class=\"anchor\" id=\"metropolis_hastings\"></a> \n",
    "- [Blog: Metropolis-Hastings](https://wiseodd.github.io/techblog/2015/10/17/metropolis-hastings/)\n",
    "- [Wiki](https://en.wikipedia.org/wiki/Metropolis%E2%80%93Hastings_algorithm)"
   ]
  },
  {
   "cell_type": "code",
   "execution_count": 136,
   "metadata": {},
   "outputs": [
    {
     "data": {
      "image/jpeg": "[encoded data removed]",
      "text/html": [
       "\n",
       "        <iframe\n",
       "            width=\"900\"\n",
       "            height=\"400\"\n",
       "            src=\"https://www.youtube.com/embed/h1NOS_wxgGg\"\n",
       "            frameborder=\"0\"\n",
       "            allowfullscreen\n",
       "        ></iframe>\n",
       "        "
      ],
      "text/plain": [
       "<IPython.lib.display.YouTubeVideo at 0x121d318d0>"
      ]
     },
     "metadata": {},
     "output_type": "display_data"
    }
   ],
   "source": [
    "mcmc_vid = YouTubeVideo(\"h1NOS_wxgGg\", width=PDF_W, height=PDF_H)\n",
    "display(mcmc_vid)"
   ]
  },
  {
   "cell_type": "code",
   "execution_count": 135,
   "metadata": {},
   "outputs": [
    {
     "data": {
      "image/jpeg": "[encoded data removed]",
      "text/html": [
       "\n",
       "        <iframe\n",
       "            width=\"900\"\n",
       "            height=\"400\"\n",
       "            src=\"https://www.youtube.com/embed/VGRVRjr0vyw\"\n",
       "            frameborder=\"0\"\n",
       "            allowfullscreen\n",
       "        ></iframe>\n",
       "        "
      ],
      "text/plain": [
       "<IPython.lib.display.YouTubeVideo at 0x121b2c2e8>"
      ]
     },
     "metadata": {},
     "output_type": "display_data"
    }
   ],
   "source": [
    "metropolis_hastings_vid = YouTubeVideo(\"VGRVRjr0vyw\", width=PDF_W, height=PDF_H)\n",
    "display(metropolis_hastings_vid)"
   ]
  },
  {
   "cell_type": "code",
   "execution_count": 26,
   "metadata": {},
   "outputs": [
    {
     "data": {
      "text/html": [
       "\n",
       "        <iframe\n",
       "            width=\"900\"\n",
       "            height=\"400\"\n",
       "            src=\"https://wiseodd.github.io/techblog/2015/10/17/metropolis-hastings/\"\n",
       "            frameborder=\"0\"\n",
       "            allowfullscreen\n",
       "        ></iframe>\n",
       "        "
      ],
      "text/plain": [
       "<IPython.lib.display.IFrame at 0x11bd6aa90>"
      ]
     },
     "execution_count": 26,
     "metadata": {},
     "output_type": "execute_result"
    }
   ],
   "source": [
    "IFrame(\"https://wiseodd.github.io/techblog/2015/10/17/metropolis-hastings/\", width=PDF_W, height=PDF_H)"
   ]
  },
  {
   "cell_type": "markdown",
   "metadata": {},
   "source": [
    "**Metropolis-Hastings** is an *MCMC sampling algorithm* used for sampling from high-dimensional, diffuclt (due to intractable integrals) to sample from distributions or functions.\n",
    "\n",
    "- *Markov Chain* is satisfied because you only need to consider the current sample to obtain the next sample.\n",
    "- *Monte Carlo* is satisifed because it generates random samples that can be used to compute integrals or numerical results; for example, in the probability distribution setting, the integrals we may want to compute are the expected value, mode, median, etc.\n",
    "\n",
    "**Algorithm Components**\n",
    "\\begin{align}\n",
    "x \\qquad &: \\quad \\text{current state/sample} \\\\\n",
    "x^\\prime \\qquad &: \\quad \\text{next state/sample} \\\\\n",
    "P(x) \\qquad &: \\quad \\text{target distribution; namely, the distribution we want to sample from} \\\\\n",
    "Q(x | x^\\prime) \\qquad &: \\quad \\text{Transition distribution; suggests the next candidate of the Markov Chain} \\\\\n",
    "\\alpha \\qquad &: \\quad \\text{acceptance probability} \\\\\n",
    "\\end{align}\n",
    "\n",
    "The *acceptance probability* is defined as:\n",
    "\n",
    "\\begin{equation} \\tag{$\\dagger$}\n",
    "\\alpha = \\min \\left(1, \\quad \\frac{P(x^\\prime)}{P(x)} \\cdot \\frac{Q(x^\\prime | x)}{Q(x | x^\\prime)}\\right)\n",
    "\\end{equation}\n",
    "\n",
    "**Special Case: Metropolis Algorithm**\n",
    "\n",
    "When $Q$ is symmetric\n",
    "$$ Q(x | x^\\prime) \\equiv Q(x^\\prime | x)$$\n",
    "\n",
    "then the ratio $\\frac{Q(x^\\prime | x)}{Q(x | x^\\prime)} = 1$, and Equation $\\dagger$ becomes\n",
    "\n",
    "\\begin{equation} \\tag{$\\ddagger$}\n",
    "\\alpha = \\min \\left(1, \\quad \\frac{P(x^\\prime)}{P(x)}\\right)\n",
    "\\end{equation}\n",
    "\n",
    "This is a special case of the Metropolis-Hastings algorithm, refered to as the Metropolos algorithm.\n",
    "\n",
    "**Algorithm**\n",
    ">1. Initialize $x^{(0)}$.\n",
    "2. For $i=0$ to $N - 1$\n",
    " + Sample $u \\sim \\mathit{U}[0, 1]$\n",
    " + Sample $x^* \\sim q(x^* | x^{(i)}$\n",
    " + If $u < \\mathrm{A}(x^{(i)}, x^*) = \\min \\left\\{ 1, \\quad \\frac{p(x^*)}{p(x^{(i)})} \\cdot \\frac{q(x^{(i)}|q^*)}{q(x^* | q(x^{(i)})} \\right\\}$\n",
    "    - $x^{(i + 1)} = x^*$\n",
    " + else\n",
    "    - $x^{(i + 1)} = x^{(i)}$\n",
    " \n",
    "\n",
    "Import notes from [blog](http://people.duke.edu/~ccc14/sta-663-2016/16A_MCMC.html):\n",
    "> After some number of iterations $k$, the samples $\\theta_{k+1}, \\theta_{k+2}, \\ldots $ will be samples from the posterior distributions. Here are initial concepts to help your intuition about why this is so:\n",
    "- We accept a proposed move to $\\theta_{k+1}$ whenever the density of the (unnormalized) target distribution at θk+1 is larger than the value of $\\theta_k$ - so $\\theta$ will more often be found in places where the target distribution is denser\n",
    "- If this was all we accepted, $\\theta$ would get stuck at a local mode of the target distribution, so we also accept occasional moves to lower density regions - it turns out that the correct probability of doing so is given by the ratio $\\rho$\n",
    "- **The acceptance criteria only looks at ratios of the target distribution, so the denominator cancels out and does not matter - that is why we only need samples from a distribution proportional to the posterior distribution**\n",
    "- So, $\\theta$ will be expected to bounce around in such a way that its spends its time in places proportional to the density of the posterior distribution - that is, $\\theta$ is a draw from the posterior distribution."
   ]
  },
  {
   "cell_type": "markdown",
   "metadata": {},
   "source": [
    "#### Code Example"
   ]
  },
  {
   "cell_type": "code",
   "execution_count": 27,
   "metadata": {},
   "outputs": [],
   "source": [
    "import numpy as np\n",
    "import scipy.stats as stats\n",
    "import seaborn as sns"
   ]
  },
  {
   "cell_type": "markdown",
   "metadata": {},
   "source": [
    "##### Distributions"
   ]
  },
  {
   "cell_type": "code",
   "execution_count": 28,
   "metadata": {},
   "outputs": [],
   "source": [
    "def circle_distribution(x):\n",
    "    return (x[0]-1)**2 + (x[1]-2)**2 - 3**2\n",
    "\n",
    "def gauss_distribution(x):\n",
    "    return stats.norm.pdf(x)\n",
    "\n",
    "def multi_gauss_distribution(x):\n",
    "    mu_values = np.array([5, 5])\n",
    "    cov_matrix = np.array([\n",
    "        [1, .9], \n",
    "        [.9, 1]]\n",
    "    )\n",
    "    \n",
    "    return stats.multivariate_normal.pdf([x], mean=mu_values, cov=cov_matrix)\n",
    "\n",
    "def proposal_distribution(x):\n",
    "    return x + np.random.normal(loc=0.0, scale=0.5, size=x.shape[0])"
   ]
  },
  {
   "cell_type": "code",
   "execution_count": 29,
   "metadata": {},
   "outputs": [],
   "source": [
    "def metropolis_hastings(p, x_init, n_iterations=1000, n_burn=5):\n",
    "    x = x_init\n",
    "    samples = np.zeros((n_iterations, x.shape[0]))\n",
    "\n",
    "    for i in range(n_iterations):\n",
    "        x_star = proposal_distribution(x)\n",
    "        alpha = np.min([1, p(x_star) / p(x)])\n",
    "        if np.random.rand() < alpha:\n",
    "            x = x_star\n",
    "        samples[i] = x\n",
    "    \n",
    "    samples = np.array(samples[n_burn:])\n",
    "        \n",
    "    return samples"
   ]
  },
  {
   "cell_type": "markdown",
   "metadata": {},
   "source": [
    "#### 1D"
   ]
  },
  {
   "cell_type": "code",
   "execution_count": 30,
   "metadata": {},
   "outputs": [],
   "source": [
    "x_init = np.array([0.5])\n",
    "N_samples = 5000\n",
    "samples_1d = metropolis_hastings(gauss_distribution, x_init, n_iterations=N_samples)"
   ]
  },
  {
   "cell_type": "code",
   "execution_count": 31,
   "metadata": {},
   "outputs": [],
   "source": [
    "x_gauss = np.arange(samples_1d.min(), samples_1d.max(), 0.01)\n",
    "y_gauss = stats.norm.pdf(x_gauss)"
   ]
  },
  {
   "cell_type": "code",
   "execution_count": 356,
   "metadata": {},
   "outputs": [
    {
     "data": {
      "text/plain": [
       "<matplotlib.legend.Legend at 0x1205d6b00>"
      ]
     },
     "execution_count": 356,
     "metadata": {},
     "output_type": "execute_result"
    },
    {
     "data": {
      "image/png": "[encoded data removed]",
      "text/plain": [
       "<Figure size 432x288 with 1 Axes>"
      ]
     },
     "metadata": {
      "needs_background": "light"
     },
     "output_type": "display_data"
    }
   ],
   "source": [
    "sns.distplot(samples_1d, label='Estimate')\n",
    "plt.plot(x_gauss, y_gauss, label='Ground Truth')\n",
    "plt.title(f\"N samples: {N_samples}\")\n",
    "plt.legend()"
   ]
  },
  {
   "cell_type": "markdown",
   "metadata": {},
   "source": [
    "##### 2D"
   ]
  },
  {
   "cell_type": "code",
   "execution_count": 357,
   "metadata": {},
   "outputs": [],
   "source": [
    "x_init = np.array([0., 0.])\n",
    "sample_points = [100, 10000]"
   ]
  },
  {
   "cell_type": "code",
   "execution_count": 358,
   "metadata": {},
   "outputs": [
    {
     "data": {
      "image/png": "[encoded data removed]",
      "text/plain": [
       "<Figure size 432x432 with 3 Axes>"
      ]
     },
     "metadata": {
      "needs_background": "light"
     },
     "output_type": "display_data"
    },
    {
     "data": {
      "image/png": "[encoded data removed]",
      "text/plain": [
       "<Figure size 432x432 with 3 Axes>"
      ]
     },
     "metadata": {
      "needs_background": "light"
     },
     "output_type": "display_data"
    }
   ],
   "source": [
    "for i in sample_points:\n",
    "    samples = metropolis_hastings(circle_distribution, x_init, n_iterations=i)\n",
    "    sns.jointplot(samples[:, 0], samples[:, 1], kind=\"kde\")\n",
    "    plt.title(f\"{i} samples\")"
   ]
  },
  {
   "cell_type": "code",
   "execution_count": 359,
   "metadata": {},
   "outputs": [
    {
     "data": {
      "image/png": "[encoded data removed]",
      "text/plain": [
       "<Figure size 432x432 with 3 Axes>"
      ]
     },
     "metadata": {
      "needs_background": "light"
     },
     "output_type": "display_data"
    },
    {
     "data": {
      "image/png": "[encoded data removed]",
      "text/plain": [
       "<Figure size 432x432 with 3 Axes>"
      ]
     },
     "metadata": {
      "needs_background": "light"
     },
     "output_type": "display_data"
    }
   ],
   "source": [
    "for i in sample_points:\n",
    "    samples = metropolis_hastings(multi_gauss_distribution, x_init, n_iterations=i)\n",
    "    sns.jointplot(samples[:, 0], samples[:, 1], kind=\"kde\")\n",
    "    plt.title(f\"{i} samples\")"
   ]
  },
  {
   "cell_type": "markdown",
   "metadata": {},
   "source": [
    "### Gibbs Sampling <a class=\"anchor\" id=\"gibbs_sampling\"></a> \n",
    "- [Gibbs Sampling Wiki](https://en.wikipedia.org/wiki/Gibbs_sampling)\n",
    "- [Blog: Metropolis and Gibbs Sampling](http://people.duke.edu/~ccc14/sta-663-2016/16A_MCMC.html)"
   ]
  },
  {
   "cell_type": "code",
   "execution_count": null,
   "metadata": {
    "scrolled": true
   },
   "outputs": [],
   "source": [
    "IFrame(\"https://en.wikipedia.org/wiki/Gibbs_sampling\", width=PDF_W, height=PDF_H)"
   ]
  },
  {
   "cell_type": "markdown",
   "metadata": {},
   "source": [
    "---"
   ]
  },
  {
   "cell_type": "markdown",
   "metadata": {},
   "source": [
    "## Markov Random Fields (MRF) <a class=\"anchor\" id=\"markov_random_field\"></a> \n",
    "[To ToC](#concepts_toc)\n",
    "- [Markov Random Field Wiki](https://en.wikipedia.org/wiki/Markov_random_field)"
   ]
  },
  {
   "cell_type": "code",
   "execution_count": null,
   "metadata": {
    "scrolled": true
   },
   "outputs": [],
   "source": [
    "IFrame(\"https://en.wikipedia.org/wiki/Markov_random_field\", width=PDF_W, height=PDF_H)"
   ]
  },
  {
   "cell_type": "markdown",
   "metadata": {},
   "source": [
    "---"
   ]
  },
  {
   "cell_type": "markdown",
   "metadata": {},
   "source": [
    "## Contrastive Divergence <a class=\"anchor\" id=\"contrastive_divergence\"></a> \n",
    "[To ToC](#concepts_toc)\n",
    "- [Notes on Contrastive Divergence](http://www.robots.ox.ac.uk/~ojw/files/NotesOnCD.pdf)\n",
    "- [Blog: Understanding Contrastive Divergence](https://datascience.stackexchange.com/questions/30186/understanding-contrastive-divergence)"
   ]
  },
  {
   "cell_type": "code",
   "execution_count": null,
   "metadata": {
    "scrolled": true
   },
   "outputs": [],
   "source": [
    "IFrame(\"http://www.robots.ox.ac.uk/~ojw/files/NotesOnCD.pdf#view=FitH\", width=PDF_W, height=PDF_H)"
   ]
  },
  {
   "cell_type": "markdown",
   "metadata": {},
   "source": [
    ">Gibbs sampling is an example for the more general **Markov chain Monte Carlo** methods to sample from distribution in a high-dimensional space.\n",
    "\n",
    ">To explain this, I will first have to introduce the term **state space**. Recall that a Boltzmann machine is built out of binary units, i.e. every unit can be in one of two states - say 0 and 1. The overall state of the network is then specified by the state for every unit, i.e. the states of the network can be described as points in the space $\\{0,1\\}^N$, where $N$ is the number of units in the network. This point is called the **state space**.\n",
    "\n",
    ">Now, on that state space, we can define a **probability distribution**. The details are not so important, but what you essentially do is that you define energy for every state and turn that into a probability distribution using a **Boltzmann distribution**. Thus there will be states that are likely and other states that are less likely.\n",
    "\n",
    ">A Gibbs sampler is now a procedure to produce a sample, i.e. a sequence $X_n$ of states such that, roughly speaking, the distribution of these states across the state space reflects the probability distribution. Thus you want most of the $X_n$ to be in regions of the state space with high probability (and low energy), and few of them to be in regions with low probability (and high energy).\n",
    "\n",
    ">To do this, a naive Gibbs sampling approach would proceed as follows. You start with some state $X_0$. To find the state $X_1$, you would pick some unit and calculate the conditional probability for that unit to be in state 1 (\"on\") **conditional on the current value of all other units**. Call this number $p$. You would then set the unit to 1 with probability $p$ and pick the next unit to repeat this to get from $X_1$ to $X_2$ and so forth.\n",
    "\n",
    ">In the special case of a restricted Boltzmann machine, this can be greatly simplified. Instead of going through, say, first all hidden units and then all visible units and update them like this one by one, you can, in fact, update all hidden units in one step and all visible units in one step, because any two hidden units and any two visible units are independent. Thus, for a full cycle through all units of the state space, you would:\n",
    "\n",
    ">- calculate the probability for all hidden units to be 1, given the value of the visible units\n",
    "- set the hidden units to 1 with this probability\n",
    "- calculate the probability for the visible units to be 1, again conditional on the value of the hidden units, and\n",
    "- set the visible units to 1 with this probability\n",
    "\n",
    ">This constitutes one full Gibbs sampling step and is your step 1 + the first part of 3 (the second part is then needed for the further calculation and not part of the sampling). The reason why we do this in the CD algorithm is that we actually want to approximate an expectation value and use a sampler for this.\n",
    "\n",
    ">This is a complex topic and hard to summarize in a few sentences. If you want to learn more about the mathematics behind this (Markov chains) and on the application to RBMs (contrastive divergence and persistent contrastive divergence), you might find [this](https://github.com/christianb93/MachineLearning/blob/master/doc/MarkovChains/MarkovChainsIntroduction.pdf) and [this](https://github.com/christianb93/MachineLearning/blob/master/doc/BoltzmannMachine/BoltzmannMachinesAndHopfieldNetworks.pdf) document helpful - these are some notes that I put together while learning about this.\n",
    "\n",
    "- [Source](https://datascience.stackexchange.com/questions/30186/understanding-contrastive-divergence)"
   ]
  },
  {
   "cell_type": "markdown",
   "metadata": {},
   "source": [
    "---"
   ]
  },
  {
   "cell_type": "markdown",
   "metadata": {},
   "source": [
    "## Partition Function <a class=\"anchor\" id=\"partition_function\"></a> \n",
    "[To ToC](#concepts_toc)\n",
    "- [Nice Blog on Partition Function](https://calculatedcontent.com/2013/11/14/foundations-the-parition-function/)"
   ]
  },
  {
   "cell_type": "code",
   "execution_count": null,
   "metadata": {},
   "outputs": [],
   "source": [
    "IFrame(\"https://calculatedcontent.com/2013/11/14/foundations-the-parition-function/\", width=PDF_W, height=PDF_H)"
   ]
  },
  {
   "cell_type": "markdown",
   "metadata": {},
   "source": [
    "Consider the energy function for an RBM,\n",
    "\n",
    "$$ E(h, v) = v^Ta + h^Tb + v^TWh $$\n",
    "\n",
    "The *partition function* is given by\n",
    "\n",
    "$$ Z(\\beta) = \\sum_i \\exp(-\\beta E_i) $$\n",
    "\n",
    "where $\\beta$ is the *temperature* of the system. In deep learning applications, $\\beta = \\frac{1}{T} = 1, \\quad T \\neq 0$.\n",
    "\n",
    "The partition function can be thought of as the **normalization** of the Boltmann probability distribution.\n",
    "\n",
    "The partition function is also a generating function for thermodynamic variables, such as\n",
    "1. The **average internal energy** $(U)$ of the system:\n",
    " $$ U = < E > = \\frac{\\partial}{\\partial \\beta} Z(\\beta)$$\n",
    "2. The **Helmholtz Free Energy**, $A$:\n",
    " $$ A = U - TS = -\\frac{1}{\\beta}\\log Z(\\beta)$$\n",
    " \n",
    " where $S$ is the entropy.\n",
    " \n",
    "**N.B.** If we minimize the free energy, the resulting probabilities follow the Boltzmann / Gibbs distribution:\n",
    "> **Boltzmann / Gibbs distribution**: probability that a system will be in a certain state as a function of that state's energy and the temperature of the system. The distribution is expressed in the form:\n",
    "$$ p_i \\propto e^{-\\frac{\\epsilon_i}{kT}} $$ <br>\n",
    "where p_i is the probability of the sytem being in state $i$, $\\epsilon_i$ is the energy of that state, and a constant $kT$ of the distribution is the product of Boltzmann's constant $k$ and thermodynamic temperature T.\n",
    "\n",
    "Free Energy methods, operating at (T>0), effectively sample all the low lying local minima simultaneously."
   ]
  },
  {
   "cell_type": "markdown",
   "metadata": {},
   "source": [
    "---"
   ]
  },
  {
   "cell_type": "markdown",
   "metadata": {},
   "source": [
    "## Sigma-Algebra <a class=\"anchor\" id=\"sigma_algebra\"></a> \n",
    "[To ToC](#concepts_toc)\n",
    "- [Sigma-algebra Wiki](https://en.wikipedia.org/wiki/Sigma-algebra)"
   ]
  },
  {
   "cell_type": "code",
   "execution_count": null,
   "metadata": {
    "scrolled": true
   },
   "outputs": [],
   "source": [
    "IFrame(\"https://en.wikipedia.org/wiki/Sigma-algebra\", width=PDF_W, height=PDF_H)"
   ]
  },
  {
   "cell_type": "markdown",
   "metadata": {},
   "source": [
    "**Definition**\n",
    "> A **$\\sigma$-algebra** on a set $X$ is a collection $\\Sigma$ of subsets of $X$ that \n",
    "1. includes $X$ itself,\n",
    "2. is [closed](https://en.wikipedia.org/wiki/Closure_(mathematics)) under [complement](https://en.wikipedia.org/wiki/Complement_(set_theory))  $\\quad A^c = \\{x \\in U | x \\notin A \\}$, and\n",
    "3. is closed under countable [unions](https://en.wikipedia.org/wiki/Union_(set_theory)) $\\quad A \\cup B = \\{x : x \\in A \\text{ or } x \\in B \\} $ <br>\n",
    "implying that\n",
    " + $\\emptyset \\in \\Sigma$\n",
    " + closed under countable [intersections](https://en.wikipedia.org/wiki/Intersection_(set_theory)) $\\quad A \\cap B = \\{x : x \\in A \\text{ and } x \\in B \\} $\n",
    " \n",
    "E.g.,\n",
    "If $ X = \\{a, b, c, d\\}$, one possible $\\sigma$-algebra on $X$ is $\\Sigma = \\{ \\emptyset, \\{a, b\\}, \\{c, d\\}, \\{a, b, c, d\\} \\}$.\n",
    "\n",
    "**T.D.**\n",
    "In probability, σ-algebras are pivotal in the definition of [conditional expectation](https://en.wikipedia.org/wiki/Conditional_expectation):\n",
    "\n",
    "$$ E(X | H) = \\frac{\\sum_{\\omega \\in H} X(\\omega)}{|H|}$$"
   ]
  },
  {
   "cell_type": "markdown",
   "metadata": {},
   "source": [
    "---"
   ]
  },
  {
   "cell_type": "markdown",
   "metadata": {},
   "source": [
    "## Boltzmann Distribution <a class=\"anchor\" id=\"boltzmann_distribution\"></a> \n",
    "[To ToC](#concepts_toc)\n",
    "- [Boltzmann Distribution Wiki](https://en.wikipedia.org/wiki/Boltzmann_distribution)"
   ]
  },
  {
   "cell_type": "code",
   "execution_count": null,
   "metadata": {
    "scrolled": true
   },
   "outputs": [],
   "source": [
    "IFrame(\"https://en.wikipedia.org/wiki/Boltzmann_distribution\", width=PDF_W, height=PDF_H)"
   ]
  },
  {
   "cell_type": "markdown",
   "metadata": {},
   "source": [
    "---"
   ]
  },
  {
   "cell_type": "markdown",
   "metadata": {},
   "source": [
    "## Variational Inference <a class=\"anchor\" id=\"variational_inference\"></a> \n",
    "[To ToC](#concepts_toc)\n",
    "- [Variational Bayesian Methods Wiki](https://en.wikipedia.org/wiki/Variational_Bayesian_methods)\n",
    "- [Variational Inference: A Review for Statisticians](https://arxiv.org/abs/1601.00670)"
   ]
  },
  {
   "cell_type": "code",
   "execution_count": null,
   "metadata": {
    "scrolled": true
   },
   "outputs": [],
   "source": [
    "IFrame(\"https://arxiv.org/pdf/1601.00670.pdf\", width=PDF_W, height=PDF_H)"
   ]
  },
  {
   "cell_type": "markdown",
   "metadata": {},
   "source": [
    "---"
   ]
  },
  {
   "cell_type": "markdown",
   "metadata": {},
   "source": [
    "---"
   ]
  },
  {
   "cell_type": "markdown",
   "metadata": {},
   "source": [
    "---"
   ]
  },
  {
   "cell_type": "markdown",
   "metadata": {},
   "source": [
    "---"
   ]
  },
  {
   "cell_type": "markdown",
   "metadata": {},
   "source": [
    "# Sort Out"
   ]
  },
  {
   "cell_type": "markdown",
   "metadata": {},
   "source": [
    "---"
   ]
  },
  {
   "cell_type": "markdown",
   "metadata": {},
   "source": [
    "## Continuous Attractors of Discrete-Time Recurrent Neural Networks\n",
    "- Yu, Jiali, et al. (2012)\n",
    "- https://sci-hub.tw/10.1007/s00521-012-0975-5"
   ]
  },
  {
   "cell_type": "markdown",
   "metadata": {},
   "source": [
    "### Key Points\n",
    "- RNNs can possess more than one and even infinite stable equilibrium points.\n",
    " - These points may be isolated (discrete) or connected (continuous)\n",
    " - Continuous attractors have been used to describe the encoding of continuous stimuli such as eye position, head direction, moving direction, path integrator, cognitive map, and population decoding.\n",
    "- In these networks, RNNs may have a finite number of neurons or infinite number of neurons.\n",
    " - These two categories of RNN differ in their dynamics, from a mathematical point of view.\n",
    " \n",
    "- This paper focuses on continuous attractors with finite number of neurons. "
   ]
  },
  {
   "cell_type": "markdown",
   "metadata": {},
   "source": [
    "---"
   ]
  },
  {
   "cell_type": "markdown",
   "metadata": {},
   "source": [
    "## Memory Dynamics in Attractor Networks\n",
    "- Li, Quoqi, et al. (2015)\n",
    "- https://pdfs.semanticscholar.org/840c/a6d4434de3dac8cf13dff6d4bcbbc2164922.pdf"
   ]
  },
  {
   "cell_type": "markdown",
   "metadata": {},
   "source": [
    "### Key Points\n",
    "- Propose a new energy function that is nonnegative and attains zero values only at the desired memory patterns.\n",
    "- Following from the contrived energy function, an attractor network is derived. This approach avoids the existence of spurious points (local maxima, saddle points, or other local minima which are undesired memory patters)."
   ]
  },
  {
   "cell_type": "markdown",
   "metadata": {},
   "source": [
    "---"
   ]
  },
  {
   "cell_type": "markdown",
   "metadata": {},
   "source": [
    "## Bridging the Gaps Between Residual Learning, Recurrent Neural Networks and Visual Cortex (Liao, 2016)\n",
    "- Liao, Q., Poggio, T. (2016)\n",
    "- https://arxiv.org/pdf/1604.03640.pdf"
   ]
  },
  {
   "cell_type": "markdown",
   "metadata": {},
   "source": [
    "---"
   ]
  },
  {
   "cell_type": "markdown",
   "metadata": {},
   "source": [
    "---"
   ]
  },
  {
   "cell_type": "markdown",
   "metadata": {},
   "source": [
    "---"
   ]
  },
  {
   "cell_type": "markdown",
   "metadata": {},
   "source": [
    "# Useful Things"
   ]
  },
  {
   "cell_type": "markdown",
   "metadata": {},
   "source": [
    "## Jupyter Notebook\n",
    "1. [28 Jupyter Notebook tips, tricks, and shortcuts](https://www.dataquest.io/blog/jupyter-notebook-tips-tricks-shortcuts/)\n",
    "2. [Jupyter Config File](https://jupyter-notebook.readthedocs.io/en/latest/config.html)\n",
    "3. [Version Control](https://www.svds.com/jupyter-notebook-best-practices-for-data-science/)\n",
    "4. [Notebook Server](https://jupyter-notebook.readthedocs.io/en/latest/public_server.html)"
   ]
  },
  {
   "cell_type": "markdown",
   "metadata": {},
   "source": [
    "## PyTorch\n",
    "1. [Weight Initialization](https://discuss.pytorch.org/t/whats-the-default-initialization-methods-for-layers/3157/10)"
   ]
  },
  {
   "cell_type": "markdown",
   "metadata": {},
   "source": [
    "## General Deep Learning\n",
    "1. [DL Best Practices - Weight Initialization](https://medium.com/usf-msds/deep-learning-best-practices-1-weight-initialization-14e5c0295b94)"
   ]
  },
  {
   "cell_type": "markdown",
   "metadata": {},
   "source": [
    "## Python\n",
    "1. [Raymond Hettinger - Super considered super! - PyCon 2015](https://www.youtube.com/watch?v=EiOglTERPEo)"
   ]
  }
 ],
 "metadata": {
  "kernelspec": {
   "display_name": "Python 3",
   "language": "python",
   "name": "python3"
  },
  "language_info": {
   "codemirror_mode": {
    "name": "ipython",
    "version": 3
   },
   "file_extension": ".py",
   "mimetype": "text/x-python",
   "name": "python",
   "nbconvert_exporter": "python",
   "pygments_lexer": "ipython3",
   "version": "3.7.2"
  },
  "toc": {
   "base_numbering": "1.",
   "nav_menu": {},
   "number_sections": true,
   "sideBar": true,
   "skip_h1_title": false,
   "title_cell": "Table of Contents",
   "title_sidebar": "Contents",
   "toc_cell": false,
   "toc_position": {
    "height": "calc(100% - 180px)",
    "left": "10px",
    "top": "150px",
    "width": "336px"
   },
   "toc_section_display": true,
   "toc_window_display": true
  },
  "varInspector": {
   "cols": {
    "lenName": 16,
    "lenType": 16,
    "lenVar": 40
   },
   "kernels_config": {
    "python": {
     "delete_cmd_postfix": "",
     "delete_cmd_prefix": "del ",
     "library": "var_list.py",
     "varRefreshCmd": "print(var_dic_list())"
    },
    "r": {
     "delete_cmd_postfix": ") ",
     "delete_cmd_prefix": "rm(",
     "library": "var_list.r",
     "varRefreshCmd": "cat(var_dic_list()) "
    }
   },
   "types_to_exclude": [
    "module",
    "function",
    "builtin_function_or_method",
    "instance",
    "_Feature"
   ],
   "window_display": false
  }
 },
 "nbformat": 4,
 "nbformat_minor": 2
}
