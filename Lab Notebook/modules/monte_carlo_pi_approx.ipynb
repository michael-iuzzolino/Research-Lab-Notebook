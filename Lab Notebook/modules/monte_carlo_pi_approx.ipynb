{
 "cells": [
  {
   "cell_type": "code",
   "execution_count": 28,
   "metadata": {},
   "outputs": [],
   "source": [
    "import os\n",
    "import sys\n",
    "import glob\n",
    "import numpy as np\n",
    "import matplotlib.animation\n",
    "from IPython.display import HTML\n",
    "import matplotlib.pyplot as plt\n",
    "from mpl_toolkits.axes_grid1 import make_axes_locatable\n",
    "\n",
    "# Resources\n",
    "# ---------\n",
    "# https://stackoverflow.com/questions/9401658/how-to-animate-a-scatter-plot\n",
    "# https://stackoverflow.com/questions/43445103/inline-animations-in-jupyter\n",
    "# https://stackoverflow.com/questions/32847600/animation-in-matplotlib-with-scatter-and-using-set-offsets-how-to-update-color\n",
    "# https://stackoverflow.com/questions/18195758/set-matplotlib-colorbar-size-to-match-graph\n",
    "\n",
    "class MonteCarloPiApproximator(object):\n",
    "    def __init__(self, N_start=10, N_stop=10000, N_step=5):\n",
    "        \n",
    "        self.points = np.arange(N_start, N_stop+N_step, N_step)\n",
    "        self.num_points = len(self.points)\n",
    "        self.radius = 0.5\n",
    "        self.ck = 0.5\n",
    "        \n",
    "        self.__generate_data()\n",
    "        \n",
    "    def __calc_distance(self, pt):\n",
    "        d = np.sqrt((pt[0] - self.ck)**2 + (pt[1] - self.ck)**2)\n",
    "        return d\n",
    "    \n",
    "    def subset(self, display_interval):\n",
    "        self.display_data = self.data[::display_interval]\n",
    "        self.display_points = self.points[::display_interval]\n",
    "        num_display_points = len(self.display_data)\n",
    "        \n",
    "        return num_display_points\n",
    "    \n",
    "    def __generate_data(self):\n",
    "        self.data = []\n",
    "        print(\"Generating data...\")\n",
    "        for i, n in enumerate(self.points):\n",
    "            if i % 100 == 0:\n",
    "                sys.stdout.write(f\"\\r\\tData point {i+1}/{self.num_points} generated...\")\n",
    "                sys.stdout.flush()\n",
    "            \n",
    "            # Uniformly sample random points (x, y) in [-radius, radius]\n",
    "            random_points = np.array([(np.random.uniform(0, 1), \n",
    "                                       np.random.uniform(0, 1)) for _ in range(n)])\n",
    "\n",
    "            # Check if points in circle\n",
    "            in_circle = np.array([self.__calc_distance(pt) < self.radius for pt in random_points]).astype(np.int)\n",
    "            \n",
    "            # Approximate pi\n",
    "            pi_approx = 4 * (in_circle.sum() / float(n))\n",
    "            \n",
    "            data_i = [random_points, in_circle, pi_approx]\n",
    "            self.data.append(data_i)\n",
    "        print(\"\\nComplete.\")\n",
    "        \n",
    "    def __call__(self, i):\n",
    "        return self.display_data[i]\n",
    "        \n",
    "class MonteCarloApproximator(object):\n",
    "    def __init__(self, dataset):\n",
    "        \n",
    "        self.dataset = dataset\n",
    "        self.display_interval = 1\n",
    "        \n",
    "        # Initialize figure\n",
    "        self.__init_figure()\n",
    "    \n",
    "    def __init_figure(self):\n",
    "        # Setup the figure and axes...\n",
    "        self.fig, self.ax = plt.subplots(figsize=(5,5))\n",
    "        self.ax.axis([0, 1, 0, 1])\n",
    "        self.ax.set_xticks([], [])\n",
    "        self.ax.set_yticks([], [])\n",
    "        self.scatter = self.ax.scatter([], [])\n",
    "        \n",
    "        # set_array necessary before calling colorbar\n",
    "        self.scatter.set_array(np.array([0., 1.]))\n",
    "        \n",
    "        # Fixes aspect ratio issue when colorbar introduced\n",
    "        divider = make_axes_locatable(self.ax)\n",
    "        cax = divider.append_axes(\"right\", size=\"5%\", pad=0.05)\n",
    "        cbar = self.fig.colorbar(self.scatter, cax=cax)\n",
    "        cbar.remove()\n",
    "        \n",
    "        # Setup pi approx text\n",
    "        font = {'family': 'serif',\n",
    "            'color':  'black',\n",
    "            'weight': 'normal',\n",
    "            'size': 28,\n",
    "            \"ha\" : \"center\",\n",
    "            \"va\" : \"center\"\n",
    "        }\n",
    "        self.pi_approx_text = self.ax.text(0.5, 0.5, '', transform=self.ax.transAxes, fontdict=font)\n",
    "        \n",
    "        # Prevents empty plot from showing\n",
    "        plt.close()\n",
    "        \n",
    "    def update_plot(self, i):\n",
    "        \"\"\"Update the scatter plot.\"\"\"\n",
    "        values, coloring, pi = self.dataset(i)\n",
    "        \n",
    "        # Set x and y data...\n",
    "        self.scatter.set_offsets(values[:,:2])\n",
    "        \n",
    "        # Set colors..\n",
    "        self.scatter.set_array(coloring)\n",
    "        \n",
    "        # Pi average\n",
    "        pi_average = np.mean(np.array(self.dataset.data)[:i+1,2])\n",
    "        \n",
    "        # Set text\n",
    "        self.pi_approx_text.set_text(r\"$\\pi \\approx$ {:0.6f}\".format(pi_average))\n",
    "        \n",
    "        # Set title\n",
    "        self.ax.set_title(f\"N samples: {self.dataset.display_points[i]}\")\n",
    "        \n",
    "        return self.scatter, self.pi_approx_text\n",
    "\n",
    "    def __init_animation(self, anim_interval, num_display_points):\n",
    "        # Then setup FuncAnimation.\n",
    "        self.ani = matplotlib.animation.FuncAnimation(self.fig, self.update_plot, \n",
    "                                                      interval=anim_interval,\n",
    "                                                      frames=num_display_points,\n",
    "                                                      blit=True)\n",
    "        \n",
    "    def generate(self, anim_interval=200, interval=None, show=True):\n",
    "        print(\"Creating animation object...\")\n",
    "        if interval is not None:\n",
    "            self.display_interval = interval\n",
    "        \n",
    "        # Subset the display data\n",
    "        num_display_points = self.dataset.subset(self.display_interval)\n",
    "        \n",
    "        \n",
    "        # Create animation\n",
    "        self.__init_animation(anim_interval, num_display_points)\n",
    "        \n",
    "        # display inline   \n",
    "        ani_obj = HTML(MC_pi_approx.ani.to_jshtml())\n",
    "        \n",
    "        if show:\n",
    "            display(ani_obj)\n",
    "        \n",
    "        # Cleanup odd .png file being created\n",
    "        png_files = glob.glob(\"None*.png\")\n",
    "        if png_files != []:\n",
    "            for png_file in png_files:\n",
    "                os.remove(png_file)\n",
    "                \n",
    "        return ani_obj"
   ]
  },
  {
   "cell_type": "code",
   "execution_count": 32,
   "metadata": {},
   "outputs": [
    {
     "name": "stdout",
     "output_type": "stream",
     "text": [
      "Generating data...\n",
      "\tData point 501/501 generated...\n",
      "Complete.\n"
     ]
    }
   ],
   "source": [
    "MC_pi_data = MonteCarloPiApproximator(N_stop=50000, N_step=100)"
   ]
  },
  {
   "cell_type": "code",
   "execution_count": 33,
   "metadata": {},
   "outputs": [],
   "source": [
    "MC_pi_approx = MonteCarloApproximator(dataset=MC_pi_data)"
   ]
  },
  {
   "cell_type": "code",
   "execution_count": 35,
   "metadata": {},
   "outputs": [
    {
     "name": "stdout",
     "output_type": "stream",
     "text": [
      "Creating animation object...\n",
      "Stored 'mc_pi_approx_ani_obj' (HTML)\n"
     ]
    }
   ],
   "source": [
    "mc_pi_approx_ani_obj = MC_pi_approx.generate(anim_interval=100, interval=10, show=False)\n",
    "%store mc_pi_approx_ani_obj"
   ]
  }
 ],
 "metadata": {
  "kernelspec": {
   "display_name": "Python 3",
   "language": "python",
   "name": "python3"
  },
  "language_info": {
   "codemirror_mode": {
    "name": "ipython",
    "version": 3
   },
   "file_extension": ".py",
   "mimetype": "text/x-python",
   "name": "python",
   "nbconvert_exporter": "python",
   "pygments_lexer": "ipython3",
   "version": "3.7.1"
  },
  "toc": {
   "base_numbering": 1,
   "nav_menu": {},
   "number_sections": true,
   "sideBar": true,
   "skip_h1_title": false,
   "title_cell": "Table of Contents",
   "title_sidebar": "Contents",
   "toc_cell": false,
   "toc_position": {},
   "toc_section_display": true,
   "toc_window_display": false
  },
  "varInspector": {
   "cols": {
    "lenName": 16,
    "lenType": 16,
    "lenVar": 40
   },
   "kernels_config": {
    "python": {
     "delete_cmd_postfix": "",
     "delete_cmd_prefix": "del ",
     "library": "var_list.py",
     "varRefreshCmd": "print(var_dic_list())"
    },
    "r": {
     "delete_cmd_postfix": ") ",
     "delete_cmd_prefix": "rm(",
     "library": "var_list.r",
     "varRefreshCmd": "cat(var_dic_list()) "
    }
   },
   "types_to_exclude": [
    "module",
    "function",
    "builtin_function_or_method",
    "instance",
    "_Feature"
   ],
   "window_display": false
  }
 },
 "nbformat": 4,
 "nbformat_minor": 2
}
